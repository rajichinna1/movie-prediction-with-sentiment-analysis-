{
  "cells": [
    {
      "cell_type": "code",
      "execution_count": 73,
      "metadata": {
        "colab": {
          "base_uri": "https://localhost:8080/"
        },
        "id": "xx3D8SxR4nFF",
        "outputId": "78457b3b-6e77-4f75-a2ef-71c1f2f99fed"
      },
      "outputs": [
        {
          "name": "stderr",
          "output_type": "stream",
          "text": [
            "c:\\Users\\elman\\AppData\\Local\\Programs\\Python\\Python311\\Lib\\site-packages\\tqdm\\auto.py:21: TqdmWarning: IProgress not found. Please update jupyter and ipywidgets. See https://ipywidgets.readthedocs.io/en/stable/user_install.html\n",
            "  from .autonotebook import tqdm as notebook_tqdm\n"
          ]
        }
      ],
      "source": [
        "import pandas as pd\n",
        "import numpy as np\n",
        "import implicit\n",
        "import plotly.express as px\n",
        "from pandas.core.reshape.merge import merge\n",
        "from plotly.subplots import make_subplots\n",
        "import plotly.graph_objects as go#scatter charts\n",
        "import plotly.figure_factory as ff#creates unique chart types\n",
        "from plotly.colors import hex_to_rgb#color converter\n",
        "from sklearn.feature_extraction.text import CountVectorizer#transform text to vector\n",
        "from sklearn.metrics.pairwise import cosine_similarity#cosine simiarity package\n",
        "from sklearn.neighbors import NearestNeighbors#knn package\n",
        "from sklearn.preprocessing import LabelEncoder #converting lable to numerical\n",
        "from tqdm import tqdm # A fancy library used to progress the bars"
      ]
    },
    {
      "cell_type": "code",
      "execution_count": 74,
      "metadata": {
        "id": "7hKwRAVqMNUr"
      },
      "outputs": [],
      "source": [
        "movies = pd.read_csv('tmdb_5000_movies.csv')\n",
        "credits = pd.read_csv('tmdb_5000_credits.csv')"
      ]
    },
    {
      "cell_type": "code",
      "execution_count": 75,
      "metadata": {
        "colab": {
          "background_save": true,
          "base_uri": "https://localhost:8080/",
          "height": 165
        },
        "id": "5XLEYbd_Q7jU",
        "outputId": "6214da54-7315-4f5e-9741-51b63b944682"
      },
      "outputs": [
        {
          "data": {
            "text/html": [
              "<div>\n",
              "<style scoped>\n",
              "    .dataframe tbody tr th:only-of-type {\n",
              "        vertical-align: middle;\n",
              "    }\n",
              "\n",
              "    .dataframe tbody tr th {\n",
              "        vertical-align: top;\n",
              "    }\n",
              "\n",
              "    .dataframe thead th {\n",
              "        text-align: right;\n",
              "    }\n",
              "</style>\n",
              "<table border=\"1\" class=\"dataframe\">\n",
              "  <thead>\n",
              "    <tr style=\"text-align: right;\">\n",
              "      <th></th>\n",
              "      <th>budget</th>\n",
              "      <th>genres</th>\n",
              "      <th>homepage</th>\n",
              "      <th>id</th>\n",
              "      <th>keywords</th>\n",
              "      <th>original_language</th>\n",
              "      <th>original_title</th>\n",
              "      <th>overview</th>\n",
              "      <th>popularity</th>\n",
              "      <th>production_companies</th>\n",
              "      <th>production_countries</th>\n",
              "      <th>release_date</th>\n",
              "      <th>revenue</th>\n",
              "      <th>runtime</th>\n",
              "      <th>spoken_languages</th>\n",
              "      <th>status</th>\n",
              "      <th>tagline</th>\n",
              "      <th>title</th>\n",
              "      <th>vote_average</th>\n",
              "      <th>vote_count</th>\n",
              "    </tr>\n",
              "  </thead>\n",
              "  <tbody>\n",
              "    <tr>\n",
              "      <th>0</th>\n",
              "      <td>237000000</td>\n",
              "      <td>[{\"id\": 28, \"name\": \"Action\"}, {\"id\": 12, \"nam...</td>\n",
              "      <td>http://www.avatarmovie.com/</td>\n",
              "      <td>19995</td>\n",
              "      <td>[{\"id\": 1463, \"name\": \"culture clash\"}, {\"id\":...</td>\n",
              "      <td>en</td>\n",
              "      <td>Avatar</td>\n",
              "      <td>In the 22nd century, a paraplegic Marine is di...</td>\n",
              "      <td>150.437577</td>\n",
              "      <td>[{\"name\": \"Ingenious Film Partners\", \"id\": 289...</td>\n",
              "      <td>[{\"iso_3166_1\": \"US\", \"name\": \"United States o...</td>\n",
              "      <td>2009-12-10</td>\n",
              "      <td>2787965087</td>\n",
              "      <td>162.0</td>\n",
              "      <td>[{\"iso_639_1\": \"en\", \"name\": \"English\"}, {\"iso...</td>\n",
              "      <td>Released</td>\n",
              "      <td>Enter the World of Pandora.</td>\n",
              "      <td>Avatar</td>\n",
              "      <td>7.2</td>\n",
              "      <td>11800</td>\n",
              "    </tr>\n",
              "  </tbody>\n",
              "</table>\n",
              "</div>"
            ],
            "text/plain": [
              "      budget                                             genres  \\\n",
              "0  237000000  [{\"id\": 28, \"name\": \"Action\"}, {\"id\": 12, \"nam...   \n",
              "\n",
              "                      homepage     id  \\\n",
              "0  http://www.avatarmovie.com/  19995   \n",
              "\n",
              "                                            keywords original_language  \\\n",
              "0  [{\"id\": 1463, \"name\": \"culture clash\"}, {\"id\":...                en   \n",
              "\n",
              "  original_title                                           overview  \\\n",
              "0         Avatar  In the 22nd century, a paraplegic Marine is di...   \n",
              "\n",
              "   popularity                               production_companies  \\\n",
              "0  150.437577  [{\"name\": \"Ingenious Film Partners\", \"id\": 289...   \n",
              "\n",
              "                                production_countries release_date     revenue  \\\n",
              "0  [{\"iso_3166_1\": \"US\", \"name\": \"United States o...   2009-12-10  2787965087   \n",
              "\n",
              "   runtime                                   spoken_languages    status  \\\n",
              "0    162.0  [{\"iso_639_1\": \"en\", \"name\": \"English\"}, {\"iso...  Released   \n",
              "\n",
              "                       tagline   title  vote_average  vote_count  \n",
              "0  Enter the World of Pandora.  Avatar           7.2       11800  "
            ]
          },
          "execution_count": 75,
          "metadata": {},
          "output_type": "execute_result"
        }
      ],
      "source": [
        "movies.head(1)"
      ]
    },
    {
      "cell_type": "code",
      "execution_count": 76,
      "metadata": {
        "colab": {
          "base_uri": "https://localhost:8080/"
        },
        "id": "GjHRi6hPTWQd",
        "outputId": "0a88714c-d9ed-498a-e2f0-602a18a8adde"
      },
      "outputs": [
        {
          "data": {
            "text/plain": [
              "Index(['movie_id', 'title', 'cast', 'crew'], dtype='object')"
            ]
          },
          "execution_count": 76,
          "metadata": {},
          "output_type": "execute_result"
        }
      ],
      "source": [
        "credits.columns"
      ]
    },
    {
      "cell_type": "code",
      "execution_count": 77,
      "metadata": {
        "id": "84jXQCt2VL5V"
      },
      "outputs": [],
      "source": [
        "data = movies.merge (credits,on = 'title')#new data set after merging"
      ]
    },
    {
      "cell_type": "code",
      "execution_count": 78,
      "metadata": {
        "colab": {
          "base_uri": "https://localhost:8080/"
        },
        "id": "gj24lLXwY2qJ",
        "outputId": "fb4a8ae4-6315-42fd-ee20-136a083acd95"
      },
      "outputs": [
        {
          "name": "stdout",
          "output_type": "stream",
          "text": [
            "<class 'pandas.core.frame.DataFrame'>\n",
            "RangeIndex: 4809 entries, 0 to 4808\n",
            "Data columns (total 23 columns):\n",
            " #   Column                Non-Null Count  Dtype  \n",
            "---  ------                --------------  -----  \n",
            " 0   budget                4809 non-null   int64  \n",
            " 1   genres                4809 non-null   object \n",
            " 2   homepage              1713 non-null   object \n",
            " 3   id                    4809 non-null   int64  \n",
            " 4   keywords              4809 non-null   object \n",
            " 5   original_language     4809 non-null   object \n",
            " 6   original_title        4809 non-null   object \n",
            " 7   overview              4806 non-null   object \n",
            " 8   popularity            4809 non-null   float64\n",
            " 9   production_companies  4809 non-null   object \n",
            " 10  production_countries  4809 non-null   object \n",
            " 11  release_date          4808 non-null   object \n",
            " 12  revenue               4809 non-null   int64  \n",
            " 13  runtime               4807 non-null   float64\n",
            " 14  spoken_languages      4809 non-null   object \n",
            " 15  status                4809 non-null   object \n",
            " 16  tagline               3965 non-null   object \n",
            " 17  title                 4809 non-null   object \n",
            " 18  vote_average          4809 non-null   float64\n",
            " 19  vote_count            4809 non-null   int64  \n",
            " 20  movie_id              4809 non-null   int64  \n",
            " 21  cast                  4809 non-null   object \n",
            " 22  crew                  4809 non-null   object \n",
            "dtypes: float64(3), int64(5), object(15)\n",
            "memory usage: 864.2+ KB\n"
          ]
        }
      ],
      "source": [
        "data.info()"
      ]
    },
    {
      "cell_type": "code",
      "execution_count": 79,
      "metadata": {
        "colab": {
          "base_uri": "https://localhost:8080/"
        },
        "id": "6skbB9DYTYdu",
        "outputId": "68bb56fb-0a7d-4f9e-c4d9-ede9305a2d5d"
      },
      "outputs": [
        {
          "data": {
            "text/plain": [
              "Index(['budget', 'genres', 'homepage', 'id', 'keywords', 'original_language',\n",
              "       'original_title', 'overview', 'popularity', 'production_companies',\n",
              "       'production_countries', 'release_date', 'revenue', 'runtime',\n",
              "       'spoken_languages', 'status', 'tagline', 'title', 'vote_average',\n",
              "       'vote_count', 'movie_id', 'cast', 'crew'],\n",
              "      dtype='object')"
            ]
          },
          "execution_count": 79,
          "metadata": {},
          "output_type": "execute_result"
        }
      ],
      "source": [
        "data.columns"
      ]
    },
    {
      "cell_type": "code",
      "execution_count": 80,
      "metadata": {
        "id": "WHAqBYf5Zbt5"
      },
      "outputs": [],
      "source": [
        "#geners\n",
        "#title\n",
        "#keywords\n",
        "#cast\n",
        "#director\n",
        "#overview\n",
        "data = data[['movie_id','title','overview','genres','keywords','cast','crew','release_date','vote_average','vote_count','popularity']]"
      ]
    },
    {
      "cell_type": "code",
      "execution_count": 81,
      "metadata": {
        "colab": {
          "base_uri": "https://localhost:8080/"
        },
        "id": "7O5suI-6aGfN",
        "outputId": "bf46e843-58d5-43a0-d118-5e230cc5a7a7"
      },
      "outputs": [
        {
          "data": {
            "text/plain": [
              "<bound method DataFrame.info of       movie_id                                     title  \\\n",
              "0        19995                                    Avatar   \n",
              "1          285  Pirates of the Caribbean: At World's End   \n",
              "2       206647                                   Spectre   \n",
              "3        49026                     The Dark Knight Rises   \n",
              "4        49529                               John Carter   \n",
              "...        ...                                       ...   \n",
              "4804      9367                               El Mariachi   \n",
              "4805     72766                                 Newlyweds   \n",
              "4806    231617                 Signed, Sealed, Delivered   \n",
              "4807    126186                          Shanghai Calling   \n",
              "4808     25975                         My Date with Drew   \n",
              "\n",
              "                                               overview  \\\n",
              "0     In the 22nd century, a paraplegic Marine is di...   \n",
              "1     Captain Barbossa, long believed to be dead, ha...   \n",
              "2     A cryptic message from Bond’s past sends him o...   \n",
              "3     Following the death of District Attorney Harve...   \n",
              "4     John Carter is a war-weary, former military ca...   \n",
              "...                                                 ...   \n",
              "4804  El Mariachi just wants to play his guitar and ...   \n",
              "4805  A newlywed couple's honeymoon is upended by th...   \n",
              "4806  \"Signed, Sealed, Delivered\" introduces a dedic...   \n",
              "4807  When ambitious New York attorney Sam is sent t...   \n",
              "4808  Ever since the second grade when he first saw ...   \n",
              "\n",
              "                                                 genres  \\\n",
              "0     [{\"id\": 28, \"name\": \"Action\"}, {\"id\": 12, \"nam...   \n",
              "1     [{\"id\": 12, \"name\": \"Adventure\"}, {\"id\": 14, \"...   \n",
              "2     [{\"id\": 28, \"name\": \"Action\"}, {\"id\": 12, \"nam...   \n",
              "3     [{\"id\": 28, \"name\": \"Action\"}, {\"id\": 80, \"nam...   \n",
              "4     [{\"id\": 28, \"name\": \"Action\"}, {\"id\": 12, \"nam...   \n",
              "...                                                 ...   \n",
              "4804  [{\"id\": 28, \"name\": \"Action\"}, {\"id\": 80, \"nam...   \n",
              "4805  [{\"id\": 35, \"name\": \"Comedy\"}, {\"id\": 10749, \"...   \n",
              "4806  [{\"id\": 35, \"name\": \"Comedy\"}, {\"id\": 18, \"nam...   \n",
              "4807                                                 []   \n",
              "4808                [{\"id\": 99, \"name\": \"Documentary\"}]   \n",
              "\n",
              "                                               keywords  \\\n",
              "0     [{\"id\": 1463, \"name\": \"culture clash\"}, {\"id\":...   \n",
              "1     [{\"id\": 270, \"name\": \"ocean\"}, {\"id\": 726, \"na...   \n",
              "2     [{\"id\": 470, \"name\": \"spy\"}, {\"id\": 818, \"name...   \n",
              "3     [{\"id\": 849, \"name\": \"dc comics\"}, {\"id\": 853,...   \n",
              "4     [{\"id\": 818, \"name\": \"based on novel\"}, {\"id\":...   \n",
              "...                                                 ...   \n",
              "4804  [{\"id\": 5616, \"name\": \"united states\\u2013mexi...   \n",
              "4805                                                 []   \n",
              "4806  [{\"id\": 248, \"name\": \"date\"}, {\"id\": 699, \"nam...   \n",
              "4807                                                 []   \n",
              "4808  [{\"id\": 1523, \"name\": \"obsession\"}, {\"id\": 224...   \n",
              "\n",
              "                                                   cast  \\\n",
              "0     [{\"cast_id\": 242, \"character\": \"Jake Sully\", \"...   \n",
              "1     [{\"cast_id\": 4, \"character\": \"Captain Jack Spa...   \n",
              "2     [{\"cast_id\": 1, \"character\": \"James Bond\", \"cr...   \n",
              "3     [{\"cast_id\": 2, \"character\": \"Bruce Wayne / Ba...   \n",
              "4     [{\"cast_id\": 5, \"character\": \"John Carter\", \"c...   \n",
              "...                                                 ...   \n",
              "4804  [{\"cast_id\": 1, \"character\": \"El Mariachi\", \"c...   \n",
              "4805  [{\"cast_id\": 1, \"character\": \"Buzzy\", \"credit_...   \n",
              "4806  [{\"cast_id\": 8, \"character\": \"Oliver O\\u2019To...   \n",
              "4807  [{\"cast_id\": 3, \"character\": \"Sam\", \"credit_id...   \n",
              "4808  [{\"cast_id\": 3, \"character\": \"Herself\", \"credi...   \n",
              "\n",
              "                                                   crew release_date  \\\n",
              "0     [{\"credit_id\": \"52fe48009251416c750aca23\", \"de...   2009-12-10   \n",
              "1     [{\"credit_id\": \"52fe4232c3a36847f800b579\", \"de...   2007-05-19   \n",
              "2     [{\"credit_id\": \"54805967c3a36829b5002c41\", \"de...   2015-10-26   \n",
              "3     [{\"credit_id\": \"52fe4781c3a36847f81398c3\", \"de...   2012-07-16   \n",
              "4     [{\"credit_id\": \"52fe479ac3a36847f813eaa3\", \"de...   2012-03-07   \n",
              "...                                                 ...          ...   \n",
              "4804  [{\"credit_id\": \"52fe44eec3a36847f80b280b\", \"de...   1992-09-04   \n",
              "4805  [{\"credit_id\": \"52fe487dc3a368484e0fb013\", \"de...   2011-12-26   \n",
              "4806  [{\"credit_id\": \"52fe4df3c3a36847f8275ecf\", \"de...   2013-10-13   \n",
              "4807  [{\"credit_id\": \"52fe4ad9c3a368484e16a36b\", \"de...   2012-05-03   \n",
              "4808  [{\"credit_id\": \"58ce021b9251415a390165d9\", \"de...   2005-08-05   \n",
              "\n",
              "      vote_average  vote_count  popularity  \n",
              "0              7.2       11800  150.437577  \n",
              "1              6.9        4500  139.082615  \n",
              "2              6.3        4466  107.376788  \n",
              "3              7.6        9106  112.312950  \n",
              "4              6.1        2124   43.926995  \n",
              "...            ...         ...         ...  \n",
              "4804           6.6         238   14.269792  \n",
              "4805           5.9           5    0.642552  \n",
              "4806           7.0           6    1.444476  \n",
              "4807           5.7           7    0.857008  \n",
              "4808           6.3          16    1.929883  \n",
              "\n",
              "[4809 rows x 11 columns]>"
            ]
          },
          "execution_count": 81,
          "metadata": {},
          "output_type": "execute_result"
        }
      ],
      "source": [
        "\n",
        "data.info"
      ]
    },
    {
      "cell_type": "code",
      "execution_count": 82,
      "metadata": {
        "colab": {
          "base_uri": "https://localhost:8080/",
          "height": 232
        },
        "id": "Xdp1RI2qSUxl",
        "outputId": "3e77cc12-2436-47ab-fa7d-55528b3c014c"
      },
      "outputs": [
        {
          "data": {
            "text/html": [
              "<div>\n",
              "<style scoped>\n",
              "    .dataframe tbody tr th:only-of-type {\n",
              "        vertical-align: middle;\n",
              "    }\n",
              "\n",
              "    .dataframe tbody tr th {\n",
              "        vertical-align: top;\n",
              "    }\n",
              "\n",
              "    .dataframe thead th {\n",
              "        text-align: right;\n",
              "    }\n",
              "</style>\n",
              "<table border=\"1\" class=\"dataframe\">\n",
              "  <thead>\n",
              "    <tr style=\"text-align: right;\">\n",
              "      <th></th>\n",
              "      <th>movie_id</th>\n",
              "      <th>title</th>\n",
              "      <th>overview</th>\n",
              "      <th>genres</th>\n",
              "      <th>keywords</th>\n",
              "      <th>cast</th>\n",
              "      <th>crew</th>\n",
              "      <th>release_date</th>\n",
              "      <th>vote_average</th>\n",
              "      <th>vote_count</th>\n",
              "      <th>popularity</th>\n",
              "    </tr>\n",
              "  </thead>\n",
              "  <tbody>\n",
              "    <tr>\n",
              "      <th>0</th>\n",
              "      <td>19995</td>\n",
              "      <td>Avatar</td>\n",
              "      <td>In the 22nd century, a paraplegic Marine is di...</td>\n",
              "      <td>[{\"id\": 28, \"name\": \"Action\"}, {\"id\": 12, \"nam...</td>\n",
              "      <td>[{\"id\": 1463, \"name\": \"culture clash\"}, {\"id\":...</td>\n",
              "      <td>[{\"cast_id\": 242, \"character\": \"Jake Sully\", \"...</td>\n",
              "      <td>[{\"credit_id\": \"52fe48009251416c750aca23\", \"de...</td>\n",
              "      <td>2009-12-10</td>\n",
              "      <td>7.2</td>\n",
              "      <td>11800</td>\n",
              "      <td>150.437577</td>\n",
              "    </tr>\n",
              "  </tbody>\n",
              "</table>\n",
              "</div>"
            ],
            "text/plain": [
              "   movie_id   title                                           overview  \\\n",
              "0     19995  Avatar  In the 22nd century, a paraplegic Marine is di...   \n",
              "\n",
              "                                              genres  \\\n",
              "0  [{\"id\": 28, \"name\": \"Action\"}, {\"id\": 12, \"nam...   \n",
              "\n",
              "                                            keywords  \\\n",
              "0  [{\"id\": 1463, \"name\": \"culture clash\"}, {\"id\":...   \n",
              "\n",
              "                                                cast  \\\n",
              "0  [{\"cast_id\": 242, \"character\": \"Jake Sully\", \"...   \n",
              "\n",
              "                                                crew release_date  \\\n",
              "0  [{\"credit_id\": \"52fe48009251416c750aca23\", \"de...   2009-12-10   \n",
              "\n",
              "   vote_average  vote_count  popularity  \n",
              "0           7.2       11800  150.437577  "
            ]
          },
          "execution_count": 82,
          "metadata": {},
          "output_type": "execute_result"
        }
      ],
      "source": [
        "data.head(1)"
      ]
    },
    {
      "cell_type": "code",
      "execution_count": 83,
      "metadata": {
        "colab": {
          "base_uri": "https://localhost:8080/"
        },
        "id": "FzAHAKQmTtAn",
        "outputId": "f4fe0eb6-2778-4471-fd7a-087e9f645f88"
      },
      "outputs": [
        {
          "data": {
            "text/plain": [
              "movie_id        0\n",
              "title           0\n",
              "overview        3\n",
              "genres          0\n",
              "keywords        0\n",
              "cast            0\n",
              "crew            0\n",
              "release_date    1\n",
              "vote_average    0\n",
              "vote_count      0\n",
              "popularity      0\n",
              "dtype: int64"
            ]
          },
          "execution_count": 83,
          "metadata": {},
          "output_type": "execute_result"
        }
      ],
      "source": [
        "\n",
        "data.isnull().sum()"
      ]
    },
    {
      "cell_type": "code",
      "execution_count": 84,
      "metadata": {
        "id": "ow3phFXUUx7c"
      },
      "outputs": [],
      "source": [
        "data.dropna(inplace=True)"
      ]
    },
    {
      "cell_type": "code",
      "execution_count": 85,
      "metadata": {
        "colab": {
          "base_uri": "https://localhost:8080/"
        },
        "id": "fXETQbwSUx88",
        "outputId": "c57239cc-34d7-42ce-e071-4ec031fd07f0"
      },
      "outputs": [
        {
          "data": {
            "text/plain": [
              "4805"
            ]
          },
          "execution_count": 85,
          "metadata": {},
          "output_type": "execute_result"
        }
      ],
      "source": [
        "len(data)"
      ]
    },
    {
      "cell_type": "code",
      "execution_count": 86,
      "metadata": {
        "colab": {
          "base_uri": "https://localhost:8080/"
        },
        "id": "j7DVOZ-hUyBc",
        "outputId": "130408a7-0ddd-45f0-fdf3-c1fb319f33a3"
      },
      "outputs": [
        {
          "data": {
            "text/plain": [
              "0"
            ]
          },
          "execution_count": 86,
          "metadata": {},
          "output_type": "execute_result"
        }
      ],
      "source": [
        "data.duplicated().sum()"
      ]
    },
    {
      "cell_type": "code",
      "execution_count": 87,
      "metadata": {
        "colab": {
          "base_uri": "https://localhost:8080/",
          "height": 53
        },
        "id": "oD_LAjCmVaxM",
        "outputId": "ae057883-d69b-49bf-ec33-3265c646ccff"
      },
      "outputs": [
        {
          "data": {
            "text/plain": [
              "'[{\"id\": 28, \"name\": \"Action\"}, {\"id\": 12, \"name\": \"Adventure\"}, {\"id\": 14, \"name\": \"Fantasy\"}, {\"id\": 878, \"name\": \"Science Fiction\"}]'"
            ]
          },
          "execution_count": 87,
          "metadata": {},
          "output_type": "execute_result"
        }
      ],
      "source": [
        "data.iloc[0].genres"
      ]
    },
    {
      "cell_type": "code",
      "execution_count": 88,
      "metadata": {
        "id": "x4bqwm6azgct"
      },
      "outputs": [],
      "source": [
        "new_types={'title': str,'overview': str,'release_date': 'datetime64[ns]'}\n",
        "for col in new_types.keys():\n",
        "    data[col]=data[col].astype(new_types[col])\n"
      ]
    },
    {
      "cell_type": "code",
      "execution_count": 89,
      "metadata": {
        "id": "mcl8pxezDKI_"
      },
      "outputs": [],
      "source": [
        "def get_uniques(data,col):\n",
        "    out=set([val.strip().lower() for val in ','.join(data[col].unique()).split(',')])\n",
        "    try:\n",
        "        out.remove('')\n",
        "    except:\n",
        "        return list(out)\n",
        "    return list(out)"
      ]
    },
    {
      "cell_type": "code",
      "execution_count": 90,
      "metadata": {
        "id": "mofy2ffuDLqt"
      },
      "outputs": [],
      "source": [
        "genres = get_uniques(data,'genres')\n",
        "keywords = get_uniques(data,'keywords')\n",
        "cast = get_uniques(data,'cast')\n",
        "crew = get_uniques(data,'crew')"
      ]
    },
    {
      "cell_type": "code",
      "execution_count": 91,
      "metadata": {
        "id": "rfkq5Ged1yYQ"
      },
      "outputs": [],
      "source": [
        "from tqdm import tqdm\n",
        "def get_counts(data, col, categories):\n",
        "    categ = {(category): None for category in categories}\n",
        "    for category in tqdm(categories):\n",
        "        val=0\n",
        "        for index in data.index:\n",
        "            if category in data.at[index,col].lower():\n",
        "                val+=1\n",
        "        categ[category]=val\n",
        "    return categ"
      ]
    },
    {
      "cell_type": "code",
      "execution_count": 92,
      "metadata": {
        "colab": {
          "base_uri": "https://localhost:8080/",
          "height": 559
        },
        "id": "CZ__9QZt0n6z",
        "outputId": "ea3d88b7-38c4-4d3a-9190-dbdf82711052"
      },
      "outputs": [
        {
          "name": "stderr",
          "output_type": "stream",
          "text": [
            "100%|██████████| 81/81 [00:01<00:00, 47.08it/s]\n",
            "c:\\Users\\elman\\AppData\\Local\\Programs\\Python\\Python311\\Lib\\site-packages\\plotly\\express\\_core.py:2065: FutureWarning: When grouping with a length-1 list-like, you will need to pass a length-1 tuple to get_group in a future version of pandas. Pass `(name,)` instead of `name` to silence this warning.\n",
            "  sf: grouped.get_group(s if len(s) > 1 else s[0])\n"
          ]
        },
        {
          "data": {
            "application/vnd.plotly.v1+json": {
              "config": {
                "plotlyServerURL": "https://plot.ly"
              },
              "data": [
                {
                  "alignmentgroup": "True",
                  "hovertemplate": "color=[{\"id\": 10769<br>x=%{x}<br>y=%{y}<extra></extra>",
                  "legendgroup": "[{\"id\": 10769",
                  "marker": {
                    "color": "#abaeab",
                    "pattern": {
                      "shape": ""
                    }
                  },
                  "name": "[{\"id\": 10769",
                  "offsetgroup": "[{\"id\": 10769",
                  "orientation": "v",
                  "showlegend": true,
                  "textposition": "auto",
                  "type": "bar",
                  "x": [
                    "[{\"id\": 10769"
                  ],
                  "xaxis": "x",
                  "y": [
                    2
                  ],
                  "yaxis": "y"
                },
                {
                  "alignmentgroup": "True",
                  "hovertemplate": "color=\"name\": \"tv movie\"}]<br>x=%{x}<br>y=%{y}<extra></extra>",
                  "legendgroup": "\"name\": \"tv movie\"}]",
                  "marker": {
                    "color": "#abaeab",
                    "pattern": {
                      "shape": ""
                    }
                  },
                  "name": "\"name\": \"tv movie\"}]",
                  "offsetgroup": "\"name\": \"tv movie\"}]",
                  "orientation": "v",
                  "showlegend": true,
                  "textposition": "auto",
                  "type": "bar",
                  "x": [
                    "\"name\": \"tv movie\"}]"
                  ],
                  "xaxis": "x",
                  "y": [
                    4
                  ],
                  "yaxis": "y"
                },
                {
                  "alignmentgroup": "True",
                  "hovertemplate": "color=[{\"id\": 10770<br>x=%{x}<br>y=%{y}<extra></extra>",
                  "legendgroup": "[{\"id\": 10770",
                  "marker": {
                    "color": "#abaeab",
                    "pattern": {
                      "shape": ""
                    }
                  },
                  "name": "[{\"id\": 10770",
                  "offsetgroup": "[{\"id\": 10770",
                  "orientation": "v",
                  "showlegend": true,
                  "textposition": "auto",
                  "type": "bar",
                  "x": [
                    "[{\"id\": 10770"
                  ],
                  "xaxis": "x",
                  "y": [
                    4
                  ],
                  "yaxis": "y"
                },
                {
                  "alignmentgroup": "True",
                  "hovertemplate": "color={\"id\": 10770<br>x=%{x}<br>y=%{y}<extra></extra>",
                  "legendgroup": "{\"id\": 10770",
                  "marker": {
                    "color": "#abaeab",
                    "pattern": {
                      "shape": ""
                    }
                  },
                  "name": "{\"id\": 10770",
                  "offsetgroup": "{\"id\": 10770",
                  "orientation": "v",
                  "showlegend": true,
                  "textposition": "auto",
                  "type": "bar",
                  "x": [
                    "{\"id\": 10770"
                  ],
                  "xaxis": "x",
                  "y": [
                    8
                  ],
                  "yaxis": "y"
                },
                {
                  "alignmentgroup": "True",
                  "hovertemplate": "color=\"name\": \"tv movie\"}<br>x=%{x}<br>y=%{y}<extra></extra>",
                  "legendgroup": "\"name\": \"tv movie\"}",
                  "marker": {
                    "color": "#abaeab",
                    "pattern": {
                      "shape": ""
                    }
                  },
                  "name": "\"name\": \"tv movie\"}",
                  "offsetgroup": "\"name\": \"tv movie\"}",
                  "orientation": "v",
                  "showlegend": true,
                  "textposition": "auto",
                  "type": "bar",
                  "x": [
                    "\"name\": \"tv movie\"}"
                  ],
                  "xaxis": "x",
                  "y": [
                    8
                  ],
                  "yaxis": "y"
                },
                {
                  "alignmentgroup": "True",
                  "hovertemplate": "color=\"name\": \"animation\"}]<br>x=%{x}<br>y=%{y}<extra></extra>",
                  "legendgroup": "\"name\": \"animation\"}]",
                  "marker": {
                    "color": "#abaeab",
                    "pattern": {
                      "shape": ""
                    }
                  },
                  "name": "\"name\": \"animation\"}]",
                  "offsetgroup": "\"name\": \"animation\"}]",
                  "orientation": "v",
                  "showlegend": true,
                  "textposition": "auto",
                  "type": "bar",
                  "x": [
                    "\"name\": \"animation\"}]"
                  ],
                  "xaxis": "x",
                  "y": [
                    21
                  ],
                  "yaxis": "y"
                },
                {
                  "alignmentgroup": "True",
                  "hovertemplate": "color=\"name\": \"foreign\"}]<br>x=%{x}<br>y=%{y}<extra></extra>",
                  "legendgroup": "\"name\": \"foreign\"}]",
                  "marker": {
                    "color": "#abaeab",
                    "pattern": {
                      "shape": ""
                    }
                  },
                  "name": "\"name\": \"foreign\"}]",
                  "offsetgroup": "\"name\": \"foreign\"}]",
                  "orientation": "v",
                  "showlegend": true,
                  "textposition": "auto",
                  "type": "bar",
                  "x": [
                    "\"name\": \"foreign\"}]"
                  ],
                  "xaxis": "x",
                  "y": [
                    23
                  ],
                  "yaxis": "y"
                },
                {
                  "alignmentgroup": "True",
                  "hovertemplate": "color=[{\"id\": 10752<br>x=%{x}<br>y=%{y}<extra></extra>",
                  "legendgroup": "[{\"id\": 10752",
                  "marker": {
                    "color": "#abaeab",
                    "pattern": {
                      "shape": ""
                    }
                  },
                  "name": "[{\"id\": 10752",
                  "offsetgroup": "[{\"id\": 10752",
                  "orientation": "v",
                  "showlegend": true,
                  "textposition": "auto",
                  "type": "bar",
                  "x": [
                    "[{\"id\": 10752"
                  ],
                  "xaxis": "x",
                  "y": [
                    24
                  ],
                  "yaxis": "y"
                },
                {
                  "alignmentgroup": "True",
                  "hovertemplate": "color=[{\"id\": 36<br>x=%{x}<br>y=%{y}<extra></extra>",
                  "legendgroup": "[{\"id\": 36",
                  "marker": {
                    "color": "#abaeab",
                    "pattern": {
                      "shape": ""
                    }
                  },
                  "name": "[{\"id\": 36",
                  "offsetgroup": "[{\"id\": 36",
                  "orientation": "v",
                  "showlegend": true,
                  "textposition": "auto",
                  "type": "bar",
                  "x": [
                    "[{\"id\": 36"
                  ],
                  "xaxis": "x",
                  "y": [
                    25
                  ],
                  "yaxis": "y"
                },
                {
                  "alignmentgroup": "True",
                  "hovertemplate": "color=[]<br>x=%{x}<br>y=%{y}<extra></extra>",
                  "legendgroup": "[]",
                  "marker": {
                    "color": "#abaeab",
                    "pattern": {
                      "shape": ""
                    }
                  },
                  "name": "[]",
                  "offsetgroup": "[]",
                  "orientation": "v",
                  "showlegend": true,
                  "textposition": "auto",
                  "type": "bar",
                  "x": [
                    "[]"
                  ],
                  "xaxis": "x",
                  "y": [
                    27
                  ],
                  "yaxis": "y"
                },
                {
                  "alignmentgroup": "True",
                  "hovertemplate": "color=[{\"id\": 37<br>x=%{x}<br>y=%{y}<extra></extra>",
                  "legendgroup": "[{\"id\": 37",
                  "marker": {
                    "color": "#abaeab",
                    "pattern": {
                      "shape": ""
                    }
                  },
                  "name": "[{\"id\": 37",
                  "offsetgroup": "[{\"id\": 37",
                  "orientation": "v",
                  "showlegend": true,
                  "textposition": "auto",
                  "type": "bar",
                  "x": [
                    "[{\"id\": 37"
                  ],
                  "xaxis": "x",
                  "y": [
                    27
                  ],
                  "yaxis": "y"
                },
                {
                  "alignmentgroup": "True",
                  "hovertemplate": "color=\"name\": \"foreign\"}<br>x=%{x}<br>y=%{y}<extra></extra>",
                  "legendgroup": "\"name\": \"foreign\"}",
                  "marker": {
                    "color": "#abaeab",
                    "pattern": {
                      "shape": ""
                    }
                  },
                  "name": "\"name\": \"foreign\"}",
                  "offsetgroup": "\"name\": \"foreign\"}",
                  "orientation": "v",
                  "showlegend": true,
                  "textposition": "auto",
                  "type": "bar",
                  "x": [
                    "\"name\": \"foreign\"}"
                  ],
                  "xaxis": "x",
                  "y": [
                    34
                  ],
                  "yaxis": "y"
                },
                {
                  "alignmentgroup": "True",
                  "hovertemplate": "color={\"id\": 10769<br>x=%{x}<br>y=%{y}<extra></extra>",
                  "legendgroup": "{\"id\": 10769",
                  "marker": {
                    "color": "#abaeab",
                    "pattern": {
                      "shape": ""
                    }
                  },
                  "name": "{\"id\": 10769",
                  "offsetgroup": "{\"id\": 10769",
                  "orientation": "v",
                  "showlegend": true,
                  "textposition": "auto",
                  "type": "bar",
                  "x": [
                    "{\"id\": 10769"
                  ],
                  "xaxis": "x",
                  "y": [
                    34
                  ],
                  "yaxis": "y"
                },
                {
                  "alignmentgroup": "True",
                  "hovertemplate": "color=[{\"id\": 10402<br>x=%{x}<br>y=%{y}<extra></extra>",
                  "legendgroup": "[{\"id\": 10402",
                  "marker": {
                    "color": "#abaeab",
                    "pattern": {
                      "shape": ""
                    }
                  },
                  "name": "[{\"id\": 10402",
                  "offsetgroup": "[{\"id\": 10402",
                  "orientation": "v",
                  "showlegend": true,
                  "textposition": "auto",
                  "type": "bar",
                  "x": [
                    "[{\"id\": 10402"
                  ],
                  "xaxis": "x",
                  "y": [
                    34
                  ],
                  "yaxis": "y"
                },
                {
                  "alignmentgroup": "True",
                  "hovertemplate": "color=[{\"id\": 9648<br>x=%{x}<br>y=%{y}<extra></extra>",
                  "legendgroup": "[{\"id\": 9648",
                  "marker": {
                    "color": "#abaeab",
                    "pattern": {
                      "shape": ""
                    }
                  },
                  "name": "[{\"id\": 9648",
                  "offsetgroup": "[{\"id\": 9648",
                  "orientation": "v",
                  "showlegend": true,
                  "textposition": "auto",
                  "type": "bar",
                  "x": [
                    "[{\"id\": 9648"
                  ],
                  "xaxis": "x",
                  "y": [
                    41
                  ],
                  "yaxis": "y"
                },
                {
                  "alignmentgroup": "True",
                  "hovertemplate": "color=[{\"id\": 10751<br>x=%{x}<br>y=%{y}<extra></extra>",
                  "legendgroup": "[{\"id\": 10751",
                  "marker": {
                    "color": "#abaeab",
                    "pattern": {
                      "shape": ""
                    }
                  },
                  "name": "[{\"id\": 10751",
                  "offsetgroup": "[{\"id\": 10751",
                  "orientation": "v",
                  "showlegend": true,
                  "textposition": "auto",
                  "type": "bar",
                  "x": [
                    "[{\"id\": 10751"
                  ],
                  "xaxis": "x",
                  "y": [
                    57
                  ],
                  "yaxis": "y"
                },
                {
                  "alignmentgroup": "True",
                  "hovertemplate": "color=\"name\": \"western\"}]<br>x=%{x}<br>y=%{y}<extra></extra>",
                  "legendgroup": "\"name\": \"western\"}]",
                  "marker": {
                    "color": "#abaeab",
                    "pattern": {
                      "shape": ""
                    }
                  },
                  "name": "\"name\": \"western\"}]",
                  "offsetgroup": "\"name\": \"western\"}]",
                  "orientation": "v",
                  "showlegend": true,
                  "textposition": "auto",
                  "type": "bar",
                  "x": [
                    "\"name\": \"western\"}]"
                  ],
                  "xaxis": "x",
                  "y": [
                    62
                  ],
                  "yaxis": "y"
                },
                {
                  "alignmentgroup": "True",
                  "hovertemplate": "color=\"name\": \"documentary\"}]<br>x=%{x}<br>y=%{y}<extra></extra>",
                  "legendgroup": "\"name\": \"documentary\"}]",
                  "marker": {
                    "color": "#abaeab",
                    "pattern": {
                      "shape": ""
                    }
                  },
                  "name": "\"name\": \"documentary\"}]",
                  "offsetgroup": "\"name\": \"documentary\"}]",
                  "orientation": "v",
                  "showlegend": true,
                  "textposition": "auto",
                  "type": "bar",
                  "x": [
                    "\"name\": \"documentary\"}]"
                  ],
                  "xaxis": "x",
                  "y": [
                    82
                  ],
                  "yaxis": "y"
                },
                {
                  "alignmentgroup": "True",
                  "hovertemplate": "color=\"name\": \"western\"}<br>x=%{x}<br>y=%{y}<extra></extra>",
                  "legendgroup": "\"name\": \"western\"}",
                  "marker": {
                    "color": "#abaeab",
                    "pattern": {
                      "shape": ""
                    }
                  },
                  "name": "\"name\": \"western\"}",
                  "offsetgroup": "\"name\": \"western\"}",
                  "orientation": "v",
                  "showlegend": true,
                  "textposition": "auto",
                  "type": "bar",
                  "x": [
                    "\"name\": \"western\"}"
                  ],
                  "xaxis": "x",
                  "y": [
                    82
                  ],
                  "yaxis": "y"
                },
                {
                  "alignmentgroup": "True",
                  "hovertemplate": "color={\"id\": 37<br>x=%{x}<br>y=%{y}<extra></extra>",
                  "legendgroup": "{\"id\": 37",
                  "marker": {
                    "color": "#abaeab",
                    "pattern": {
                      "shape": ""
                    }
                  },
                  "name": "{\"id\": 37",
                  "offsetgroup": "{\"id\": 37",
                  "orientation": "v",
                  "showlegend": true,
                  "textposition": "auto",
                  "type": "bar",
                  "x": [
                    "{\"id\": 37"
                  ],
                  "xaxis": "x",
                  "y": [
                    82
                  ],
                  "yaxis": "y"
                },
                {
                  "alignmentgroup": "True",
                  "hovertemplate": "color=[{\"id\": 99<br>x=%{x}<br>y=%{y}<extra></extra>",
                  "legendgroup": "[{\"id\": 99",
                  "marker": {
                    "color": "#abaeab",
                    "pattern": {
                      "shape": ""
                    }
                  },
                  "name": "[{\"id\": 99",
                  "offsetgroup": "[{\"id\": 99",
                  "orientation": "v",
                  "showlegend": true,
                  "textposition": "auto",
                  "type": "bar",
                  "x": [
                    "[{\"id\": 99"
                  ],
                  "xaxis": "x",
                  "y": [
                    87
                  ],
                  "yaxis": "y"
                },
                {
                  "alignmentgroup": "True",
                  "hovertemplate": "color=\"name\": \"history\"}]<br>x=%{x}<br>y=%{y}<extra></extra>",
                  "legendgroup": "\"name\": \"history\"}]",
                  "marker": {
                    "color": "#abaeab",
                    "pattern": {
                      "shape": ""
                    }
                  },
                  "name": "\"name\": \"history\"}]",
                  "offsetgroup": "\"name\": \"history\"}]",
                  "orientation": "v",
                  "showlegend": true,
                  "textposition": "auto",
                  "type": "bar",
                  "x": [
                    "\"name\": \"history\"}]"
                  ],
                  "xaxis": "x",
                  "y": [
                    88
                  ],
                  "yaxis": "y"
                },
                {
                  "alignmentgroup": "True",
                  "hovertemplate": "color=[{\"id\": 878<br>x=%{x}<br>y=%{y}<extra></extra>",
                  "legendgroup": "[{\"id\": 878",
                  "marker": {
                    "color": "#abaeab",
                    "pattern": {
                      "shape": ""
                    }
                  },
                  "name": "[{\"id\": 878",
                  "offsetgroup": "[{\"id\": 878",
                  "orientation": "v",
                  "showlegend": true,
                  "textposition": "auto",
                  "type": "bar",
                  "x": [
                    "[{\"id\": 878"
                  ],
                  "xaxis": "x",
                  "y": [
                    96
                  ],
                  "yaxis": "y"
                },
                {
                  "alignmentgroup": "True",
                  "hovertemplate": "color=\"name\": \"music\"}]<br>x=%{x}<br>y=%{y}<extra></extra>",
                  "legendgroup": "\"name\": \"music\"}]",
                  "marker": {
                    "color": "#abaeab",
                    "pattern": {
                      "shape": ""
                    }
                  },
                  "name": "\"name\": \"music\"}]",
                  "offsetgroup": "\"name\": \"music\"}]",
                  "orientation": "v",
                  "showlegend": true,
                  "textposition": "auto",
                  "type": "bar",
                  "x": [
                    "\"name\": \"music\"}]"
                  ],
                  "xaxis": "x",
                  "y": [
                    103
                  ],
                  "yaxis": "y"
                },
                {
                  "alignmentgroup": "True",
                  "hovertemplate": "color=[{\"id\": 10749<br>x=%{x}<br>y=%{y}<extra></extra>",
                  "legendgroup": "[{\"id\": 10749",
                  "marker": {
                    "color": "#abaeab",
                    "pattern": {
                      "shape": ""
                    }
                  },
                  "name": "[{\"id\": 10749",
                  "offsetgroup": "[{\"id\": 10749",
                  "orientation": "v",
                  "showlegend": true,
                  "textposition": "auto",
                  "type": "bar",
                  "x": [
                    "[{\"id\": 10749"
                  ],
                  "xaxis": "x",
                  "y": [
                    106
                  ],
                  "yaxis": "y"
                },
                {
                  "alignmentgroup": "True",
                  "hovertemplate": "color={\"id\": 99<br>x=%{x}<br>y=%{y}<extra></extra>",
                  "legendgroup": "{\"id\": 99",
                  "marker": {
                    "color": "#abaeab",
                    "pattern": {
                      "shape": ""
                    }
                  },
                  "name": "{\"id\": 99",
                  "offsetgroup": "{\"id\": 99",
                  "orientation": "v",
                  "showlegend": true,
                  "textposition": "auto",
                  "type": "bar",
                  "x": [
                    "{\"id\": 99"
                  ],
                  "xaxis": "x",
                  "y": [
                    108
                  ],
                  "yaxis": "y"
                },
                {
                  "alignmentgroup": "True",
                  "hovertemplate": "color=\"name\": \"documentary\"}<br>x=%{x}<br>y=%{y}<extra></extra>",
                  "legendgroup": "\"name\": \"documentary\"}",
                  "marker": {
                    "color": "#abaeab",
                    "pattern": {
                      "shape": ""
                    }
                  },
                  "name": "\"name\": \"documentary\"}",
                  "offsetgroup": "\"name\": \"documentary\"}",
                  "orientation": "v",
                  "showlegend": true,
                  "textposition": "auto",
                  "type": "bar",
                  "x": [
                    "\"name\": \"documentary\"}"
                  ],
                  "xaxis": "x",
                  "y": [
                    108
                  ],
                  "yaxis": "y"
                },
                {
                  "alignmentgroup": "True",
                  "hovertemplate": "color=\"name\": \"war\"}]<br>x=%{x}<br>y=%{y}<extra></extra>",
                  "legendgroup": "\"name\": \"war\"}]",
                  "marker": {
                    "color": "#abaeab",
                    "pattern": {
                      "shape": ""
                    }
                  },
                  "name": "\"name\": \"war\"}]",
                  "offsetgroup": "\"name\": \"war\"}]",
                  "orientation": "v",
                  "showlegend": true,
                  "textposition": "auto",
                  "type": "bar",
                  "x": [
                    "\"name\": \"war\"}]"
                  ],
                  "xaxis": "x",
                  "y": [
                    109
                  ],
                  "yaxis": "y"
                },
                {
                  "alignmentgroup": "True",
                  "hovertemplate": "color=\"name\": \"action\"}]<br>x=%{x}<br>y=%{y}<extra></extra>",
                  "legendgroup": "\"name\": \"action\"}]",
                  "marker": {
                    "color": "#abaeab",
                    "pattern": {
                      "shape": ""
                    }
                  },
                  "name": "\"name\": \"action\"}]",
                  "offsetgroup": "\"name\": \"action\"}]",
                  "orientation": "v",
                  "showlegend": true,
                  "textposition": "auto",
                  "type": "bar",
                  "x": [
                    "\"name\": \"action\"}]"
                  ],
                  "xaxis": "x",
                  "y": [
                    110
                  ],
                  "yaxis": "y"
                },
                {
                  "alignmentgroup": "True",
                  "hovertemplate": "color=\"name\": \"adventure\"}]<br>x=%{x}<br>y=%{y}<extra></extra>",
                  "legendgroup": "\"name\": \"adventure\"}]",
                  "marker": {
                    "color": "#abaeab",
                    "pattern": {
                      "shape": ""
                    }
                  },
                  "name": "\"name\": \"adventure\"}]",
                  "offsetgroup": "\"name\": \"adventure\"}]",
                  "orientation": "v",
                  "showlegend": true,
                  "textposition": "auto",
                  "type": "bar",
                  "x": [
                    "\"name\": \"adventure\"}]"
                  ],
                  "xaxis": "x",
                  "y": [
                    111
                  ],
                  "yaxis": "y"
                },
                {
                  "alignmentgroup": "True",
                  "hovertemplate": "color=[{\"id\": 14<br>x=%{x}<br>y=%{y}<extra></extra>",
                  "legendgroup": "[{\"id\": 14",
                  "marker": {
                    "color": "#abaeab",
                    "pattern": {
                      "shape": ""
                    }
                  },
                  "name": "[{\"id\": 14",
                  "offsetgroup": "[{\"id\": 14",
                  "orientation": "v",
                  "showlegend": true,
                  "textposition": "auto",
                  "type": "bar",
                  "x": [
                    "[{\"id\": 14"
                  ],
                  "xaxis": "x",
                  "y": [
                    118
                  ],
                  "yaxis": "y"
                },
                {
                  "alignmentgroup": "True",
                  "hovertemplate": "color=[{\"id\": 16<br>x=%{x}<br>y=%{y}<extra></extra>",
                  "legendgroup": "[{\"id\": 16",
                  "marker": {
                    "color": "#abaeab",
                    "pattern": {
                      "shape": ""
                    }
                  },
                  "name": "[{\"id\": 16",
                  "offsetgroup": "[{\"id\": 16",
                  "orientation": "v",
                  "showlegend": true,
                  "textposition": "auto",
                  "type": "bar",
                  "x": [
                    "[{\"id\": 16"
                  ],
                  "xaxis": "x",
                  "y": [
                    123
                  ],
                  "yaxis": "y"
                },
                {
                  "alignmentgroup": "True",
                  "hovertemplate": "color=\"name\": \"fantasy\"}]<br>x=%{x}<br>y=%{y}<extra></extra>",
                  "legendgroup": "\"name\": \"fantasy\"}]",
                  "marker": {
                    "color": "#abaeab",
                    "pattern": {
                      "shape": ""
                    }
                  },
                  "name": "\"name\": \"fantasy\"}]",
                  "offsetgroup": "\"name\": \"fantasy\"}]",
                  "orientation": "v",
                  "showlegend": true,
                  "textposition": "auto",
                  "type": "bar",
                  "x": [
                    "\"name\": \"fantasy\"}]"
                  ],
                  "xaxis": "x",
                  "y": [
                    134
                  ],
                  "yaxis": "y"
                },
                {
                  "alignmentgroup": "True",
                  "hovertemplate": "color=\"name\": \"mystery\"}]<br>x=%{x}<br>y=%{y}<extra></extra>",
                  "legendgroup": "\"name\": \"mystery\"}]",
                  "marker": {
                    "color": "#abaeab",
                    "pattern": {
                      "shape": ""
                    }
                  },
                  "name": "\"name\": \"mystery\"}]",
                  "offsetgroup": "\"name\": \"mystery\"}]",
                  "orientation": "v",
                  "showlegend": true,
                  "textposition": "auto",
                  "type": "bar",
                  "x": [
                    "\"name\": \"mystery\"}]"
                  ],
                  "xaxis": "x",
                  "y": [
                    138
                  ],
                  "yaxis": "y"
                },
                {
                  "alignmentgroup": "True",
                  "hovertemplate": "color={\"id\": 10752<br>x=%{x}<br>y=%{y}<extra></extra>",
                  "legendgroup": "{\"id\": 10752",
                  "marker": {
                    "color": "#abaeab",
                    "pattern": {
                      "shape": ""
                    }
                  },
                  "name": "{\"id\": 10752",
                  "offsetgroup": "{\"id\": 10752",
                  "orientation": "v",
                  "showlegend": true,
                  "textposition": "auto",
                  "type": "bar",
                  "x": [
                    "{\"id\": 10752"
                  ],
                  "xaxis": "x",
                  "y": [
                    144
                  ],
                  "yaxis": "y"
                },
                {
                  "alignmentgroup": "True",
                  "hovertemplate": "color=\"name\": \"war\"}<br>x=%{x}<br>y=%{y}<extra></extra>",
                  "legendgroup": "\"name\": \"war\"}",
                  "marker": {
                    "color": "#abaeab",
                    "pattern": {
                      "shape": ""
                    }
                  },
                  "name": "\"name\": \"war\"}",
                  "offsetgroup": "\"name\": \"war\"}",
                  "orientation": "v",
                  "showlegend": true,
                  "textposition": "auto",
                  "type": "bar",
                  "x": [
                    "\"name\": \"war\"}"
                  ],
                  "xaxis": "x",
                  "y": [
                    144
                  ],
                  "yaxis": "y"
                },
                {
                  "alignmentgroup": "True",
                  "hovertemplate": "color=\"name\": \"horror\"}]<br>x=%{x}<br>y=%{y}<extra></extra>",
                  "legendgroup": "\"name\": \"horror\"}]",
                  "marker": {
                    "color": "#abaeab",
                    "pattern": {
                      "shape": ""
                    }
                  },
                  "name": "\"name\": \"horror\"}]",
                  "offsetgroup": "\"name\": \"horror\"}]",
                  "orientation": "v",
                  "showlegend": true,
                  "textposition": "auto",
                  "type": "bar",
                  "x": [
                    "\"name\": \"horror\"}]"
                  ],
                  "xaxis": "x",
                  "y": [
                    158
                  ],
                  "yaxis": "y"
                },
                {
                  "alignmentgroup": "True",
                  "hovertemplate": "color={\"id\": 10402<br>x=%{x}<br>y=%{y}<extra></extra>",
                  "legendgroup": "{\"id\": 10402",
                  "marker": {
                    "color": "#abaeab",
                    "pattern": {
                      "shape": ""
                    }
                  },
                  "name": "{\"id\": 10402",
                  "offsetgroup": "{\"id\": 10402",
                  "orientation": "v",
                  "showlegend": true,
                  "textposition": "auto",
                  "type": "bar",
                  "x": [
                    "{\"id\": 10402"
                  ],
                  "xaxis": "x",
                  "y": [
                    185
                  ],
                  "yaxis": "y"
                },
                {
                  "alignmentgroup": "True",
                  "hovertemplate": "color=\"name\": \"music\"}<br>x=%{x}<br>y=%{y}<extra></extra>",
                  "legendgroup": "\"name\": \"music\"}",
                  "marker": {
                    "color": "#abaeab",
                    "pattern": {
                      "shape": ""
                    }
                  },
                  "name": "\"name\": \"music\"}",
                  "offsetgroup": "\"name\": \"music\"}",
                  "orientation": "v",
                  "showlegend": true,
                  "textposition": "auto",
                  "type": "bar",
                  "x": [
                    "\"name\": \"music\"}"
                  ],
                  "xaxis": "x",
                  "y": [
                    185
                  ],
                  "yaxis": "y"
                },
                {
                  "alignmentgroup": "True",
                  "hovertemplate": "color=[{\"id\": 53<br>x=%{x}<br>y=%{y}<extra></extra>",
                  "legendgroup": "[{\"id\": 53",
                  "marker": {
                    "color": "#abaeab",
                    "pattern": {
                      "shape": ""
                    }
                  },
                  "name": "[{\"id\": 53",
                  "offsetgroup": "[{\"id\": 53",
                  "orientation": "v",
                  "showlegend": true,
                  "textposition": "auto",
                  "type": "bar",
                  "x": [
                    "[{\"id\": 53"
                  ],
                  "xaxis": "x",
                  "y": [
                    194
                  ],
                  "yaxis": "y"
                },
                {
                  "alignmentgroup": "True",
                  "hovertemplate": "color=[{\"id\": 80<br>x=%{x}<br>y=%{y}<extra></extra>",
                  "legendgroup": "[{\"id\": 80",
                  "marker": {
                    "color": "#abaeab",
                    "pattern": {
                      "shape": ""
                    }
                  },
                  "name": "[{\"id\": 80",
                  "offsetgroup": "[{\"id\": 80",
                  "orientation": "v",
                  "showlegend": true,
                  "textposition": "auto",
                  "type": "bar",
                  "x": [
                    "[{\"id\": 80"
                  ],
                  "xaxis": "x",
                  "y": [
                    195
                  ],
                  "yaxis": "y"
                },
                {
                  "alignmentgroup": "True",
                  "hovertemplate": "color=\"name\": \"history\"}<br>x=%{x}<br>y=%{y}<extra></extra>",
                  "legendgroup": "\"name\": \"history\"}",
                  "marker": {
                    "color": "#abaeab",
                    "pattern": {
                      "shape": ""
                    }
                  },
                  "name": "\"name\": \"history\"}",
                  "offsetgroup": "\"name\": \"history\"}",
                  "orientation": "v",
                  "showlegend": true,
                  "textposition": "auto",
                  "type": "bar",
                  "x": [
                    "\"name\": \"history\"}"
                  ],
                  "xaxis": "x",
                  "y": [
                    197
                  ],
                  "yaxis": "y"
                },
                {
                  "alignmentgroup": "True",
                  "hovertemplate": "color={\"id\": 36<br>x=%{x}<br>y=%{y}<extra></extra>",
                  "legendgroup": "{\"id\": 36",
                  "marker": {
                    "color": "#abaeab",
                    "pattern": {
                      "shape": ""
                    }
                  },
                  "name": "{\"id\": 36",
                  "offsetgroup": "{\"id\": 36",
                  "orientation": "v",
                  "showlegend": true,
                  "textposition": "auto",
                  "type": "bar",
                  "x": [
                    "{\"id\": 36"
                  ],
                  "xaxis": "x",
                  "y": [
                    197
                  ],
                  "yaxis": "y"
                },
                {
                  "alignmentgroup": "True",
                  "hovertemplate": "color=\"name\": \"animation\"}<br>x=%{x}<br>y=%{y}<extra></extra>",
                  "legendgroup": "\"name\": \"animation\"}",
                  "marker": {
                    "color": "#abaeab",
                    "pattern": {
                      "shape": ""
                    }
                  },
                  "name": "\"name\": \"animation\"}",
                  "offsetgroup": "\"name\": \"animation\"}",
                  "orientation": "v",
                  "showlegend": true,
                  "textposition": "auto",
                  "type": "bar",
                  "x": [
                    "\"name\": \"animation\"}"
                  ],
                  "xaxis": "x",
                  "y": [
                    234
                  ],
                  "yaxis": "y"
                },
                {
                  "alignmentgroup": "True",
                  "hovertemplate": "color={\"id\": 16<br>x=%{x}<br>y=%{y}<extra></extra>",
                  "legendgroup": "{\"id\": 16",
                  "marker": {
                    "color": "#abaeab",
                    "pattern": {
                      "shape": ""
                    }
                  },
                  "name": "{\"id\": 16",
                  "offsetgroup": "{\"id\": 16",
                  "orientation": "v",
                  "showlegend": true,
                  "textposition": "auto",
                  "type": "bar",
                  "x": [
                    "{\"id\": 16"
                  ],
                  "xaxis": "x",
                  "y": [
                    234
                  ],
                  "yaxis": "y"
                },
                {
                  "alignmentgroup": "True",
                  "hovertemplate": "color=\"name\": \"crime\"}]<br>x=%{x}<br>y=%{y}<extra></extra>",
                  "legendgroup": "\"name\": \"crime\"}]",
                  "marker": {
                    "color": "#abaeab",
                    "pattern": {
                      "shape": ""
                    }
                  },
                  "name": "\"name\": \"crime\"}]",
                  "offsetgroup": "\"name\": \"crime\"}]",
                  "orientation": "v",
                  "showlegend": true,
                  "textposition": "auto",
                  "type": "bar",
                  "x": [
                    "\"name\": \"crime\"}]"
                  ],
                  "xaxis": "x",
                  "y": [
                    247
                  ],
                  "yaxis": "y"
                },
                {
                  "alignmentgroup": "True",
                  "hovertemplate": "color=\"name\": \"family\"}]<br>x=%{x}<br>y=%{y}<extra></extra>",
                  "legendgroup": "\"name\": \"family\"}]",
                  "marker": {
                    "color": "#abaeab",
                    "pattern": {
                      "shape": ""
                    }
                  },
                  "name": "\"name\": \"family\"}]",
                  "offsetgroup": "\"name\": \"family\"}]",
                  "orientation": "v",
                  "showlegend": true,
                  "textposition": "auto",
                  "type": "bar",
                  "x": [
                    "\"name\": \"family\"}]"
                  ],
                  "xaxis": "x",
                  "y": [
                    280
                  ],
                  "yaxis": "y"
                },
                {
                  "alignmentgroup": "True",
                  "hovertemplate": "color=\"name\": \"science fiction\"}]<br>x=%{x}<br>y=%{y}<extra></extra>",
                  "legendgroup": "\"name\": \"science fiction\"}]",
                  "marker": {
                    "color": "#abaeab",
                    "pattern": {
                      "shape": ""
                    }
                  },
                  "name": "\"name\": \"science fiction\"}]",
                  "offsetgroup": "\"name\": \"science fiction\"}]",
                  "orientation": "v",
                  "showlegend": true,
                  "textposition": "auto",
                  "type": "bar",
                  "x": [
                    "\"name\": \"science fiction\"}]"
                  ],
                  "xaxis": "x",
                  "y": [
                    299
                  ],
                  "yaxis": "y"
                },
                {
                  "alignmentgroup": "True",
                  "hovertemplate": "color=[{\"id\": 27<br>x=%{x}<br>y=%{y}<extra></extra>",
                  "legendgroup": "[{\"id\": 27",
                  "marker": {
                    "color": "#abaeab",
                    "pattern": {
                      "shape": ""
                    }
                  },
                  "name": "[{\"id\": 27",
                  "offsetgroup": "[{\"id\": 27",
                  "orientation": "v",
                  "showlegend": true,
                  "textposition": "auto",
                  "type": "bar",
                  "x": [
                    "[{\"id\": 27"
                  ],
                  "xaxis": "x",
                  "y": [
                    301
                  ],
                  "yaxis": "y"
                },
                {
                  "alignmentgroup": "True",
                  "hovertemplate": "color=[{\"id\": 12<br>x=%{x}<br>y=%{y}<extra></extra>",
                  "legendgroup": "[{\"id\": 12",
                  "marker": {
                    "color": "#abaeab",
                    "pattern": {
                      "shape": ""
                    }
                  },
                  "name": "[{\"id\": 12",
                  "offsetgroup": "[{\"id\": 12",
                  "orientation": "v",
                  "showlegend": true,
                  "textposition": "auto",
                  "type": "bar",
                  "x": [
                    "[{\"id\": 12"
                  ],
                  "xaxis": "x",
                  "y": [
                    339
                  ],
                  "yaxis": "y"
                },
                {
                  "alignmentgroup": "True",
                  "hovertemplate": "color=\"name\": \"mystery\"}<br>x=%{x}<br>y=%{y}<extra></extra>",
                  "legendgroup": "\"name\": \"mystery\"}",
                  "marker": {
                    "color": "#abaeab",
                    "pattern": {
                      "shape": ""
                    }
                  },
                  "name": "\"name\": \"mystery\"}",
                  "offsetgroup": "\"name\": \"mystery\"}",
                  "orientation": "v",
                  "showlegend": true,
                  "textposition": "auto",
                  "type": "bar",
                  "x": [
                    "\"name\": \"mystery\"}"
                  ],
                  "xaxis": "x",
                  "y": [
                    348
                  ],
                  "yaxis": "y"
                },
                {
                  "alignmentgroup": "True",
                  "hovertemplate": "color={\"id\": 9648<br>x=%{x}<br>y=%{y}<extra></extra>",
                  "legendgroup": "{\"id\": 9648",
                  "marker": {
                    "color": "#abaeab",
                    "pattern": {
                      "shape": ""
                    }
                  },
                  "name": "{\"id\": 9648",
                  "offsetgroup": "{\"id\": 9648",
                  "orientation": "v",
                  "showlegend": true,
                  "textposition": "auto",
                  "type": "bar",
                  "x": [
                    "{\"id\": 9648"
                  ],
                  "xaxis": "x",
                  "y": [
                    348
                  ],
                  "yaxis": "y"
                },
                {
                  "alignmentgroup": "True",
                  "hovertemplate": "color=\"name\": \"fantasy\"}<br>x=%{x}<br>y=%{y}<extra></extra>",
                  "legendgroup": "\"name\": \"fantasy\"}",
                  "marker": {
                    "color": "#abaeab",
                    "pattern": {
                      "shape": ""
                    }
                  },
                  "name": "\"name\": \"fantasy\"}",
                  "offsetgroup": "\"name\": \"fantasy\"}",
                  "orientation": "v",
                  "showlegend": true,
                  "textposition": "auto",
                  "type": "bar",
                  "x": [
                    "\"name\": \"fantasy\"}"
                  ],
                  "xaxis": "x",
                  "y": [
                    425
                  ],
                  "yaxis": "y"
                },
                {
                  "alignmentgroup": "True",
                  "hovertemplate": "color={\"id\": 14<br>x=%{x}<br>y=%{y}<extra></extra>",
                  "legendgroup": "{\"id\": 14",
                  "marker": {
                    "color": "#abaeab",
                    "pattern": {
                      "shape": ""
                    }
                  },
                  "name": "{\"id\": 14",
                  "offsetgroup": "{\"id\": 14",
                  "orientation": "v",
                  "showlegend": true,
                  "textposition": "auto",
                  "type": "bar",
                  "x": [
                    "{\"id\": 14"
                  ],
                  "xaxis": "x",
                  "y": [
                    425
                  ],
                  "yaxis": "y"
                },
                {
                  "alignmentgroup": "True",
                  "hovertemplate": "color=\"name\": \"comedy\"}]<br>x=%{x}<br>y=%{y}<extra></extra>",
                  "legendgroup": "\"name\": \"comedy\"}]",
                  "marker": {
                    "color": "#abaeab",
                    "pattern": {
                      "shape": ""
                    }
                  },
                  "name": "\"name\": \"comedy\"}]",
                  "offsetgroup": "\"name\": \"comedy\"}]",
                  "orientation": "v",
                  "showlegend": true,
                  "textposition": "auto",
                  "type": "bar",
                  "x": [
                    "\"name\": \"comedy\"}]"
                  ],
                  "xaxis": "x",
                  "y": [
                    511
                  ],
                  "yaxis": "y"
                },
                {
                  "alignmentgroup": "True",
                  "hovertemplate": "color={\"id\": 10751<br>x=%{x}<br>y=%{y}<extra></extra>",
                  "legendgroup": "{\"id\": 10751",
                  "marker": {
                    "color": "#abaeab",
                    "pattern": {
                      "shape": ""
                    }
                  },
                  "name": "{\"id\": 10751",
                  "offsetgroup": "{\"id\": 10751",
                  "orientation": "v",
                  "showlegend": true,
                  "textposition": "auto",
                  "type": "bar",
                  "x": [
                    "{\"id\": 10751"
                  ],
                  "xaxis": "x",
                  "y": [
                    514
                  ],
                  "yaxis": "y"
                },
                {
                  "alignmentgroup": "True",
                  "hovertemplate": "color=\"name\": \"family\"}<br>x=%{x}<br>y=%{y}<extra></extra>",
                  "legendgroup": "\"name\": \"family\"}",
                  "marker": {
                    "color": "#abaeab",
                    "pattern": {
                      "shape": ""
                    }
                  },
                  "name": "\"name\": \"family\"}",
                  "offsetgroup": "\"name\": \"family\"}",
                  "orientation": "v",
                  "showlegend": true,
                  "textposition": "auto",
                  "type": "bar",
                  "x": [
                    "\"name\": \"family\"}"
                  ],
                  "xaxis": "x",
                  "y": [
                    514
                  ],
                  "yaxis": "y"
                },
                {
                  "alignmentgroup": "True",
                  "hovertemplate": "color={\"id\": 27<br>x=%{x}<br>y=%{y}<extra></extra>",
                  "legendgroup": "{\"id\": 27",
                  "marker": {
                    "color": "#abaeab",
                    "pattern": {
                      "shape": ""
                    }
                  },
                  "name": "{\"id\": 27",
                  "offsetgroup": "{\"id\": 27",
                  "orientation": "v",
                  "showlegend": true,
                  "textposition": "auto",
                  "type": "bar",
                  "x": [
                    "{\"id\": 27"
                  ],
                  "xaxis": "x",
                  "y": [
                    520
                  ],
                  "yaxis": "y"
                },
                {
                  "alignmentgroup": "True",
                  "hovertemplate": "color=\"name\": \"horror\"}<br>x=%{x}<br>y=%{y}<extra></extra>",
                  "legendgroup": "\"name\": \"horror\"}",
                  "marker": {
                    "color": "#abaeab",
                    "pattern": {
                      "shape": ""
                    }
                  },
                  "name": "\"name\": \"horror\"}",
                  "offsetgroup": "\"name\": \"horror\"}",
                  "orientation": "v",
                  "showlegend": true,
                  "textposition": "auto",
                  "type": "bar",
                  "x": [
                    "\"name\": \"horror\"}"
                  ],
                  "xaxis": "x",
                  "y": [
                    520
                  ],
                  "yaxis": "y"
                },
                {
                  "alignmentgroup": "True",
                  "hovertemplate": "color={\"id\": 878<br>x=%{x}<br>y=%{y}<extra></extra>",
                  "legendgroup": "{\"id\": 878",
                  "marker": {
                    "color": "#abaeab",
                    "pattern": {
                      "shape": ""
                    }
                  },
                  "name": "{\"id\": 878",
                  "offsetgroup": "{\"id\": 878",
                  "orientation": "v",
                  "showlegend": true,
                  "textposition": "auto",
                  "type": "bar",
                  "x": [
                    "{\"id\": 878"
                  ],
                  "xaxis": "x",
                  "y": [
                    538
                  ],
                  "yaxis": "y"
                },
                {
                  "alignmentgroup": "True",
                  "hovertemplate": "color=\"name\": \"science fiction\"}<br>x=%{x}<br>y=%{y}<extra></extra>",
                  "legendgroup": "\"name\": \"science fiction\"}",
                  "marker": {
                    "color": "#abaeab",
                    "pattern": {
                      "shape": ""
                    }
                  },
                  "name": "\"name\": \"science fiction\"}",
                  "offsetgroup": "\"name\": \"science fiction\"}",
                  "orientation": "v",
                  "showlegend": true,
                  "textposition": "auto",
                  "type": "bar",
                  "x": [
                    "\"name\": \"science fiction\"}"
                  ],
                  "xaxis": "x",
                  "y": [
                    538
                  ],
                  "yaxis": "y"
                },
                {
                  "alignmentgroup": "True",
                  "hovertemplate": "color=\"name\": \"romance\"}]<br>x=%{x}<br>y=%{y}<extra></extra>",
                  "legendgroup": "\"name\": \"romance\"}]",
                  "marker": {
                    "color": "#abaeab",
                    "pattern": {
                      "shape": ""
                    }
                  },
                  "name": "\"name\": \"romance\"}]",
                  "offsetgroup": "\"name\": \"romance\"}]",
                  "orientation": "v",
                  "showlegend": true,
                  "textposition": "auto",
                  "type": "bar",
                  "x": [
                    "\"name\": \"romance\"}]"
                  ],
                  "xaxis": "x",
                  "y": [
                    676
                  ],
                  "yaxis": "y"
                },
                {
                  "alignmentgroup": "True",
                  "hovertemplate": "color=\"name\": \"crime\"}<br>x=%{x}<br>y=%{y}<extra></extra>",
                  "legendgroup": "\"name\": \"crime\"}",
                  "marker": {
                    "color": "#abaeab",
                    "pattern": {
                      "shape": ""
                    }
                  },
                  "name": "\"name\": \"crime\"}",
                  "offsetgroup": "\"name\": \"crime\"}",
                  "orientation": "v",
                  "showlegend": true,
                  "textposition": "auto",
                  "type": "bar",
                  "x": [
                    "\"name\": \"crime\"}"
                  ],
                  "xaxis": "x",
                  "y": [
                    697
                  ],
                  "yaxis": "y"
                },
                {
                  "alignmentgroup": "True",
                  "hovertemplate": "color={\"id\": 80<br>x=%{x}<br>y=%{y}<extra></extra>",
                  "legendgroup": "{\"id\": 80",
                  "marker": {
                    "color": "#abaeab",
                    "pattern": {
                      "shape": ""
                    }
                  },
                  "name": "{\"id\": 80",
                  "offsetgroup": "{\"id\": 80",
                  "orientation": "v",
                  "showlegend": true,
                  "textposition": "auto",
                  "type": "bar",
                  "x": [
                    "{\"id\": 80"
                  ],
                  "xaxis": "x",
                  "y": [
                    697
                  ],
                  "yaxis": "y"
                },
                {
                  "alignmentgroup": "True",
                  "hovertemplate": "color=[{\"id\": 28<br>x=%{x}<br>y=%{y}<extra></extra>",
                  "legendgroup": "[{\"id\": 28",
                  "marker": {
                    "color": "#abaeab",
                    "pattern": {
                      "shape": ""
                    }
                  },
                  "name": "[{\"id\": 28",
                  "offsetgroup": "[{\"id\": 28",
                  "orientation": "v",
                  "showlegend": true,
                  "textposition": "auto",
                  "type": "bar",
                  "x": [
                    "[{\"id\": 28"
                  ],
                  "xaxis": "x",
                  "y": [
                    755
                  ],
                  "yaxis": "y"
                },
                {
                  "alignmentgroup": "True",
                  "hovertemplate": "color={\"id\": 12<br>x=%{x}<br>y=%{y}<extra></extra>",
                  "legendgroup": "{\"id\": 12",
                  "marker": {
                    "color": "#abaeab",
                    "pattern": {
                      "shape": ""
                    }
                  },
                  "name": "{\"id\": 12",
                  "offsetgroup": "{\"id\": 12",
                  "orientation": "v",
                  "showlegend": true,
                  "textposition": "auto",
                  "type": "bar",
                  "x": [
                    "{\"id\": 12"
                  ],
                  "xaxis": "x",
                  "y": [
                    792
                  ],
                  "yaxis": "y"
                },
                {
                  "alignmentgroup": "True",
                  "hovertemplate": "color=\"name\": \"adventure\"}<br>x=%{x}<br>y=%{y}<extra></extra>",
                  "legendgroup": "\"name\": \"adventure\"}",
                  "marker": {
                    "color": "#abaeab",
                    "pattern": {
                      "shape": ""
                    }
                  },
                  "name": "\"name\": \"adventure\"}",
                  "offsetgroup": "\"name\": \"adventure\"}",
                  "orientation": "v",
                  "showlegend": true,
                  "textposition": "auto",
                  "type": "bar",
                  "x": [
                    "\"name\": \"adventure\"}"
                  ],
                  "xaxis": "x",
                  "y": [
                    792
                  ],
                  "yaxis": "y"
                },
                {
                  "alignmentgroup": "True",
                  "hovertemplate": "color=\"name\": \"drama\"}]<br>x=%{x}<br>y=%{y}<extra></extra>",
                  "legendgroup": "\"name\": \"drama\"}]",
                  "marker": {
                    "color": "#abaeab",
                    "pattern": {
                      "shape": ""
                    }
                  },
                  "name": "\"name\": \"drama\"}]",
                  "offsetgroup": "\"name\": \"drama\"}]",
                  "orientation": "v",
                  "showlegend": true,
                  "textposition": "auto",
                  "type": "bar",
                  "x": [
                    "\"name\": \"drama\"}]"
                  ],
                  "xaxis": "x",
                  "y": [
                    795
                  ],
                  "yaxis": "y"
                },
                {
                  "alignmentgroup": "True",
                  "hovertemplate": "color=\"name\": \"thriller\"}]<br>x=%{x}<br>y=%{y}<extra></extra>",
                  "legendgroup": "\"name\": \"thriller\"}]",
                  "marker": {
                    "color": "#abaeab",
                    "pattern": {
                      "shape": ""
                    }
                  },
                  "name": "\"name\": \"thriller\"}]",
                  "offsetgroup": "\"name\": \"thriller\"}]",
                  "orientation": "v",
                  "showlegend": true,
                  "textposition": "auto",
                  "type": "bar",
                  "x": [
                    "\"name\": \"thriller\"}]"
                  ],
                  "xaxis": "x",
                  "y": [
                    827
                  ],
                  "yaxis": "y"
                },
                {
                  "alignmentgroup": "True",
                  "hovertemplate": "color={\"id\": 10749<br>x=%{x}<br>y=%{y}<extra></extra>",
                  "legendgroup": "{\"id\": 10749",
                  "marker": {
                    "color": "#abaeab",
                    "pattern": {
                      "shape": ""
                    }
                  },
                  "name": "{\"id\": 10749",
                  "offsetgroup": "{\"id\": 10749",
                  "orientation": "v",
                  "showlegend": true,
                  "textposition": "auto",
                  "type": "bar",
                  "x": [
                    "{\"id\": 10749"
                  ],
                  "xaxis": "x",
                  "y": [
                    895
                  ],
                  "yaxis": "y"
                },
                {
                  "alignmentgroup": "True",
                  "hovertemplate": "color=\"name\": \"romance\"}<br>x=%{x}<br>y=%{y}<extra></extra>",
                  "legendgroup": "\"name\": \"romance\"}",
                  "marker": {
                    "color": "#abaeab",
                    "pattern": {
                      "shape": ""
                    }
                  },
                  "name": "\"name\": \"romance\"}",
                  "offsetgroup": "\"name\": \"romance\"}",
                  "orientation": "v",
                  "showlegend": true,
                  "textposition": "auto",
                  "type": "bar",
                  "x": [
                    "\"name\": \"romance\"}"
                  ],
                  "xaxis": "x",
                  "y": [
                    895
                  ],
                  "yaxis": "y"
                },
                {
                  "alignmentgroup": "True",
                  "hovertemplate": "color=[{\"id\": 35<br>x=%{x}<br>y=%{y}<extra></extra>",
                  "legendgroup": "[{\"id\": 35",
                  "marker": {
                    "color": "#A0E045",
                    "pattern": {
                      "shape": ""
                    }
                  },
                  "name": "[{\"id\": 35",
                  "offsetgroup": "[{\"id\": 35",
                  "orientation": "v",
                  "showlegend": true,
                  "textposition": "auto",
                  "type": "bar",
                  "x": [
                    "[{\"id\": 35"
                  ],
                  "xaxis": "x",
                  "y": [
                    1042
                  ],
                  "yaxis": "y"
                },
                {
                  "alignmentgroup": "True",
                  "hovertemplate": "color=\"name\": \"action\"}<br>x=%{x}<br>y=%{y}<extra></extra>",
                  "legendgroup": "\"name\": \"action\"}",
                  "marker": {
                    "color": "#A0E045",
                    "pattern": {
                      "shape": ""
                    }
                  },
                  "name": "\"name\": \"action\"}",
                  "offsetgroup": "\"name\": \"action\"}",
                  "orientation": "v",
                  "showlegend": true,
                  "textposition": "auto",
                  "type": "bar",
                  "x": [
                    "\"name\": \"action\"}"
                  ],
                  "xaxis": "x",
                  "y": [
                    1156
                  ],
                  "yaxis": "y"
                },
                {
                  "alignmentgroup": "True",
                  "hovertemplate": "color={\"id\": 28<br>x=%{x}<br>y=%{y}<extra></extra>",
                  "legendgroup": "{\"id\": 28",
                  "marker": {
                    "color": "#A0E045",
                    "pattern": {
                      "shape": ""
                    }
                  },
                  "name": "{\"id\": 28",
                  "offsetgroup": "{\"id\": 28",
                  "orientation": "v",
                  "showlegend": true,
                  "textposition": "auto",
                  "type": "bar",
                  "x": [
                    "{\"id\": 28"
                  ],
                  "xaxis": "x",
                  "y": [
                    1156
                  ],
                  "yaxis": "y"
                },
                {
                  "alignmentgroup": "True",
                  "hovertemplate": "color=[{\"id\": 18<br>x=%{x}<br>y=%{y}<extra></extra>",
                  "legendgroup": "[{\"id\": 18",
                  "marker": {
                    "color": "#A0E045",
                    "pattern": {
                      "shape": ""
                    }
                  },
                  "name": "[{\"id\": 18",
                  "offsetgroup": "[{\"id\": 18",
                  "orientation": "v",
                  "showlegend": true,
                  "textposition": "auto",
                  "type": "bar",
                  "x": [
                    "[{\"id\": 18"
                  ],
                  "xaxis": "x",
                  "y": [
                    1208
                  ],
                  "yaxis": "y"
                },
                {
                  "alignmentgroup": "True",
                  "hovertemplate": "color={\"id\": 53<br>x=%{x}<br>y=%{y}<extra></extra>",
                  "legendgroup": "{\"id\": 53",
                  "marker": {
                    "color": "#A0E045",
                    "pattern": {
                      "shape": ""
                    }
                  },
                  "name": "{\"id\": 53",
                  "offsetgroup": "{\"id\": 53",
                  "orientation": "v",
                  "showlegend": true,
                  "textposition": "auto",
                  "type": "bar",
                  "x": [
                    "{\"id\": 53"
                  ],
                  "xaxis": "x",
                  "y": [
                    1275
                  ],
                  "yaxis": "y"
                },
                {
                  "alignmentgroup": "True",
                  "hovertemplate": "color=\"name\": \"thriller\"}<br>x=%{x}<br>y=%{y}<extra></extra>",
                  "legendgroup": "\"name\": \"thriller\"}",
                  "marker": {
                    "color": "#A0E045",
                    "pattern": {
                      "shape": ""
                    }
                  },
                  "name": "\"name\": \"thriller\"}",
                  "offsetgroup": "\"name\": \"thriller\"}",
                  "orientation": "v",
                  "showlegend": true,
                  "textposition": "auto",
                  "type": "bar",
                  "x": [
                    "\"name\": \"thriller\"}"
                  ],
                  "xaxis": "x",
                  "y": [
                    1275
                  ],
                  "yaxis": "y"
                },
                {
                  "alignmentgroup": "True",
                  "hovertemplate": "color=\"name\": \"comedy\"}<br>x=%{x}<br>y=%{y}<extra></extra>",
                  "legendgroup": "\"name\": \"comedy\"}",
                  "marker": {
                    "color": "#A0E045",
                    "pattern": {
                      "shape": ""
                    }
                  },
                  "name": "\"name\": \"comedy\"}",
                  "offsetgroup": "\"name\": \"comedy\"}",
                  "orientation": "v",
                  "showlegend": true,
                  "textposition": "auto",
                  "type": "bar",
                  "x": [
                    "\"name\": \"comedy\"}"
                  ],
                  "xaxis": "x",
                  "y": [
                    1723
                  ],
                  "yaxis": "y"
                },
                {
                  "alignmentgroup": "True",
                  "hovertemplate": "color={\"id\": 35<br>x=%{x}<br>y=%{y}<extra></extra>",
                  "legendgroup": "{\"id\": 35",
                  "marker": {
                    "color": "#A0E045",
                    "pattern": {
                      "shape": ""
                    }
                  },
                  "name": "{\"id\": 35",
                  "offsetgroup": "{\"id\": 35",
                  "orientation": "v",
                  "showlegend": true,
                  "textposition": "auto",
                  "type": "bar",
                  "x": [
                    "{\"id\": 35"
                  ],
                  "xaxis": "x",
                  "y": [
                    1723
                  ],
                  "yaxis": "y"
                },
                {
                  "alignmentgroup": "True",
                  "hovertemplate": "color={\"id\": 18<br>x=%{x}<br>y=%{y}<extra></extra>",
                  "legendgroup": "{\"id\": 18",
                  "marker": {
                    "color": "#A0E045",
                    "pattern": {
                      "shape": ""
                    }
                  },
                  "name": "{\"id\": 18",
                  "offsetgroup": "{\"id\": 18",
                  "orientation": "v",
                  "showlegend": true,
                  "textposition": "auto",
                  "type": "bar",
                  "x": [
                    "{\"id\": 18"
                  ],
                  "xaxis": "x",
                  "y": [
                    2299
                  ],
                  "yaxis": "y"
                },
                {
                  "alignmentgroup": "True",
                  "hovertemplate": "color=\"name\": \"drama\"}<br>x=%{x}<br>y=%{y}<extra></extra>",
                  "legendgroup": "\"name\": \"drama\"}",
                  "marker": {
                    "color": "#A0E045",
                    "pattern": {
                      "shape": ""
                    }
                  },
                  "name": "\"name\": \"drama\"}",
                  "offsetgroup": "\"name\": \"drama\"}",
                  "orientation": "v",
                  "showlegend": true,
                  "textposition": "auto",
                  "type": "bar",
                  "x": [
                    "\"name\": \"drama\"}"
                  ],
                  "xaxis": "x",
                  "y": [
                    2299
                  ],
                  "yaxis": "y"
                }
              ],
              "layout": {
                "barmode": "relative",
                "legend": {
                  "title": {
                    "text": "color"
                  },
                  "tracegroupgap": 0
                },
                "template": {
                  "data": {
                    "bar": [
                      {
                        "error_x": {
                          "color": "#2a3f5f"
                        },
                        "error_y": {
                          "color": "#2a3f5f"
                        },
                        "marker": {
                          "line": {
                            "color": "#E5ECF6",
                            "width": 0.5
                          },
                          "pattern": {
                            "fillmode": "overlay",
                            "size": 10,
                            "solidity": 0.2
                          }
                        },
                        "type": "bar"
                      }
                    ],
                    "barpolar": [
                      {
                        "marker": {
                          "line": {
                            "color": "#E5ECF6",
                            "width": 0.5
                          },
                          "pattern": {
                            "fillmode": "overlay",
                            "size": 10,
                            "solidity": 0.2
                          }
                        },
                        "type": "barpolar"
                      }
                    ],
                    "carpet": [
                      {
                        "aaxis": {
                          "endlinecolor": "#2a3f5f",
                          "gridcolor": "white",
                          "linecolor": "white",
                          "minorgridcolor": "white",
                          "startlinecolor": "#2a3f5f"
                        },
                        "baxis": {
                          "endlinecolor": "#2a3f5f",
                          "gridcolor": "white",
                          "linecolor": "white",
                          "minorgridcolor": "white",
                          "startlinecolor": "#2a3f5f"
                        },
                        "type": "carpet"
                      }
                    ],
                    "choropleth": [
                      {
                        "colorbar": {
                          "outlinewidth": 0,
                          "ticks": ""
                        },
                        "type": "choropleth"
                      }
                    ],
                    "contour": [
                      {
                        "colorbar": {
                          "outlinewidth": 0,
                          "ticks": ""
                        },
                        "colorscale": [
                          [
                            0,
                            "#0d0887"
                          ],
                          [
                            0.1111111111111111,
                            "#46039f"
                          ],
                          [
                            0.2222222222222222,
                            "#7201a8"
                          ],
                          [
                            0.3333333333333333,
                            "#9c179e"
                          ],
                          [
                            0.4444444444444444,
                            "#bd3786"
                          ],
                          [
                            0.5555555555555556,
                            "#d8576b"
                          ],
                          [
                            0.6666666666666666,
                            "#ed7953"
                          ],
                          [
                            0.7777777777777778,
                            "#fb9f3a"
                          ],
                          [
                            0.8888888888888888,
                            "#fdca26"
                          ],
                          [
                            1,
                            "#f0f921"
                          ]
                        ],
                        "type": "contour"
                      }
                    ],
                    "contourcarpet": [
                      {
                        "colorbar": {
                          "outlinewidth": 0,
                          "ticks": ""
                        },
                        "type": "contourcarpet"
                      }
                    ],
                    "heatmap": [
                      {
                        "colorbar": {
                          "outlinewidth": 0,
                          "ticks": ""
                        },
                        "colorscale": [
                          [
                            0,
                            "#0d0887"
                          ],
                          [
                            0.1111111111111111,
                            "#46039f"
                          ],
                          [
                            0.2222222222222222,
                            "#7201a8"
                          ],
                          [
                            0.3333333333333333,
                            "#9c179e"
                          ],
                          [
                            0.4444444444444444,
                            "#bd3786"
                          ],
                          [
                            0.5555555555555556,
                            "#d8576b"
                          ],
                          [
                            0.6666666666666666,
                            "#ed7953"
                          ],
                          [
                            0.7777777777777778,
                            "#fb9f3a"
                          ],
                          [
                            0.8888888888888888,
                            "#fdca26"
                          ],
                          [
                            1,
                            "#f0f921"
                          ]
                        ],
                        "type": "heatmap"
                      }
                    ],
                    "heatmapgl": [
                      {
                        "colorbar": {
                          "outlinewidth": 0,
                          "ticks": ""
                        },
                        "colorscale": [
                          [
                            0,
                            "#0d0887"
                          ],
                          [
                            0.1111111111111111,
                            "#46039f"
                          ],
                          [
                            0.2222222222222222,
                            "#7201a8"
                          ],
                          [
                            0.3333333333333333,
                            "#9c179e"
                          ],
                          [
                            0.4444444444444444,
                            "#bd3786"
                          ],
                          [
                            0.5555555555555556,
                            "#d8576b"
                          ],
                          [
                            0.6666666666666666,
                            "#ed7953"
                          ],
                          [
                            0.7777777777777778,
                            "#fb9f3a"
                          ],
                          [
                            0.8888888888888888,
                            "#fdca26"
                          ],
                          [
                            1,
                            "#f0f921"
                          ]
                        ],
                        "type": "heatmapgl"
                      }
                    ],
                    "histogram": [
                      {
                        "marker": {
                          "pattern": {
                            "fillmode": "overlay",
                            "size": 10,
                            "solidity": 0.2
                          }
                        },
                        "type": "histogram"
                      }
                    ],
                    "histogram2d": [
                      {
                        "colorbar": {
                          "outlinewidth": 0,
                          "ticks": ""
                        },
                        "colorscale": [
                          [
                            0,
                            "#0d0887"
                          ],
                          [
                            0.1111111111111111,
                            "#46039f"
                          ],
                          [
                            0.2222222222222222,
                            "#7201a8"
                          ],
                          [
                            0.3333333333333333,
                            "#9c179e"
                          ],
                          [
                            0.4444444444444444,
                            "#bd3786"
                          ],
                          [
                            0.5555555555555556,
                            "#d8576b"
                          ],
                          [
                            0.6666666666666666,
                            "#ed7953"
                          ],
                          [
                            0.7777777777777778,
                            "#fb9f3a"
                          ],
                          [
                            0.8888888888888888,
                            "#fdca26"
                          ],
                          [
                            1,
                            "#f0f921"
                          ]
                        ],
                        "type": "histogram2d"
                      }
                    ],
                    "histogram2dcontour": [
                      {
                        "colorbar": {
                          "outlinewidth": 0,
                          "ticks": ""
                        },
                        "colorscale": [
                          [
                            0,
                            "#0d0887"
                          ],
                          [
                            0.1111111111111111,
                            "#46039f"
                          ],
                          [
                            0.2222222222222222,
                            "#7201a8"
                          ],
                          [
                            0.3333333333333333,
                            "#9c179e"
                          ],
                          [
                            0.4444444444444444,
                            "#bd3786"
                          ],
                          [
                            0.5555555555555556,
                            "#d8576b"
                          ],
                          [
                            0.6666666666666666,
                            "#ed7953"
                          ],
                          [
                            0.7777777777777778,
                            "#fb9f3a"
                          ],
                          [
                            0.8888888888888888,
                            "#fdca26"
                          ],
                          [
                            1,
                            "#f0f921"
                          ]
                        ],
                        "type": "histogram2dcontour"
                      }
                    ],
                    "mesh3d": [
                      {
                        "colorbar": {
                          "outlinewidth": 0,
                          "ticks": ""
                        },
                        "type": "mesh3d"
                      }
                    ],
                    "parcoords": [
                      {
                        "line": {
                          "colorbar": {
                            "outlinewidth": 0,
                            "ticks": ""
                          }
                        },
                        "type": "parcoords"
                      }
                    ],
                    "pie": [
                      {
                        "automargin": true,
                        "type": "pie"
                      }
                    ],
                    "scatter": [
                      {
                        "fillpattern": {
                          "fillmode": "overlay",
                          "size": 10,
                          "solidity": 0.2
                        },
                        "type": "scatter"
                      }
                    ],
                    "scatter3d": [
                      {
                        "line": {
                          "colorbar": {
                            "outlinewidth": 0,
                            "ticks": ""
                          }
                        },
                        "marker": {
                          "colorbar": {
                            "outlinewidth": 0,
                            "ticks": ""
                          }
                        },
                        "type": "scatter3d"
                      }
                    ],
                    "scattercarpet": [
                      {
                        "marker": {
                          "colorbar": {
                            "outlinewidth": 0,
                            "ticks": ""
                          }
                        },
                        "type": "scattercarpet"
                      }
                    ],
                    "scattergeo": [
                      {
                        "marker": {
                          "colorbar": {
                            "outlinewidth": 0,
                            "ticks": ""
                          }
                        },
                        "type": "scattergeo"
                      }
                    ],
                    "scattergl": [
                      {
                        "marker": {
                          "colorbar": {
                            "outlinewidth": 0,
                            "ticks": ""
                          }
                        },
                        "type": "scattergl"
                      }
                    ],
                    "scattermapbox": [
                      {
                        "marker": {
                          "colorbar": {
                            "outlinewidth": 0,
                            "ticks": ""
                          }
                        },
                        "type": "scattermapbox"
                      }
                    ],
                    "scatterpolar": [
                      {
                        "marker": {
                          "colorbar": {
                            "outlinewidth": 0,
                            "ticks": ""
                          }
                        },
                        "type": "scatterpolar"
                      }
                    ],
                    "scatterpolargl": [
                      {
                        "marker": {
                          "colorbar": {
                            "outlinewidth": 0,
                            "ticks": ""
                          }
                        },
                        "type": "scatterpolargl"
                      }
                    ],
                    "scatterternary": [
                      {
                        "marker": {
                          "colorbar": {
                            "outlinewidth": 0,
                            "ticks": ""
                          }
                        },
                        "type": "scatterternary"
                      }
                    ],
                    "surface": [
                      {
                        "colorbar": {
                          "outlinewidth": 0,
                          "ticks": ""
                        },
                        "colorscale": [
                          [
                            0,
                            "#0d0887"
                          ],
                          [
                            0.1111111111111111,
                            "#46039f"
                          ],
                          [
                            0.2222222222222222,
                            "#7201a8"
                          ],
                          [
                            0.3333333333333333,
                            "#9c179e"
                          ],
                          [
                            0.4444444444444444,
                            "#bd3786"
                          ],
                          [
                            0.5555555555555556,
                            "#d8576b"
                          ],
                          [
                            0.6666666666666666,
                            "#ed7953"
                          ],
                          [
                            0.7777777777777778,
                            "#fb9f3a"
                          ],
                          [
                            0.8888888888888888,
                            "#fdca26"
                          ],
                          [
                            1,
                            "#f0f921"
                          ]
                        ],
                        "type": "surface"
                      }
                    ],
                    "table": [
                      {
                        "cells": {
                          "fill": {
                            "color": "#EBF0F8"
                          },
                          "line": {
                            "color": "white"
                          }
                        },
                        "header": {
                          "fill": {
                            "color": "#C8D4E3"
                          },
                          "line": {
                            "color": "white"
                          }
                        },
                        "type": "table"
                      }
                    ]
                  },
                  "layout": {
                    "annotationdefaults": {
                      "arrowcolor": "#2a3f5f",
                      "arrowhead": 0,
                      "arrowwidth": 1
                    },
                    "autotypenumbers": "strict",
                    "coloraxis": {
                      "colorbar": {
                        "outlinewidth": 0,
                        "ticks": ""
                      }
                    },
                    "colorscale": {
                      "diverging": [
                        [
                          0,
                          "#8e0152"
                        ],
                        [
                          0.1,
                          "#c51b7d"
                        ],
                        [
                          0.2,
                          "#de77ae"
                        ],
                        [
                          0.3,
                          "#f1b6da"
                        ],
                        [
                          0.4,
                          "#fde0ef"
                        ],
                        [
                          0.5,
                          "#f7f7f7"
                        ],
                        [
                          0.6,
                          "#e6f5d0"
                        ],
                        [
                          0.7,
                          "#b8e186"
                        ],
                        [
                          0.8,
                          "#7fbc41"
                        ],
                        [
                          0.9,
                          "#4d9221"
                        ],
                        [
                          1,
                          "#276419"
                        ]
                      ],
                      "sequential": [
                        [
                          0,
                          "#0d0887"
                        ],
                        [
                          0.1111111111111111,
                          "#46039f"
                        ],
                        [
                          0.2222222222222222,
                          "#7201a8"
                        ],
                        [
                          0.3333333333333333,
                          "#9c179e"
                        ],
                        [
                          0.4444444444444444,
                          "#bd3786"
                        ],
                        [
                          0.5555555555555556,
                          "#d8576b"
                        ],
                        [
                          0.6666666666666666,
                          "#ed7953"
                        ],
                        [
                          0.7777777777777778,
                          "#fb9f3a"
                        ],
                        [
                          0.8888888888888888,
                          "#fdca26"
                        ],
                        [
                          1,
                          "#f0f921"
                        ]
                      ],
                      "sequentialminus": [
                        [
                          0,
                          "#0d0887"
                        ],
                        [
                          0.1111111111111111,
                          "#46039f"
                        ],
                        [
                          0.2222222222222222,
                          "#7201a8"
                        ],
                        [
                          0.3333333333333333,
                          "#9c179e"
                        ],
                        [
                          0.4444444444444444,
                          "#bd3786"
                        ],
                        [
                          0.5555555555555556,
                          "#d8576b"
                        ],
                        [
                          0.6666666666666666,
                          "#ed7953"
                        ],
                        [
                          0.7777777777777778,
                          "#fb9f3a"
                        ],
                        [
                          0.8888888888888888,
                          "#fdca26"
                        ],
                        [
                          1,
                          "#f0f921"
                        ]
                      ]
                    },
                    "colorway": [
                      "#636efa",
                      "#EF553B",
                      "#00cc96",
                      "#ab63fa",
                      "#FFA15A",
                      "#19d3f3",
                      "#FF6692",
                      "#B6E880",
                      "#FF97FF",
                      "#FECB52"
                    ],
                    "font": {
                      "color": "#2a3f5f"
                    },
                    "geo": {
                      "bgcolor": "white",
                      "lakecolor": "white",
                      "landcolor": "#E5ECF6",
                      "showlakes": true,
                      "showland": true,
                      "subunitcolor": "white"
                    },
                    "hoverlabel": {
                      "align": "left"
                    },
                    "hovermode": "closest",
                    "mapbox": {
                      "style": "light"
                    },
                    "paper_bgcolor": "white",
                    "plot_bgcolor": "#E5ECF6",
                    "polar": {
                      "angularaxis": {
                        "gridcolor": "white",
                        "linecolor": "white",
                        "ticks": ""
                      },
                      "bgcolor": "#E5ECF6",
                      "radialaxis": {
                        "gridcolor": "white",
                        "linecolor": "white",
                        "ticks": ""
                      }
                    },
                    "scene": {
                      "xaxis": {
                        "backgroundcolor": "#E5ECF6",
                        "gridcolor": "white",
                        "gridwidth": 2,
                        "linecolor": "white",
                        "showbackground": true,
                        "ticks": "",
                        "zerolinecolor": "white"
                      },
                      "yaxis": {
                        "backgroundcolor": "#E5ECF6",
                        "gridcolor": "white",
                        "gridwidth": 2,
                        "linecolor": "white",
                        "showbackground": true,
                        "ticks": "",
                        "zerolinecolor": "white"
                      },
                      "zaxis": {
                        "backgroundcolor": "#E5ECF6",
                        "gridcolor": "white",
                        "gridwidth": 2,
                        "linecolor": "white",
                        "showbackground": true,
                        "ticks": "",
                        "zerolinecolor": "white"
                      }
                    },
                    "shapedefaults": {
                      "line": {
                        "color": "#2a3f5f"
                      }
                    },
                    "ternary": {
                      "aaxis": {
                        "gridcolor": "white",
                        "linecolor": "white",
                        "ticks": ""
                      },
                      "baxis": {
                        "gridcolor": "white",
                        "linecolor": "white",
                        "ticks": ""
                      },
                      "bgcolor": "#E5ECF6",
                      "caxis": {
                        "gridcolor": "white",
                        "linecolor": "white",
                        "ticks": ""
                      }
                    },
                    "title": {
                      "x": 0.05
                    },
                    "xaxis": {
                      "automargin": true,
                      "gridcolor": "white",
                      "linecolor": "white",
                      "ticks": "",
                      "title": {
                        "standoff": 15
                      },
                      "zerolinecolor": "white",
                      "zerolinewidth": 2
                    },
                    "yaxis": {
                      "automargin": true,
                      "gridcolor": "white",
                      "linecolor": "white",
                      "ticks": "",
                      "title": {
                        "standoff": 15
                      },
                      "zerolinecolor": "white",
                      "zerolinewidth": 2
                    }
                  }
                },
                "title": {
                  "text": "Most Popular Genre"
                },
                "xaxis": {
                  "anchor": "y",
                  "domain": [
                    0,
                    1
                  ],
                  "title": {
                    "text": "x"
                  }
                },
                "yaxis": {
                  "anchor": "x",
                  "domain": [
                    0,
                    1
                  ],
                  "title": {
                    "text": "y"
                  }
                }
              }
            }
          },
          "metadata": {},
          "output_type": "display_data"
        }
      ],
      "source": [
        "import plotly.express as px\n",
        "base_counts = get_counts(data, 'genres', genres)\n",
        "base_counts = pd.DataFrame(index=base_counts.keys(),\n",
        "                           data=base_counts.values(),\n",
        "                           columns=['Counts'])\n",
        "base_counts.sort_values(by='Counts', inplace=True)\n",
        "# Plot the chart which shows top genres and separate by color where genre<1000\n",
        "colors=['#abaeab' if i<1000 else '#A0E045' for i in  base_counts.Counts]\n",
        "fig = px.bar(x=base_counts.index,\n",
        "             y=base_counts['Counts'],\n",
        "             title='Most Popular Genre',color_discrete_sequence=colors,color=base_counts.index)\n",
        "fig.show()"
      ]
    },
    {
      "cell_type": "code",
      "execution_count": 93,
      "metadata": {
        "colab": {
          "base_uri": "https://localhost:8080/",
          "height": 542
        },
        "id": "Lk1UA6FehKfx",
        "outputId": "8c0aebf7-6115-47c1-b4ff-0ae12273421b"
      },
      "outputs": [
        {
          "data": {
            "application/vnd.plotly.v1+json": {
              "config": {
                "plotlyServerURL": "https://plot.ly"
              },
              "data": [
                {
                  "alignmentgroup": "True",
                  "hovertemplate": "year=%{marker.color}<br>count=%{y}<extra></extra>",
                  "legendgroup": "",
                  "marker": {
                    "color": [
                      2009,
                      2006,
                      2014,
                      2013,
                      2008,
                      2010,
                      2011,
                      2005,
                      2015,
                      2012,
                      2004,
                      2002,
                      2007,
                      2001,
                      1999,
                      2003,
                      2000,
                      1998,
                      1997,
                      2016,
                      1996,
                      1995,
                      1994,
                      1993,
                      1992,
                      1989,
                      1981,
                      1987,
                      1988,
                      1991,
                      1990,
                      1984,
                      1985,
                      1986,
                      1982,
                      1980,
                      1983,
                      1979,
                      1977,
                      1978,
                      1970,
                      1964,
                      1969,
                      1968,
                      1971,
                      1976,
                      1973,
                      1972,
                      1965,
                      1963,
                      1974,
                      1966,
                      1962,
                      1975,
                      1961,
                      1940,
                      1945,
                      1954,
                      1953,
                      1952,
                      1967,
                      1946,
                      1959,
                      1947,
                      1956,
                      1960,
                      1939,
                      1948,
                      1951,
                      1938,
                      1933,
                      1929,
                      1942,
                      1955,
                      1936,
                      1949,
                      1957,
                      1944,
                      1937,
                      1958,
                      1950,
                      2017,
                      1941,
                      1930,
                      1927,
                      1935,
                      1932,
                      1916,
                      1934,
                      1925
                    ],
                    "coloraxis": "coloraxis",
                    "pattern": {
                      "shape": ""
                    }
                  },
                  "name": "",
                  "offsetgroup": "",
                  "orientation": "v",
                  "showlegend": false,
                  "textposition": "auto",
                  "type": "bar",
                  "x": [
                    2009,
                    2006,
                    2014,
                    2013,
                    2008,
                    2010,
                    2011,
                    2005,
                    2015,
                    2012,
                    2004,
                    2002,
                    2007,
                    2001,
                    1999,
                    2003,
                    2000,
                    1998,
                    1997,
                    2016,
                    1996,
                    1995,
                    1994,
                    1993,
                    1992,
                    1989,
                    1981,
                    1987,
                    1988,
                    1991,
                    1990,
                    1984,
                    1985,
                    1986,
                    1982,
                    1980,
                    1983,
                    1979,
                    1977,
                    1978,
                    1970,
                    1964,
                    1969,
                    1968,
                    1971,
                    1976,
                    1973,
                    1972,
                    1965,
                    1963,
                    1974,
                    1966,
                    1962,
                    1975,
                    1961,
                    1940,
                    1945,
                    1954,
                    1953,
                    1952,
                    1967,
                    1946,
                    1959,
                    1947,
                    1956,
                    1960,
                    1939,
                    1948,
                    1951,
                    1938,
                    1933,
                    1929,
                    1942,
                    1955,
                    1936,
                    1949,
                    1957,
                    1944,
                    1937,
                    1958,
                    1950,
                    2017,
                    1941,
                    1930,
                    1927,
                    1935,
                    1932,
                    1916,
                    1934,
                    1925
                  ],
                  "xaxis": "x",
                  "y": [
                    247,
                    239,
                    237,
                    232,
                    227,
                    225,
                    223,
                    217,
                    214,
                    208,
                    204,
                    203,
                    195,
                    183,
                    171,
                    169,
                    166,
                    133,
                    112,
                    104,
                    97,
                    70,
                    55,
                    47,
                    34,
                    33,
                    33,
                    31,
                    31,
                    30,
                    29,
                    28,
                    28,
                    26,
                    24,
                    23,
                    23,
                    16,
                    16,
                    14,
                    12,
                    10,
                    10,
                    10,
                    10,
                    9,
                    9,
                    9,
                    8,
                    8,
                    8,
                    7,
                    7,
                    6,
                    5,
                    5,
                    4,
                    4,
                    4,
                    4,
                    4,
                    3,
                    3,
                    3,
                    3,
                    3,
                    3,
                    3,
                    3,
                    2,
                    2,
                    2,
                    2,
                    2,
                    2,
                    2,
                    2,
                    2,
                    2,
                    1,
                    1,
                    1,
                    1,
                    1,
                    1,
                    1,
                    1,
                    1,
                    1,
                    1
                  ],
                  "yaxis": "y"
                }
              ],
              "layout": {
                "barmode": "relative",
                "coloraxis": {
                  "colorbar": {
                    "title": {
                      "text": "year"
                    }
                  },
                  "colorscale": [
                    [
                      0,
                      "#0d0887"
                    ],
                    [
                      0.1111111111111111,
                      "#46039f"
                    ],
                    [
                      0.2222222222222222,
                      "#7201a8"
                    ],
                    [
                      0.3333333333333333,
                      "#9c179e"
                    ],
                    [
                      0.4444444444444444,
                      "#bd3786"
                    ],
                    [
                      0.5555555555555556,
                      "#d8576b"
                    ],
                    [
                      0.6666666666666666,
                      "#ed7953"
                    ],
                    [
                      0.7777777777777778,
                      "#fb9f3a"
                    ],
                    [
                      0.8888888888888888,
                      "#fdca26"
                    ],
                    [
                      1,
                      "#f0f921"
                    ]
                  ]
                },
                "legend": {
                  "tracegroupgap": 0
                },
                "template": {
                  "data": {
                    "bar": [
                      {
                        "error_x": {
                          "color": "#2a3f5f"
                        },
                        "error_y": {
                          "color": "#2a3f5f"
                        },
                        "marker": {
                          "line": {
                            "color": "#E5ECF6",
                            "width": 0.5
                          },
                          "pattern": {
                            "fillmode": "overlay",
                            "size": 10,
                            "solidity": 0.2
                          }
                        },
                        "type": "bar"
                      }
                    ],
                    "barpolar": [
                      {
                        "marker": {
                          "line": {
                            "color": "#E5ECF6",
                            "width": 0.5
                          },
                          "pattern": {
                            "fillmode": "overlay",
                            "size": 10,
                            "solidity": 0.2
                          }
                        },
                        "type": "barpolar"
                      }
                    ],
                    "carpet": [
                      {
                        "aaxis": {
                          "endlinecolor": "#2a3f5f",
                          "gridcolor": "white",
                          "linecolor": "white",
                          "minorgridcolor": "white",
                          "startlinecolor": "#2a3f5f"
                        },
                        "baxis": {
                          "endlinecolor": "#2a3f5f",
                          "gridcolor": "white",
                          "linecolor": "white",
                          "minorgridcolor": "white",
                          "startlinecolor": "#2a3f5f"
                        },
                        "type": "carpet"
                      }
                    ],
                    "choropleth": [
                      {
                        "colorbar": {
                          "outlinewidth": 0,
                          "ticks": ""
                        },
                        "type": "choropleth"
                      }
                    ],
                    "contour": [
                      {
                        "colorbar": {
                          "outlinewidth": 0,
                          "ticks": ""
                        },
                        "colorscale": [
                          [
                            0,
                            "#0d0887"
                          ],
                          [
                            0.1111111111111111,
                            "#46039f"
                          ],
                          [
                            0.2222222222222222,
                            "#7201a8"
                          ],
                          [
                            0.3333333333333333,
                            "#9c179e"
                          ],
                          [
                            0.4444444444444444,
                            "#bd3786"
                          ],
                          [
                            0.5555555555555556,
                            "#d8576b"
                          ],
                          [
                            0.6666666666666666,
                            "#ed7953"
                          ],
                          [
                            0.7777777777777778,
                            "#fb9f3a"
                          ],
                          [
                            0.8888888888888888,
                            "#fdca26"
                          ],
                          [
                            1,
                            "#f0f921"
                          ]
                        ],
                        "type": "contour"
                      }
                    ],
                    "contourcarpet": [
                      {
                        "colorbar": {
                          "outlinewidth": 0,
                          "ticks": ""
                        },
                        "type": "contourcarpet"
                      }
                    ],
                    "heatmap": [
                      {
                        "colorbar": {
                          "outlinewidth": 0,
                          "ticks": ""
                        },
                        "colorscale": [
                          [
                            0,
                            "#0d0887"
                          ],
                          [
                            0.1111111111111111,
                            "#46039f"
                          ],
                          [
                            0.2222222222222222,
                            "#7201a8"
                          ],
                          [
                            0.3333333333333333,
                            "#9c179e"
                          ],
                          [
                            0.4444444444444444,
                            "#bd3786"
                          ],
                          [
                            0.5555555555555556,
                            "#d8576b"
                          ],
                          [
                            0.6666666666666666,
                            "#ed7953"
                          ],
                          [
                            0.7777777777777778,
                            "#fb9f3a"
                          ],
                          [
                            0.8888888888888888,
                            "#fdca26"
                          ],
                          [
                            1,
                            "#f0f921"
                          ]
                        ],
                        "type": "heatmap"
                      }
                    ],
                    "heatmapgl": [
                      {
                        "colorbar": {
                          "outlinewidth": 0,
                          "ticks": ""
                        },
                        "colorscale": [
                          [
                            0,
                            "#0d0887"
                          ],
                          [
                            0.1111111111111111,
                            "#46039f"
                          ],
                          [
                            0.2222222222222222,
                            "#7201a8"
                          ],
                          [
                            0.3333333333333333,
                            "#9c179e"
                          ],
                          [
                            0.4444444444444444,
                            "#bd3786"
                          ],
                          [
                            0.5555555555555556,
                            "#d8576b"
                          ],
                          [
                            0.6666666666666666,
                            "#ed7953"
                          ],
                          [
                            0.7777777777777778,
                            "#fb9f3a"
                          ],
                          [
                            0.8888888888888888,
                            "#fdca26"
                          ],
                          [
                            1,
                            "#f0f921"
                          ]
                        ],
                        "type": "heatmapgl"
                      }
                    ],
                    "histogram": [
                      {
                        "marker": {
                          "pattern": {
                            "fillmode": "overlay",
                            "size": 10,
                            "solidity": 0.2
                          }
                        },
                        "type": "histogram"
                      }
                    ],
                    "histogram2d": [
                      {
                        "colorbar": {
                          "outlinewidth": 0,
                          "ticks": ""
                        },
                        "colorscale": [
                          [
                            0,
                            "#0d0887"
                          ],
                          [
                            0.1111111111111111,
                            "#46039f"
                          ],
                          [
                            0.2222222222222222,
                            "#7201a8"
                          ],
                          [
                            0.3333333333333333,
                            "#9c179e"
                          ],
                          [
                            0.4444444444444444,
                            "#bd3786"
                          ],
                          [
                            0.5555555555555556,
                            "#d8576b"
                          ],
                          [
                            0.6666666666666666,
                            "#ed7953"
                          ],
                          [
                            0.7777777777777778,
                            "#fb9f3a"
                          ],
                          [
                            0.8888888888888888,
                            "#fdca26"
                          ],
                          [
                            1,
                            "#f0f921"
                          ]
                        ],
                        "type": "histogram2d"
                      }
                    ],
                    "histogram2dcontour": [
                      {
                        "colorbar": {
                          "outlinewidth": 0,
                          "ticks": ""
                        },
                        "colorscale": [
                          [
                            0,
                            "#0d0887"
                          ],
                          [
                            0.1111111111111111,
                            "#46039f"
                          ],
                          [
                            0.2222222222222222,
                            "#7201a8"
                          ],
                          [
                            0.3333333333333333,
                            "#9c179e"
                          ],
                          [
                            0.4444444444444444,
                            "#bd3786"
                          ],
                          [
                            0.5555555555555556,
                            "#d8576b"
                          ],
                          [
                            0.6666666666666666,
                            "#ed7953"
                          ],
                          [
                            0.7777777777777778,
                            "#fb9f3a"
                          ],
                          [
                            0.8888888888888888,
                            "#fdca26"
                          ],
                          [
                            1,
                            "#f0f921"
                          ]
                        ],
                        "type": "histogram2dcontour"
                      }
                    ],
                    "mesh3d": [
                      {
                        "colorbar": {
                          "outlinewidth": 0,
                          "ticks": ""
                        },
                        "type": "mesh3d"
                      }
                    ],
                    "parcoords": [
                      {
                        "line": {
                          "colorbar": {
                            "outlinewidth": 0,
                            "ticks": ""
                          }
                        },
                        "type": "parcoords"
                      }
                    ],
                    "pie": [
                      {
                        "automargin": true,
                        "type": "pie"
                      }
                    ],
                    "scatter": [
                      {
                        "fillpattern": {
                          "fillmode": "overlay",
                          "size": 10,
                          "solidity": 0.2
                        },
                        "type": "scatter"
                      }
                    ],
                    "scatter3d": [
                      {
                        "line": {
                          "colorbar": {
                            "outlinewidth": 0,
                            "ticks": ""
                          }
                        },
                        "marker": {
                          "colorbar": {
                            "outlinewidth": 0,
                            "ticks": ""
                          }
                        },
                        "type": "scatter3d"
                      }
                    ],
                    "scattercarpet": [
                      {
                        "marker": {
                          "colorbar": {
                            "outlinewidth": 0,
                            "ticks": ""
                          }
                        },
                        "type": "scattercarpet"
                      }
                    ],
                    "scattergeo": [
                      {
                        "marker": {
                          "colorbar": {
                            "outlinewidth": 0,
                            "ticks": ""
                          }
                        },
                        "type": "scattergeo"
                      }
                    ],
                    "scattergl": [
                      {
                        "marker": {
                          "colorbar": {
                            "outlinewidth": 0,
                            "ticks": ""
                          }
                        },
                        "type": "scattergl"
                      }
                    ],
                    "scattermapbox": [
                      {
                        "marker": {
                          "colorbar": {
                            "outlinewidth": 0,
                            "ticks": ""
                          }
                        },
                        "type": "scattermapbox"
                      }
                    ],
                    "scatterpolar": [
                      {
                        "marker": {
                          "colorbar": {
                            "outlinewidth": 0,
                            "ticks": ""
                          }
                        },
                        "type": "scatterpolar"
                      }
                    ],
                    "scatterpolargl": [
                      {
                        "marker": {
                          "colorbar": {
                            "outlinewidth": 0,
                            "ticks": ""
                          }
                        },
                        "type": "scatterpolargl"
                      }
                    ],
                    "scatterternary": [
                      {
                        "marker": {
                          "colorbar": {
                            "outlinewidth": 0,
                            "ticks": ""
                          }
                        },
                        "type": "scatterternary"
                      }
                    ],
                    "surface": [
                      {
                        "colorbar": {
                          "outlinewidth": 0,
                          "ticks": ""
                        },
                        "colorscale": [
                          [
                            0,
                            "#0d0887"
                          ],
                          [
                            0.1111111111111111,
                            "#46039f"
                          ],
                          [
                            0.2222222222222222,
                            "#7201a8"
                          ],
                          [
                            0.3333333333333333,
                            "#9c179e"
                          ],
                          [
                            0.4444444444444444,
                            "#bd3786"
                          ],
                          [
                            0.5555555555555556,
                            "#d8576b"
                          ],
                          [
                            0.6666666666666666,
                            "#ed7953"
                          ],
                          [
                            0.7777777777777778,
                            "#fb9f3a"
                          ],
                          [
                            0.8888888888888888,
                            "#fdca26"
                          ],
                          [
                            1,
                            "#f0f921"
                          ]
                        ],
                        "type": "surface"
                      }
                    ],
                    "table": [
                      {
                        "cells": {
                          "fill": {
                            "color": "#EBF0F8"
                          },
                          "line": {
                            "color": "white"
                          }
                        },
                        "header": {
                          "fill": {
                            "color": "#C8D4E3"
                          },
                          "line": {
                            "color": "white"
                          }
                        },
                        "type": "table"
                      }
                    ]
                  },
                  "layout": {
                    "annotationdefaults": {
                      "arrowcolor": "#2a3f5f",
                      "arrowhead": 0,
                      "arrowwidth": 1
                    },
                    "autotypenumbers": "strict",
                    "coloraxis": {
                      "colorbar": {
                        "outlinewidth": 0,
                        "ticks": ""
                      }
                    },
                    "colorscale": {
                      "diverging": [
                        [
                          0,
                          "#8e0152"
                        ],
                        [
                          0.1,
                          "#c51b7d"
                        ],
                        [
                          0.2,
                          "#de77ae"
                        ],
                        [
                          0.3,
                          "#f1b6da"
                        ],
                        [
                          0.4,
                          "#fde0ef"
                        ],
                        [
                          0.5,
                          "#f7f7f7"
                        ],
                        [
                          0.6,
                          "#e6f5d0"
                        ],
                        [
                          0.7,
                          "#b8e186"
                        ],
                        [
                          0.8,
                          "#7fbc41"
                        ],
                        [
                          0.9,
                          "#4d9221"
                        ],
                        [
                          1,
                          "#276419"
                        ]
                      ],
                      "sequential": [
                        [
                          0,
                          "#0d0887"
                        ],
                        [
                          0.1111111111111111,
                          "#46039f"
                        ],
                        [
                          0.2222222222222222,
                          "#7201a8"
                        ],
                        [
                          0.3333333333333333,
                          "#9c179e"
                        ],
                        [
                          0.4444444444444444,
                          "#bd3786"
                        ],
                        [
                          0.5555555555555556,
                          "#d8576b"
                        ],
                        [
                          0.6666666666666666,
                          "#ed7953"
                        ],
                        [
                          0.7777777777777778,
                          "#fb9f3a"
                        ],
                        [
                          0.8888888888888888,
                          "#fdca26"
                        ],
                        [
                          1,
                          "#f0f921"
                        ]
                      ],
                      "sequentialminus": [
                        [
                          0,
                          "#0d0887"
                        ],
                        [
                          0.1111111111111111,
                          "#46039f"
                        ],
                        [
                          0.2222222222222222,
                          "#7201a8"
                        ],
                        [
                          0.3333333333333333,
                          "#9c179e"
                        ],
                        [
                          0.4444444444444444,
                          "#bd3786"
                        ],
                        [
                          0.5555555555555556,
                          "#d8576b"
                        ],
                        [
                          0.6666666666666666,
                          "#ed7953"
                        ],
                        [
                          0.7777777777777778,
                          "#fb9f3a"
                        ],
                        [
                          0.8888888888888888,
                          "#fdca26"
                        ],
                        [
                          1,
                          "#f0f921"
                        ]
                      ]
                    },
                    "colorway": [
                      "#636efa",
                      "#EF553B",
                      "#00cc96",
                      "#ab63fa",
                      "#FFA15A",
                      "#19d3f3",
                      "#FF6692",
                      "#B6E880",
                      "#FF97FF",
                      "#FECB52"
                    ],
                    "font": {
                      "color": "#2a3f5f"
                    },
                    "geo": {
                      "bgcolor": "white",
                      "lakecolor": "white",
                      "landcolor": "#E5ECF6",
                      "showlakes": true,
                      "showland": true,
                      "subunitcolor": "white"
                    },
                    "hoverlabel": {
                      "align": "left"
                    },
                    "hovermode": "closest",
                    "mapbox": {
                      "style": "light"
                    },
                    "paper_bgcolor": "white",
                    "plot_bgcolor": "#E5ECF6",
                    "polar": {
                      "angularaxis": {
                        "gridcolor": "white",
                        "linecolor": "white",
                        "ticks": ""
                      },
                      "bgcolor": "#E5ECF6",
                      "radialaxis": {
                        "gridcolor": "white",
                        "linecolor": "white",
                        "ticks": ""
                      }
                    },
                    "scene": {
                      "xaxis": {
                        "backgroundcolor": "#E5ECF6",
                        "gridcolor": "white",
                        "gridwidth": 2,
                        "linecolor": "white",
                        "showbackground": true,
                        "ticks": "",
                        "zerolinecolor": "white"
                      },
                      "yaxis": {
                        "backgroundcolor": "#E5ECF6",
                        "gridcolor": "white",
                        "gridwidth": 2,
                        "linecolor": "white",
                        "showbackground": true,
                        "ticks": "",
                        "zerolinecolor": "white"
                      },
                      "zaxis": {
                        "backgroundcolor": "#E5ECF6",
                        "gridcolor": "white",
                        "gridwidth": 2,
                        "linecolor": "white",
                        "showbackground": true,
                        "ticks": "",
                        "zerolinecolor": "white"
                      }
                    },
                    "shapedefaults": {
                      "line": {
                        "color": "#2a3f5f"
                      }
                    },
                    "ternary": {
                      "aaxis": {
                        "gridcolor": "white",
                        "linecolor": "white",
                        "ticks": ""
                      },
                      "baxis": {
                        "gridcolor": "white",
                        "linecolor": "white",
                        "ticks": ""
                      },
                      "bgcolor": "#E5ECF6",
                      "caxis": {
                        "gridcolor": "white",
                        "linecolor": "white",
                        "ticks": ""
                      }
                    },
                    "title": {
                      "x": 0.05
                    },
                    "xaxis": {
                      "automargin": true,
                      "gridcolor": "white",
                      "linecolor": "white",
                      "ticks": "",
                      "title": {
                        "standoff": 15
                      },
                      "zerolinecolor": "white",
                      "zerolinewidth": 2
                    },
                    "yaxis": {
                      "automargin": true,
                      "gridcolor": "white",
                      "linecolor": "white",
                      "ticks": "",
                      "title": {
                        "standoff": 15
                      },
                      "zerolinecolor": "white",
                      "zerolinewidth": 2
                    }
                  }
                },
                "title": {
                  "text": "cat"
                },
                "xaxis": {
                  "anchor": "y",
                  "domain": [
                    0,
                    1
                  ],
                  "title": {
                    "text": "year"
                  }
                },
                "yaxis": {
                  "anchor": "x",
                  "domain": [
                    0,
                    1
                  ],
                  "title": {
                    "text": "count"
                  }
                }
              }
            }
          },
          "metadata": {},
          "output_type": "display_data"
        }
      ],
      "source": [
        "import plotly.express as px\n",
        "\n",
        "def plot_value_counts_bar(data, col):\n",
        "    vc = pd.DataFrame(data[col].value_counts())\n",
        "    vc['year'] = vc.index\n",
        "    fig = px.bar(vc, x='year', y='count', color='year', title=col)\n",
        "    fig.update_layout()\n",
        "    return fig\n",
        "\n",
        "data['cat'] = data.release_date.dt.year\n",
        "plot_value_counts_bar(data, 'cat')\n"
      ]
    },
    {
      "cell_type": "code",
      "execution_count": 94,
      "metadata": {
        "id": "CFaCVhzZVazB"
      },
      "outputs": [],
      "source": [
        "\n",
        "#change the formate into list\n",
        "def convert(obj):\n",
        "  l=[]\n",
        "  for i in ast.literal_eval(obj) :\n",
        "      l.append(i['name'])\n",
        "  return l"
      ]
    },
    {
      "cell_type": "code",
      "execution_count": 95,
      "metadata": {
        "colab": {
          "base_uri": "https://localhost:8080/"
        },
        "id": "lkw0lTsfXdis",
        "outputId": "6ab69fe6-61a4-478e-83f6-d205b7a5bd85"
      },
      "outputs": [
        {
          "data": {
            "text/plain": [
              "[{'id': 28, 'name': 'Action'},\n",
              " {'id': 12, 'name': 'Adventure'},\n",
              " {'id': 14, 'name': 'Fantasy'},\n",
              " {'id': 878, 'name': 'Science Fiction'}]"
            ]
          },
          "execution_count": 95,
          "metadata": {},
          "output_type": "execute_result"
        }
      ],
      "source": [
        "\n",
        "import ast\n",
        "ast.literal_eval('[{\"id\": 28, \"name\": \"Action\"}, {\"id\": 12, \"name\": \"Adventure\"}, {\"id\": 14, \"name\": \"Fantasy\"}, {\"id\": 878, \"name\": \"Science Fiction\"}]')"
      ]
    },
    {
      "cell_type": "code",
      "execution_count": 96,
      "metadata": {
        "id": "9d_FPTLOWWI9"
      },
      "outputs": [],
      "source": [
        "data['genres']=data['genres'].apply(convert)"
      ]
    },
    {
      "cell_type": "code",
      "execution_count": 97,
      "metadata": {
        "id": "1LIV_m8TXRLF"
      },
      "outputs": [],
      "source": [
        "\n",
        "data['keywords'] = data['keywords'].apply(convert)"
      ]
    },
    {
      "cell_type": "code",
      "execution_count": 98,
      "metadata": {
        "colab": {
          "base_uri": "https://localhost:8080/",
          "height": 774
        },
        "id": "voXxEpf6Yzwm",
        "outputId": "e5c2ecce-8563-47eb-b6ba-30b02cc82fb3"
      },
      "outputs": [
        {
          "data": {
            "text/html": [
              "<div>\n",
              "<style scoped>\n",
              "    .dataframe tbody tr th:only-of-type {\n",
              "        vertical-align: middle;\n",
              "    }\n",
              "\n",
              "    .dataframe tbody tr th {\n",
              "        vertical-align: top;\n",
              "    }\n",
              "\n",
              "    .dataframe thead th {\n",
              "        text-align: right;\n",
              "    }\n",
              "</style>\n",
              "<table border=\"1\" class=\"dataframe\">\n",
              "  <thead>\n",
              "    <tr style=\"text-align: right;\">\n",
              "      <th></th>\n",
              "      <th>movie_id</th>\n",
              "      <th>title</th>\n",
              "      <th>overview</th>\n",
              "      <th>genres</th>\n",
              "      <th>keywords</th>\n",
              "      <th>cast</th>\n",
              "      <th>crew</th>\n",
              "      <th>release_date</th>\n",
              "      <th>vote_average</th>\n",
              "      <th>vote_count</th>\n",
              "      <th>popularity</th>\n",
              "      <th>cat</th>\n",
              "    </tr>\n",
              "  </thead>\n",
              "  <tbody>\n",
              "    <tr>\n",
              "      <th>0</th>\n",
              "      <td>19995</td>\n",
              "      <td>Avatar</td>\n",
              "      <td>In the 22nd century, a paraplegic Marine is di...</td>\n",
              "      <td>[Action, Adventure, Fantasy, Science Fiction]</td>\n",
              "      <td>[culture clash, future, space war, space colon...</td>\n",
              "      <td>[{\"cast_id\": 242, \"character\": \"Jake Sully\", \"...</td>\n",
              "      <td>[{\"credit_id\": \"52fe48009251416c750aca23\", \"de...</td>\n",
              "      <td>2009-12-10</td>\n",
              "      <td>7.2</td>\n",
              "      <td>11800</td>\n",
              "      <td>150.437577</td>\n",
              "      <td>2009</td>\n",
              "    </tr>\n",
              "    <tr>\n",
              "      <th>1</th>\n",
              "      <td>285</td>\n",
              "      <td>Pirates of the Caribbean: At World's End</td>\n",
              "      <td>Captain Barbossa, long believed to be dead, ha...</td>\n",
              "      <td>[Adventure, Fantasy, Action]</td>\n",
              "      <td>[ocean, drug abuse, exotic island, east india ...</td>\n",
              "      <td>[{\"cast_id\": 4, \"character\": \"Captain Jack Spa...</td>\n",
              "      <td>[{\"credit_id\": \"52fe4232c3a36847f800b579\", \"de...</td>\n",
              "      <td>2007-05-19</td>\n",
              "      <td>6.9</td>\n",
              "      <td>4500</td>\n",
              "      <td>139.082615</td>\n",
              "      <td>2007</td>\n",
              "    </tr>\n",
              "    <tr>\n",
              "      <th>2</th>\n",
              "      <td>206647</td>\n",
              "      <td>Spectre</td>\n",
              "      <td>A cryptic message from Bond’s past sends him o...</td>\n",
              "      <td>[Action, Adventure, Crime]</td>\n",
              "      <td>[spy, based on novel, secret agent, sequel, mi...</td>\n",
              "      <td>[{\"cast_id\": 1, \"character\": \"James Bond\", \"cr...</td>\n",
              "      <td>[{\"credit_id\": \"54805967c3a36829b5002c41\", \"de...</td>\n",
              "      <td>2015-10-26</td>\n",
              "      <td>6.3</td>\n",
              "      <td>4466</td>\n",
              "      <td>107.376788</td>\n",
              "      <td>2015</td>\n",
              "    </tr>\n",
              "    <tr>\n",
              "      <th>3</th>\n",
              "      <td>49026</td>\n",
              "      <td>The Dark Knight Rises</td>\n",
              "      <td>Following the death of District Attorney Harve...</td>\n",
              "      <td>[Action, Crime, Drama, Thriller]</td>\n",
              "      <td>[dc comics, crime fighter, terrorist, secret i...</td>\n",
              "      <td>[{\"cast_id\": 2, \"character\": \"Bruce Wayne / Ba...</td>\n",
              "      <td>[{\"credit_id\": \"52fe4781c3a36847f81398c3\", \"de...</td>\n",
              "      <td>2012-07-16</td>\n",
              "      <td>7.6</td>\n",
              "      <td>9106</td>\n",
              "      <td>112.312950</td>\n",
              "      <td>2012</td>\n",
              "    </tr>\n",
              "    <tr>\n",
              "      <th>4</th>\n",
              "      <td>49529</td>\n",
              "      <td>John Carter</td>\n",
              "      <td>John Carter is a war-weary, former military ca...</td>\n",
              "      <td>[Action, Adventure, Science Fiction]</td>\n",
              "      <td>[based on novel, mars, medallion, space travel...</td>\n",
              "      <td>[{\"cast_id\": 5, \"character\": \"John Carter\", \"c...</td>\n",
              "      <td>[{\"credit_id\": \"52fe479ac3a36847f813eaa3\", \"de...</td>\n",
              "      <td>2012-03-07</td>\n",
              "      <td>6.1</td>\n",
              "      <td>2124</td>\n",
              "      <td>43.926995</td>\n",
              "      <td>2012</td>\n",
              "    </tr>\n",
              "  </tbody>\n",
              "</table>\n",
              "</div>"
            ],
            "text/plain": [
              "   movie_id                                     title  \\\n",
              "0     19995                                    Avatar   \n",
              "1       285  Pirates of the Caribbean: At World's End   \n",
              "2    206647                                   Spectre   \n",
              "3     49026                     The Dark Knight Rises   \n",
              "4     49529                               John Carter   \n",
              "\n",
              "                                            overview  \\\n",
              "0  In the 22nd century, a paraplegic Marine is di...   \n",
              "1  Captain Barbossa, long believed to be dead, ha...   \n",
              "2  A cryptic message from Bond’s past sends him o...   \n",
              "3  Following the death of District Attorney Harve...   \n",
              "4  John Carter is a war-weary, former military ca...   \n",
              "\n",
              "                                          genres  \\\n",
              "0  [Action, Adventure, Fantasy, Science Fiction]   \n",
              "1                   [Adventure, Fantasy, Action]   \n",
              "2                     [Action, Adventure, Crime]   \n",
              "3               [Action, Crime, Drama, Thriller]   \n",
              "4           [Action, Adventure, Science Fiction]   \n",
              "\n",
              "                                            keywords  \\\n",
              "0  [culture clash, future, space war, space colon...   \n",
              "1  [ocean, drug abuse, exotic island, east india ...   \n",
              "2  [spy, based on novel, secret agent, sequel, mi...   \n",
              "3  [dc comics, crime fighter, terrorist, secret i...   \n",
              "4  [based on novel, mars, medallion, space travel...   \n",
              "\n",
              "                                                cast  \\\n",
              "0  [{\"cast_id\": 242, \"character\": \"Jake Sully\", \"...   \n",
              "1  [{\"cast_id\": 4, \"character\": \"Captain Jack Spa...   \n",
              "2  [{\"cast_id\": 1, \"character\": \"James Bond\", \"cr...   \n",
              "3  [{\"cast_id\": 2, \"character\": \"Bruce Wayne / Ba...   \n",
              "4  [{\"cast_id\": 5, \"character\": \"John Carter\", \"c...   \n",
              "\n",
              "                                                crew release_date  \\\n",
              "0  [{\"credit_id\": \"52fe48009251416c750aca23\", \"de...   2009-12-10   \n",
              "1  [{\"credit_id\": \"52fe4232c3a36847f800b579\", \"de...   2007-05-19   \n",
              "2  [{\"credit_id\": \"54805967c3a36829b5002c41\", \"de...   2015-10-26   \n",
              "3  [{\"credit_id\": \"52fe4781c3a36847f81398c3\", \"de...   2012-07-16   \n",
              "4  [{\"credit_id\": \"52fe479ac3a36847f813eaa3\", \"de...   2012-03-07   \n",
              "\n",
              "   vote_average  vote_count  popularity   cat  \n",
              "0           7.2       11800  150.437577  2009  \n",
              "1           6.9        4500  139.082615  2007  \n",
              "2           6.3        4466  107.376788  2015  \n",
              "3           7.6        9106  112.312950  2012  \n",
              "4           6.1        2124   43.926995  2012  "
            ]
          },
          "execution_count": 98,
          "metadata": {},
          "output_type": "execute_result"
        }
      ],
      "source": [
        "\n",
        "\n",
        "data.head()"
      ]
    },
    {
      "cell_type": "code",
      "execution_count": 99,
      "metadata": {
        "id": "4rtLXhUBZZZZ"
      },
      "outputs": [],
      "source": [
        "#to take cast of top 3\n",
        "def convert3(obj):\n",
        "  l=[]\n",
        "  counter = 0\n",
        "  for i in ast.literal_eval(obj):\n",
        "    if counter!= 3:\n",
        "      l.append(i['name'])\n",
        "      counter+=1\n",
        "    else:\n",
        "         break\n",
        "  return l"
      ]
    },
    {
      "cell_type": "code",
      "execution_count": 100,
      "metadata": {
        "id": "b2kfjYgdabfL"
      },
      "outputs": [],
      "source": [
        "data['cast']=data['cast'].apply(convert3)"
      ]
    },
    {
      "cell_type": "code",
      "execution_count": 101,
      "metadata": {
        "colab": {
          "base_uri": "https://localhost:8080/",
          "height": 774
        },
        "id": "MTGpcRd-aqsm",
        "outputId": "aaa34b6c-5f88-4c66-a164-69fe8a6056c3"
      },
      "outputs": [
        {
          "data": {
            "text/html": [
              "<div>\n",
              "<style scoped>\n",
              "    .dataframe tbody tr th:only-of-type {\n",
              "        vertical-align: middle;\n",
              "    }\n",
              "\n",
              "    .dataframe tbody tr th {\n",
              "        vertical-align: top;\n",
              "    }\n",
              "\n",
              "    .dataframe thead th {\n",
              "        text-align: right;\n",
              "    }\n",
              "</style>\n",
              "<table border=\"1\" class=\"dataframe\">\n",
              "  <thead>\n",
              "    <tr style=\"text-align: right;\">\n",
              "      <th></th>\n",
              "      <th>movie_id</th>\n",
              "      <th>title</th>\n",
              "      <th>overview</th>\n",
              "      <th>genres</th>\n",
              "      <th>keywords</th>\n",
              "      <th>cast</th>\n",
              "      <th>crew</th>\n",
              "      <th>release_date</th>\n",
              "      <th>vote_average</th>\n",
              "      <th>vote_count</th>\n",
              "      <th>popularity</th>\n",
              "      <th>cat</th>\n",
              "    </tr>\n",
              "  </thead>\n",
              "  <tbody>\n",
              "    <tr>\n",
              "      <th>0</th>\n",
              "      <td>19995</td>\n",
              "      <td>Avatar</td>\n",
              "      <td>In the 22nd century, a paraplegic Marine is di...</td>\n",
              "      <td>[Action, Adventure, Fantasy, Science Fiction]</td>\n",
              "      <td>[culture clash, future, space war, space colon...</td>\n",
              "      <td>[Sam Worthington, Zoe Saldana, Sigourney Weaver]</td>\n",
              "      <td>[{\"credit_id\": \"52fe48009251416c750aca23\", \"de...</td>\n",
              "      <td>2009-12-10</td>\n",
              "      <td>7.2</td>\n",
              "      <td>11800</td>\n",
              "      <td>150.437577</td>\n",
              "      <td>2009</td>\n",
              "    </tr>\n",
              "    <tr>\n",
              "      <th>1</th>\n",
              "      <td>285</td>\n",
              "      <td>Pirates of the Caribbean: At World's End</td>\n",
              "      <td>Captain Barbossa, long believed to be dead, ha...</td>\n",
              "      <td>[Adventure, Fantasy, Action]</td>\n",
              "      <td>[ocean, drug abuse, exotic island, east india ...</td>\n",
              "      <td>[Johnny Depp, Orlando Bloom, Keira Knightley]</td>\n",
              "      <td>[{\"credit_id\": \"52fe4232c3a36847f800b579\", \"de...</td>\n",
              "      <td>2007-05-19</td>\n",
              "      <td>6.9</td>\n",
              "      <td>4500</td>\n",
              "      <td>139.082615</td>\n",
              "      <td>2007</td>\n",
              "    </tr>\n",
              "    <tr>\n",
              "      <th>2</th>\n",
              "      <td>206647</td>\n",
              "      <td>Spectre</td>\n",
              "      <td>A cryptic message from Bond’s past sends him o...</td>\n",
              "      <td>[Action, Adventure, Crime]</td>\n",
              "      <td>[spy, based on novel, secret agent, sequel, mi...</td>\n",
              "      <td>[Daniel Craig, Christoph Waltz, Léa Seydoux]</td>\n",
              "      <td>[{\"credit_id\": \"54805967c3a36829b5002c41\", \"de...</td>\n",
              "      <td>2015-10-26</td>\n",
              "      <td>6.3</td>\n",
              "      <td>4466</td>\n",
              "      <td>107.376788</td>\n",
              "      <td>2015</td>\n",
              "    </tr>\n",
              "    <tr>\n",
              "      <th>3</th>\n",
              "      <td>49026</td>\n",
              "      <td>The Dark Knight Rises</td>\n",
              "      <td>Following the death of District Attorney Harve...</td>\n",
              "      <td>[Action, Crime, Drama, Thriller]</td>\n",
              "      <td>[dc comics, crime fighter, terrorist, secret i...</td>\n",
              "      <td>[Christian Bale, Michael Caine, Gary Oldman]</td>\n",
              "      <td>[{\"credit_id\": \"52fe4781c3a36847f81398c3\", \"de...</td>\n",
              "      <td>2012-07-16</td>\n",
              "      <td>7.6</td>\n",
              "      <td>9106</td>\n",
              "      <td>112.312950</td>\n",
              "      <td>2012</td>\n",
              "    </tr>\n",
              "    <tr>\n",
              "      <th>4</th>\n",
              "      <td>49529</td>\n",
              "      <td>John Carter</td>\n",
              "      <td>John Carter is a war-weary, former military ca...</td>\n",
              "      <td>[Action, Adventure, Science Fiction]</td>\n",
              "      <td>[based on novel, mars, medallion, space travel...</td>\n",
              "      <td>[Taylor Kitsch, Lynn Collins, Samantha Morton]</td>\n",
              "      <td>[{\"credit_id\": \"52fe479ac3a36847f813eaa3\", \"de...</td>\n",
              "      <td>2012-03-07</td>\n",
              "      <td>6.1</td>\n",
              "      <td>2124</td>\n",
              "      <td>43.926995</td>\n",
              "      <td>2012</td>\n",
              "    </tr>\n",
              "  </tbody>\n",
              "</table>\n",
              "</div>"
            ],
            "text/plain": [
              "   movie_id                                     title  \\\n",
              "0     19995                                    Avatar   \n",
              "1       285  Pirates of the Caribbean: At World's End   \n",
              "2    206647                                   Spectre   \n",
              "3     49026                     The Dark Knight Rises   \n",
              "4     49529                               John Carter   \n",
              "\n",
              "                                            overview  \\\n",
              "0  In the 22nd century, a paraplegic Marine is di...   \n",
              "1  Captain Barbossa, long believed to be dead, ha...   \n",
              "2  A cryptic message from Bond’s past sends him o...   \n",
              "3  Following the death of District Attorney Harve...   \n",
              "4  John Carter is a war-weary, former military ca...   \n",
              "\n",
              "                                          genres  \\\n",
              "0  [Action, Adventure, Fantasy, Science Fiction]   \n",
              "1                   [Adventure, Fantasy, Action]   \n",
              "2                     [Action, Adventure, Crime]   \n",
              "3               [Action, Crime, Drama, Thriller]   \n",
              "4           [Action, Adventure, Science Fiction]   \n",
              "\n",
              "                                            keywords  \\\n",
              "0  [culture clash, future, space war, space colon...   \n",
              "1  [ocean, drug abuse, exotic island, east india ...   \n",
              "2  [spy, based on novel, secret agent, sequel, mi...   \n",
              "3  [dc comics, crime fighter, terrorist, secret i...   \n",
              "4  [based on novel, mars, medallion, space travel...   \n",
              "\n",
              "                                               cast  \\\n",
              "0  [Sam Worthington, Zoe Saldana, Sigourney Weaver]   \n",
              "1     [Johnny Depp, Orlando Bloom, Keira Knightley]   \n",
              "2      [Daniel Craig, Christoph Waltz, Léa Seydoux]   \n",
              "3      [Christian Bale, Michael Caine, Gary Oldman]   \n",
              "4    [Taylor Kitsch, Lynn Collins, Samantha Morton]   \n",
              "\n",
              "                                                crew release_date  \\\n",
              "0  [{\"credit_id\": \"52fe48009251416c750aca23\", \"de...   2009-12-10   \n",
              "1  [{\"credit_id\": \"52fe4232c3a36847f800b579\", \"de...   2007-05-19   \n",
              "2  [{\"credit_id\": \"54805967c3a36829b5002c41\", \"de...   2015-10-26   \n",
              "3  [{\"credit_id\": \"52fe4781c3a36847f81398c3\", \"de...   2012-07-16   \n",
              "4  [{\"credit_id\": \"52fe479ac3a36847f813eaa3\", \"de...   2012-03-07   \n",
              "\n",
              "   vote_average  vote_count  popularity   cat  \n",
              "0           7.2       11800  150.437577  2009  \n",
              "1           6.9        4500  139.082615  2007  \n",
              "2           6.3        4466  107.376788  2015  \n",
              "3           7.6        9106  112.312950  2012  \n",
              "4           6.1        2124   43.926995  2012  "
            ]
          },
          "execution_count": 101,
          "metadata": {},
          "output_type": "execute_result"
        }
      ],
      "source": [
        "\n",
        "data.head()\n"
      ]
    },
    {
      "cell_type": "code",
      "execution_count": 102,
      "metadata": {
        "colab": {
          "base_uri": "https://localhost:8080/",
          "height": 174
        },
        "id": "Ezr6G0qsatSi",
        "outputId": "cfb3c38d-be62-41c0-a06a-afc96c4862a4"
      },
      "outputs": [
        {
          "data": {
            "text/plain": [
              "'[{\"credit_id\": \"52fe48009251416c750aca23\", \"department\": \"Editing\", \"gender\": 0, \"id\": 1721, \"job\": \"Editor\", \"name\": \"Stephen E. Rivkin\"}, {\"credit_id\": \"539c47ecc3a36810e3001f87\", \"department\": \"Art\", \"gender\": 2, \"id\": 496, \"job\": \"Production Design\", \"name\": \"Rick Carter\"}, {\"credit_id\": \"54491c89c3a3680fb4001cf7\", \"department\": \"Sound\", \"gender\": 0, \"id\": 900, \"job\": \"Sound Designer\", \"name\": \"Christopher Boyes\"}, {\"credit_id\": \"54491cb70e0a267480001bd0\", \"department\": \"Sound\", \"gender\": 0, \"id\": 900, \"job\": \"Supervising Sound Editor\", \"name\": \"Christopher Boyes\"}, {\"credit_id\": \"539c4a4cc3a36810c9002101\", \"department\": \"Production\", \"gender\": 1, \"id\": 1262, \"job\": \"Casting\", \"name\": \"Mali Finn\"}, {\"credit_id\": \"5544ee3b925141499f0008fc\", \"department\": \"Sound\", \"gender\": 2, \"id\": 1729, \"job\": \"Original Music Composer\", \"name\": \"James Horner\"}, {\"credit_id\": \"52fe48009251416c750ac9c3\", \"department\": \"Directing\", \"gender\": 2, \"id\": 2710, \"job\": \"Director\", \"name\": \"James Cameron\"}, {\"credit_id\": \"52fe48009251416c750ac9d9\", \"department\": \"Writing\", \"gender\": 2, \"id\": 2710, \"job\": \"Writer\", \"name\": \"James Cameron\"}, {\"credit_id\": \"52fe48009251416c750aca17\", \"department\": \"Editing\", \"gender\": 2, \"id\": 2710, \"job\": \"Editor\", \"name\": \"James Cameron\"}, {\"credit_id\": \"52fe48009251416c750aca29\", \"department\": \"Production\", \"gender\": 2, \"id\": 2710, \"job\": \"Producer\", \"name\": \"James Cameron\"}, {\"credit_id\": \"52fe48009251416c750aca3f\", \"department\": \"Writing\", \"gender\": 2, \"id\": 2710, \"job\": \"Screenplay\", \"name\": \"James Cameron\"}, {\"credit_id\": \"539c4987c3a36810ba0021a4\", \"department\": \"Art\", \"gender\": 2, \"id\": 7236, \"job\": \"Art Direction\", \"name\": \"Andrew Menzies\"}, {\"credit_id\": \"549598c3c3a3686ae9004383\", \"department\": \"Visual Effects\", \"gender\": 0, \"id\": 6690, \"job\": \"Visual Effects Producer\", \"name\": \"Jill Brooks\"}, {\"credit_id\": \"52fe48009251416c750aca4b\", \"department\": \"Production\", \"gender\": 1, \"id\": 6347, \"job\": \"Casting\", \"name\": \"Margery Simkin\"}, {\"credit_id\": \"570b6f419251417da70032fe\", \"department\": \"Art\", \"gender\": 2, \"id\": 6878, \"job\": \"Supervising Art Director\", \"name\": \"Kevin Ishioka\"}, {\"credit_id\": \"5495a0fac3a3686ae9004468\", \"department\": \"Sound\", \"gender\": 0, \"id\": 6883, \"job\": \"Music Editor\", \"name\": \"Dick Bernstein\"}, {\"credit_id\": \"54959706c3a3686af3003e81\", \"department\": \"Sound\", \"gender\": 0, \"id\": 8159, \"job\": \"Sound Effects Editor\", \"name\": \"Shannon Mills\"}, {\"credit_id\": \"54491d58c3a3680fb1001ccb\", \"department\": \"Sound\", \"gender\": 0, \"id\": 8160, \"job\": \"Foley\", \"name\": \"Dennie Thorpe\"}, {\"credit_id\": \"54491d6cc3a3680fa5001b2c\", \"department\": \"Sound\", \"gender\": 0, \"id\": 8163, \"job\": \"Foley\", \"name\": \"Jana Vance\"}, {\"credit_id\": \"52fe48009251416c750aca57\", \"department\": \"Costume & Make-Up\", \"gender\": 1, \"id\": 8527, \"job\": \"Costume Design\", \"name\": \"Deborah Lynn Scott\"}, {\"credit_id\": \"52fe48009251416c750aca2f\", \"department\": \"Production\", \"gender\": 2, \"id\": 8529, \"job\": \"Producer\", \"name\": \"Jon Landau\"}, {\"credit_id\": \"539c4937c3a36810ba002194\", \"department\": \"Art\", \"gender\": 0, \"id\": 9618, \"job\": \"Art Direction\", \"name\": \"Sean Haworth\"}, {\"credit_id\": \"539c49b6c3a36810c10020e6\", \"department\": \"Art\", \"gender\": 1, \"id\": 12653, \"job\": \"Set Decoration\", \"name\": \"Kim Sinclair\"}, {\"credit_id\": \"570b6f2f9251413a0e00020d\", \"department\": \"Art\", \"gender\": 1, \"id\": 12653, \"job\": \"Supervising Art Director\", \"name\": \"Kim Sinclair\"}, {\"credit_id\": \"54491a6c0e0a26748c001b19\", \"department\": \"Art\", \"gender\": 2, \"id\": 14350, \"job\": \"Set Designer\", \"name\": \"Richard F. Mays\"}, {\"credit_id\": \"56928cf4c3a3684cff0025c4\", \"department\": \"Production\", \"gender\": 1, \"id\": 20294, \"job\": \"Executive Producer\", \"name\": \"Laeta Kalogridis\"}, {\"credit_id\": \"52fe48009251416c750aca51\", \"department\": \"Costume & Make-Up\", \"gender\": 0, \"id\": 17675, \"job\": \"Costume Design\", \"name\": \"Mayes C. Rubeo\"}, {\"credit_id\": \"52fe48009251416c750aca11\", \"department\": \"Camera\", \"gender\": 2, \"id\": 18265, \"job\": \"Director of Photography\", \"name\": \"Mauro Fiore\"}, {\"credit_id\": \"5449194d0e0a26748f001b39\", \"department\": \"Art\", \"gender\": 0, \"id\": 42281, \"job\": \"Set Designer\", \"name\": \"Scott Herbertson\"}, {\"credit_id\": \"52fe48009251416c750aca05\", \"department\": \"Crew\", \"gender\": 0, \"id\": 42288, \"job\": \"Stunts\", \"name\": \"Woody Schultz\"}, {\"credit_id\": \"5592aefb92514152de0010f5\", \"department\": \"Costume & Make-Up\", \"gender\": 0, \"id\": 29067, \"job\": \"Makeup Artist\", \"name\": \"Linda DeVetta\"}, {\"credit_id\": \"5592afa492514152de00112c\", \"department\": \"Costume & Make-Up\", \"gender\": 0, \"id\": 29067, \"job\": \"Hairstylist\", \"name\": \"Linda DeVetta\"}, {\"credit_id\": \"54959ed592514130fc002e5d\", \"department\": \"Camera\", \"gender\": 2, \"id\": 33302, \"job\": \"Camera Operator\", \"name\": \"Richard Bluck\"}, {\"credit_id\": \"539c4891c3a36810ba002147\", \"department\": \"Art\", \"gender\": 2, \"id\": 33303, \"job\": \"Art Direction\", \"name\": \"Simon Bright\"}, {\"credit_id\": \"54959c069251417a81001f3a\", \"department\": \"Visual Effects\", \"gender\": 0, \"id\": 113145, \"job\": \"Visual Effects Supervisor\", \"name\": \"Richard Martin\"}, {\"credit_id\": \"54959a0dc3a3680ff5002c8d\", \"department\": \"Crew\", \"gender\": 2, \"id\": 58188, \"job\": \"Visual Effects Editor\", \"name\": \"Steve R. Moore\"}, {\"credit_id\": \"52fe48009251416c750aca1d\", \"department\": \"Editing\", \"gender\": 2, \"id\": 58871, \"job\": \"Editor\", \"name\": \"John Refoua\"}, {\"credit_id\": \"54491a4dc3a3680fc30018ca\", \"department\": \"Art\", \"gender\": 0, \"id\": 92359, \"job\": \"Set Designer\", \"name\": \"Karl J. Martin\"}, {\"credit_id\": \"52fe48009251416c750aca35\", \"department\": \"Camera\", \"gender\": 1, \"id\": 72201, \"job\": \"Director of Photography\", \"name\": \"Chiling Lin\"}, {\"credit_id\": \"52fe48009251416c750ac9ff\", \"department\": \"Crew\", \"gender\": 0, \"id\": 89714, \"job\": \"Stunts\", \"name\": \"Ilram Choi\"}, {\"credit_id\": \"54959c529251416e2b004394\", \"department\": \"Visual Effects\", \"gender\": 2, \"id\": 93214, \"job\": \"Visual Effects Supervisor\", \"name\": \"Steven Quale\"}, {\"credit_id\": \"54491edf0e0a267489001c37\", \"department\": \"Crew\", \"gender\": 1, \"id\": 122607, \"job\": \"Dialect Coach\", \"name\": \"Carla Meyer\"}, {\"credit_id\": \"539c485bc3a368653d001a3a\", \"department\": \"Art\", \"gender\": 2, \"id\": 132585, \"job\": \"Art Direction\", \"name\": \"Nick Bassett\"}, {\"credit_id\": \"539c4903c3a368653d001a74\", \"department\": \"Art\", \"gender\": 0, \"id\": 132596, \"job\": \"Art Direction\", \"name\": \"Jill Cormack\"}, {\"credit_id\": \"539c4967c3a368653d001a94\", \"department\": \"Art\", \"gender\": 0, \"id\": 132604, \"job\": \"Art Direction\", \"name\": \"Andy McLaren\"}, {\"credit_id\": \"52fe48009251416c750aca45\", \"department\": \"Crew\", \"gender\": 0, \"id\": 236696, \"job\": \"Motion Capture Artist\", \"name\": \"Terry Notary\"}, {\"credit_id\": \"54959e02c3a3680fc60027d2\", \"department\": \"Crew\", \"gender\": 2, \"id\": 956198, \"job\": \"Stunt Coordinator\", \"name\": \"Garrett Warren\"}, {\"credit_id\": \"54959ca3c3a3686ae300438c\", \"department\": \"Visual Effects\", \"gender\": 2, \"id\": 957874, \"job\": \"Visual Effects Supervisor\", \"name\": \"Jonathan Rothbart\"}, {\"credit_id\": \"570b6f519251412c74001b2f\", \"department\": \"Art\", \"gender\": 0, \"id\": 957889, \"job\": \"Supervising Art Director\", \"name\": \"Stefan Dechant\"}, {\"credit_id\": \"570b6f62c3a3680b77007460\", \"department\": \"Art\", \"gender\": 2, \"id\": 959555, \"job\": \"Supervising Art Director\", \"name\": \"Todd Cherniawsky\"}, {\"credit_id\": \"539c4a3ac3a36810da0021cc\", \"department\": \"Production\", \"gender\": 0, \"id\": 1016177, \"job\": \"Casting\", \"name\": \"Miranda Rivers\"}, {\"credit_id\": \"539c482cc3a36810c1002062\", \"department\": \"Art\", \"gender\": 0, \"id\": 1032536, \"job\": \"Production Design\", \"name\": \"Robert Stromberg\"}, {\"credit_id\": \"539c4b65c3a36810c9002125\", \"department\": \"Costume & Make-Up\", \"gender\": 2, \"id\": 1071680, \"job\": \"Costume Design\", \"name\": \"John Harding\"}, {\"credit_id\": \"54959e6692514130fc002e4e\", \"department\": \"Camera\", \"gender\": 0, \"id\": 1177364, \"job\": \"Steadicam Operator\", \"name\": \"Roberto De Angelis\"}, {\"credit_id\": \"539c49f1c3a368653d001aac\", \"department\": \"Costume & Make-Up\", \"gender\": 2, \"id\": 1202850, \"job\": \"Makeup Department Head\", \"name\": \"Mike Smithson\"}, {\"credit_id\": \"5495999ec3a3686ae100460c\", \"department\": \"Visual Effects\", \"gender\": 0, \"id\": 1204668, \"job\": \"Visual Effects Producer\", \"name\": \"Alain Lalanne\"}, {\"credit_id\": \"54959cdfc3a3681153002729\", \"department\": \"Visual Effects\", \"gender\": 0, \"id\": 1206410, \"job\": \"Visual Effects Supervisor\", \"name\": \"Lucas Salton\"}, {\"credit_id\": \"549596239251417a81001eae\", \"department\": \"Crew\", \"gender\": 0, \"id\": 1234266, \"job\": \"Post Production Supervisor\", \"name\": \"Janace Tashjian\"}, {\"credit_id\": \"54959c859251416e1e003efe\", \"department\": \"Visual Effects\", \"gender\": 0, \"id\": 1271932, \"job\": \"Visual Effects Supervisor\", \"name\": \"Stephen Rosenbaum\"}, {\"credit_id\": \"5592af28c3a368775a00105f\", \"department\": \"Costume & Make-Up\", \"gender\": 0, \"id\": 1310064, \"job\": \"Makeup Artist\", \"name\": \"Frankie Karena\"}, {\"credit_id\": \"539c4adfc3a36810e300203b\", \"department\": \"Costume & Make-Up\", \"gender\": 1, \"id\": 1319844, \"job\": \"Costume Supervisor\", \"name\": \"Lisa Lovaas\"}, {\"credit_id\": \"54959b579251416e2b004371\", \"department\": \"Visual Effects\", \"gender\": 0, \"id\": 1327028, \"job\": \"Visual Effects Supervisor\", \"name\": \"Jonathan Fawkner\"}, {\"credit_id\": \"539c48a7c3a36810b5001fa7\", \"department\": \"Art\", \"gender\": 0, \"id\": 1330561, \"job\": \"Art Direction\", \"name\": \"Robert Bavin\"}, {\"credit_id\": \"539c4a71c3a36810da0021e0\", \"department\": \"Costume & Make-Up\", \"gender\": 0, \"id\": 1330567, \"job\": \"Costume Supervisor\", \"name\": \"Anthony Almaraz\"}, {\"credit_id\": \"539c4a8ac3a36810ba0021e4\", \"department\": \"Costume & Make-Up\", \"gender\": 0, \"id\": 1330570, \"job\": \"Costume Supervisor\", \"name\": \"Carolyn M. Fenton\"}, {\"credit_id\": \"539c4ab6c3a36810da0021f0\", \"department\": \"Costume & Make-Up\", \"gender\": 0, \"id\": 1330574, \"job\": \"Costume Supervisor\", \"name\": \"Beth Koenigsberg\"}, {\"credit_id\": \"54491ab70e0a267480001ba2\", \"department\": \"Art\", \"gender\": 0, \"id\": 1336191, \"job\": \"Set Designer\", \"name\": \"Sam Page\"}, {\"credit_id\": \"544919d9c3a3680fc30018bd\", \"department\": \"Art\", \"gender\": 0, \"id\": 1339441, \"job\": \"Set Designer\", \"name\": \"Tex Kadonaga\"}, {\"credit_id\": \"54491cf50e0a267483001b0c\", \"department\": \"Editing\", \"gender\": 0, \"id\": 1352422, \"job\": \"Dialogue Editor\", \"name\": \"Kim Foscato\"}, {\"credit_id\": \"544919f40e0a26748c001b09\", \"department\": \"Art\", \"gender\": 0, \"id\": 1352962, \"job\": \"Set Designer\", \"name\": \"Tammy S. Lee\"}, {\"credit_id\": \"5495a115c3a3680ff5002d71\", \"department\": \"Crew\", \"gender\": 0, \"id\": 1357070, \"job\": \"Transportation Coordinator\", \"name\": \"Denny Caira\"}, {\"credit_id\": \"5495a12f92514130fc002e94\", \"department\": \"Crew\", \"gender\": 0, \"id\": 1357071, \"job\": \"Transportation Coordinator\", \"name\": \"James Waitkus\"}, {\"credit_id\": \"5495976fc3a36811530026b0\", \"department\": \"Sound\", \"gender\": 0, \"id\": 1360103, \"job\": \"Supervising Sound Editor\", \"name\": \"Addison Teague\"}, {\"credit_id\": \"54491837c3a3680fb1001c5a\", \"department\": \"Art\", \"gender\": 2, \"id\": 1376887, \"job\": \"Set Designer\", \"name\": \"C. Scott Baker\"}, {\"credit_id\": \"54491878c3a3680fb4001c9d\", \"department\": \"Art\", \"gender\": 0, \"id\": 1376888, \"job\": \"Set Designer\", \"name\": \"Luke Caska\"}, {\"credit_id\": \"544918dac3a3680fa5001ae0\", \"department\": \"Art\", \"gender\": 0, \"id\": 1376889, \"job\": \"Set Designer\", \"name\": \"David Chow\"}, {\"credit_id\": \"544919110e0a267486001b68\", \"department\": \"Art\", \"gender\": 0, \"id\": 1376890, \"job\": \"Set Designer\", \"name\": \"Jonathan Dyer\"}, {\"credit_id\": \"54491967c3a3680faa001b5e\", \"department\": \"Art\", \"gender\": 0, \"id\": 1376891, \"job\": \"Set Designer\", \"name\": \"Joseph Hiura\"}, {\"credit_id\": \"54491997c3a3680fb1001c8a\", \"department\": \"Art\", \"gender\": 0, \"id\": 1376892, \"job\": \"Art Department Coordinator\", \"name\": \"Rebecca Jellie\"}, {\"credit_id\": \"544919ba0e0a26748f001b42\", \"department\": \"Art\", \"gender\": 0, \"id\": 1376893, \"job\": \"Set Designer\", \"name\": \"Robert Andrew Johnson\"}, {\"credit_id\": \"54491b1dc3a3680faa001b8c\", \"department\": \"Art\", \"gender\": 0, \"id\": 1376895, \"job\": \"Assistant Art Director\", \"name\": \"Mike Stassi\"}, {\"credit_id\": \"54491b79c3a3680fbb001826\", \"department\": \"Art\", \"gender\": 0, \"id\": 1376897, \"job\": \"Construction Coordinator\", \"name\": \"John Villarino\"}, {\"credit_id\": \"54491baec3a3680fb4001ce6\", \"department\": \"Art\", \"gender\": 2, \"id\": 1376898, \"job\": \"Assistant Art Director\", \"name\": \"Jeffrey Wisniewski\"}, {\"credit_id\": \"54491d2fc3a3680fb4001d07\", \"department\": \"Editing\", \"gender\": 0, \"id\": 1376899, \"job\": \"Dialogue Editor\", \"name\": \"Cheryl Nardi\"}, {\"credit_id\": \"54491d86c3a3680fa5001b2f\", \"department\": \"Editing\", \"gender\": 0, \"id\": 1376901, \"job\": \"Dialogue Editor\", \"name\": \"Marshall Winn\"}, {\"credit_id\": \"54491d9dc3a3680faa001bb0\", \"department\": \"Sound\", \"gender\": 0, \"id\": 1376902, \"job\": \"Supervising Sound Editor\", \"name\": \"Gwendolyn Yates Whittle\"}, {\"credit_id\": \"54491dc10e0a267486001bce\", \"department\": \"Sound\", \"gender\": 0, \"id\": 1376903, \"job\": \"Sound Re-Recording Mixer\", \"name\": \"William Stein\"}, {\"credit_id\": \"54491f500e0a26747c001c07\", \"department\": \"Crew\", \"gender\": 0, \"id\": 1376909, \"job\": \"Choreographer\", \"name\": \"Lula Washington\"}, {\"credit_id\": \"549599239251412c4e002a2e\", \"department\": \"Visual Effects\", \"gender\": 0, \"id\": 1391692, \"job\": \"Visual Effects Producer\", \"name\": \"Chris Del Conte\"}, {\"credit_id\": \"54959d54c3a36831b8001d9a\", \"department\": \"Visual Effects\", \"gender\": 2, \"id\": 1391695, \"job\": \"Visual Effects Supervisor\", \"name\": \"R. Christopher White\"}, {\"credit_id\": \"54959bdf9251412c4e002a66\", \"department\": \"Visual Effects\", \"gender\": 0, \"id\": 1394070, \"job\": \"Visual Effects Supervisor\", \"name\": \"Dan Lemmon\"}, {\"credit_id\": \"5495971d92514132ed002922\", \"department\": \"Sound\", \"gender\": 0, \"id\": 1394129, \"job\": \"Sound Effects Editor\", \"name\": \"Tim Nielsen\"}, {\"credit_id\": \"5592b25792514152cc0011aa\", \"department\": \"Crew\", \"gender\": 0, \"id\": 1394286, \"job\": \"CG Supervisor\", \"name\": \"Michael Mulholland\"}, {\"credit_id\": \"54959a329251416e2b004355\", \"department\": \"Crew\", \"gender\": 0, \"id\": 1394750, \"job\": \"Visual Effects Editor\", \"name\": \"Thomas Nittmann\"}, {\"credit_id\": \"54959d6dc3a3686ae9004401\", \"department\": \"Visual Effects\", \"gender\": 0, \"id\": 1394755, \"job\": \"Visual Effects Supervisor\", \"name\": \"Edson Williams\"}, {\"credit_id\": \"5495a08fc3a3686ae300441c\", \"department\": \"Editing\", \"gender\": 0, \"id\": 1394953, \"job\": \"Digital Intermediate\", \"name\": \"Christine Carr\"}, {\"credit_id\": \"55402d659251413d6d000249\", \"department\": \"Visual Effects\", \"gender\": 0, \"id\": 1395269, \"job\": \"Visual Effects Supervisor\", \"name\": \"John Bruno\"}, {\"credit_id\": \"54959e7b9251416e1e003f3e\", \"department\": \"Camera\", \"gender\": 0, \"id\": 1398970, \"job\": \"Steadicam Operator\", \"name\": \"David Emmerichs\"}, {\"credit_id\": \"54959734c3a3686ae10045e0\", \"department\": \"Sound\", \"gender\": 0, \"id\": 1400906, \"job\": \"Sound Effects Editor\", \"name\": \"Christopher Scarabosio\"}, {\"credit_id\": \"549595dd92514130fc002d79\", \"department\": \"Production\", \"gender\": 0, \"id\": 1401784, \"job\": \"Production Supervisor\", \"name\": \"Jennifer Teves\"}, {\"credit_id\": \"549596009251413af70028cc\", \"department\": \"Production\", \"gender\": 0, \"id\": 1401785, \"job\": \"Production Manager\", \"name\": \"Brigitte Yorke\"}, {\"credit_id\": \"549596e892514130fc002d99\", \"department\": \"Sound\", \"gender\": 0, \"id\": 1401786, \"job\": \"Sound Effects Editor\", \"name\": \"Ken Fischer\"}, {\"credit_id\": \"549598229251412c4e002a1c\", \"department\": \"Crew\", \"gender\": 0, \"id\": 1401787, \"job\": \"Special Effects Coordinator\", \"name\": \"Iain Hutton\"}, {\"credit_id\": \"549598349251416e2b00432b\", \"department\": \"Crew\", \"gender\": 0, \"id\": 1401788, \"job\": \"Special Effects Coordinator\", \"name\": \"Steve Ingram\"}, {\"credit_id\": \"54959905c3a3686ae3004324\", \"department\": \"Visual Effects\", \"gender\": 0, \"id\": 1401789, \"job\": \"Visual Effects Producer\", \"name\": \"Joyce Cox\"}, {\"credit_id\": \"5495994b92514132ed002951\", \"department\": \"Visual Effects\", \"gender\": 0, \"id\": 1401790, \"job\": \"Visual Effects Producer\", \"name\": \"Jenny Foster\"}, {\"credit_id\": \"549599cbc3a3686ae1004613\", \"department\": \"Crew\", \"gender\": 0, \"id\": 1401791, \"job\": \"Visual Effects Editor\", \"name\": \"Christopher Marino\"}, {\"credit_id\": \"549599f2c3a3686ae100461e\", \"department\": \"Crew\", \"gender\": 0, \"id\": 1401792, \"job\": \"Visual Effects Editor\", \"name\": \"Jim Milton\"}, {\"credit_id\": \"54959a51c3a3686af3003eb5\", \"department\": \"Visual Effects\", \"gender\": 0, \"id\": 1401793, \"job\": \"Visual Effects Producer\", \"name\": \"Cyndi Ochs\"}, {\"credit_id\": \"54959a7cc3a36811530026f4\", \"department\": \"Crew\", \"gender\": 0, \"id\": 1401794, \"job\": \"Visual Effects Editor\", \"name\": \"Lucas Putnam\"}, {\"credit_id\": \"54959b91c3a3680ff5002cb4\", \"department\": \"Visual Effects\", \"gender\": 0, \"id\": 1401795, \"job\": \"Visual Effects Supervisor\", \"name\": \"Anthony \\'Max\\' Ivins\"}, {\"credit_id\": \"54959bb69251412c4e002a5f\", \"department\": \"Visual Effects\", \"gender\": 0, \"id\": 1401796, \"job\": \"Visual Effects Supervisor\", \"name\": \"John Knoll\"}, {\"credit_id\": \"54959cbbc3a3686ae3004391\", \"department\": \"Visual Effects\", \"gender\": 2, \"id\": 1401799, \"job\": \"Visual Effects Supervisor\", \"name\": \"Eric Saindon\"}, {\"credit_id\": \"54959d06c3a3686ae90043f6\", \"department\": \"Visual Effects\", \"gender\": 0, \"id\": 1401800, \"job\": \"Visual Effects Supervisor\", \"name\": \"Wayne Stables\"}, {\"credit_id\": \"54959d259251416e1e003f11\", \"department\": \"Visual Effects\", \"gender\": 0, \"id\": 1401801, \"job\": \"Visual Effects Supervisor\", \"name\": \"David Stinnett\"}, {\"credit_id\": \"54959db49251413af7002975\", \"department\": \"Visual Effects\", \"gender\": 0, \"id\": 1401803, \"job\": \"Visual Effects Supervisor\", \"name\": \"Guy Williams\"}, {\"credit_id\": \"54959de4c3a3681153002750\", \"department\": \"Crew\", \"gender\": 0, \"id\": 1401804, \"job\": \"Stunt Coordinator\", \"name\": \"Stuart Thorp\"}, {\"credit_id\": \"54959ef2c3a3680fc60027f2\", \"department\": \"Lighting\", \"gender\": 0, \"id\": 1401805, \"job\": \"Best Boy Electric\", \"name\": \"Giles Coburn\"}, {\"credit_id\": \"54959f07c3a3680fc60027f9\", \"department\": \"Camera\", \"gender\": 2, \"id\": 1401806, \"job\": \"Still Photographer\", \"name\": \"Mark Fellman\"}, {\"credit_id\": \"54959f47c3a3681153002774\", \"department\": \"Lighting\", \"gender\": 0, \"id\": 1401807, \"job\": \"Lighting Technician\", \"name\": \"Scott Sprague\"}, {\"credit_id\": \"54959f8cc3a36831b8001df2\", \"department\": \"Visual Effects\", \"gender\": 0, \"id\": 1401808, \"job\": \"Animation Director\", \"name\": \"Jeremy Hollobon\"}, {\"credit_id\": \"54959fa0c3a36831b8001dfb\", \"department\": \"Visual Effects\", \"gender\": 0, \"id\": 1401809, \"job\": \"Animation Director\", \"name\": \"Orlando Meunier\"}, {\"credit_id\": \"54959fb6c3a3686af3003f54\", \"department\": \"Visual Effects\", \"gender\": 0, \"id\": 1401810, \"job\": \"Animation Director\", \"name\": \"Taisuke Tanimura\"}, {\"credit_id\": \"54959fd2c3a36831b8001e02\", \"department\": \"Costume & Make-Up\", \"gender\": 0, \"id\": 1401812, \"job\": \"Set Costumer\", \"name\": \"Lilia Mishel Acevedo\"}, {\"credit_id\": \"54959ff9c3a3686ae300440c\", \"department\": \"Costume & Make-Up\", \"gender\": 0, \"id\": 1401814, \"job\": \"Set Costumer\", \"name\": \"Alejandro M. Hernandez\"}, {\"credit_id\": \"5495a0ddc3a3686ae10046fe\", \"department\": \"Editing\", \"gender\": 0, \"id\": 1401815, \"job\": \"Digital Intermediate\", \"name\": \"Marvin Hall\"}, {\"credit_id\": \"5495a1f7c3a3686ae3004443\", \"department\": \"Production\", \"gender\": 0, \"id\": 1401816, \"job\": \"Publicist\", \"name\": \"Judy Alley\"}, {\"credit_id\": \"5592b29fc3a36869d100002f\", \"department\": \"Crew\", \"gender\": 0, \"id\": 1418381, \"job\": \"CG Supervisor\", \"name\": \"Mike Perry\"}, {\"credit_id\": \"5592b23a9251415df8001081\", \"department\": \"Crew\", \"gender\": 0, \"id\": 1426854, \"job\": \"CG Supervisor\", \"name\": \"Andrew Morley\"}, {\"credit_id\": \"55491e1192514104c40002d8\", \"department\": \"Art\", \"gender\": 0, \"id\": 1438901, \"job\": \"Conceptual Design\", \"name\": \"Seth Engstrom\"}, {\"credit_id\": \"5525d5809251417276002b06\", \"department\": \"Crew\", \"gender\": 0, \"id\": 1447362, \"job\": \"Visual Effects Art Director\", \"name\": \"Eric Oliver\"}, {\"credit_id\": \"554427ca925141586500312a\", \"department\": \"Visual Effects\", \"gender\": 0, \"id\": 1447503, \"job\": \"Modeling\", \"name\": \"Matsune Suzuki\"}, {\"credit_id\": \"551906889251415aab001c88\", \"department\": \"Art\", \"gender\": 0, \"id\": 1447524, \"job\": \"Art Department Manager\", \"name\": \"Paul Tobin\"}, {\"credit_id\": \"5592af8492514152cc0010de\", \"department\": \"Costume & Make-Up\", \"gender\": 0, \"id\": 1452643, \"job\": \"Hairstylist\", \"name\": \"Roxane Griffin\"}, {\"credit_id\": \"553d3c109251415852001318\", \"department\": \"Lighting\", \"gender\": 0, \"id\": 1453938, \"job\": \"Lighting Artist\", \"name\": \"Arun Ram-Mohan\"}, {\"credit_id\": \"5592af4692514152d5001355\", \"department\": \"Costume & Make-Up\", \"gender\": 0, \"id\": 1457305, \"job\": \"Makeup Artist\", \"name\": \"Georgia Lockhart-Adams\"}, {\"credit_id\": \"5592b2eac3a36877470012a5\", \"department\": \"Crew\", \"gender\": 0, \"id\": 1466035, \"job\": \"CG Supervisor\", \"name\": \"Thrain Shadbolt\"}, {\"credit_id\": \"5592b032c3a36877450015f1\", \"department\": \"Crew\", \"gender\": 0, \"id\": 1483220, \"job\": \"CG Supervisor\", \"name\": \"Brad Alexander\"}, {\"credit_id\": \"5592b05592514152d80012f6\", \"department\": \"Crew\", \"gender\": 0, \"id\": 1483221, \"job\": \"CG Supervisor\", \"name\": \"Shadi Almassizadeh\"}, {\"credit_id\": \"5592b090c3a36877570010b5\", \"department\": \"Crew\", \"gender\": 0, \"id\": 1483222, \"job\": \"CG Supervisor\", \"name\": \"Simon Clutterbuck\"}, {\"credit_id\": \"5592b0dbc3a368774b00112c\", \"department\": \"Crew\", \"gender\": 0, \"id\": 1483223, \"job\": \"CG Supervisor\", \"name\": \"Graeme Demmocks\"}, {\"credit_id\": \"5592b0fe92514152db0010c1\", \"department\": \"Crew\", \"gender\": 0, \"id\": 1483224, \"job\": \"CG Supervisor\", \"name\": \"Adrian Fernandes\"}, {\"credit_id\": \"5592b11f9251415df8001059\", \"department\": \"Crew\", \"gender\": 0, \"id\": 1483225, \"job\": \"CG Supervisor\", \"name\": \"Mitch Gates\"}, {\"credit_id\": \"5592b15dc3a3687745001645\", \"department\": \"Crew\", \"gender\": 0, \"id\": 1483226, \"job\": \"CG Supervisor\", \"name\": \"Jerry Kung\"}, {\"credit_id\": \"5592b18e925141645a0004ae\", \"department\": \"Crew\", \"gender\": 0, \"id\": 1483227, \"job\": \"CG Supervisor\", \"name\": \"Andy Lomas\"}, {\"credit_id\": \"5592b1bfc3a368775d0010e7\", \"department\": \"Crew\", \"gender\": 0, \"id\": 1483228, \"job\": \"CG Supervisor\", \"name\": \"Sebastian Marino\"}, {\"credit_id\": \"5592b2049251415df8001078\", \"department\": \"Crew\", \"gender\": 0, \"id\": 1483229, \"job\": \"CG Supervisor\", \"name\": \"Matthias Menz\"}, {\"credit_id\": \"5592b27b92514152d800136a\", \"department\": \"Crew\", \"gender\": 0, \"id\": 1483230, \"job\": \"CG Supervisor\", \"name\": \"Sergei Nevshupov\"}, {\"credit_id\": \"5592b2c3c3a36869e800003c\", \"department\": \"Crew\", \"gender\": 0, \"id\": 1483231, \"job\": \"CG Supervisor\", \"name\": \"Philippe Rebours\"}, {\"credit_id\": \"5592b317c3a36877470012af\", \"department\": \"Crew\", \"gender\": 0, \"id\": 1483232, \"job\": \"CG Supervisor\", \"name\": \"Michael Takarangi\"}, {\"credit_id\": \"5592b345c3a36877470012bb\", \"department\": \"Crew\", \"gender\": 0, \"id\": 1483233, \"job\": \"CG Supervisor\", \"name\": \"David Weitzberg\"}, {\"credit_id\": \"5592b37cc3a368775100113b\", \"department\": \"Crew\", \"gender\": 0, \"id\": 1483234, \"job\": \"CG Supervisor\", \"name\": \"Ben White\"}, {\"credit_id\": \"573c8e2f9251413f5d000094\", \"department\": \"Crew\", \"gender\": 1, \"id\": 1621932, \"job\": \"Stunts\", \"name\": \"Min Windle\"}]'"
            ]
          },
          "execution_count": 102,
          "metadata": {},
          "output_type": "execute_result"
        }
      ],
      "source": [
        "data['crew'][0]"
      ]
    },
    {
      "cell_type": "code",
      "execution_count": 103,
      "metadata": {
        "id": "YwFz2Zzqa1A4"
      },
      "outputs": [],
      "source": [
        "#fetching direction from jobs\n",
        "def fetch_director (obj):\n",
        "  l=[]\n",
        "  for i in ast.literal_eval(obj) :\n",
        "    if i['job'] == 'Director':\n",
        "      l.append(i['name'])\n",
        "      break\n",
        "  return l"
      ]
    },
    {
      "cell_type": "code",
      "execution_count": 104,
      "metadata": {
        "id": "pjj1-vaAa1I_"
      },
      "outputs": [],
      "source": [
        "\n",
        "data['crew'] = data['crew'].apply(fetch_director)"
      ]
    },
    {
      "cell_type": "code",
      "execution_count": 105,
      "metadata": {
        "colab": {
          "base_uri": "https://localhost:8080/",
          "height": 774
        },
        "id": "CdvXLGnLbzOM",
        "outputId": "0f82c685-980e-4fd8-c3eb-7d1f39d24e25"
      },
      "outputs": [
        {
          "data": {
            "text/html": [
              "<div>\n",
              "<style scoped>\n",
              "    .dataframe tbody tr th:only-of-type {\n",
              "        vertical-align: middle;\n",
              "    }\n",
              "\n",
              "    .dataframe tbody tr th {\n",
              "        vertical-align: top;\n",
              "    }\n",
              "\n",
              "    .dataframe thead th {\n",
              "        text-align: right;\n",
              "    }\n",
              "</style>\n",
              "<table border=\"1\" class=\"dataframe\">\n",
              "  <thead>\n",
              "    <tr style=\"text-align: right;\">\n",
              "      <th></th>\n",
              "      <th>movie_id</th>\n",
              "      <th>title</th>\n",
              "      <th>overview</th>\n",
              "      <th>genres</th>\n",
              "      <th>keywords</th>\n",
              "      <th>cast</th>\n",
              "      <th>crew</th>\n",
              "      <th>release_date</th>\n",
              "      <th>vote_average</th>\n",
              "      <th>vote_count</th>\n",
              "      <th>popularity</th>\n",
              "      <th>cat</th>\n",
              "    </tr>\n",
              "  </thead>\n",
              "  <tbody>\n",
              "    <tr>\n",
              "      <th>0</th>\n",
              "      <td>19995</td>\n",
              "      <td>Avatar</td>\n",
              "      <td>In the 22nd century, a paraplegic Marine is di...</td>\n",
              "      <td>[Action, Adventure, Fantasy, Science Fiction]</td>\n",
              "      <td>[culture clash, future, space war, space colon...</td>\n",
              "      <td>[Sam Worthington, Zoe Saldana, Sigourney Weaver]</td>\n",
              "      <td>[James Cameron]</td>\n",
              "      <td>2009-12-10</td>\n",
              "      <td>7.2</td>\n",
              "      <td>11800</td>\n",
              "      <td>150.437577</td>\n",
              "      <td>2009</td>\n",
              "    </tr>\n",
              "    <tr>\n",
              "      <th>1</th>\n",
              "      <td>285</td>\n",
              "      <td>Pirates of the Caribbean: At World's End</td>\n",
              "      <td>Captain Barbossa, long believed to be dead, ha...</td>\n",
              "      <td>[Adventure, Fantasy, Action]</td>\n",
              "      <td>[ocean, drug abuse, exotic island, east india ...</td>\n",
              "      <td>[Johnny Depp, Orlando Bloom, Keira Knightley]</td>\n",
              "      <td>[Gore Verbinski]</td>\n",
              "      <td>2007-05-19</td>\n",
              "      <td>6.9</td>\n",
              "      <td>4500</td>\n",
              "      <td>139.082615</td>\n",
              "      <td>2007</td>\n",
              "    </tr>\n",
              "    <tr>\n",
              "      <th>2</th>\n",
              "      <td>206647</td>\n",
              "      <td>Spectre</td>\n",
              "      <td>A cryptic message from Bond’s past sends him o...</td>\n",
              "      <td>[Action, Adventure, Crime]</td>\n",
              "      <td>[spy, based on novel, secret agent, sequel, mi...</td>\n",
              "      <td>[Daniel Craig, Christoph Waltz, Léa Seydoux]</td>\n",
              "      <td>[Sam Mendes]</td>\n",
              "      <td>2015-10-26</td>\n",
              "      <td>6.3</td>\n",
              "      <td>4466</td>\n",
              "      <td>107.376788</td>\n",
              "      <td>2015</td>\n",
              "    </tr>\n",
              "    <tr>\n",
              "      <th>3</th>\n",
              "      <td>49026</td>\n",
              "      <td>The Dark Knight Rises</td>\n",
              "      <td>Following the death of District Attorney Harve...</td>\n",
              "      <td>[Action, Crime, Drama, Thriller]</td>\n",
              "      <td>[dc comics, crime fighter, terrorist, secret i...</td>\n",
              "      <td>[Christian Bale, Michael Caine, Gary Oldman]</td>\n",
              "      <td>[Christopher Nolan]</td>\n",
              "      <td>2012-07-16</td>\n",
              "      <td>7.6</td>\n",
              "      <td>9106</td>\n",
              "      <td>112.312950</td>\n",
              "      <td>2012</td>\n",
              "    </tr>\n",
              "    <tr>\n",
              "      <th>4</th>\n",
              "      <td>49529</td>\n",
              "      <td>John Carter</td>\n",
              "      <td>John Carter is a war-weary, former military ca...</td>\n",
              "      <td>[Action, Adventure, Science Fiction]</td>\n",
              "      <td>[based on novel, mars, medallion, space travel...</td>\n",
              "      <td>[Taylor Kitsch, Lynn Collins, Samantha Morton]</td>\n",
              "      <td>[Andrew Stanton]</td>\n",
              "      <td>2012-03-07</td>\n",
              "      <td>6.1</td>\n",
              "      <td>2124</td>\n",
              "      <td>43.926995</td>\n",
              "      <td>2012</td>\n",
              "    </tr>\n",
              "  </tbody>\n",
              "</table>\n",
              "</div>"
            ],
            "text/plain": [
              "   movie_id                                     title  \\\n",
              "0     19995                                    Avatar   \n",
              "1       285  Pirates of the Caribbean: At World's End   \n",
              "2    206647                                   Spectre   \n",
              "3     49026                     The Dark Knight Rises   \n",
              "4     49529                               John Carter   \n",
              "\n",
              "                                            overview  \\\n",
              "0  In the 22nd century, a paraplegic Marine is di...   \n",
              "1  Captain Barbossa, long believed to be dead, ha...   \n",
              "2  A cryptic message from Bond’s past sends him o...   \n",
              "3  Following the death of District Attorney Harve...   \n",
              "4  John Carter is a war-weary, former military ca...   \n",
              "\n",
              "                                          genres  \\\n",
              "0  [Action, Adventure, Fantasy, Science Fiction]   \n",
              "1                   [Adventure, Fantasy, Action]   \n",
              "2                     [Action, Adventure, Crime]   \n",
              "3               [Action, Crime, Drama, Thriller]   \n",
              "4           [Action, Adventure, Science Fiction]   \n",
              "\n",
              "                                            keywords  \\\n",
              "0  [culture clash, future, space war, space colon...   \n",
              "1  [ocean, drug abuse, exotic island, east india ...   \n",
              "2  [spy, based on novel, secret agent, sequel, mi...   \n",
              "3  [dc comics, crime fighter, terrorist, secret i...   \n",
              "4  [based on novel, mars, medallion, space travel...   \n",
              "\n",
              "                                               cast                 crew  \\\n",
              "0  [Sam Worthington, Zoe Saldana, Sigourney Weaver]      [James Cameron]   \n",
              "1     [Johnny Depp, Orlando Bloom, Keira Knightley]     [Gore Verbinski]   \n",
              "2      [Daniel Craig, Christoph Waltz, Léa Seydoux]         [Sam Mendes]   \n",
              "3      [Christian Bale, Michael Caine, Gary Oldman]  [Christopher Nolan]   \n",
              "4    [Taylor Kitsch, Lynn Collins, Samantha Morton]     [Andrew Stanton]   \n",
              "\n",
              "  release_date  vote_average  vote_count  popularity   cat  \n",
              "0   2009-12-10           7.2       11800  150.437577  2009  \n",
              "1   2007-05-19           6.9        4500  139.082615  2007  \n",
              "2   2015-10-26           6.3        4466  107.376788  2015  \n",
              "3   2012-07-16           7.6        9106  112.312950  2012  \n",
              "4   2012-03-07           6.1        2124   43.926995  2012  "
            ]
          },
          "execution_count": 105,
          "metadata": {},
          "output_type": "execute_result"
        }
      ],
      "source": [
        "data.head()"
      ]
    },
    {
      "cell_type": "code",
      "execution_count": 106,
      "metadata": {
        "colab": {
          "base_uri": "https://localhost:8080/",
          "height": 53
        },
        "id": "NW4l1pKzb30g",
        "outputId": "315162c0-6b05-4794-fda7-80e094cc9751"
      },
      "outputs": [
        {
          "data": {
            "text/plain": [
              "'In the 22nd century, a paraplegic Marine is dispatched to the moon Pandora on a unique mission, but becomes torn between following orders and protecting an alien civilization.'"
            ]
          },
          "execution_count": 106,
          "metadata": {},
          "output_type": "execute_result"
        }
      ],
      "source": [
        "\n",
        "data['overview'][0]"
      ]
    },
    {
      "cell_type": "code",
      "execution_count": 107,
      "metadata": {
        "colab": {
          "base_uri": "https://localhost:8080/"
        },
        "id": "Ru3BRIx4JTCi",
        "outputId": "1c09c4dd-76db-46e0-e6bd-d097e741cf9b"
      },
      "outputs": [
        {
          "data": {
            "text/plain": [
              "['Action', 'Adventure', 'Fantasy', 'Science Fiction']"
            ]
          },
          "execution_count": 107,
          "metadata": {},
          "output_type": "execute_result"
        }
      ],
      "source": [
        "data['genres'][0]"
      ]
    },
    {
      "cell_type": "code",
      "execution_count": 108,
      "metadata": {
        "id": "yS1am4z8b-rm"
      },
      "outputs": [],
      "source": [
        "data['overview'] = data['overview'].apply( lambda x:x.split())"
      ]
    },
    {
      "cell_type": "code",
      "execution_count": 109,
      "metadata": {
        "colab": {
          "base_uri": "https://localhost:8080/",
          "height": 756
        },
        "id": "asEcRc1jcsxP",
        "outputId": "17985a6b-6d5c-4339-d4cd-7eec419b3b5d"
      },
      "outputs": [
        {
          "data": {
            "text/html": [
              "<div>\n",
              "<style scoped>\n",
              "    .dataframe tbody tr th:only-of-type {\n",
              "        vertical-align: middle;\n",
              "    }\n",
              "\n",
              "    .dataframe tbody tr th {\n",
              "        vertical-align: top;\n",
              "    }\n",
              "\n",
              "    .dataframe thead th {\n",
              "        text-align: right;\n",
              "    }\n",
              "</style>\n",
              "<table border=\"1\" class=\"dataframe\">\n",
              "  <thead>\n",
              "    <tr style=\"text-align: right;\">\n",
              "      <th></th>\n",
              "      <th>movie_id</th>\n",
              "      <th>title</th>\n",
              "      <th>overview</th>\n",
              "      <th>genres</th>\n",
              "      <th>keywords</th>\n",
              "      <th>cast</th>\n",
              "      <th>crew</th>\n",
              "      <th>release_date</th>\n",
              "      <th>vote_average</th>\n",
              "      <th>vote_count</th>\n",
              "      <th>popularity</th>\n",
              "      <th>cat</th>\n",
              "    </tr>\n",
              "  </thead>\n",
              "  <tbody>\n",
              "    <tr>\n",
              "      <th>0</th>\n",
              "      <td>19995</td>\n",
              "      <td>Avatar</td>\n",
              "      <td>[In, the, 22nd, century,, a, paraplegic, Marin...</td>\n",
              "      <td>[Action, Adventure, Fantasy, Science Fiction]</td>\n",
              "      <td>[culture clash, future, space war, space colon...</td>\n",
              "      <td>[Sam Worthington, Zoe Saldana, Sigourney Weaver]</td>\n",
              "      <td>[James Cameron]</td>\n",
              "      <td>2009-12-10</td>\n",
              "      <td>7.2</td>\n",
              "      <td>11800</td>\n",
              "      <td>150.437577</td>\n",
              "      <td>2009</td>\n",
              "    </tr>\n",
              "    <tr>\n",
              "      <th>1</th>\n",
              "      <td>285</td>\n",
              "      <td>Pirates of the Caribbean: At World's End</td>\n",
              "      <td>[Captain, Barbossa,, long, believed, to, be, d...</td>\n",
              "      <td>[Adventure, Fantasy, Action]</td>\n",
              "      <td>[ocean, drug abuse, exotic island, east india ...</td>\n",
              "      <td>[Johnny Depp, Orlando Bloom, Keira Knightley]</td>\n",
              "      <td>[Gore Verbinski]</td>\n",
              "      <td>2007-05-19</td>\n",
              "      <td>6.9</td>\n",
              "      <td>4500</td>\n",
              "      <td>139.082615</td>\n",
              "      <td>2007</td>\n",
              "    </tr>\n",
              "    <tr>\n",
              "      <th>2</th>\n",
              "      <td>206647</td>\n",
              "      <td>Spectre</td>\n",
              "      <td>[A, cryptic, message, from, Bond’s, past, send...</td>\n",
              "      <td>[Action, Adventure, Crime]</td>\n",
              "      <td>[spy, based on novel, secret agent, sequel, mi...</td>\n",
              "      <td>[Daniel Craig, Christoph Waltz, Léa Seydoux]</td>\n",
              "      <td>[Sam Mendes]</td>\n",
              "      <td>2015-10-26</td>\n",
              "      <td>6.3</td>\n",
              "      <td>4466</td>\n",
              "      <td>107.376788</td>\n",
              "      <td>2015</td>\n",
              "    </tr>\n",
              "    <tr>\n",
              "      <th>3</th>\n",
              "      <td>49026</td>\n",
              "      <td>The Dark Knight Rises</td>\n",
              "      <td>[Following, the, death, of, District, Attorney...</td>\n",
              "      <td>[Action, Crime, Drama, Thriller]</td>\n",
              "      <td>[dc comics, crime fighter, terrorist, secret i...</td>\n",
              "      <td>[Christian Bale, Michael Caine, Gary Oldman]</td>\n",
              "      <td>[Christopher Nolan]</td>\n",
              "      <td>2012-07-16</td>\n",
              "      <td>7.6</td>\n",
              "      <td>9106</td>\n",
              "      <td>112.312950</td>\n",
              "      <td>2012</td>\n",
              "    </tr>\n",
              "    <tr>\n",
              "      <th>4</th>\n",
              "      <td>49529</td>\n",
              "      <td>John Carter</td>\n",
              "      <td>[John, Carter, is, a, war-weary,, former, mili...</td>\n",
              "      <td>[Action, Adventure, Science Fiction]</td>\n",
              "      <td>[based on novel, mars, medallion, space travel...</td>\n",
              "      <td>[Taylor Kitsch, Lynn Collins, Samantha Morton]</td>\n",
              "      <td>[Andrew Stanton]</td>\n",
              "      <td>2012-03-07</td>\n",
              "      <td>6.1</td>\n",
              "      <td>2124</td>\n",
              "      <td>43.926995</td>\n",
              "      <td>2012</td>\n",
              "    </tr>\n",
              "  </tbody>\n",
              "</table>\n",
              "</div>"
            ],
            "text/plain": [
              "   movie_id                                     title  \\\n",
              "0     19995                                    Avatar   \n",
              "1       285  Pirates of the Caribbean: At World's End   \n",
              "2    206647                                   Spectre   \n",
              "3     49026                     The Dark Knight Rises   \n",
              "4     49529                               John Carter   \n",
              "\n",
              "                                            overview  \\\n",
              "0  [In, the, 22nd, century,, a, paraplegic, Marin...   \n",
              "1  [Captain, Barbossa,, long, believed, to, be, d...   \n",
              "2  [A, cryptic, message, from, Bond’s, past, send...   \n",
              "3  [Following, the, death, of, District, Attorney...   \n",
              "4  [John, Carter, is, a, war-weary,, former, mili...   \n",
              "\n",
              "                                          genres  \\\n",
              "0  [Action, Adventure, Fantasy, Science Fiction]   \n",
              "1                   [Adventure, Fantasy, Action]   \n",
              "2                     [Action, Adventure, Crime]   \n",
              "3               [Action, Crime, Drama, Thriller]   \n",
              "4           [Action, Adventure, Science Fiction]   \n",
              "\n",
              "                                            keywords  \\\n",
              "0  [culture clash, future, space war, space colon...   \n",
              "1  [ocean, drug abuse, exotic island, east india ...   \n",
              "2  [spy, based on novel, secret agent, sequel, mi...   \n",
              "3  [dc comics, crime fighter, terrorist, secret i...   \n",
              "4  [based on novel, mars, medallion, space travel...   \n",
              "\n",
              "                                               cast                 crew  \\\n",
              "0  [Sam Worthington, Zoe Saldana, Sigourney Weaver]      [James Cameron]   \n",
              "1     [Johnny Depp, Orlando Bloom, Keira Knightley]     [Gore Verbinski]   \n",
              "2      [Daniel Craig, Christoph Waltz, Léa Seydoux]         [Sam Mendes]   \n",
              "3      [Christian Bale, Michael Caine, Gary Oldman]  [Christopher Nolan]   \n",
              "4    [Taylor Kitsch, Lynn Collins, Samantha Morton]     [Andrew Stanton]   \n",
              "\n",
              "  release_date  vote_average  vote_count  popularity   cat  \n",
              "0   2009-12-10           7.2       11800  150.437577  2009  \n",
              "1   2007-05-19           6.9        4500  139.082615  2007  \n",
              "2   2015-10-26           6.3        4466  107.376788  2015  \n",
              "3   2012-07-16           7.6        9106  112.312950  2012  \n",
              "4   2012-03-07           6.1        2124   43.926995  2012  "
            ]
          },
          "execution_count": 109,
          "metadata": {},
          "output_type": "execute_result"
        }
      ],
      "source": [
        "data.head()"
      ]
    },
    {
      "cell_type": "code",
      "execution_count": 110,
      "metadata": {
        "id": "0TLgqmSOcweG"
      },
      "outputs": [],
      "source": [
        "\n",
        "data['genres']= data['genres'].apply(lambda x:[i.replace(\" \",\"\") for i in x])"
      ]
    },
    {
      "cell_type": "code",
      "execution_count": 111,
      "metadata": {
        "id": "9NBmMcz3d4_y"
      },
      "outputs": [],
      "source": [
        "data['keywords']= data['keywords'].apply(lambda x:[i.replace(\" \",\"\") for i in x])"
      ]
    },
    {
      "cell_type": "code",
      "execution_count": 112,
      "metadata": {
        "id": "OZ7TS1LYeTBB"
      },
      "outputs": [],
      "source": [
        "\n",
        "data['cast']=data['cast'].apply(lambda x:[i.replace(\" \",\"\") for i in x])"
      ]
    },
    {
      "cell_type": "code",
      "execution_count": 113,
      "metadata": {
        "id": "muVIevIxeZ-S"
      },
      "outputs": [],
      "source": [
        "data['crew']= data['crew'].apply(lambda x:[i.replace(\" \",\"\") for i in x])"
      ]
    },
    {
      "cell_type": "code",
      "execution_count": 114,
      "metadata": {
        "id": "htLu1FIQeexZ"
      },
      "outputs": [],
      "source": [
        "data['tags']=data['overview']+data['genres']+data['keywords']+data['cast']+data['crew']"
      ]
    },
    {
      "cell_type": "code",
      "execution_count": 115,
      "metadata": {
        "colab": {
          "base_uri": "https://localhost:8080/",
          "height": 635
        },
        "id": "wm4_M9VPe9e8",
        "outputId": "0a707088-2032-4336-a18f-d232262f1f04"
      },
      "outputs": [
        {
          "data": {
            "text/html": [
              "<div>\n",
              "<style scoped>\n",
              "    .dataframe tbody tr th:only-of-type {\n",
              "        vertical-align: middle;\n",
              "    }\n",
              "\n",
              "    .dataframe tbody tr th {\n",
              "        vertical-align: top;\n",
              "    }\n",
              "\n",
              "    .dataframe thead th {\n",
              "        text-align: right;\n",
              "    }\n",
              "</style>\n",
              "<table border=\"1\" class=\"dataframe\">\n",
              "  <thead>\n",
              "    <tr style=\"text-align: right;\">\n",
              "      <th></th>\n",
              "      <th>movie_id</th>\n",
              "      <th>title</th>\n",
              "      <th>overview</th>\n",
              "      <th>genres</th>\n",
              "      <th>keywords</th>\n",
              "      <th>cast</th>\n",
              "      <th>crew</th>\n",
              "      <th>release_date</th>\n",
              "      <th>vote_average</th>\n",
              "      <th>vote_count</th>\n",
              "      <th>popularity</th>\n",
              "      <th>cat</th>\n",
              "      <th>tags</th>\n",
              "    </tr>\n",
              "  </thead>\n",
              "  <tbody>\n",
              "    <tr>\n",
              "      <th>0</th>\n",
              "      <td>19995</td>\n",
              "      <td>Avatar</td>\n",
              "      <td>[In, the, 22nd, century,, a, paraplegic, Marin...</td>\n",
              "      <td>[Action, Adventure, Fantasy, ScienceFiction]</td>\n",
              "      <td>[cultureclash, future, spacewar, spacecolony, ...</td>\n",
              "      <td>[SamWorthington, ZoeSaldana, SigourneyWeaver]</td>\n",
              "      <td>[JamesCameron]</td>\n",
              "      <td>2009-12-10</td>\n",
              "      <td>7.2</td>\n",
              "      <td>11800</td>\n",
              "      <td>150.437577</td>\n",
              "      <td>2009</td>\n",
              "      <td>[In, the, 22nd, century,, a, paraplegic, Marin...</td>\n",
              "    </tr>\n",
              "    <tr>\n",
              "      <th>1</th>\n",
              "      <td>285</td>\n",
              "      <td>Pirates of the Caribbean: At World's End</td>\n",
              "      <td>[Captain, Barbossa,, long, believed, to, be, d...</td>\n",
              "      <td>[Adventure, Fantasy, Action]</td>\n",
              "      <td>[ocean, drugabuse, exoticisland, eastindiatrad...</td>\n",
              "      <td>[JohnnyDepp, OrlandoBloom, KeiraKnightley]</td>\n",
              "      <td>[GoreVerbinski]</td>\n",
              "      <td>2007-05-19</td>\n",
              "      <td>6.9</td>\n",
              "      <td>4500</td>\n",
              "      <td>139.082615</td>\n",
              "      <td>2007</td>\n",
              "      <td>[Captain, Barbossa,, long, believed, to, be, d...</td>\n",
              "    </tr>\n",
              "    <tr>\n",
              "      <th>2</th>\n",
              "      <td>206647</td>\n",
              "      <td>Spectre</td>\n",
              "      <td>[A, cryptic, message, from, Bond’s, past, send...</td>\n",
              "      <td>[Action, Adventure, Crime]</td>\n",
              "      <td>[spy, basedonnovel, secretagent, sequel, mi6, ...</td>\n",
              "      <td>[DanielCraig, ChristophWaltz, LéaSeydoux]</td>\n",
              "      <td>[SamMendes]</td>\n",
              "      <td>2015-10-26</td>\n",
              "      <td>6.3</td>\n",
              "      <td>4466</td>\n",
              "      <td>107.376788</td>\n",
              "      <td>2015</td>\n",
              "      <td>[A, cryptic, message, from, Bond’s, past, send...</td>\n",
              "    </tr>\n",
              "    <tr>\n",
              "      <th>3</th>\n",
              "      <td>49026</td>\n",
              "      <td>The Dark Knight Rises</td>\n",
              "      <td>[Following, the, death, of, District, Attorney...</td>\n",
              "      <td>[Action, Crime, Drama, Thriller]</td>\n",
              "      <td>[dccomics, crimefighter, terrorist, secretiden...</td>\n",
              "      <td>[ChristianBale, MichaelCaine, GaryOldman]</td>\n",
              "      <td>[ChristopherNolan]</td>\n",
              "      <td>2012-07-16</td>\n",
              "      <td>7.6</td>\n",
              "      <td>9106</td>\n",
              "      <td>112.312950</td>\n",
              "      <td>2012</td>\n",
              "      <td>[Following, the, death, of, District, Attorney...</td>\n",
              "    </tr>\n",
              "    <tr>\n",
              "      <th>4</th>\n",
              "      <td>49529</td>\n",
              "      <td>John Carter</td>\n",
              "      <td>[John, Carter, is, a, war-weary,, former, mili...</td>\n",
              "      <td>[Action, Adventure, ScienceFiction]</td>\n",
              "      <td>[basedonnovel, mars, medallion, spacetravel, p...</td>\n",
              "      <td>[TaylorKitsch, LynnCollins, SamanthaMorton]</td>\n",
              "      <td>[AndrewStanton]</td>\n",
              "      <td>2012-03-07</td>\n",
              "      <td>6.1</td>\n",
              "      <td>2124</td>\n",
              "      <td>43.926995</td>\n",
              "      <td>2012</td>\n",
              "      <td>[John, Carter, is, a, war-weary,, former, mili...</td>\n",
              "    </tr>\n",
              "  </tbody>\n",
              "</table>\n",
              "</div>"
            ],
            "text/plain": [
              "   movie_id                                     title  \\\n",
              "0     19995                                    Avatar   \n",
              "1       285  Pirates of the Caribbean: At World's End   \n",
              "2    206647                                   Spectre   \n",
              "3     49026                     The Dark Knight Rises   \n",
              "4     49529                               John Carter   \n",
              "\n",
              "                                            overview  \\\n",
              "0  [In, the, 22nd, century,, a, paraplegic, Marin...   \n",
              "1  [Captain, Barbossa,, long, believed, to, be, d...   \n",
              "2  [A, cryptic, message, from, Bond’s, past, send...   \n",
              "3  [Following, the, death, of, District, Attorney...   \n",
              "4  [John, Carter, is, a, war-weary,, former, mili...   \n",
              "\n",
              "                                         genres  \\\n",
              "0  [Action, Adventure, Fantasy, ScienceFiction]   \n",
              "1                  [Adventure, Fantasy, Action]   \n",
              "2                    [Action, Adventure, Crime]   \n",
              "3              [Action, Crime, Drama, Thriller]   \n",
              "4           [Action, Adventure, ScienceFiction]   \n",
              "\n",
              "                                            keywords  \\\n",
              "0  [cultureclash, future, spacewar, spacecolony, ...   \n",
              "1  [ocean, drugabuse, exoticisland, eastindiatrad...   \n",
              "2  [spy, basedonnovel, secretagent, sequel, mi6, ...   \n",
              "3  [dccomics, crimefighter, terrorist, secretiden...   \n",
              "4  [basedonnovel, mars, medallion, spacetravel, p...   \n",
              "\n",
              "                                            cast                crew  \\\n",
              "0  [SamWorthington, ZoeSaldana, SigourneyWeaver]      [JamesCameron]   \n",
              "1     [JohnnyDepp, OrlandoBloom, KeiraKnightley]     [GoreVerbinski]   \n",
              "2      [DanielCraig, ChristophWaltz, LéaSeydoux]         [SamMendes]   \n",
              "3      [ChristianBale, MichaelCaine, GaryOldman]  [ChristopherNolan]   \n",
              "4    [TaylorKitsch, LynnCollins, SamanthaMorton]     [AndrewStanton]   \n",
              "\n",
              "  release_date  vote_average  vote_count  popularity   cat  \\\n",
              "0   2009-12-10           7.2       11800  150.437577  2009   \n",
              "1   2007-05-19           6.9        4500  139.082615  2007   \n",
              "2   2015-10-26           6.3        4466  107.376788  2015   \n",
              "3   2012-07-16           7.6        9106  112.312950  2012   \n",
              "4   2012-03-07           6.1        2124   43.926995  2012   \n",
              "\n",
              "                                                tags  \n",
              "0  [In, the, 22nd, century,, a, paraplegic, Marin...  \n",
              "1  [Captain, Barbossa,, long, believed, to, be, d...  \n",
              "2  [A, cryptic, message, from, Bond’s, past, send...  \n",
              "3  [Following, the, death, of, District, Attorney...  \n",
              "4  [John, Carter, is, a, war-weary,, former, mili...  "
            ]
          },
          "execution_count": 115,
          "metadata": {},
          "output_type": "execute_result"
        }
      ],
      "source": [
        "data.head()"
      ]
    },
    {
      "cell_type": "code",
      "execution_count": 116,
      "metadata": {
        "colab": {
          "base_uri": "https://localhost:8080/"
        },
        "id": "MxPN8hurfAL8",
        "outputId": "5593ab0b-8b41-49e0-e701-fcdcfd2313ac"
      },
      "outputs": [],
      "source": [
        "new_df = data[['movie_id','title','tags','popularity','vote_average','genres']]\n"
      ]
    },
    {
      "cell_type": "code",
      "execution_count": 117,
      "metadata": {
        "colab": {
          "base_uri": "https://localhost:8080/",
          "height": 641
        },
        "id": "BP10Y7hBj9T1",
        "outputId": "8d1e2942-53a3-46ac-a899-7852454d1bbc"
      },
      "outputs": [
        {
          "data": {
            "text/html": [
              "<div>\n",
              "<style scoped>\n",
              "    .dataframe tbody tr th:only-of-type {\n",
              "        vertical-align: middle;\n",
              "    }\n",
              "\n",
              "    .dataframe tbody tr th {\n",
              "        vertical-align: top;\n",
              "    }\n",
              "\n",
              "    .dataframe thead th {\n",
              "        text-align: right;\n",
              "    }\n",
              "</style>\n",
              "<table border=\"1\" class=\"dataframe\">\n",
              "  <thead>\n",
              "    <tr style=\"text-align: right;\">\n",
              "      <th></th>\n",
              "      <th>movie_id</th>\n",
              "      <th>title</th>\n",
              "      <th>tags</th>\n",
              "      <th>popularity</th>\n",
              "      <th>vote_average</th>\n",
              "      <th>genres</th>\n",
              "    </tr>\n",
              "  </thead>\n",
              "  <tbody>\n",
              "    <tr>\n",
              "      <th>0</th>\n",
              "      <td>19995</td>\n",
              "      <td>Avatar</td>\n",
              "      <td>[In, the, 22nd, century,, a, paraplegic, Marin...</td>\n",
              "      <td>150.437577</td>\n",
              "      <td>7.2</td>\n",
              "      <td>[Action, Adventure, Fantasy, ScienceFiction]</td>\n",
              "    </tr>\n",
              "    <tr>\n",
              "      <th>1</th>\n",
              "      <td>285</td>\n",
              "      <td>Pirates of the Caribbean: At World's End</td>\n",
              "      <td>[Captain, Barbossa,, long, believed, to, be, d...</td>\n",
              "      <td>139.082615</td>\n",
              "      <td>6.9</td>\n",
              "      <td>[Adventure, Fantasy, Action]</td>\n",
              "    </tr>\n",
              "    <tr>\n",
              "      <th>2</th>\n",
              "      <td>206647</td>\n",
              "      <td>Spectre</td>\n",
              "      <td>[A, cryptic, message, from, Bond’s, past, send...</td>\n",
              "      <td>107.376788</td>\n",
              "      <td>6.3</td>\n",
              "      <td>[Action, Adventure, Crime]</td>\n",
              "    </tr>\n",
              "    <tr>\n",
              "      <th>3</th>\n",
              "      <td>49026</td>\n",
              "      <td>The Dark Knight Rises</td>\n",
              "      <td>[Following, the, death, of, District, Attorney...</td>\n",
              "      <td>112.312950</td>\n",
              "      <td>7.6</td>\n",
              "      <td>[Action, Crime, Drama, Thriller]</td>\n",
              "    </tr>\n",
              "    <tr>\n",
              "      <th>4</th>\n",
              "      <td>49529</td>\n",
              "      <td>John Carter</td>\n",
              "      <td>[John, Carter, is, a, war-weary,, former, mili...</td>\n",
              "      <td>43.926995</td>\n",
              "      <td>6.1</td>\n",
              "      <td>[Action, Adventure, ScienceFiction]</td>\n",
              "    </tr>\n",
              "    <tr>\n",
              "      <th>...</th>\n",
              "      <td>...</td>\n",
              "      <td>...</td>\n",
              "      <td>...</td>\n",
              "      <td>...</td>\n",
              "      <td>...</td>\n",
              "      <td>...</td>\n",
              "    </tr>\n",
              "    <tr>\n",
              "      <th>4804</th>\n",
              "      <td>9367</td>\n",
              "      <td>El Mariachi</td>\n",
              "      <td>[El, Mariachi, just, wants, to, play, his, gui...</td>\n",
              "      <td>14.269792</td>\n",
              "      <td>6.6</td>\n",
              "      <td>[Action, Crime, Thriller]</td>\n",
              "    </tr>\n",
              "    <tr>\n",
              "      <th>4805</th>\n",
              "      <td>72766</td>\n",
              "      <td>Newlyweds</td>\n",
              "      <td>[A, newlywed, couple's, honeymoon, is, upended...</td>\n",
              "      <td>0.642552</td>\n",
              "      <td>5.9</td>\n",
              "      <td>[Comedy, Romance]</td>\n",
              "    </tr>\n",
              "    <tr>\n",
              "      <th>4806</th>\n",
              "      <td>231617</td>\n",
              "      <td>Signed, Sealed, Delivered</td>\n",
              "      <td>[\"Signed,, Sealed,, Delivered\", introduces, a,...</td>\n",
              "      <td>1.444476</td>\n",
              "      <td>7.0</td>\n",
              "      <td>[Comedy, Drama, Romance, TVMovie]</td>\n",
              "    </tr>\n",
              "    <tr>\n",
              "      <th>4807</th>\n",
              "      <td>126186</td>\n",
              "      <td>Shanghai Calling</td>\n",
              "      <td>[When, ambitious, New, York, attorney, Sam, is...</td>\n",
              "      <td>0.857008</td>\n",
              "      <td>5.7</td>\n",
              "      <td>[]</td>\n",
              "    </tr>\n",
              "    <tr>\n",
              "      <th>4808</th>\n",
              "      <td>25975</td>\n",
              "      <td>My Date with Drew</td>\n",
              "      <td>[Ever, since, the, second, grade, when, he, fi...</td>\n",
              "      <td>1.929883</td>\n",
              "      <td>6.3</td>\n",
              "      <td>[Documentary]</td>\n",
              "    </tr>\n",
              "  </tbody>\n",
              "</table>\n",
              "<p>4805 rows × 6 columns</p>\n",
              "</div>"
            ],
            "text/plain": [
              "      movie_id                                     title  \\\n",
              "0        19995                                    Avatar   \n",
              "1          285  Pirates of the Caribbean: At World's End   \n",
              "2       206647                                   Spectre   \n",
              "3        49026                     The Dark Knight Rises   \n",
              "4        49529                               John Carter   \n",
              "...        ...                                       ...   \n",
              "4804      9367                               El Mariachi   \n",
              "4805     72766                                 Newlyweds   \n",
              "4806    231617                 Signed, Sealed, Delivered   \n",
              "4807    126186                          Shanghai Calling   \n",
              "4808     25975                         My Date with Drew   \n",
              "\n",
              "                                                   tags  popularity  \\\n",
              "0     [In, the, 22nd, century,, a, paraplegic, Marin...  150.437577   \n",
              "1     [Captain, Barbossa,, long, believed, to, be, d...  139.082615   \n",
              "2     [A, cryptic, message, from, Bond’s, past, send...  107.376788   \n",
              "3     [Following, the, death, of, District, Attorney...  112.312950   \n",
              "4     [John, Carter, is, a, war-weary,, former, mili...   43.926995   \n",
              "...                                                 ...         ...   \n",
              "4804  [El, Mariachi, just, wants, to, play, his, gui...   14.269792   \n",
              "4805  [A, newlywed, couple's, honeymoon, is, upended...    0.642552   \n",
              "4806  [\"Signed,, Sealed,, Delivered\", introduces, a,...    1.444476   \n",
              "4807  [When, ambitious, New, York, attorney, Sam, is...    0.857008   \n",
              "4808  [Ever, since, the, second, grade, when, he, fi...    1.929883   \n",
              "\n",
              "      vote_average                                        genres  \n",
              "0              7.2  [Action, Adventure, Fantasy, ScienceFiction]  \n",
              "1              6.9                  [Adventure, Fantasy, Action]  \n",
              "2              6.3                    [Action, Adventure, Crime]  \n",
              "3              7.6              [Action, Crime, Drama, Thriller]  \n",
              "4              6.1           [Action, Adventure, ScienceFiction]  \n",
              "...            ...                                           ...  \n",
              "4804           6.6                     [Action, Crime, Thriller]  \n",
              "4805           5.9                             [Comedy, Romance]  \n",
              "4806           7.0             [Comedy, Drama, Romance, TVMovie]  \n",
              "4807           5.7                                            []  \n",
              "4808           6.3                                 [Documentary]  \n",
              "\n",
              "[4805 rows x 6 columns]"
            ]
          },
          "execution_count": 117,
          "metadata": {},
          "output_type": "execute_result"
        }
      ],
      "source": [
        "\n",
        "new_df"
      ]
    },
    {
      "cell_type": "code",
      "execution_count": 118,
      "metadata": {
        "id": "A42cXb08kAsp"
      },
      "outputs": [],
      "source": [
        "\n",
        "new_df['tags']=new_df['tags'].apply(lambda x:\" \".join(x))"
      ]
    },
    {
      "cell_type": "code",
      "execution_count": 119,
      "metadata": {
        "colab": {
          "base_uri": "https://localhost:8080/",
          "height": 337
        },
        "id": "CjVzjARSkNYD",
        "outputId": "2d524267-c4ff-49ac-8890-45f939f894ed"
      },
      "outputs": [
        {
          "data": {
            "text/html": [
              "<div>\n",
              "<style scoped>\n",
              "    .dataframe tbody tr th:only-of-type {\n",
              "        vertical-align: middle;\n",
              "    }\n",
              "\n",
              "    .dataframe tbody tr th {\n",
              "        vertical-align: top;\n",
              "    }\n",
              "\n",
              "    .dataframe thead th {\n",
              "        text-align: right;\n",
              "    }\n",
              "</style>\n",
              "<table border=\"1\" class=\"dataframe\">\n",
              "  <thead>\n",
              "    <tr style=\"text-align: right;\">\n",
              "      <th></th>\n",
              "      <th>movie_id</th>\n",
              "      <th>title</th>\n",
              "      <th>tags</th>\n",
              "      <th>popularity</th>\n",
              "      <th>vote_average</th>\n",
              "      <th>genres</th>\n",
              "    </tr>\n",
              "  </thead>\n",
              "  <tbody>\n",
              "    <tr>\n",
              "      <th>0</th>\n",
              "      <td>19995</td>\n",
              "      <td>Avatar</td>\n",
              "      <td>In the 22nd century, a paraplegic Marine is di...</td>\n",
              "      <td>150.437577</td>\n",
              "      <td>7.2</td>\n",
              "      <td>[Action, Adventure, Fantasy, ScienceFiction]</td>\n",
              "    </tr>\n",
              "    <tr>\n",
              "      <th>1</th>\n",
              "      <td>285</td>\n",
              "      <td>Pirates of the Caribbean: At World's End</td>\n",
              "      <td>Captain Barbossa, long believed to be dead, ha...</td>\n",
              "      <td>139.082615</td>\n",
              "      <td>6.9</td>\n",
              "      <td>[Adventure, Fantasy, Action]</td>\n",
              "    </tr>\n",
              "    <tr>\n",
              "      <th>2</th>\n",
              "      <td>206647</td>\n",
              "      <td>Spectre</td>\n",
              "      <td>A cryptic message from Bond’s past sends him o...</td>\n",
              "      <td>107.376788</td>\n",
              "      <td>6.3</td>\n",
              "      <td>[Action, Adventure, Crime]</td>\n",
              "    </tr>\n",
              "    <tr>\n",
              "      <th>3</th>\n",
              "      <td>49026</td>\n",
              "      <td>The Dark Knight Rises</td>\n",
              "      <td>Following the death of District Attorney Harve...</td>\n",
              "      <td>112.312950</td>\n",
              "      <td>7.6</td>\n",
              "      <td>[Action, Crime, Drama, Thriller]</td>\n",
              "    </tr>\n",
              "    <tr>\n",
              "      <th>4</th>\n",
              "      <td>49529</td>\n",
              "      <td>John Carter</td>\n",
              "      <td>John Carter is a war-weary, former military ca...</td>\n",
              "      <td>43.926995</td>\n",
              "      <td>6.1</td>\n",
              "      <td>[Action, Adventure, ScienceFiction]</td>\n",
              "    </tr>\n",
              "  </tbody>\n",
              "</table>\n",
              "</div>"
            ],
            "text/plain": [
              "   movie_id                                     title  \\\n",
              "0     19995                                    Avatar   \n",
              "1       285  Pirates of the Caribbean: At World's End   \n",
              "2    206647                                   Spectre   \n",
              "3     49026                     The Dark Knight Rises   \n",
              "4     49529                               John Carter   \n",
              "\n",
              "                                                tags  popularity  \\\n",
              "0  In the 22nd century, a paraplegic Marine is di...  150.437577   \n",
              "1  Captain Barbossa, long believed to be dead, ha...  139.082615   \n",
              "2  A cryptic message from Bond’s past sends him o...  107.376788   \n",
              "3  Following the death of District Attorney Harve...  112.312950   \n",
              "4  John Carter is a war-weary, former military ca...   43.926995   \n",
              "\n",
              "   vote_average                                        genres  \n",
              "0           7.2  [Action, Adventure, Fantasy, ScienceFiction]  \n",
              "1           6.9                  [Adventure, Fantasy, Action]  \n",
              "2           6.3                    [Action, Adventure, Crime]  \n",
              "3           7.6              [Action, Crime, Drama, Thriller]  \n",
              "4           6.1           [Action, Adventure, ScienceFiction]  "
            ]
          },
          "execution_count": 119,
          "metadata": {},
          "output_type": "execute_result"
        }
      ],
      "source": [
        "new_df.head()"
      ]
    },
    {
      "cell_type": "code",
      "execution_count": 120,
      "metadata": {
        "colab": {
          "base_uri": "https://localhost:8080/",
          "height": 87
        },
        "id": "lwZ6pSPnkYMf",
        "outputId": "f5eed98a-06ab-4290-ae07-713f92e035d2"
      },
      "outputs": [
        {
          "data": {
            "text/plain": [
              "'In the 22nd century, a paraplegic Marine is dispatched to the moon Pandora on a unique mission, but becomes torn between following orders and protecting an alien civilization. Action Adventure Fantasy ScienceFiction cultureclash future spacewar spacecolony society spacetravel futuristic romance space alien tribe alienplanet cgi marine soldier battle loveaffair antiwar powerrelations mindandsoul 3d SamWorthington ZoeSaldana SigourneyWeaver JamesCameron'"
            ]
          },
          "execution_count": 120,
          "metadata": {},
          "output_type": "execute_result"
        }
      ],
      "source": [
        "\n",
        "\n",
        "\n",
        "new_df['tags'][0]"
      ]
    },
    {
      "cell_type": "code",
      "execution_count": 121,
      "metadata": {
        "colab": {
          "base_uri": "https://localhost:8080/",
          "height": 337
        },
        "id": "oJGPcjUWkdy4",
        "outputId": "e92c3a05-8aa0-40c1-e5b4-a1d4dbbb47b7"
      },
      "outputs": [
        {
          "data": {
            "text/html": [
              "<div>\n",
              "<style scoped>\n",
              "    .dataframe tbody tr th:only-of-type {\n",
              "        vertical-align: middle;\n",
              "    }\n",
              "\n",
              "    .dataframe tbody tr th {\n",
              "        vertical-align: top;\n",
              "    }\n",
              "\n",
              "    .dataframe thead th {\n",
              "        text-align: right;\n",
              "    }\n",
              "</style>\n",
              "<table border=\"1\" class=\"dataframe\">\n",
              "  <thead>\n",
              "    <tr style=\"text-align: right;\">\n",
              "      <th></th>\n",
              "      <th>movie_id</th>\n",
              "      <th>title</th>\n",
              "      <th>tags</th>\n",
              "      <th>popularity</th>\n",
              "      <th>vote_average</th>\n",
              "      <th>genres</th>\n",
              "    </tr>\n",
              "  </thead>\n",
              "  <tbody>\n",
              "    <tr>\n",
              "      <th>0</th>\n",
              "      <td>19995</td>\n",
              "      <td>Avatar</td>\n",
              "      <td>In the 22nd century, a paraplegic Marine is di...</td>\n",
              "      <td>150.437577</td>\n",
              "      <td>7.2</td>\n",
              "      <td>[Action, Adventure, Fantasy, ScienceFiction]</td>\n",
              "    </tr>\n",
              "    <tr>\n",
              "      <th>1</th>\n",
              "      <td>285</td>\n",
              "      <td>Pirates of the Caribbean: At World's End</td>\n",
              "      <td>Captain Barbossa, long believed to be dead, ha...</td>\n",
              "      <td>139.082615</td>\n",
              "      <td>6.9</td>\n",
              "      <td>[Adventure, Fantasy, Action]</td>\n",
              "    </tr>\n",
              "    <tr>\n",
              "      <th>2</th>\n",
              "      <td>206647</td>\n",
              "      <td>Spectre</td>\n",
              "      <td>A cryptic message from Bond’s past sends him o...</td>\n",
              "      <td>107.376788</td>\n",
              "      <td>6.3</td>\n",
              "      <td>[Action, Adventure, Crime]</td>\n",
              "    </tr>\n",
              "    <tr>\n",
              "      <th>3</th>\n",
              "      <td>49026</td>\n",
              "      <td>The Dark Knight Rises</td>\n",
              "      <td>Following the death of District Attorney Harve...</td>\n",
              "      <td>112.312950</td>\n",
              "      <td>7.6</td>\n",
              "      <td>[Action, Crime, Drama, Thriller]</td>\n",
              "    </tr>\n",
              "    <tr>\n",
              "      <th>4</th>\n",
              "      <td>49529</td>\n",
              "      <td>John Carter</td>\n",
              "      <td>John Carter is a war-weary, former military ca...</td>\n",
              "      <td>43.926995</td>\n",
              "      <td>6.1</td>\n",
              "      <td>[Action, Adventure, ScienceFiction]</td>\n",
              "    </tr>\n",
              "  </tbody>\n",
              "</table>\n",
              "</div>"
            ],
            "text/plain": [
              "   movie_id                                     title  \\\n",
              "0     19995                                    Avatar   \n",
              "1       285  Pirates of the Caribbean: At World's End   \n",
              "2    206647                                   Spectre   \n",
              "3     49026                     The Dark Knight Rises   \n",
              "4     49529                               John Carter   \n",
              "\n",
              "                                                tags  popularity  \\\n",
              "0  In the 22nd century, a paraplegic Marine is di...  150.437577   \n",
              "1  Captain Barbossa, long believed to be dead, ha...  139.082615   \n",
              "2  A cryptic message from Bond’s past sends him o...  107.376788   \n",
              "3  Following the death of District Attorney Harve...  112.312950   \n",
              "4  John Carter is a war-weary, former military ca...   43.926995   \n",
              "\n",
              "   vote_average                                        genres  \n",
              "0           7.2  [Action, Adventure, Fantasy, ScienceFiction]  \n",
              "1           6.9                  [Adventure, Fantasy, Action]  \n",
              "2           6.3                    [Action, Adventure, Crime]  \n",
              "3           7.6              [Action, Crime, Drama, Thriller]  \n",
              "4           6.1           [Action, Adventure, ScienceFiction]  "
            ]
          },
          "execution_count": 121,
          "metadata": {},
          "output_type": "execute_result"
        }
      ],
      "source": [
        "new_df.head()"
      ]
    },
    {
      "cell_type": "code",
      "execution_count": 122,
      "metadata": {
        "id": "snHkiVdAnq2R"
      },
      "outputs": [],
      "source": [
        "from sklearn.feature_extraction.text import CountVectorizer\n",
        "cv = CountVectorizer(max_features=5000,stop_words='english')\n",
        "vectors = cv.fit_transform(new_df['tags']).toarray()"
      ]
    },
    {
      "cell_type": "code",
      "execution_count": 123,
      "metadata": {
        "colab": {
          "base_uri": "https://localhost:8080/"
        },
        "id": "psEbnH5P42H6",
        "outputId": "eea15877-fd00-4a40-fcad-94e1bac86831"
      },
      "outputs": [
        {
          "data": {
            "text/plain": [
              "(4805, 5000)"
            ]
          },
          "execution_count": 123,
          "metadata": {},
          "output_type": "execute_result"
        }
      ],
      "source": [
        "cv.fit_transform(new_df['tags']).toarray().shape"
      ]
    },
    {
      "cell_type": "code",
      "execution_count": 124,
      "metadata": {
        "colab": {
          "base_uri": "https://localhost:8080/"
        },
        "id": "4ocjHBemnrDL",
        "outputId": "3640a181-32d1-480e-9427-f32f0eddfbc0"
      },
      "outputs": [
        {
          "data": {
            "text/plain": [
              "array([[0, 0, 0, ..., 0, 0, 0],\n",
              "       [0, 0, 0, ..., 0, 0, 0],\n",
              "       [0, 0, 0, ..., 0, 0, 0],\n",
              "       ...,\n",
              "       [0, 0, 0, ..., 0, 0, 0],\n",
              "       [0, 0, 0, ..., 0, 0, 0],\n",
              "       [0, 0, 0, ..., 0, 0, 0]], dtype=int64)"
            ]
          },
          "execution_count": 124,
          "metadata": {},
          "output_type": "execute_result"
        }
      ],
      "source": [
        "vectors"
      ]
    },
    {
      "cell_type": "code",
      "execution_count": 125,
      "metadata": {
        "id": "2P718GLh78Fd"
      },
      "outputs": [],
      "source": [
        "#stemming of words"
      ]
    },
    {
      "cell_type": "code",
      "execution_count": 126,
      "metadata": {
        "id": "6m_ua4-F5bPv"
      },
      "outputs": [],
      "source": [
        "import nltk\n",
        "from nltk.stem.porter import PorterStemmer\n",
        "ps = PorterStemmer()"
      ]
    },
    {
      "cell_type": "code",
      "execution_count": 127,
      "metadata": {
        "id": "6UMwxRXz5lOa"
      },
      "outputs": [],
      "source": [
        "\n",
        "def stem(text):\n",
        "    y = []\n",
        "    for i in text.split():\n",
        "      y.append(ps.stem(i))\n",
        "    return\" \".join(y)"
      ]
    },
    {
      "cell_type": "code",
      "execution_count": 128,
      "metadata": {
        "colab": {
          "base_uri": "https://localhost:8080/"
        },
        "id": "EIdQp1d07XaW",
        "outputId": "e3a2fad3-969b-4295-fc22-f5d4fc22bf2b"
      },
      "outputs": [
        {
          "data": {
            "text/plain": [
              "0       in the 22nd century, a parapleg marin is dispa...\n",
              "1       captain barbossa, long believ to be dead, ha c...\n",
              "2       a cryptic messag from bond’ past send him on a...\n",
              "3       follow the death of district attorney harvey d...\n",
              "4       john carter is a war-weary, former militari ca...\n",
              "                              ...                        \n",
              "4804    el mariachi just want to play hi guitar and ca...\n",
              "4805    a newlyw couple' honeymoon is upend by the arr...\n",
              "4806    \"signed, sealed, delivered\" introduc a dedic q...\n",
              "4807    when ambiti new york attorney sam is sent to s...\n",
              "4808    ever sinc the second grade when he first saw h...\n",
              "Name: tags, Length: 4805, dtype: object"
            ]
          },
          "execution_count": 128,
          "metadata": {},
          "output_type": "execute_result"
        }
      ],
      "source": [
        "new_df['tags'].apply(stem)"
      ]
    },
    {
      "cell_type": "code",
      "execution_count": 129,
      "metadata": {
        "id": "LGY9aoD26wqp"
      },
      "outputs": [],
      "source": [
        "# ['loved','loving','love']\n",
        "# ['love','love','love']"
      ]
    },
    {
      "cell_type": "code",
      "execution_count": 130,
      "metadata": {
        "colab": {
          "base_uri": "https://localhost:8080/",
          "height": 35
        },
        "id": "EbvW0vUV7AIm",
        "outputId": "c06bd03b-0e7e-42b2-d949-bf589d85cca8"
      },
      "outputs": [
        {
          "data": {
            "text/plain": [
              "'danc'"
            ]
          },
          "execution_count": 130,
          "metadata": {},
          "output_type": "execute_result"
        }
      ],
      "source": [
        "ps.stem('danced')"
      ]
    },
    {
      "cell_type": "code",
      "execution_count": 131,
      "metadata": {
        "colab": {
          "base_uri": "https://localhost:8080/",
          "height": 35
        },
        "id": "NWytCoWk7Ej3",
        "outputId": "4e7126c6-809f-41c1-a95b-51017bbd86df"
      },
      "outputs": [
        {
          "data": {
            "text/plain": [
              "''"
            ]
          },
          "execution_count": 131,
          "metadata": {},
          "output_type": "execute_result"
        }
      ],
      "source": [
        "\n",
        "stem(' ')"
      ]
    },
    {
      "cell_type": "code",
      "execution_count": 132,
      "metadata": {
        "id": "fcrMZ_ZN79UA"
      },
      "outputs": [],
      "source": [
        "\n",
        "from sklearn.metrics.pairwise import cosine_similarity"
      ]
    },
    {
      "cell_type": "code",
      "execution_count": 133,
      "metadata": {
        "colab": {
          "base_uri": "https://localhost:8080/"
        },
        "id": "NnqqaKYB8F5x",
        "outputId": "a6119db9-67f3-4a03-8cc2-4bbc82e32df1"
      },
      "outputs": [
        {
          "data": {
            "text/plain": [
              "array([[1.        , 0.08980265, 0.05986843, ..., 0.0248452 , 0.02777778,\n",
              "        0.        ],\n",
              "       [0.08980265, 1.        , 0.06451613, ..., 0.02677398, 0.        ,\n",
              "        0.        ],\n",
              "       [0.05986843, 0.06451613, 1.        , ..., 0.02677398, 0.        ,\n",
              "        0.        ],\n",
              "       ...,\n",
              "       [0.0248452 , 0.02677398, 0.02677398, ..., 1.        , 0.0745356 ,\n",
              "        0.04774099],\n",
              "       [0.02777778, 0.        , 0.        , ..., 0.0745356 , 1.        ,\n",
              "        0.05337605],\n",
              "       [0.        , 0.        , 0.        , ..., 0.04774099, 0.05337605,\n",
              "        1.        ]])"
            ]
          },
          "execution_count": 133,
          "metadata": {},
          "output_type": "execute_result"
        }
      ],
      "source": [
        "\n",
        "cosine_similarity(vectors)"
      ]
    },
    {
      "cell_type": "code",
      "execution_count": 134,
      "metadata": {
        "id": "nPiQUrs98O6E"
      },
      "outputs": [],
      "source": [
        "similarity=cosine_similarity(vectors)\n",
        " #distance btw movie to movie"
      ]
    },
    {
      "cell_type": "code",
      "execution_count": 135,
      "metadata": {
        "colab": {
          "base_uri": "https://localhost:8080/"
        },
        "id": "yVEeeaqU8lox",
        "outputId": "7403fad6-a8c6-4c8a-b527-9ea01565a265"
      },
      "outputs": [
        {
          "data": {
            "text/plain": [
              "array([1.        , 0.08980265, 0.05986843, ..., 0.0248452 , 0.02777778,\n",
              "       0.        ])"
            ]
          },
          "execution_count": 135,
          "metadata": {},
          "output_type": "execute_result"
        }
      ],
      "source": [
        "similarity[0]"
      ]
    },
    {
      "cell_type": "code",
      "execution_count": 136,
      "metadata": {
        "colab": {
          "base_uri": "https://localhost:8080/"
        },
        "id": "YUZ5NCaq_d-l",
        "outputId": "212814d9-cb2d-49f7-ec42-7f5d5ae66772"
      },
      "outputs": [
        {
          "data": {
            "text/plain": [
              "[1.0,\n",
              " 0.25724787771376323,\n",
              " 0.2545875386086578,\n",
              " 0.2472066162365221,\n",
              " 0.24595492912420727,\n",
              " 0.2434322477800738,\n",
              " 0.2405626121623441,\n",
              " 0.2405626121623441,\n",
              " 0.24019223070763068,\n",
              " 0.23570226039551587,\n",
              " 0.22360679774997894,\n",
              " 0.2222222222222222,\n",
              " 0.22075539284417395,\n",
              " 0.2187974872468418,\n",
              " 0.2182178902359924,\n",
              " 0.21821789023599236,\n",
              " 0.2166445612065605,\n",
              " 0.21428571428571427,\n",
              " 0.21350420507344953,\n",
              " 0.2135042050734495,\n",
              " 0.21339479988815996,\n",
              " 0.2132007163556104,\n",
              " 0.2130032168075646,\n",
              " 0.20953951903123735,\n",
              " 0.20851441405707477,\n",
              " 0.20851441405707477,\n",
              " 0.20309059861498083,\n",
              " 0.20211302086361077,\n",
              " 0.20008168266626025,\n",
              " 0.19999999999999998,\n",
              " 0.19611613513818404,\n",
              " 0.19364916731037082,\n",
              " 0.19245008972987526,\n",
              " 0.19245008972987526,\n",
              " 0.19245008972987526,\n",
              " 0.19245008972987526,\n",
              " 0.19205531989934396,\n",
              " 0.19179881852291686,\n",
              " 0.1911797782254681,\n",
              " 0.1911797782254681,\n",
              " 0.19050019050028574,\n",
              " 0.18898223650461357,\n",
              " 0.18750000000000003,\n",
              " 0.18633899812498245,\n",
              " 0.1849000654084097,\n",
              " 0.18257418583505536,\n",
              " 0.18220272220337375,\n",
              " 0.18220272220337375,\n",
              " 0.1800205749557739,\n",
              " 0.1800205749557739,\n",
              " 0.17928429140015906,\n",
              " 0.1779149987213721,\n",
              " 0.17766726362967533,\n",
              " 0.17407765595569785,\n",
              " 0.17391639824998364,\n",
              " 0.17201561551404662,\n",
              " 0.17149858514250882,\n",
              " 0.17149858514250882,\n",
              " 0.17010345435994292,\n",
              " 0.17010345435994292,\n",
              " 0.16933350266692065,\n",
              " 0.1690308509457033,\n",
              " 0.16666666666666669,\n",
              " 0.16666666666666666,\n",
              " 0.16666666666666666,\n",
              " 0.16666666666666666,\n",
              " 0.16537964611894462,\n",
              " 0.16343011261515333,\n",
              " 0.16343011261515333,\n",
              " 0.1617875572323585,\n",
              " 0.16169041669088863,\n",
              " 0.16012815380508713,\n",
              " 0.16012815380508713,\n",
              " 0.16012815380508713,\n",
              " 0.15811388300841897,\n",
              " 0.15748519708717798,\n",
              " 0.15748519708717798,\n",
              " 0.15474611514754322,\n",
              " 0.15474611514754322,\n",
              " 0.15430334996209188,\n",
              " 0.15319083833634298,\n",
              " 0.15249857033260467,\n",
              " 0.15214515486254612,\n",
              " 0.15214515486254612,\n",
              " 0.15075567228888181,\n",
              " 0.15075567228888181,\n",
              " 0.1496710850223124,\n",
              " 0.14907119849998596,\n",
              " 0.14907119849998596,\n",
              " 0.1481668148335556,\n",
              " 0.1474419561548971,\n",
              " 0.14731391274719738,\n",
              " 0.14731391274719738,\n",
              " 0.14547859349066158,\n",
              " 0.14547859349066158,\n",
              " 0.14547859349066158,\n",
              " 0.14506471329641488,\n",
              " 0.14506471329641488,\n",
              " 0.14433756729740646,\n",
              " 0.14360673947588817,\n",
              " 0.14291548761875733,\n",
              " 0.14291548761875733,\n",
              " 0.14291548761875733,\n",
              " 0.14213381090374028,\n",
              " 0.14213381090374028,\n",
              " 0.1414213562373095,\n",
              " 0.14085904245475275,\n",
              " 0.13900960937138318,\n",
              " 0.13900960937138318,\n",
              " 0.13900960937138318,\n",
              " 0.13900960937138318,\n",
              " 0.1388888888888889,\n",
              " 0.1388888888888889,\n",
              " 0.1388888888888889,\n",
              " 0.1386750490563073,\n",
              " 0.1386750490563073,\n",
              " 0.1386750490563073,\n",
              " 0.13736056394868904,\n",
              " 0.13608276348795434,\n",
              " 0.13608276348795434,\n",
              " 0.13608276348795434,\n",
              " 0.13518451760896877,\n",
              " 0.13518451760896877,\n",
              " 0.13518451760896877,\n",
              " 0.13518451760896877,\n",
              " 0.13518451760896877,\n",
              " 0.13518451760896877,\n",
              " 0.13471506281091267,\n",
              " 0.13471506281091267,\n",
              " 0.1336306209562122,\n",
              " 0.13333333333333333,\n",
              " 0.13333333333333333,\n",
              " 0.13333333333333333,\n",
              " 0.13333333333333333,\n",
              " 0.13176156917368248,\n",
              " 0.13130643285972254,\n",
              " 0.13074409009212268,\n",
              " 0.13074409009212268,\n",
              " 0.13074409009212268,\n",
              " 0.13074409009212268,\n",
              " 0.1301448015738384,\n",
              " 0.12909944487358055,\n",
              " 0.12909944487358055,\n",
              " 0.12858612496840993,\n",
              " 0.12858612496840993,\n",
              " 0.12858612496840993,\n",
              " 0.12830005981991682,\n",
              " 0.12830005981991682,\n",
              " 0.1270821419438372,\n",
              " 0.1270001270001905,\n",
              " 0.1259881576697424,\n",
              " 0.1259881576697424,\n",
              " 0.1259881576697424,\n",
              " 0.1259881576697424,\n",
              " 0.1256297269074015,\n",
              " 0.1256297269074015,\n",
              " 0.1256297269074015,\n",
              " 0.1256297269074015,\n",
              " 0.125,\n",
              " 0.12422599874998833,\n",
              " 0.12422599874998833,\n",
              " 0.12422599874998831,\n",
              " 0.12422599874998831,\n",
              " 0.12422599874998831,\n",
              " 0.12379689211803457,\n",
              " 0.12379689211803457,\n",
              " 0.12379689211803457,\n",
              " 0.12379689211803457,\n",
              " 0.1217161238900369,\n",
              " 0.1217161238900369,\n",
              " 0.1217161238900369,\n",
              " 0.1217161238900369,\n",
              " 0.1217161238900369,\n",
              " 0.1215541595815788,\n",
              " 0.12155415958157878,\n",
              " 0.12155415958157878,\n",
              " 0.12126781251816647,\n",
              " 0.12126781251816647,\n",
              " 0.1203858530857692,\n",
              " 0.12038585308576918,\n",
              " 0.12028130608117205,\n",
              " 0.12028130608117205,\n",
              " 0.11904761904761904,\n",
              " 0.11785113019775793,\n",
              " 0.11785113019775793,\n",
              " 0.11785113019775792,\n",
              " 0.11785113019775792,\n",
              " 0.1178511301977579,\n",
              " 0.1178511301977579,\n",
              " 0.1178511301977579,\n",
              " 0.1178511301977579,\n",
              " 0.1178511301977579,\n",
              " 0.1178511301977579,\n",
              " 0.11704114719613055,\n",
              " 0.11669000700233413,\n",
              " 0.11669000700233413,\n",
              " 0.1160517706371319,\n",
              " 0.1160517706371319,\n",
              " 0.1160517706371319,\n",
              " 0.1160517706371319,\n",
              " 0.1160517706371319,\n",
              " 0.11556254088025605,\n",
              " 0.11547005383792512,\n",
              " 0.11470786693528086,\n",
              " 0.11470786693528086,\n",
              " 0.11470786693528086,\n",
              " 0.11470786693528086,\n",
              " 0.11470786693528086,\n",
              " 0.11433239009500587,\n",
              " 0.11433239009500587,\n",
              " 0.11433239009500587,\n",
              " 0.11340230290662862,\n",
              " 0.1126872339638022,\n",
              " 0.1126872339638022,\n",
              " 0.1126872339638022,\n",
              " 0.1126872339638022,\n",
              " 0.1126872339638022,\n",
              " 0.1126872339638022,\n",
              " 0.1126872339638022,\n",
              " 0.11236664374387369,\n",
              " 0.11180339887498947,\n",
              " 0.11180339887498947,\n",
              " 0.11180339887498947,\n",
              " 0.11180339887498947,\n",
              " 0.11180339887498947,\n",
              " 0.11180339887498947,\n",
              " 0.11180339887498947,\n",
              " 0.11135885079684349,\n",
              " 0.11135885079684349,\n",
              " 0.11135885079684349,\n",
              " 0.1111111111111111,\n",
              " 0.1111111111111111,\n",
              " 0.1111111111111111,\n",
              " 0.1111111111111111,\n",
              " 0.1111111111111111,\n",
              " 0.1111111111111111,\n",
              " 0.11037769642208699,\n",
              " 0.11037769642208699,\n",
              " 0.11037769642208699,\n",
              " 0.10959932487023819,\n",
              " 0.10959932487023819,\n",
              " 0.10959932487023819,\n",
              " 0.10959932487023819,\n",
              " 0.10959932487023819,\n",
              " 0.10942202738310211,\n",
              " 0.10942202738310211,\n",
              " 0.1091089451179962,\n",
              " 0.1091089451179962,\n",
              " 0.10910894511799618,\n",
              " 0.10910894511799618,\n",
              " 0.10910894511799618,\n",
              " 0.10910894511799618,\n",
              " 0.10910894511799618,\n",
              " 0.10814761408717502,\n",
              " 0.10814761408717502,\n",
              " 0.10814761408717502,\n",
              " 0.10814761408717502,\n",
              " 0.10814761408717502,\n",
              " 0.10814761408717502,\n",
              " 0.10814761408717502,\n",
              " 0.10814761408717502,\n",
              " 0.10675210253672475,\n",
              " 0.10669739994407998,\n",
              " 0.10669739994407998,\n",
              " 0.10660035817780521,\n",
              " 0.10660035817780521,\n",
              " 0.10660035817780521,\n",
              " 0.10660035817780521,\n",
              " 0.10660035817780521,\n",
              " 0.10660035817780521,\n",
              " 0.10660035817780521,\n",
              " 0.10660035817780521,\n",
              " 0.10660035817780521,\n",
              " 0.10540925533894598,\n",
              " 0.10540925533894598,\n",
              " 0.10540925533894598,\n",
              " 0.10540925533894598,\n",
              " 0.10540925533894598,\n",
              " 0.10540925533894598,\n",
              " 0.10540925533894598,\n",
              " 0.10482848367219183,\n",
              " 0.10425720702853739,\n",
              " 0.10425720702853739,\n",
              " 0.10425720702853739,\n",
              " 0.10425720702853739,\n",
              " 0.10425720702853739,\n",
              " 0.10425720702853739,\n",
              " 0.10425720702853739,\n",
              " 0.10425720702853739,\n",
              " 0.10425720702853739,\n",
              " 0.10411584125907071,\n",
              " 0.10411584125907071,\n",
              " 0.10314212462587934,\n",
              " 0.10286889997472794,\n",
              " 0.10286889997472794,\n",
              " 0.10286889997472794,\n",
              " 0.10286889997472794,\n",
              " 0.10286889997472794,\n",
              " 0.10286889997472794,\n",
              " 0.10206207261596575,\n",
              " 0.10206207261596575,\n",
              " 0.10206207261596575,\n",
              " 0.10206207261596575,\n",
              " 0.10206207261596575,\n",
              " 0.10206207261596575,\n",
              " 0.10206207261596575,\n",
              " 0.10206207261596575,\n",
              " 0.10206207261596575,\n",
              " 0.10206207261596575,\n",
              " 0.10166571355506977,\n",
              " 0.10166571355506977,\n",
              " 0.10166571355506977,\n",
              " 0.10166571355506977,\n",
              " 0.10166571355506977,\n",
              " 0.10166571355506977,\n",
              " 0.10050378152592121,\n",
              " 0.10050378152592121,\n",
              " 0.10050378152592121,\n",
              " 0.10050378152592121,\n",
              " 0.10050378152592121,\n",
              " 0.10050378152592121,\n",
              " 0.10050378152592121,\n",
              " 0.10050378152592121,\n",
              " 0.1,\n",
              " 0.1,\n",
              " 0.1,\n",
              " 0.1,\n",
              " 0.1,\n",
              " 0.1,\n",
              " 0.1,\n",
              " 0.1,\n",
              " 0.1,\n",
              " 0.09938079899999065,\n",
              " 0.09889847151615443,\n",
              " 0.09829463743659808,\n",
              " 0.09829463743659808,\n",
              " 0.09820927516479827,\n",
              " 0.09805806756909201,\n",
              " 0.09805806756909201,\n",
              " 0.09805806756909201,\n",
              " 0.09805806756909201,\n",
              " 0.09805806756909201,\n",
              " 0.09805806756909201,\n",
              " 0.09724332766526303,\n",
              " 0.09724332766526303,\n",
              " 0.09724332766526303,\n",
              " 0.09622504486493763,\n",
              " 0.09622504486493763,\n",
              " 0.09622504486493763,\n",
              " 0.09622504486493763,\n",
              " 0.09622504486493762,\n",
              " 0.09622504486493762,\n",
              " 0.09622504486493762,\n",
              " 0.09622504486493762,\n",
              " 0.09622504486493762,\n",
              " 0.09622504486493762,\n",
              " 0.09622504486493762,\n",
              " 0.09622504486493762,\n",
              " 0.09622504486493762,\n",
              " 0.09622504486493762,\n",
              " 0.09523809523809523,\n",
              " 0.09523809523809523,\n",
              " 0.09523809523809523,\n",
              " 0.0944911182523068,\n",
              " 0.0944911182523068,\n",
              " 0.0944911182523068,\n",
              " 0.0944911182523068,\n",
              " 0.0944911182523068,\n",
              " 0.0944911182523068,\n",
              " 0.0944911182523068,\n",
              " 0.0944911182523068,\n",
              " 0.09435641951204964,\n",
              " 0.09435641951204964,\n",
              " 0.09428090415820634,\n",
              " 0.09335200560186731,\n",
              " 0.09335200560186731,\n",
              " 0.09335200560186731,\n",
              " 0.09284766908852593,\n",
              " 0.09284766908852593,\n",
              " 0.09284766908852593,\n",
              " 0.09284766908852593,\n",
              " 0.09284766908852593,\n",
              " 0.09284766908852593,\n",
              " 0.09284766908852593,\n",
              " 0.09284766908852593,\n",
              " 0.09259259259259259,\n",
              " 0.09245003270420485,\n",
              " 0.09245003270420485,\n",
              " 0.09245003270420485,\n",
              " 0.09245003270420485,\n",
              " 0.09245003270420485,\n",
              " 0.09245003270420485,\n",
              " 0.09245003270420485,\n",
              " 0.09202627172903877,\n",
              " 0.09157370929912602,\n",
              " 0.09128709291752768,\n",
              " 0.09128709291752768,\n",
              " 0.09128709291752768,\n",
              " 0.09128709291752768,\n",
              " 0.09128709291752768,\n",
              " 0.09128709291752768,\n",
              " 0.09128709291752768,\n",
              " 0.09128709291752768,\n",
              " 0.09128709291752768,\n",
              " 0.09128709291752768,\n",
              " 0.09128709291752768,\n",
              " 0.09128709291752768,\n",
              " 0.09128709291752768,\n",
              " 0.09128709291752768,\n",
              " 0.09072184232530289,\n",
              " 0.09072184232530289,\n",
              " 0.09072184232530289,\n",
              " 0.09072184232530289,\n",
              " 0.08989331499509895,\n",
              " 0.08989331499509895,\n",
              " 0.08989331499509895,\n",
              " 0.08989331499509895,\n",
              " 0.08989331499509895,\n",
              " 0.08980265101338746,\n",
              " 0.08980265101338746,\n",
              " 0.08980265101338746,\n",
              " 0.08980265101338746,\n",
              " 0.08980265101338746,\n",
              " 0.08980265101338746,\n",
              " 0.08980265101338746,\n",
              " 0.08980265101338746,\n",
              " 0.08980265101338746,\n",
              " 0.08980265101338746,\n",
              " 0.08980265101338746,\n",
              " 0.08980265101338746,\n",
              " 0.08980265101338746,\n",
              " 0.0890870806374748,\n",
              " 0.0890870806374748,\n",
              " 0.0890870806374748,\n",
              " 0.0890870806374748,\n",
              " 0.0890870806374748,\n",
              " 0.0890870806374748,\n",
              " 0.08883363181483767,\n",
              " 0.08838834764831843,\n",
              " 0.08838834764831843,\n",
              " 0.08838834764831843,\n",
              " 0.08838834764831843,\n",
              " 0.08838834764831843,\n",
              " 0.08838834764831843,\n",
              " 0.08838834764831843,\n",
              " 0.08838834764831843,\n",
              " 0.08838834764831843,\n",
              " 0.08830215713766959,\n",
              " 0.08830215713766959,\n",
              " 0.08753762190648169,\n",
              " 0.08703882797784893,\n",
              " 0.08703882797784893,\n",
              " 0.08703882797784893,\n",
              " 0.08703882797784893,\n",
              " 0.08703882797784893,\n",
              " 0.08703882797784893,\n",
              " 0.08703882797784893,\n",
              " 0.08703882797784893,\n",
              " 0.08703882797784893,\n",
              " 0.08703882797784893,\n",
              " 0.08703882797784893,\n",
              " 0.08679260732054925,\n",
              " 0.08679260732054925,\n",
              " 0.08679260732054925,\n",
              " 0.08679260732054925,\n",
              " 0.08606629658238703,\n",
              " 0.08606629658238703,\n",
              " 0.08606629658238703,\n",
              " 0.08606629658238703,\n",
              " 0.08606629658238703,\n",
              " 0.08606629658238703,\n",
              " 0.08606629658238703,\n",
              " 0.08606629658238703,\n",
              " 0.08606629658238703,\n",
              " 0.08574929257125441,\n",
              " 0.08574929257125441,\n",
              " 0.08574929257125441,\n",
              " 0.08574929257125441,\n",
              " 0.08574929257125441,\n",
              " 0.08574929257125441,\n",
              " 0.08574929257125441,\n",
              " 0.08574929257125441,\n",
              " 0.08574929257125441,\n",
              " 0.08574929257125441,\n",
              " 0.08574929257125441,\n",
              " 0.08535791995526398,\n",
              " 0.08535791995526398,\n",
              " 0.08535791995526398,\n",
              " 0.08535791995526398,\n",
              " 0.08466675133346033,\n",
              " 0.08466675133346033,\n",
              " 0.08466675133346033,\n",
              " 0.08466675133346033,\n",
              " 0.08466675133346033,\n",
              " 0.08451542547285165,\n",
              " 0.08451542547285165,\n",
              " 0.08451542547285165,\n",
              " 0.08451542547285165,\n",
              " 0.08451542547285165,\n",
              " 0.08399210511316159,\n",
              " 0.08399210511316159,\n",
              " 0.08333333333333333,\n",
              " 0.08333333333333333,\n",
              " 0.08333333333333333,\n",
              " 0.08333333333333333,\n",
              " 0.08333333333333333,\n",
              " 0.08333333333333333,\n",
              " 0.08333333333333333,\n",
              " 0.08333333333333333,\n",
              " 0.08333333333333333,\n",
              " 0.08333333333333333,\n",
              " 0.08333333333333333,\n",
              " 0.08333333333333333,\n",
              " 0.08333333333333333,\n",
              " 0.08333333333333333,\n",
              " 0.08333333333333333,\n",
              " 0.08333333333333333,\n",
              " 0.08333333333333333,\n",
              " 0.08333333333333333,\n",
              " 0.08333333333333333,\n",
              " 0.08333333333333333,\n",
              " 0.08333333333333333,\n",
              " 0.08333333333333333,\n",
              " 0.08333333333333333,\n",
              " 0.08268982305947231,\n",
              " 0.08219949365267865,\n",
              " 0.08219949365267865,\n",
              " 0.08219949365267865,\n",
              " 0.08219949365267865,\n",
              " 0.08219949365267865,\n",
              " 0.08219949365267865,\n",
              " 0.08219949365267865,\n",
              " 0.08219949365267865,\n",
              " 0.08219949365267865,\n",
              " 0.08219949365267865,\n",
              " 0.08206099398622181,\n",
              " 0.08206099398622181,\n",
              " 0.08144629623753681,\n",
              " 0.08111071056538127,\n",
              " 0.08111071056538127,\n",
              " 0.08111071056538127,\n",
              " 0.08111071056538127,\n",
              " 0.08111071056538127,\n",
              " 0.08111071056538127,\n",
              " 0.08111071056538127,\n",
              " 0.08111071056538127,\n",
              " 0.08084520834544431,\n",
              " 0.08084520834544431,\n",
              " 0.08084520834544431,\n",
              " 0.08084520834544431,\n",
              " 0.08084520834544431,\n",
              " 0.08084520834544431,\n",
              " 0.08084520834544431,\n",
              " 0.08084520834544431,\n",
              " 0.08084520834544431,\n",
              " 0.08084520834544431,\n",
              " 0.08084520834544431,\n",
              " 0.08084520834544431,\n",
              " 0.08084520834544431,\n",
              " 0.08084520834544431,\n",
              " 0.08006407690254357,\n",
              " 0.08006407690254357,\n",
              " 0.08006407690254357,\n",
              " 0.08006407690254357,\n",
              " 0.08006407690254357,\n",
              " 0.08006407690254357,\n",
              " 0.08006407690254357,\n",
              " 0.08006407690254357,\n",
              " 0.07945521577046602,\n",
              " 0.07905694150420949,\n",
              " 0.07905694150420949,\n",
              " 0.07905694150420949,\n",
              " 0.07905694150420949,\n",
              " 0.07905694150420949,\n",
              " 0.07905694150420949,\n",
              " 0.07905694150420949,\n",
              " 0.07874259854358899,\n",
              " 0.07856742013183862,\n",
              " 0.07856742013183862,\n",
              " 0.07856742013183862,\n",
              " 0.07856742013183862,\n",
              " 0.07856742013183862,\n",
              " 0.07856742013183862,\n",
              " 0.07856742013183862,\n",
              " 0.07856742013183862,\n",
              " 0.07856742013183862,\n",
              " 0.07856742013183862,\n",
              " 0.07856742013183862,\n",
              " 0.07856742013183862,\n",
              " 0.07856742013183862,\n",
              " 0.07808688094430304,\n",
              " 0.07808688094430304,\n",
              " 0.07808688094430304,\n",
              " 0.07808688094430304,\n",
              " 0.07808688094430304,\n",
              " 0.07808688094430304,\n",
              " 0.07749842582921285,\n",
              " 0.07715167498104596,\n",
              " 0.07715167498104596,\n",
              " 0.07715167498104596,\n",
              " 0.07715167498104596,\n",
              " 0.07715167498104596,\n",
              " 0.07715167498104596,\n",
              " 0.07715167498104596,\n",
              " 0.07715167498104596,\n",
              " 0.07715167498104594,\n",
              " 0.07647191129018724,\n",
              " 0.07647191129018724,\n",
              " 0.07647191129018724,\n",
              " 0.07647191129018724,\n",
              " 0.07647191129018724,\n",
              " 0.07647191129018724,\n",
              " 0.07647191129018724,\n",
              " 0.07647191129018724,\n",
              " 0.07647191129018724,\n",
              " 0.07647191129018724,\n",
              " 0.07647191129018724,\n",
              " 0.07647191129018724,\n",
              " 0.07647191129018724,\n",
              " 0.07624928516630233,\n",
              " 0.07624928516630233,\n",
              " 0.07624928516630233,\n",
              " 0.07624928516630233,\n",
              " 0.07624928516630233,\n",
              " 0.07624928516630233,\n",
              " 0.07624928516630233,\n",
              " 0.07624928516630233,\n",
              " 0.07624928516630233,\n",
              " 0.07624928516630233,\n",
              " 0.07597371763975863,\n",
              " 0.07548513560963971,\n",
              " 0.07537783614444091,\n",
              " 0.07537783614444091,\n",
              " 0.07537783614444091,\n",
              " 0.07537783614444091,\n",
              " 0.07537783614444091,\n",
              " 0.07537783614444091,\n",
              " 0.07453559924999299,\n",
              " 0.07453559924999299,\n",
              " 0.07453559924999299,\n",
              " 0.07453559924999299,\n",
              " 0.07453559924999299,\n",
              " 0.07453559924999299,\n",
              " 0.07453559924999299,\n",
              " 0.07453559924999299,\n",
              " 0.07453559924999299,\n",
              " 0.07453559924999299,\n",
              " 0.07453559924999298,\n",
              " 0.07453559924999298,\n",
              " 0.07453559924999298,\n",
              " 0.07453559924999298,\n",
              " 0.07453559924999298,\n",
              " 0.07453559924999298,\n",
              " 0.07453559924999298,\n",
              " 0.07453559924999298,\n",
              " 0.07453559924999298,\n",
              " 0.07372097807744857,\n",
              " 0.07372097807744857,\n",
              " 0.07372097807744857,\n",
              " 0.07372097807744857,\n",
              " 0.07372097807744857,\n",
              " 0.07372097807744857,\n",
              " 0.07362101738323101,\n",
              " 0.07293249574894728,\n",
              " 0.07293249574894728,\n",
              " 0.07293249574894728,\n",
              " 0.07293249574894728,\n",
              " 0.07293249574894728,\n",
              " 0.07293249574894728,\n",
              " 0.07293249574894728,\n",
              " 0.07273929674533079,\n",
              " 0.07273929674533079,\n",
              " 0.07273929674533079,\n",
              " 0.07273929674533079,\n",
              " 0.07273929674533079,\n",
              " 0.07273929674533079,\n",
              " 0.07273929674533079,\n",
              " 0.07273929674533079,\n",
              " 0.07273929674533079,\n",
              " 0.07273929674533079,\n",
              " 0.07273929674533079,\n",
              " 0.07273929674533079,\n",
              " 0.07273929674533079,\n",
              " 0.07216878364870322,\n",
              " 0.07216878364870322,\n",
              " 0.07216878364870322,\n",
              " 0.07216878364870322,\n",
              " 0.07216878364870322,\n",
              " 0.07147416898918632,\n",
              " 0.07142857142857142,\n",
              " 0.07142857142857142,\n",
              " 0.07142857142857142,\n",
              " 0.07142857142857142,\n",
              " 0.07142857142857142,\n",
              " 0.07142857142857142,\n",
              " 0.07142857142857142,\n",
              " 0.07106690545187014,\n",
              " 0.07106690545187014,\n",
              " 0.07106690545187014,\n",
              " 0.07106690545187014,\n",
              " 0.07106690545187014,\n",
              " 0.07106690545187014,\n",
              " 0.07106690545187014,\n",
              " 0.07106690545187014,\n",
              " 0.07106690545187014,\n",
              " 0.07071067811865475,\n",
              " 0.07071067811865475,\n",
              " 0.07071067811865475,\n",
              " 0.07071067811865475,\n",
              " 0.07071067811865475,\n",
              " 0.07071067811865475,\n",
              " 0.07071067811865475,\n",
              " 0.07068241080666424,\n",
              " 0.07066652533375734,\n",
              " 0.07001400420140048,\n",
              " 0.07001400420140048,\n",
              " 0.07001400420140048,\n",
              " 0.07001400420140048,\n",
              " 0.07001400420140048,\n",
              " 0.07001400420140048,\n",
              " 0.07001400420140048,\n",
              " 0.07001400420140048,\n",
              " 0.07001400420140048,\n",
              " 0.07001400420140048,\n",
              " 0.06950480468569159,\n",
              " 0.06950480468569159,\n",
              " 0.06950480468569159,\n",
              " 0.06950480468569159,\n",
              " 0.06950480468569159,\n",
              " 0.06950480468569159,\n",
              " 0.06950480468569159,\n",
              " 0.06950480468569159,\n",
              " 0.06950480468569159,\n",
              " 0.06950480468569159,\n",
              " 0.06950480468569159,\n",
              " 0.06950480468569159,\n",
              " 0.06950480468569159,\n",
              " 0.06950480468569159,\n",
              " 0.06950480468569159,\n",
              " 0.06950480468569159,\n",
              " 0.06950480468569159,\n",
              " 0.06950480468569159,\n",
              " 0.06950480468569159,\n",
              " 0.06950480468569159,\n",
              " 0.06950480468569159,\n",
              " 0.06950480468569159,\n",
              " 0.06950480468569159,\n",
              " 0.06950480468569159,\n",
              " 0.06950480468569159,\n",
              " 0.06933752452815364,\n",
              " 0.06933752452815364,\n",
              " 0.06933752452815364,\n",
              " 0.06868028197434452,\n",
              " 0.06868028197434452,\n",
              " 0.06868028197434452,\n",
              " 0.06868028197434452,\n",
              " 0.06804138174397717,\n",
              " 0.06804138174397717,\n",
              " 0.06804138174397717,\n",
              " 0.06804138174397717,\n",
              " 0.06804138174397717,\n",
              " 0.06804138174397717,\n",
              " 0.06804138174397717,\n",
              " 0.06804138174397717,\n",
              " 0.06804138174397717,\n",
              " 0.06804138174397717,\n",
              " 0.06804138174397717,\n",
              " 0.06804138174397717,\n",
              " 0.06804138174397717,\n",
              " 0.06804138174397717,\n",
              " 0.06804138174397717,\n",
              " 0.06804138174397717,\n",
              " 0.06804138174397717,\n",
              " 0.06804138174397717,\n",
              " 0.06804138174397717,\n",
              " 0.06804138174397717,\n",
              " 0.06804138174397717,\n",
              " 0.06804138174397717,\n",
              " 0.06804138174397717,\n",
              " 0.06741998624632421,\n",
              " 0.06741998624632421,\n",
              " 0.06741998624632421,\n",
              " 0.0668153104781061,\n",
              " 0.0668153104781061,\n",
              " 0.0668153104781061,\n",
              " 0.0668153104781061,\n",
              " 0.0668153104781061,\n",
              " 0.0668153104781061,\n",
              " 0.06666666666666667,\n",
              " 0.06666666666666667,\n",
              " 0.06666666666666667,\n",
              " 0.06666666666666667,\n",
              " 0.06666666666666667,\n",
              " 0.06666666666666667,\n",
              " 0.06666666666666667,\n",
              " 0.06666666666666667,\n",
              " 0.06666666666666667,\n",
              " 0.06666666666666667,\n",
              " 0.06666666666666667,\n",
              " 0.06666666666666667,\n",
              " 0.06666666666666667,\n",
              " 0.06666666666666667,\n",
              " 0.06666666666666667,\n",
              " 0.06666666666666667,\n",
              " 0.06666666666666667,\n",
              " 0.06666666666666667,\n",
              " 0.06666666666666667,\n",
              " 0.06666666666666667,\n",
              " 0.06666666666666667,\n",
              " 0.06666666666666667,\n",
              " 0.06666666666666667,\n",
              " 0.06666666666666667,\n",
              " 0.06666666666666667,\n",
              " 0.06666666666666667,\n",
              " 0.06666666666666667,\n",
              " 0.06622661785325219,\n",
              " 0.06565321642986127,\n",
              " 0.06565321642986127,\n",
              " 0.06565321642986127,\n",
              " 0.06537204504606134,\n",
              " 0.06537204504606134,\n",
              " 0.06537204504606134,\n",
              " 0.06537204504606134,\n",
              " 0.06537204504606134,\n",
              " 0.06537204504606134,\n",
              " 0.06537204504606134,\n",
              " 0.06537204504606134,\n",
              " 0.06537204504606134,\n",
              " 0.06537204504606134,\n",
              " 0.06537204504606134,\n",
              " 0.06537204504606134,\n",
              " 0.06537204504606134,\n",
              " 0.06537204504606134,\n",
              " 0.06537204504606134,\n",
              " 0.06537204504606134,\n",
              " 0.06537204504606134,\n",
              " 0.06537204504606134,\n",
              " 0.06537204504606134,\n",
              " 0.06537204504606134,\n",
              " 0.06537204504606134,\n",
              " 0.06537204504606134,\n",
              " 0.06537204504606134,\n",
              " 0.06537204504606134,\n",
              " 0.06537204504606134,\n",
              " 0.06509445549041193,\n",
              " 0.06509445549041193,\n",
              " 0.06509445549041193,\n",
              " 0.06454972243679027,\n",
              " 0.06454972243679027,\n",
              " 0.06415002990995841,\n",
              " 0.06415002990995841,\n",
              " 0.06415002990995841,\n",
              " 0.06415002990995841,\n",
              " 0.06415002990995841,\n",
              " 0.06415002990995841,\n",
              " 0.06415002990995841,\n",
              " 0.06415002990995841,\n",
              " 0.06415002990995841,\n",
              " 0.06415002990995841,\n",
              " 0.06415002990995841,\n",
              " 0.06415002990995841,\n",
              " 0.06415002990995841,\n",
              " 0.06415002990995841,\n",
              " 0.06415002990995841,\n",
              " 0.06401843996644799,\n",
              " 0.06401843996644799,\n",
              " 0.06350006350009524,\n",
              " 0.06350006350009524,\n",
              " 0.06350006350009524,\n",
              " 0.06350006350009524,\n",
              " 0.06350006350009524,\n",
              " 0.06327719971683327,\n",
              " 0.0629940788348712,\n",
              " 0.0629940788348712,\n",
              " 0.0629940788348712,\n",
              " 0.0629940788348712,\n",
              " 0.0629940788348712,\n",
              " 0.0629940788348712,\n",
              " 0.0629940788348712,\n",
              " 0.0629940788348712,\n",
              " 0.0629940788348712,\n",
              " 0.0629940788348712,\n",
              " 0.0629940788348712,\n",
              " 0.0629940788348712,\n",
              " 0.0629940788348712,\n",
              " 0.0629940788348712,\n",
              " 0.0629940788348712,\n",
              " 0.0629940788348712,\n",
              " 0.0625,\n",
              " 0.0625,\n",
              " 0.062017367294604234,\n",
              " 0.06189844605901729,\n",
              " 0.06189844605901729,\n",
              " 0.06189844605901729,\n",
              " 0.06189844605901729,\n",
              " 0.06189844605901729,\n",
              " 0.06189844605901729,\n",
              " 0.06189844605901729,\n",
              " 0.06189844605901729,\n",
              " 0.06189844605901729,\n",
              " 0.06189844605901729,\n",
              " 0.06189844605901729,\n",
              " 0.06189844605901729,\n",
              " 0.06189844605901729,\n",
              " 0.06189844605901729,\n",
              " 0.06189844605901729,\n",
              " 0.06189844605901729,\n",
              " 0.06189844605901729,\n",
              " 0.06189844605901729,\n",
              " 0.06189844605901729,\n",
              " 0.06189844605901729,\n",
              " 0.06189844605901729,\n",
              " 0.06154574548966636,\n",
              " 0.06154574548966636,\n",
              " 0.061113233135214086,\n",
              " 0.06108472217815261,\n",
              " 0.06085806194501845,\n",
              " 0.06085806194501845,\n",
              " 0.06085806194501845,\n",
              " 0.06085806194501845,\n",
              " 0.06085806194501845,\n",
              " 0.06085806194501845,\n",
              " 0.06085806194501845,\n",
              " 0.06085806194501845,\n",
              " 0.06085806194501845,\n",
              " 0.06085806194501845,\n",
              " 0.06085806194501845,\n",
              " 0.06085806194501845,\n",
              " 0.06085806194501845,\n",
              " 0.06085806194501845,\n",
              " 0.06085806194501845,\n",
              " 0.06085806194501845,\n",
              " 0.06085806194501845,\n",
              " 0.06085806194501845,\n",
              " 0.06085806194501845,\n",
              " 0.06085806194501845,\n",
              " 0.06085806194501845,\n",
              " 0.06085806194501845,\n",
              " 0.06085806194501845,\n",
              " 0.060633906259083235,\n",
              " 0.06060606060606061,\n",
              " 0.0601929265428846,\n",
              " 0.0601929265428846,\n",
              " 0.05986843400892497,\n",
              " 0.05986843400892497,\n",
              " 0.05986843400892497,\n",
              " 0.05986843400892497,\n",
              " 0.05986843400892497,\n",
              " 0.05986843400892497,\n",
              " 0.05986843400892497,\n",
              " 0.05986843400892497,\n",
              " 0.05986843400892497,\n",
              " 0.05986843400892497,\n",
              " 0.05986843400892497,\n",
              " 0.05986843400892497,\n",
              " 0.05986843400892497,\n",
              " 0.05986843400892497,\n",
              " 0.05986843400892497,\n",
              " 0.059339082909692656,\n",
              " 0.05892556509887897,\n",
              " 0.05892556509887895,\n",
              " 0.05892556509887895,\n",
              " 0.05892556509887895,\n",
              " 0.05892556509887895,\n",
              " 0.05892556509887895,\n",
              " 0.05892556509887895,\n",
              " 0.05892556509887895,\n",
              " 0.05892556509887895,\n",
              " 0.05892556509887895,\n",
              " 0.05892556509887895,\n",
              " 0.05892556509887895,\n",
              " 0.058520573598065284,\n",
              " 0.05802588531856595,\n",
              " 0.05802588531856595,\n",
              " 0.05802588531856595,\n",
              " 0.05802588531856595,\n",
              " 0.05802588531856595,\n",
              " 0.05802588531856595,\n",
              " 0.05802588531856595,\n",
              " 0.05802588531856595,\n",
              " 0.05802588531856595,\n",
              " 0.05802588531856595,\n",
              " 0.05802588531856595,\n",
              " 0.05802588531856595,\n",
              " 0.05802588531856595,\n",
              " 0.05802588531856595,\n",
              " 0.05802588531856595,\n",
              " 0.05802588531856595,\n",
              " 0.05802588531856595,\n",
              " 0.05802588531856595,\n",
              " 0.05802588531856595,\n",
              " 0.05802588531856595,\n",
              " 0.05802588531856595,\n",
              " 0.05802588531856595,\n",
              " 0.05802588531856595,\n",
              " 0.05802588531856595,\n",
              " 0.05802588531856595,\n",
              " 0.05802588531856595,\n",
              " 0.05773502691896257,\n",
              " 0.05773502691896257,\n",
              " ...]"
            ]
          },
          "execution_count": 136,
          "metadata": {},
          "output_type": "execute_result"
        }
      ],
      "source": [
        "sorted(similarity[0],reverse=True)"
      ]
    },
    {
      "cell_type": "code",
      "execution_count": 137,
      "metadata": {
        "colab": {
          "base_uri": "https://localhost:8080/"
        },
        "id": "VbdqHc--AMdt",
        "outputId": "56be40e4-243b-4202-9414-1a55f9472326"
      },
      "outputs": [
        {
          "name": "stdout",
          "output_type": "stream",
          "text": [
            "Movie_Id,Similarity_Distance\n"
          ]
        },
        {
          "data": {
            "text/plain": [
              "[(539, 0.25724787771376323),\n",
              " (1192, 0.2545875386086578),\n",
              " (507, 0.2472066162365221),\n",
              " (1214, 0.24595492912420727),\n",
              " (260, 0.2434322477800738)]"
            ]
          },
          "execution_count": 137,
          "metadata": {},
          "output_type": "execute_result"
        }
      ],
      "source": [
        "\n",
        "print(\"Movie_Id,Similarity_Distance\")\n",
        "sorted(list(enumerate(similarity[0])),reverse=True,key=lambda x:x[1])[1:6]\n",
        "\n",
        "#distance from 1st movie to oher movies(similarity)"
      ]
    },
    {
      "cell_type": "code",
      "execution_count": 138,
      "metadata": {
        "id": "nGFF-jqG9aMU"
      },
      "outputs": [],
      "source": [
        "#recommends movie according o distnce btw them\n",
        "def recommend(movie):\n",
        "  movie_index = new_df[new_df['title'] == movie].index[0]\n",
        "  distances = similarity[movie_index]\n",
        "  movie_list = sorted(list(enumerate(distances)),reverse=True,key=lambda x:x[1])[1:6]\n",
        "  #sort distances array\n",
        "  for i in movie_list:\n",
        "    print(new_df.iloc[i[0]].title)\n",
        "    # print(i[0])\n",
        "\n",
        "#fetch indexx\n",
        "  return"
      ]
    },
    {
      "cell_type": "code",
      "execution_count": 139,
      "metadata": {
        "colab": {
          "base_uri": "https://localhost:8080/"
        },
        "id": "qAIzfuKy9aWv",
        "outputId": "5c7e5753-aa38-41b0-bab1-b10de60bcef1"
      },
      "outputs": [
        {
          "data": {
            "text/plain": [
              "119"
            ]
          },
          "execution_count": 139,
          "metadata": {},
          "output_type": "execute_result"
        }
      ],
      "source": [
        "new_df[new_df['title'] == 'Batman Begins'].index[0]\n",
        "#fetch indexx"
      ]
    },
    {
      "cell_type": "code",
      "execution_count": 140,
      "metadata": {
        "colab": {
          "base_uri": "https://localhost:8080/"
        },
        "id": "rD2IiW4i-bdS",
        "outputId": "1a62b96b-7391-4c85-8271-75a09df3bd6a"
      },
      "outputs": [
        {
          "name": "stdout",
          "output_type": "stream",
          "text": [
            "Titan A.E.\n",
            "Small Soldiers\n",
            "Independence Day\n",
            "Aliens vs Predator: Requiem\n",
            "Ender's Game\n"
          ]
        }
      ],
      "source": [
        "recommend('Avatar')"
      ]
    },
    {
      "cell_type": "code",
      "execution_count": 141,
      "metadata": {
        "colab": {
          "base_uri": "https://localhost:8080/"
        },
        "id": "KOb5iWQ6COnx",
        "outputId": "4c8a2811-5bf5-4292-b81a-acd827aed10e"
      },
      "outputs": [
        {
          "data": {
            "text/plain": [
              "movie_id                                                     7450\n",
              "title                                                  Titan A.E.\n",
              "tags            A young man finds out that he holds the key to...\n",
              "popularity                                               14.44381\n",
              "vote_average                                                  6.3\n",
              "genres          [Animation, Action, ScienceFiction, Family, Ad...\n",
              "Name: 539, dtype: object"
            ]
          },
          "execution_count": 141,
          "metadata": {},
          "output_type": "execute_result"
        }
      ],
      "source": [
        "\n",
        "\n",
        "\n",
        "new_df.iloc[539]"
      ]
    },
    {
      "cell_type": "code",
      "execution_count": 142,
      "metadata": {
        "colab": {
          "base_uri": "https://localhost:8080/"
        },
        "id": "p8hv7m6VCWet",
        "outputId": "c0a063cc-04e3-4cac-b640-fbb6d0ebf591"
      },
      "outputs": [
        {
          "name": "stdout",
          "output_type": "stream",
          "text": [
            "The Dark Knight\n",
            "The Dark Knight Rises\n",
            "Batman\n",
            "Batman\n",
            "Batman & Robin\n"
          ]
        }
      ],
      "source": [
        "recommend('Batman Begins')"
      ]
    },
    {
      "cell_type": "markdown",
      "metadata": {
        "id": "c6YU94HKgz5I"
      },
      "source": [
        "**nearest neighbors**"
      ]
    },
    {
      "cell_type": "code",
      "execution_count": 143,
      "metadata": {
        "colab": {
          "base_uri": "https://localhost:8080/",
          "height": 337
        },
        "id": "H3VTX5jQWm11",
        "outputId": "8504fe78-1ed9-48e9-ef4b-e4114eb7f38f"
      },
      "outputs": [
        {
          "data": {
            "text/html": [
              "<div>\n",
              "<style scoped>\n",
              "    .dataframe tbody tr th:only-of-type {\n",
              "        vertical-align: middle;\n",
              "    }\n",
              "\n",
              "    .dataframe tbody tr th {\n",
              "        vertical-align: top;\n",
              "    }\n",
              "\n",
              "    .dataframe thead th {\n",
              "        text-align: right;\n",
              "    }\n",
              "</style>\n",
              "<table border=\"1\" class=\"dataframe\">\n",
              "  <thead>\n",
              "    <tr style=\"text-align: right;\">\n",
              "      <th></th>\n",
              "      <th>movie_id</th>\n",
              "      <th>title</th>\n",
              "      <th>tags</th>\n",
              "      <th>popularity</th>\n",
              "      <th>vote_average</th>\n",
              "      <th>genres</th>\n",
              "    </tr>\n",
              "  </thead>\n",
              "  <tbody>\n",
              "    <tr>\n",
              "      <th>0</th>\n",
              "      <td>19995</td>\n",
              "      <td>Avatar</td>\n",
              "      <td>In the 22nd century, a paraplegic Marine is di...</td>\n",
              "      <td>150.437577</td>\n",
              "      <td>7.2</td>\n",
              "      <td>[Action, Adventure, Fantasy, ScienceFiction]</td>\n",
              "    </tr>\n",
              "    <tr>\n",
              "      <th>1</th>\n",
              "      <td>285</td>\n",
              "      <td>Pirates of the Caribbean: At World's End</td>\n",
              "      <td>Captain Barbossa, long believed to be dead, ha...</td>\n",
              "      <td>139.082615</td>\n",
              "      <td>6.9</td>\n",
              "      <td>[Adventure, Fantasy, Action]</td>\n",
              "    </tr>\n",
              "    <tr>\n",
              "      <th>2</th>\n",
              "      <td>206647</td>\n",
              "      <td>Spectre</td>\n",
              "      <td>A cryptic message from Bond’s past sends him o...</td>\n",
              "      <td>107.376788</td>\n",
              "      <td>6.3</td>\n",
              "      <td>[Action, Adventure, Crime]</td>\n",
              "    </tr>\n",
              "    <tr>\n",
              "      <th>3</th>\n",
              "      <td>49026</td>\n",
              "      <td>The Dark Knight Rises</td>\n",
              "      <td>Following the death of District Attorney Harve...</td>\n",
              "      <td>112.312950</td>\n",
              "      <td>7.6</td>\n",
              "      <td>[Action, Crime, Drama, Thriller]</td>\n",
              "    </tr>\n",
              "    <tr>\n",
              "      <th>4</th>\n",
              "      <td>49529</td>\n",
              "      <td>John Carter</td>\n",
              "      <td>John Carter is a war-weary, former military ca...</td>\n",
              "      <td>43.926995</td>\n",
              "      <td>6.1</td>\n",
              "      <td>[Action, Adventure, ScienceFiction]</td>\n",
              "    </tr>\n",
              "  </tbody>\n",
              "</table>\n",
              "</div>"
            ],
            "text/plain": [
              "   movie_id                                     title  \\\n",
              "0     19995                                    Avatar   \n",
              "1       285  Pirates of the Caribbean: At World's End   \n",
              "2    206647                                   Spectre   \n",
              "3     49026                     The Dark Knight Rises   \n",
              "4     49529                               John Carter   \n",
              "\n",
              "                                                tags  popularity  \\\n",
              "0  In the 22nd century, a paraplegic Marine is di...  150.437577   \n",
              "1  Captain Barbossa, long believed to be dead, ha...  139.082615   \n",
              "2  A cryptic message from Bond’s past sends him o...  107.376788   \n",
              "3  Following the death of District Attorney Harve...  112.312950   \n",
              "4  John Carter is a war-weary, former military ca...   43.926995   \n",
              "\n",
              "   vote_average                                        genres  \n",
              "0           7.2  [Action, Adventure, Fantasy, ScienceFiction]  \n",
              "1           6.9                  [Adventure, Fantasy, Action]  \n",
              "2           6.3                    [Action, Adventure, Crime]  \n",
              "3           7.6              [Action, Crime, Drama, Thriller]  \n",
              "4           6.1           [Action, Adventure, ScienceFiction]  "
            ]
          },
          "execution_count": 143,
          "metadata": {},
          "output_type": "execute_result"
        }
      ],
      "source": [
        "\n",
        "new_df.head()"
      ]
    },
    {
      "cell_type": "code",
      "execution_count": 144,
      "metadata": {
        "colab": {
          "base_uri": "https://localhost:8080/"
        },
        "id": "yqKEb98n9iY1",
        "outputId": "dc879c46-653b-4fe1-f777-d197d3c00db0"
      },
      "outputs": [
        {
          "data": {
            "text/plain": [
              "Index(['movie_id', 'title', 'tags', 'popularity', 'vote_average', 'genres'], dtype='object')"
            ]
          },
          "execution_count": 144,
          "metadata": {},
          "output_type": "execute_result"
        }
      ],
      "source": [
        "new_df.columns"
      ]
    },
    {
      "cell_type": "code",
      "execution_count": 145,
      "metadata": {
        "colab": {
          "base_uri": "https://localhost:8080/"
        },
        "id": "50zV-Yp15mPc",
        "outputId": "56a4ec89-b4fd-4a2d-b371-21bf2ab91100"
      },
      "outputs": [
        {
          "name": "stderr",
          "output_type": "stream",
          "text": [
            "  2%|▏         | 83/4805 [00:00<00:23, 200.03it/s]"
          ]
        },
        {
          "name": "stderr",
          "output_type": "stream",
          "text": [
            "100%|██████████| 4805/4805 [00:19<00:00, 249.93it/s]\n"
          ]
        }
      ],
      "source": [
        "\n",
        "\n",
        "\n",
        "from sklearn.neighbors import KNeighborsClassifier\n",
        "from sklearn.neighbors import NearestNeighbors\n",
        "from sklearn.preprocessing import LabelEncoder\n",
        "le = LabelEncoder()\n",
        "nn_data=new_df.copy()\n",
        "def fill_genre(value,col,categories=genres):\n",
        "  if col in value:\n",
        "    return 1\n",
        "  else:\n",
        "    return 0\n",
        "# Create genres columns\n",
        "for col in genres:\n",
        "    nn_data[col]=None\n",
        "for index in tqdm(nn_data.index):\n",
        "    for col in genres:\n",
        "        nn_data.at[index,col]=fill_genre(nn_data.at[index,'genres'],col)\n",
        "for col in genres:\n",
        "    nn_data[col]=nn_data.genres.apply(fill_genre,args=(col,))\n",
        "nn_data.drop(['movie_id','title','genres','popularity','vote_average'],axis=1,inplace=True)\n",
        "for col in ['tags']:\n",
        "    nn_data[col]=LabelEncoder().fit_transform(nn_data[col])"
      ]
    },
    {
      "cell_type": "code",
      "execution_count": 146,
      "metadata": {
        "colab": {
          "base_uri": "https://localhost:8080/"
        },
        "id": "OVMXAKoK5mN2",
        "outputId": "958c7dc8-a732-4f2a-d2c4-e108f36c9b51"
      },
      "outputs": [
        {
          "data": {
            "text/plain": [
              "tags                   0\n",
              "\"name\": \"horror\"}]     0\n",
              "\"name\": \"drama\"}       0\n",
              "{\"id\": 878             0\n",
              "\"name\": \"fantasy\"}     0\n",
              "                      ..\n",
              "\"name\": \"mystery\"}]    0\n",
              "{\"id\": 9648            0\n",
              "\"name\": \"mystery\"}     0\n",
              "\"name\": \"comedy\"}      0\n",
              "\"name\": \"foreign\"}     0\n",
              "Length: 82, dtype: int64"
            ]
          },
          "execution_count": 146,
          "metadata": {},
          "output_type": "execute_result"
        }
      ],
      "source": [
        "nn_data.dropna(inplace=True)\n",
        "nn_data.isnull().sum()"
      ]
    },
    {
      "cell_type": "code",
      "execution_count": 147,
      "metadata": {
        "colab": {
          "base_uri": "https://localhost:8080/",
          "height": 75
        },
        "id": "g-ZwqMcR50og",
        "outputId": "b7064b57-149d-4988-b627-458ee744d9f8"
      },
      "outputs": [
        {
          "data": {
            "text/html": [
              "<style>#sk-container-id-1 {\n",
              "  /* Definition of color scheme common for light and dark mode */\n",
              "  --sklearn-color-text: black;\n",
              "  --sklearn-color-line: gray;\n",
              "  /* Definition of color scheme for unfitted estimators */\n",
              "  --sklearn-color-unfitted-level-0: #fff5e6;\n",
              "  --sklearn-color-unfitted-level-1: #f6e4d2;\n",
              "  --sklearn-color-unfitted-level-2: #ffe0b3;\n",
              "  --sklearn-color-unfitted-level-3: chocolate;\n",
              "  /* Definition of color scheme for fitted estimators */\n",
              "  --sklearn-color-fitted-level-0: #f0f8ff;\n",
              "  --sklearn-color-fitted-level-1: #d4ebff;\n",
              "  --sklearn-color-fitted-level-2: #b3dbfd;\n",
              "  --sklearn-color-fitted-level-3: cornflowerblue;\n",
              "\n",
              "  /* Specific color for light theme */\n",
              "  --sklearn-color-text-on-default-background: var(--sg-text-color, var(--theme-code-foreground, var(--jp-content-font-color1, black)));\n",
              "  --sklearn-color-background: var(--sg-background-color, var(--theme-background, var(--jp-layout-color0, white)));\n",
              "  --sklearn-color-border-box: var(--sg-text-color, var(--theme-code-foreground, var(--jp-content-font-color1, black)));\n",
              "  --sklearn-color-icon: #696969;\n",
              "\n",
              "  @media (prefers-color-scheme: dark) {\n",
              "    /* Redefinition of color scheme for dark theme */\n",
              "    --sklearn-color-text-on-default-background: var(--sg-text-color, var(--theme-code-foreground, var(--jp-content-font-color1, white)));\n",
              "    --sklearn-color-background: var(--sg-background-color, var(--theme-background, var(--jp-layout-color0, #111)));\n",
              "    --sklearn-color-border-box: var(--sg-text-color, var(--theme-code-foreground, var(--jp-content-font-color1, white)));\n",
              "    --sklearn-color-icon: #878787;\n",
              "  }\n",
              "}\n",
              "\n",
              "#sk-container-id-1 {\n",
              "  color: var(--sklearn-color-text);\n",
              "}\n",
              "\n",
              "#sk-container-id-1 pre {\n",
              "  padding: 0;\n",
              "}\n",
              "\n",
              "#sk-container-id-1 input.sk-hidden--visually {\n",
              "  border: 0;\n",
              "  clip: rect(1px 1px 1px 1px);\n",
              "  clip: rect(1px, 1px, 1px, 1px);\n",
              "  height: 1px;\n",
              "  margin: -1px;\n",
              "  overflow: hidden;\n",
              "  padding: 0;\n",
              "  position: absolute;\n",
              "  width: 1px;\n",
              "}\n",
              "\n",
              "#sk-container-id-1 div.sk-dashed-wrapped {\n",
              "  border: 1px dashed var(--sklearn-color-line);\n",
              "  margin: 0 0.4em 0.5em 0.4em;\n",
              "  box-sizing: border-box;\n",
              "  padding-bottom: 0.4em;\n",
              "  background-color: var(--sklearn-color-background);\n",
              "}\n",
              "\n",
              "#sk-container-id-1 div.sk-container {\n",
              "  /* jupyter's `normalize.less` sets `[hidden] { display: none; }`\n",
              "     but bootstrap.min.css set `[hidden] { display: none !important; }`\n",
              "     so we also need the `!important` here to be able to override the\n",
              "     default hidden behavior on the sphinx rendered scikit-learn.org.\n",
              "     See: https://github.com/scikit-learn/scikit-learn/issues/21755 */\n",
              "  display: inline-block !important;\n",
              "  position: relative;\n",
              "}\n",
              "\n",
              "#sk-container-id-1 div.sk-text-repr-fallback {\n",
              "  display: none;\n",
              "}\n",
              "\n",
              "div.sk-parallel-item,\n",
              "div.sk-serial,\n",
              "div.sk-item {\n",
              "  /* draw centered vertical line to link estimators */\n",
              "  background-image: linear-gradient(var(--sklearn-color-text-on-default-background), var(--sklearn-color-text-on-default-background));\n",
              "  background-size: 2px 100%;\n",
              "  background-repeat: no-repeat;\n",
              "  background-position: center center;\n",
              "}\n",
              "\n",
              "/* Parallel-specific style estimator block */\n",
              "\n",
              "#sk-container-id-1 div.sk-parallel-item::after {\n",
              "  content: \"\";\n",
              "  width: 100%;\n",
              "  border-bottom: 2px solid var(--sklearn-color-text-on-default-background);\n",
              "  flex-grow: 1;\n",
              "}\n",
              "\n",
              "#sk-container-id-1 div.sk-parallel {\n",
              "  display: flex;\n",
              "  align-items: stretch;\n",
              "  justify-content: center;\n",
              "  background-color: var(--sklearn-color-background);\n",
              "  position: relative;\n",
              "}\n",
              "\n",
              "#sk-container-id-1 div.sk-parallel-item {\n",
              "  display: flex;\n",
              "  flex-direction: column;\n",
              "}\n",
              "\n",
              "#sk-container-id-1 div.sk-parallel-item:first-child::after {\n",
              "  align-self: flex-end;\n",
              "  width: 50%;\n",
              "}\n",
              "\n",
              "#sk-container-id-1 div.sk-parallel-item:last-child::after {\n",
              "  align-self: flex-start;\n",
              "  width: 50%;\n",
              "}\n",
              "\n",
              "#sk-container-id-1 div.sk-parallel-item:only-child::after {\n",
              "  width: 0;\n",
              "}\n",
              "\n",
              "/* Serial-specific style estimator block */\n",
              "\n",
              "#sk-container-id-1 div.sk-serial {\n",
              "  display: flex;\n",
              "  flex-direction: column;\n",
              "  align-items: center;\n",
              "  background-color: var(--sklearn-color-background);\n",
              "  padding-right: 1em;\n",
              "  padding-left: 1em;\n",
              "}\n",
              "\n",
              "\n",
              "/* Toggleable style: style used for estimator/Pipeline/ColumnTransformer box that is\n",
              "clickable and can be expanded/collapsed.\n",
              "- Pipeline and ColumnTransformer use this feature and define the default style\n",
              "- Estimators will overwrite some part of the style using the `sk-estimator` class\n",
              "*/\n",
              "\n",
              "/* Pipeline and ColumnTransformer style (default) */\n",
              "\n",
              "#sk-container-id-1 div.sk-toggleable {\n",
              "  /* Default theme specific background. It is overwritten whether we have a\n",
              "  specific estimator or a Pipeline/ColumnTransformer */\n",
              "  background-color: var(--sklearn-color-background);\n",
              "}\n",
              "\n",
              "/* Toggleable label */\n",
              "#sk-container-id-1 label.sk-toggleable__label {\n",
              "  cursor: pointer;\n",
              "  display: block;\n",
              "  width: 100%;\n",
              "  margin-bottom: 0;\n",
              "  padding: 0.5em;\n",
              "  box-sizing: border-box;\n",
              "  text-align: center;\n",
              "}\n",
              "\n",
              "#sk-container-id-1 label.sk-toggleable__label-arrow:before {\n",
              "  /* Arrow on the left of the label */\n",
              "  content: \"▸\";\n",
              "  float: left;\n",
              "  margin-right: 0.25em;\n",
              "  color: var(--sklearn-color-icon);\n",
              "}\n",
              "\n",
              "#sk-container-id-1 label.sk-toggleable__label-arrow:hover:before {\n",
              "  color: var(--sklearn-color-text);\n",
              "}\n",
              "\n",
              "/* Toggleable content - dropdown */\n",
              "\n",
              "#sk-container-id-1 div.sk-toggleable__content {\n",
              "  max-height: 0;\n",
              "  max-width: 0;\n",
              "  overflow: hidden;\n",
              "  text-align: left;\n",
              "  /* unfitted */\n",
              "  background-color: var(--sklearn-color-unfitted-level-0);\n",
              "}\n",
              "\n",
              "#sk-container-id-1 div.sk-toggleable__content.fitted {\n",
              "  /* fitted */\n",
              "  background-color: var(--sklearn-color-fitted-level-0);\n",
              "}\n",
              "\n",
              "#sk-container-id-1 div.sk-toggleable__content pre {\n",
              "  margin: 0.2em;\n",
              "  border-radius: 0.25em;\n",
              "  color: var(--sklearn-color-text);\n",
              "  /* unfitted */\n",
              "  background-color: var(--sklearn-color-unfitted-level-0);\n",
              "}\n",
              "\n",
              "#sk-container-id-1 div.sk-toggleable__content.fitted pre {\n",
              "  /* unfitted */\n",
              "  background-color: var(--sklearn-color-fitted-level-0);\n",
              "}\n",
              "\n",
              "#sk-container-id-1 input.sk-toggleable__control:checked~div.sk-toggleable__content {\n",
              "  /* Expand drop-down */\n",
              "  max-height: 200px;\n",
              "  max-width: 100%;\n",
              "  overflow: auto;\n",
              "}\n",
              "\n",
              "#sk-container-id-1 input.sk-toggleable__control:checked~label.sk-toggleable__label-arrow:before {\n",
              "  content: \"▾\";\n",
              "}\n",
              "\n",
              "/* Pipeline/ColumnTransformer-specific style */\n",
              "\n",
              "#sk-container-id-1 div.sk-label input.sk-toggleable__control:checked~label.sk-toggleable__label {\n",
              "  color: var(--sklearn-color-text);\n",
              "  background-color: var(--sklearn-color-unfitted-level-2);\n",
              "}\n",
              "\n",
              "#sk-container-id-1 div.sk-label.fitted input.sk-toggleable__control:checked~label.sk-toggleable__label {\n",
              "  background-color: var(--sklearn-color-fitted-level-2);\n",
              "}\n",
              "\n",
              "/* Estimator-specific style */\n",
              "\n",
              "/* Colorize estimator box */\n",
              "#sk-container-id-1 div.sk-estimator input.sk-toggleable__control:checked~label.sk-toggleable__label {\n",
              "  /* unfitted */\n",
              "  background-color: var(--sklearn-color-unfitted-level-2);\n",
              "}\n",
              "\n",
              "#sk-container-id-1 div.sk-estimator.fitted input.sk-toggleable__control:checked~label.sk-toggleable__label {\n",
              "  /* fitted */\n",
              "  background-color: var(--sklearn-color-fitted-level-2);\n",
              "}\n",
              "\n",
              "#sk-container-id-1 div.sk-label label.sk-toggleable__label,\n",
              "#sk-container-id-1 div.sk-label label {\n",
              "  /* The background is the default theme color */\n",
              "  color: var(--sklearn-color-text-on-default-background);\n",
              "}\n",
              "\n",
              "/* On hover, darken the color of the background */\n",
              "#sk-container-id-1 div.sk-label:hover label.sk-toggleable__label {\n",
              "  color: var(--sklearn-color-text);\n",
              "  background-color: var(--sklearn-color-unfitted-level-2);\n",
              "}\n",
              "\n",
              "/* Label box, darken color on hover, fitted */\n",
              "#sk-container-id-1 div.sk-label.fitted:hover label.sk-toggleable__label.fitted {\n",
              "  color: var(--sklearn-color-text);\n",
              "  background-color: var(--sklearn-color-fitted-level-2);\n",
              "}\n",
              "\n",
              "/* Estimator label */\n",
              "\n",
              "#sk-container-id-1 div.sk-label label {\n",
              "  font-family: monospace;\n",
              "  font-weight: bold;\n",
              "  display: inline-block;\n",
              "  line-height: 1.2em;\n",
              "}\n",
              "\n",
              "#sk-container-id-1 div.sk-label-container {\n",
              "  text-align: center;\n",
              "}\n",
              "\n",
              "/* Estimator-specific */\n",
              "#sk-container-id-1 div.sk-estimator {\n",
              "  font-family: monospace;\n",
              "  border: 1px dotted var(--sklearn-color-border-box);\n",
              "  border-radius: 0.25em;\n",
              "  box-sizing: border-box;\n",
              "  margin-bottom: 0.5em;\n",
              "  /* unfitted */\n",
              "  background-color: var(--sklearn-color-unfitted-level-0);\n",
              "}\n",
              "\n",
              "#sk-container-id-1 div.sk-estimator.fitted {\n",
              "  /* fitted */\n",
              "  background-color: var(--sklearn-color-fitted-level-0);\n",
              "}\n",
              "\n",
              "/* on hover */\n",
              "#sk-container-id-1 div.sk-estimator:hover {\n",
              "  /* unfitted */\n",
              "  background-color: var(--sklearn-color-unfitted-level-2);\n",
              "}\n",
              "\n",
              "#sk-container-id-1 div.sk-estimator.fitted:hover {\n",
              "  /* fitted */\n",
              "  background-color: var(--sklearn-color-fitted-level-2);\n",
              "}\n",
              "\n",
              "/* Specification for estimator info (e.g. \"i\" and \"?\") */\n",
              "\n",
              "/* Common style for \"i\" and \"?\" */\n",
              "\n",
              ".sk-estimator-doc-link,\n",
              "a:link.sk-estimator-doc-link,\n",
              "a:visited.sk-estimator-doc-link {\n",
              "  float: right;\n",
              "  font-size: smaller;\n",
              "  line-height: 1em;\n",
              "  font-family: monospace;\n",
              "  background-color: var(--sklearn-color-background);\n",
              "  border-radius: 1em;\n",
              "  height: 1em;\n",
              "  width: 1em;\n",
              "  text-decoration: none !important;\n",
              "  margin-left: 1ex;\n",
              "  /* unfitted */\n",
              "  border: var(--sklearn-color-unfitted-level-1) 1pt solid;\n",
              "  color: var(--sklearn-color-unfitted-level-1);\n",
              "}\n",
              "\n",
              ".sk-estimator-doc-link.fitted,\n",
              "a:link.sk-estimator-doc-link.fitted,\n",
              "a:visited.sk-estimator-doc-link.fitted {\n",
              "  /* fitted */\n",
              "  border: var(--sklearn-color-fitted-level-1) 1pt solid;\n",
              "  color: var(--sklearn-color-fitted-level-1);\n",
              "}\n",
              "\n",
              "/* On hover */\n",
              "div.sk-estimator:hover .sk-estimator-doc-link:hover,\n",
              ".sk-estimator-doc-link:hover,\n",
              "div.sk-label-container:hover .sk-estimator-doc-link:hover,\n",
              ".sk-estimator-doc-link:hover {\n",
              "  /* unfitted */\n",
              "  background-color: var(--sklearn-color-unfitted-level-3);\n",
              "  color: var(--sklearn-color-background);\n",
              "  text-decoration: none;\n",
              "}\n",
              "\n",
              "div.sk-estimator.fitted:hover .sk-estimator-doc-link.fitted:hover,\n",
              ".sk-estimator-doc-link.fitted:hover,\n",
              "div.sk-label-container:hover .sk-estimator-doc-link.fitted:hover,\n",
              ".sk-estimator-doc-link.fitted:hover {\n",
              "  /* fitted */\n",
              "  background-color: var(--sklearn-color-fitted-level-3);\n",
              "  color: var(--sklearn-color-background);\n",
              "  text-decoration: none;\n",
              "}\n",
              "\n",
              "/* Span, style for the box shown on hovering the info icon */\n",
              ".sk-estimator-doc-link span {\n",
              "  display: none;\n",
              "  z-index: 9999;\n",
              "  position: relative;\n",
              "  font-weight: normal;\n",
              "  right: .2ex;\n",
              "  padding: .5ex;\n",
              "  margin: .5ex;\n",
              "  width: min-content;\n",
              "  min-width: 20ex;\n",
              "  max-width: 50ex;\n",
              "  color: var(--sklearn-color-text);\n",
              "  box-shadow: 2pt 2pt 4pt #999;\n",
              "  /* unfitted */\n",
              "  background: var(--sklearn-color-unfitted-level-0);\n",
              "  border: .5pt solid var(--sklearn-color-unfitted-level-3);\n",
              "}\n",
              "\n",
              ".sk-estimator-doc-link.fitted span {\n",
              "  /* fitted */\n",
              "  background: var(--sklearn-color-fitted-level-0);\n",
              "  border: var(--sklearn-color-fitted-level-3);\n",
              "}\n",
              "\n",
              ".sk-estimator-doc-link:hover span {\n",
              "  display: block;\n",
              "}\n",
              "\n",
              "/* \"?\"-specific style due to the `<a>` HTML tag */\n",
              "\n",
              "#sk-container-id-1 a.estimator_doc_link {\n",
              "  float: right;\n",
              "  font-size: 1rem;\n",
              "  line-height: 1em;\n",
              "  font-family: monospace;\n",
              "  background-color: var(--sklearn-color-background);\n",
              "  border-radius: 1rem;\n",
              "  height: 1rem;\n",
              "  width: 1rem;\n",
              "  text-decoration: none;\n",
              "  /* unfitted */\n",
              "  color: var(--sklearn-color-unfitted-level-1);\n",
              "  border: var(--sklearn-color-unfitted-level-1) 1pt solid;\n",
              "}\n",
              "\n",
              "#sk-container-id-1 a.estimator_doc_link.fitted {\n",
              "  /* fitted */\n",
              "  border: var(--sklearn-color-fitted-level-1) 1pt solid;\n",
              "  color: var(--sklearn-color-fitted-level-1);\n",
              "}\n",
              "\n",
              "/* On hover */\n",
              "#sk-container-id-1 a.estimator_doc_link:hover {\n",
              "  /* unfitted */\n",
              "  background-color: var(--sklearn-color-unfitted-level-3);\n",
              "  color: var(--sklearn-color-background);\n",
              "  text-decoration: none;\n",
              "}\n",
              "\n",
              "#sk-container-id-1 a.estimator_doc_link.fitted:hover {\n",
              "  /* fitted */\n",
              "  background-color: var(--sklearn-color-fitted-level-3);\n",
              "}\n",
              "</style><div id=\"sk-container-id-1\" class=\"sk-top-container\"><div class=\"sk-text-repr-fallback\"><pre>NearestNeighbors(metric=&#x27;cosine&#x27;, n_jobs=-1, n_neighbors=11)</pre><b>In a Jupyter environment, please rerun this cell to show the HTML representation or trust the notebook. <br />On GitHub, the HTML representation is unable to render, please try loading this page with nbviewer.org.</b></div><div class=\"sk-container\" hidden><div class=\"sk-item\"><div class=\"sk-estimator fitted sk-toggleable\"><input class=\"sk-toggleable__control sk-hidden--visually\" id=\"sk-estimator-id-1\" type=\"checkbox\" checked><label for=\"sk-estimator-id-1\" class=\"sk-toggleable__label fitted sk-toggleable__label-arrow fitted\">&nbsp;&nbsp;NearestNeighbors<a class=\"sk-estimator-doc-link fitted\" rel=\"noreferrer\" target=\"_blank\" href=\"https://scikit-learn.org/1.4/modules/generated/sklearn.neighbors.NearestNeighbors.html\">?<span>Documentation for NearestNeighbors</span></a><span class=\"sk-estimator-doc-link fitted\">i<span>Fitted</span></span></label><div class=\"sk-toggleable__content fitted\"><pre>NearestNeighbors(metric=&#x27;cosine&#x27;, n_jobs=-1, n_neighbors=11)</pre></div> </div></div></div></div>"
            ],
            "text/plain": [
              "NearestNeighbors(metric='cosine', n_jobs=-1, n_neighbors=11)"
            ]
          },
          "execution_count": 147,
          "metadata": {},
          "output_type": "execute_result"
        }
      ],
      "source": [
        "model_knn = NearestNeighbors(metric='cosine',algorithm='auto', n_neighbors=11,n_jobs=-1)\n",
        "model_knn.fit(nn_data)"
      ]
    },
    {
      "cell_type": "code",
      "execution_count": 148,
      "metadata": {
        "id": "TFNbhLacanBT"
      },
      "outputs": [],
      "source": [
        "import plotly.figure_factory as ff\n",
        "\n",
        "def recommend_movies(movie,nn_data,orig_data):\n",
        "    orig_data.reset_index(inplace=True)\n",
        "    nn_data.reset_index(inplace=True,drop=True)\n",
        "    movie_index=nn_data[orig_data.title==movie].index\n",
        "    distances, indices = model_knn.kneighbors(np.array(nn_data.iloc[movie_index]).reshape(1,-1),n_neighbors=10)\n",
        "\n",
        "    out=orig_data[['title','movie_id','popularity','vote_average','genres']].iloc[indices[0]]\n",
        "    # out.genres = out.genres.str.replace(',', '<br>')\n",
        "    final=out.sort_values(by='popularity',ascending=False)\n",
        "    colorscale = [[0, '#fad2e1'], [.5, '#fde2e4'], [1, '#fff1e6']]\n",
        "    fig = ff.create_table(final, colorscale=colorscale, height_constant=70)\n",
        "    return fig"
      ]
    },
    {
      "cell_type": "code",
      "execution_count": 149,
      "metadata": {
        "colab": {
          "base_uri": "https://localhost:8080/",
          "height": 906
        },
        "id": "6x1_NZkW5l61",
        "outputId": "be4fef99-bec7-407d-c92d-581bdf63d201"
      },
      "outputs": [
        {
          "name": "stderr",
          "output_type": "stream",
          "text": [
            "c:\\Users\\elman\\AppData\\Local\\Programs\\Python\\Python311\\Lib\\site-packages\\sklearn\\base.py:493: UserWarning:\n",
            "\n",
            "X does not have valid feature names, but NearestNeighbors was fitted with feature names\n",
            "\n"
          ]
        },
        {
          "data": {
            "application/vnd.plotly.v1+json": {
              "config": {
                "plotlyServerURL": "https://plot.ly"
              },
              "data": [
                {
                  "colorscale": [
                    [
                      0,
                      "#fad2e1"
                    ],
                    [
                      0.5,
                      "#fde2e4"
                    ],
                    [
                      1,
                      "#fff1e6"
                    ]
                  ],
                  "hoverinfo": "none",
                  "opacity": 0.75,
                  "showscale": false,
                  "type": "heatmap",
                  "z": [
                    [
                      0,
                      0,
                      0,
                      0,
                      0
                    ],
                    [
                      0.5,
                      0.5,
                      0.5,
                      0.5,
                      0.5
                    ],
                    [
                      1,
                      1,
                      1,
                      1,
                      1
                    ],
                    [
                      0.5,
                      0.5,
                      0.5,
                      0.5,
                      0.5
                    ],
                    [
                      1,
                      1,
                      1,
                      1,
                      1
                    ],
                    [
                      0.5,
                      0.5,
                      0.5,
                      0.5,
                      0.5
                    ],
                    [
                      1,
                      1,
                      1,
                      1,
                      1
                    ],
                    [
                      0.5,
                      0.5,
                      0.5,
                      0.5,
                      0.5
                    ],
                    [
                      1,
                      1,
                      1,
                      1,
                      1
                    ],
                    [
                      0.5,
                      0.5,
                      0.5,
                      0.5,
                      0.5
                    ],
                    [
                      1,
                      1,
                      1,
                      1,
                      1
                    ]
                  ]
                }
              ],
              "layout": {
                "annotations": [
                  {
                    "align": "left",
                    "font": {
                      "color": "#ffffff"
                    },
                    "showarrow": false,
                    "text": "<b>title</b>",
                    "x": -0.45,
                    "xanchor": "left",
                    "xref": "x",
                    "y": 0,
                    "yref": "y"
                  },
                  {
                    "align": "left",
                    "font": {
                      "color": "#ffffff"
                    },
                    "showarrow": false,
                    "text": "<b>movie_id</b>",
                    "x": 0.55,
                    "xanchor": "left",
                    "xref": "x",
                    "y": 0,
                    "yref": "y"
                  },
                  {
                    "align": "left",
                    "font": {
                      "color": "#ffffff"
                    },
                    "showarrow": false,
                    "text": "<b>popularity</b>",
                    "x": 1.55,
                    "xanchor": "left",
                    "xref": "x",
                    "y": 0,
                    "yref": "y"
                  },
                  {
                    "align": "left",
                    "font": {
                      "color": "#ffffff"
                    },
                    "showarrow": false,
                    "text": "<b>vote_average</b>",
                    "x": 2.55,
                    "xanchor": "left",
                    "xref": "x",
                    "y": 0,
                    "yref": "y"
                  },
                  {
                    "align": "left",
                    "font": {
                      "color": "#ffffff"
                    },
                    "showarrow": false,
                    "text": "<b>genres</b>",
                    "x": 3.55,
                    "xanchor": "left",
                    "xref": "x",
                    "y": 0,
                    "yref": "y"
                  },
                  {
                    "align": "left",
                    "font": {
                      "color": "#000000"
                    },
                    "showarrow": false,
                    "text": "Awake",
                    "x": -0.45,
                    "xanchor": "left",
                    "xref": "x",
                    "y": 1,
                    "yref": "y"
                  },
                  {
                    "align": "left",
                    "font": {
                      "color": "#000000"
                    },
                    "showarrow": false,
                    "text": "13483",
                    "x": 0.55,
                    "xanchor": "left",
                    "xref": "x",
                    "y": 1,
                    "yref": "y"
                  },
                  {
                    "align": "left",
                    "font": {
                      "color": "#000000"
                    },
                    "showarrow": false,
                    "text": "18.172736",
                    "x": 1.55,
                    "xanchor": "left",
                    "xref": "x",
                    "y": 1,
                    "yref": "y"
                  },
                  {
                    "align": "left",
                    "font": {
                      "color": "#000000"
                    },
                    "showarrow": false,
                    "text": "6.3",
                    "x": 2.55,
                    "xanchor": "left",
                    "xref": "x",
                    "y": 1,
                    "yref": "y"
                  },
                  {
                    "align": "left",
                    "font": {
                      "color": "#000000"
                    },
                    "showarrow": false,
                    "text": "['Thriller', 'Crime', 'Mystery']",
                    "x": 3.55,
                    "xanchor": "left",
                    "xref": "x",
                    "y": 1,
                    "yref": "y"
                  },
                  {
                    "align": "left",
                    "font": {
                      "color": "#000000"
                    },
                    "showarrow": false,
                    "text": "Crocodile Dundee",
                    "x": -0.45,
                    "xanchor": "left",
                    "xref": "x",
                    "y": 2,
                    "yref": "y"
                  },
                  {
                    "align": "left",
                    "font": {
                      "color": "#000000"
                    },
                    "showarrow": false,
                    "text": "9671",
                    "x": 0.55,
                    "xanchor": "left",
                    "xref": "x",
                    "y": 2,
                    "yref": "y"
                  },
                  {
                    "align": "left",
                    "font": {
                      "color": "#000000"
                    },
                    "showarrow": false,
                    "text": "16.072466",
                    "x": 1.55,
                    "xanchor": "left",
                    "xref": "x",
                    "y": 2,
                    "yref": "y"
                  },
                  {
                    "align": "left",
                    "font": {
                      "color": "#000000"
                    },
                    "showarrow": false,
                    "text": "6.3",
                    "x": 2.55,
                    "xanchor": "left",
                    "xref": "x",
                    "y": 2,
                    "yref": "y"
                  },
                  {
                    "align": "left",
                    "font": {
                      "color": "#000000"
                    },
                    "showarrow": false,
                    "text": "['Adventure', 'Comedy']",
                    "x": 3.55,
                    "xanchor": "left",
                    "xref": "x",
                    "y": 2,
                    "yref": "y"
                  },
                  {
                    "align": "left",
                    "font": {
                      "color": "#000000"
                    },
                    "showarrow": false,
                    "text": "Red Riding: In the Year of Our Lord 1974",
                    "x": -0.45,
                    "xanchor": "left",
                    "xref": "x",
                    "y": 3,
                    "yref": "y"
                  },
                  {
                    "align": "left",
                    "font": {
                      "color": "#000000"
                    },
                    "showarrow": false,
                    "text": "291081",
                    "x": 0.55,
                    "xanchor": "left",
                    "xref": "x",
                    "y": 3,
                    "yref": "y"
                  },
                  {
                    "align": "left",
                    "font": {
                      "color": "#000000"
                    },
                    "showarrow": false,
                    "text": "7.247023",
                    "x": 1.55,
                    "xanchor": "left",
                    "xref": "x",
                    "y": 3,
                    "yref": "y"
                  },
                  {
                    "align": "left",
                    "font": {
                      "color": "#000000"
                    },
                    "showarrow": false,
                    "text": "7.0",
                    "x": 2.55,
                    "xanchor": "left",
                    "xref": "x",
                    "y": 3,
                    "yref": "y"
                  },
                  {
                    "align": "left",
                    "font": {
                      "color": "#000000"
                    },
                    "showarrow": false,
                    "text": "['Thriller', 'Mystery', 'Crime', 'Drama']",
                    "x": 3.55,
                    "xanchor": "left",
                    "xref": "x",
                    "y": 3,
                    "yref": "y"
                  },
                  {
                    "align": "left",
                    "font": {
                      "color": "#000000"
                    },
                    "showarrow": false,
                    "text": "Veronika Decides to Die",
                    "x": -0.45,
                    "xanchor": "left",
                    "xref": "x",
                    "y": 4,
                    "yref": "y"
                  },
                  {
                    "align": "left",
                    "font": {
                      "color": "#000000"
                    },
                    "showarrow": false,
                    "text": "25968",
                    "x": 0.55,
                    "xanchor": "left",
                    "xref": "x",
                    "y": 4,
                    "yref": "y"
                  },
                  {
                    "align": "left",
                    "font": {
                      "color": "#000000"
                    },
                    "showarrow": false,
                    "text": "4.799022",
                    "x": 1.55,
                    "xanchor": "left",
                    "xref": "x",
                    "y": 4,
                    "yref": "y"
                  },
                  {
                    "align": "left",
                    "font": {
                      "color": "#000000"
                    },
                    "showarrow": false,
                    "text": "5.8",
                    "x": 2.55,
                    "xanchor": "left",
                    "xref": "x",
                    "y": 4,
                    "yref": "y"
                  },
                  {
                    "align": "left",
                    "font": {
                      "color": "#000000"
                    },
                    "showarrow": false,
                    "text": "['Drama', 'Romance']",
                    "x": 3.55,
                    "xanchor": "left",
                    "xref": "x",
                    "y": 4,
                    "yref": "y"
                  },
                  {
                    "align": "left",
                    "font": {
                      "color": "#000000"
                    },
                    "showarrow": false,
                    "text": "Beneath Hill 60",
                    "x": -0.45,
                    "xanchor": "left",
                    "xref": "x",
                    "y": 5,
                    "yref": "y"
                  },
                  {
                    "align": "left",
                    "font": {
                      "color": "#000000"
                    },
                    "showarrow": false,
                    "text": "43418",
                    "x": 0.55,
                    "xanchor": "left",
                    "xref": "x",
                    "y": 5,
                    "yref": "y"
                  },
                  {
                    "align": "left",
                    "font": {
                      "color": "#000000"
                    },
                    "showarrow": false,
                    "text": "3.949796",
                    "x": 1.55,
                    "xanchor": "left",
                    "xref": "x",
                    "y": 5,
                    "yref": "y"
                  },
                  {
                    "align": "left",
                    "font": {
                      "color": "#000000"
                    },
                    "showarrow": false,
                    "text": "7.3",
                    "x": 2.55,
                    "xanchor": "left",
                    "xref": "x",
                    "y": 5,
                    "yref": "y"
                  },
                  {
                    "align": "left",
                    "font": {
                      "color": "#000000"
                    },
                    "showarrow": false,
                    "text": "['Drama', 'History', 'War']",
                    "x": 3.55,
                    "xanchor": "left",
                    "xref": "x",
                    "y": 5,
                    "yref": "y"
                  },
                  {
                    "align": "left",
                    "font": {
                      "color": "#000000"
                    },
                    "showarrow": false,
                    "text": "Ultramarines: A Warhammer 40,000 Movie",
                    "x": -0.45,
                    "xanchor": "left",
                    "xref": "x",
                    "y": 6,
                    "yref": "y"
                  },
                  {
                    "align": "left",
                    "font": {
                      "color": "#000000"
                    },
                    "showarrow": false,
                    "text": "52010",
                    "x": 0.55,
                    "xanchor": "left",
                    "xref": "x",
                    "y": 6,
                    "yref": "y"
                  },
                  {
                    "align": "left",
                    "font": {
                      "color": "#000000"
                    },
                    "showarrow": false,
                    "text": "3.891186",
                    "x": 1.55,
                    "xanchor": "left",
                    "xref": "x",
                    "y": 6,
                    "yref": "y"
                  },
                  {
                    "align": "left",
                    "font": {
                      "color": "#000000"
                    },
                    "showarrow": false,
                    "text": "5.2",
                    "x": 2.55,
                    "xanchor": "left",
                    "xref": "x",
                    "y": 6,
                    "yref": "y"
                  },
                  {
                    "align": "left",
                    "font": {
                      "color": "#000000"
                    },
                    "showarrow": false,
                    "text": "['Animation', 'ScienceFiction']",
                    "x": 3.55,
                    "xanchor": "left",
                    "xref": "x",
                    "y": 6,
                    "yref": "y"
                  },
                  {
                    "align": "left",
                    "font": {
                      "color": "#000000"
                    },
                    "showarrow": false,
                    "text": "The I Inside",
                    "x": -0.45,
                    "xanchor": "left",
                    "xref": "x",
                    "y": 7,
                    "yref": "y"
                  },
                  {
                    "align": "left",
                    "font": {
                      "color": "#000000"
                    },
                    "showarrow": false,
                    "text": "11588",
                    "x": 0.55,
                    "xanchor": "left",
                    "xref": "x",
                    "y": 7,
                    "yref": "y"
                  },
                  {
                    "align": "left",
                    "font": {
                      "color": "#000000"
                    },
                    "showarrow": false,
                    "text": "3.789485",
                    "x": 1.55,
                    "xanchor": "left",
                    "xref": "x",
                    "y": 7,
                    "yref": "y"
                  },
                  {
                    "align": "left",
                    "font": {
                      "color": "#000000"
                    },
                    "showarrow": false,
                    "text": "5.9",
                    "x": 2.55,
                    "xanchor": "left",
                    "xref": "x",
                    "y": 7,
                    "yref": "y"
                  },
                  {
                    "align": "left",
                    "font": {
                      "color": "#000000"
                    },
                    "showarrow": false,
                    "text": "['Thriller', 'Mystery', 'ScienceFiction']",
                    "x": 3.55,
                    "xanchor": "left",
                    "xref": "x",
                    "y": 7,
                    "yref": "y"
                  },
                  {
                    "align": "left",
                    "font": {
                      "color": "#000000"
                    },
                    "showarrow": false,
                    "text": "The Girl on the Train",
                    "x": -0.45,
                    "xanchor": "left",
                    "xref": "x",
                    "y": 8,
                    "yref": "y"
                  },
                  {
                    "align": "left",
                    "font": {
                      "color": "#000000"
                    },
                    "showarrow": false,
                    "text": "41248",
                    "x": 0.55,
                    "xanchor": "left",
                    "xref": "x",
                    "y": 8,
                    "yref": "y"
                  },
                  {
                    "align": "left",
                    "font": {
                      "color": "#000000"
                    },
                    "showarrow": false,
                    "text": "2.351706",
                    "x": 1.55,
                    "xanchor": "left",
                    "xref": "x",
                    "y": 8,
                    "yref": "y"
                  },
                  {
                    "align": "left",
                    "font": {
                      "color": "#000000"
                    },
                    "showarrow": false,
                    "text": "5.6",
                    "x": 2.55,
                    "xanchor": "left",
                    "xref": "x",
                    "y": 8,
                    "yref": "y"
                  },
                  {
                    "align": "left",
                    "font": {
                      "color": "#000000"
                    },
                    "showarrow": false,
                    "text": "['Drama', 'Romance']",
                    "x": 3.55,
                    "xanchor": "left",
                    "xref": "x",
                    "y": 8,
                    "yref": "y"
                  },
                  {
                    "align": "left",
                    "font": {
                      "color": "#000000"
                    },
                    "showarrow": false,
                    "text": "Undiscovered",
                    "x": -0.45,
                    "xanchor": "left",
                    "xref": "x",
                    "y": 9,
                    "yref": "y"
                  },
                  {
                    "align": "left",
                    "font": {
                      "color": "#000000"
                    },
                    "showarrow": false,
                    "text": "17926",
                    "x": 0.55,
                    "xanchor": "left",
                    "xref": "x",
                    "y": 9,
                    "yref": "y"
                  },
                  {
                    "align": "left",
                    "font": {
                      "color": "#000000"
                    },
                    "showarrow": false,
                    "text": "2.009597",
                    "x": 1.55,
                    "xanchor": "left",
                    "xref": "x",
                    "y": 9,
                    "yref": "y"
                  },
                  {
                    "align": "left",
                    "font": {
                      "color": "#000000"
                    },
                    "showarrow": false,
                    "text": "4.5",
                    "x": 2.55,
                    "xanchor": "left",
                    "xref": "x",
                    "y": 9,
                    "yref": "y"
                  },
                  {
                    "align": "left",
                    "font": {
                      "color": "#000000"
                    },
                    "showarrow": false,
                    "text": "['Comedy', 'Romance']",
                    "x": 3.55,
                    "xanchor": "left",
                    "xref": "x",
                    "y": 9,
                    "yref": "y"
                  },
                  {
                    "align": "left",
                    "font": {
                      "color": "#000000"
                    },
                    "showarrow": false,
                    "text": "Princess Kaiulani",
                    "x": -0.45,
                    "xanchor": "left",
                    "xref": "x",
                    "y": 10,
                    "yref": "y"
                  },
                  {
                    "align": "left",
                    "font": {
                      "color": "#000000"
                    },
                    "showarrow": false,
                    "text": "39806",
                    "x": 0.55,
                    "xanchor": "left",
                    "xref": "x",
                    "y": 10,
                    "yref": "y"
                  },
                  {
                    "align": "left",
                    "font": {
                      "color": "#000000"
                    },
                    "showarrow": false,
                    "text": "0.717811",
                    "x": 1.55,
                    "xanchor": "left",
                    "xref": "x",
                    "y": 10,
                    "yref": "y"
                  },
                  {
                    "align": "left",
                    "font": {
                      "color": "#000000"
                    },
                    "showarrow": false,
                    "text": "4.8",
                    "x": 2.55,
                    "xanchor": "left",
                    "xref": "x",
                    "y": 10,
                    "yref": "y"
                  },
                  {
                    "align": "left",
                    "font": {
                      "color": "#000000"
                    },
                    "showarrow": false,
                    "text": "['Drama']",
                    "x": 3.55,
                    "xanchor": "left",
                    "xref": "x",
                    "y": 10,
                    "yref": "y"
                  }
                ],
                "height": 820,
                "margin": {
                  "b": 0,
                  "l": 0,
                  "r": 0,
                  "t": 0
                },
                "template": {
                  "data": {
                    "bar": [
                      {
                        "error_x": {
                          "color": "#2a3f5f"
                        },
                        "error_y": {
                          "color": "#2a3f5f"
                        },
                        "marker": {
                          "line": {
                            "color": "#E5ECF6",
                            "width": 0.5
                          },
                          "pattern": {
                            "fillmode": "overlay",
                            "size": 10,
                            "solidity": 0.2
                          }
                        },
                        "type": "bar"
                      }
                    ],
                    "barpolar": [
                      {
                        "marker": {
                          "line": {
                            "color": "#E5ECF6",
                            "width": 0.5
                          },
                          "pattern": {
                            "fillmode": "overlay",
                            "size": 10,
                            "solidity": 0.2
                          }
                        },
                        "type": "barpolar"
                      }
                    ],
                    "carpet": [
                      {
                        "aaxis": {
                          "endlinecolor": "#2a3f5f",
                          "gridcolor": "white",
                          "linecolor": "white",
                          "minorgridcolor": "white",
                          "startlinecolor": "#2a3f5f"
                        },
                        "baxis": {
                          "endlinecolor": "#2a3f5f",
                          "gridcolor": "white",
                          "linecolor": "white",
                          "minorgridcolor": "white",
                          "startlinecolor": "#2a3f5f"
                        },
                        "type": "carpet"
                      }
                    ],
                    "choropleth": [
                      {
                        "colorbar": {
                          "outlinewidth": 0,
                          "ticks": ""
                        },
                        "type": "choropleth"
                      }
                    ],
                    "contour": [
                      {
                        "colorbar": {
                          "outlinewidth": 0,
                          "ticks": ""
                        },
                        "colorscale": [
                          [
                            0,
                            "#0d0887"
                          ],
                          [
                            0.1111111111111111,
                            "#46039f"
                          ],
                          [
                            0.2222222222222222,
                            "#7201a8"
                          ],
                          [
                            0.3333333333333333,
                            "#9c179e"
                          ],
                          [
                            0.4444444444444444,
                            "#bd3786"
                          ],
                          [
                            0.5555555555555556,
                            "#d8576b"
                          ],
                          [
                            0.6666666666666666,
                            "#ed7953"
                          ],
                          [
                            0.7777777777777778,
                            "#fb9f3a"
                          ],
                          [
                            0.8888888888888888,
                            "#fdca26"
                          ],
                          [
                            1,
                            "#f0f921"
                          ]
                        ],
                        "type": "contour"
                      }
                    ],
                    "contourcarpet": [
                      {
                        "colorbar": {
                          "outlinewidth": 0,
                          "ticks": ""
                        },
                        "type": "contourcarpet"
                      }
                    ],
                    "heatmap": [
                      {
                        "colorbar": {
                          "outlinewidth": 0,
                          "ticks": ""
                        },
                        "colorscale": [
                          [
                            0,
                            "#0d0887"
                          ],
                          [
                            0.1111111111111111,
                            "#46039f"
                          ],
                          [
                            0.2222222222222222,
                            "#7201a8"
                          ],
                          [
                            0.3333333333333333,
                            "#9c179e"
                          ],
                          [
                            0.4444444444444444,
                            "#bd3786"
                          ],
                          [
                            0.5555555555555556,
                            "#d8576b"
                          ],
                          [
                            0.6666666666666666,
                            "#ed7953"
                          ],
                          [
                            0.7777777777777778,
                            "#fb9f3a"
                          ],
                          [
                            0.8888888888888888,
                            "#fdca26"
                          ],
                          [
                            1,
                            "#f0f921"
                          ]
                        ],
                        "type": "heatmap"
                      }
                    ],
                    "heatmapgl": [
                      {
                        "colorbar": {
                          "outlinewidth": 0,
                          "ticks": ""
                        },
                        "colorscale": [
                          [
                            0,
                            "#0d0887"
                          ],
                          [
                            0.1111111111111111,
                            "#46039f"
                          ],
                          [
                            0.2222222222222222,
                            "#7201a8"
                          ],
                          [
                            0.3333333333333333,
                            "#9c179e"
                          ],
                          [
                            0.4444444444444444,
                            "#bd3786"
                          ],
                          [
                            0.5555555555555556,
                            "#d8576b"
                          ],
                          [
                            0.6666666666666666,
                            "#ed7953"
                          ],
                          [
                            0.7777777777777778,
                            "#fb9f3a"
                          ],
                          [
                            0.8888888888888888,
                            "#fdca26"
                          ],
                          [
                            1,
                            "#f0f921"
                          ]
                        ],
                        "type": "heatmapgl"
                      }
                    ],
                    "histogram": [
                      {
                        "marker": {
                          "pattern": {
                            "fillmode": "overlay",
                            "size": 10,
                            "solidity": 0.2
                          }
                        },
                        "type": "histogram"
                      }
                    ],
                    "histogram2d": [
                      {
                        "colorbar": {
                          "outlinewidth": 0,
                          "ticks": ""
                        },
                        "colorscale": [
                          [
                            0,
                            "#0d0887"
                          ],
                          [
                            0.1111111111111111,
                            "#46039f"
                          ],
                          [
                            0.2222222222222222,
                            "#7201a8"
                          ],
                          [
                            0.3333333333333333,
                            "#9c179e"
                          ],
                          [
                            0.4444444444444444,
                            "#bd3786"
                          ],
                          [
                            0.5555555555555556,
                            "#d8576b"
                          ],
                          [
                            0.6666666666666666,
                            "#ed7953"
                          ],
                          [
                            0.7777777777777778,
                            "#fb9f3a"
                          ],
                          [
                            0.8888888888888888,
                            "#fdca26"
                          ],
                          [
                            1,
                            "#f0f921"
                          ]
                        ],
                        "type": "histogram2d"
                      }
                    ],
                    "histogram2dcontour": [
                      {
                        "colorbar": {
                          "outlinewidth": 0,
                          "ticks": ""
                        },
                        "colorscale": [
                          [
                            0,
                            "#0d0887"
                          ],
                          [
                            0.1111111111111111,
                            "#46039f"
                          ],
                          [
                            0.2222222222222222,
                            "#7201a8"
                          ],
                          [
                            0.3333333333333333,
                            "#9c179e"
                          ],
                          [
                            0.4444444444444444,
                            "#bd3786"
                          ],
                          [
                            0.5555555555555556,
                            "#d8576b"
                          ],
                          [
                            0.6666666666666666,
                            "#ed7953"
                          ],
                          [
                            0.7777777777777778,
                            "#fb9f3a"
                          ],
                          [
                            0.8888888888888888,
                            "#fdca26"
                          ],
                          [
                            1,
                            "#f0f921"
                          ]
                        ],
                        "type": "histogram2dcontour"
                      }
                    ],
                    "mesh3d": [
                      {
                        "colorbar": {
                          "outlinewidth": 0,
                          "ticks": ""
                        },
                        "type": "mesh3d"
                      }
                    ],
                    "parcoords": [
                      {
                        "line": {
                          "colorbar": {
                            "outlinewidth": 0,
                            "ticks": ""
                          }
                        },
                        "type": "parcoords"
                      }
                    ],
                    "pie": [
                      {
                        "automargin": true,
                        "type": "pie"
                      }
                    ],
                    "scatter": [
                      {
                        "fillpattern": {
                          "fillmode": "overlay",
                          "size": 10,
                          "solidity": 0.2
                        },
                        "type": "scatter"
                      }
                    ],
                    "scatter3d": [
                      {
                        "line": {
                          "colorbar": {
                            "outlinewidth": 0,
                            "ticks": ""
                          }
                        },
                        "marker": {
                          "colorbar": {
                            "outlinewidth": 0,
                            "ticks": ""
                          }
                        },
                        "type": "scatter3d"
                      }
                    ],
                    "scattercarpet": [
                      {
                        "marker": {
                          "colorbar": {
                            "outlinewidth": 0,
                            "ticks": ""
                          }
                        },
                        "type": "scattercarpet"
                      }
                    ],
                    "scattergeo": [
                      {
                        "marker": {
                          "colorbar": {
                            "outlinewidth": 0,
                            "ticks": ""
                          }
                        },
                        "type": "scattergeo"
                      }
                    ],
                    "scattergl": [
                      {
                        "marker": {
                          "colorbar": {
                            "outlinewidth": 0,
                            "ticks": ""
                          }
                        },
                        "type": "scattergl"
                      }
                    ],
                    "scattermapbox": [
                      {
                        "marker": {
                          "colorbar": {
                            "outlinewidth": 0,
                            "ticks": ""
                          }
                        },
                        "type": "scattermapbox"
                      }
                    ],
                    "scatterpolar": [
                      {
                        "marker": {
                          "colorbar": {
                            "outlinewidth": 0,
                            "ticks": ""
                          }
                        },
                        "type": "scatterpolar"
                      }
                    ],
                    "scatterpolargl": [
                      {
                        "marker": {
                          "colorbar": {
                            "outlinewidth": 0,
                            "ticks": ""
                          }
                        },
                        "type": "scatterpolargl"
                      }
                    ],
                    "scatterternary": [
                      {
                        "marker": {
                          "colorbar": {
                            "outlinewidth": 0,
                            "ticks": ""
                          }
                        },
                        "type": "scatterternary"
                      }
                    ],
                    "surface": [
                      {
                        "colorbar": {
                          "outlinewidth": 0,
                          "ticks": ""
                        },
                        "colorscale": [
                          [
                            0,
                            "#0d0887"
                          ],
                          [
                            0.1111111111111111,
                            "#46039f"
                          ],
                          [
                            0.2222222222222222,
                            "#7201a8"
                          ],
                          [
                            0.3333333333333333,
                            "#9c179e"
                          ],
                          [
                            0.4444444444444444,
                            "#bd3786"
                          ],
                          [
                            0.5555555555555556,
                            "#d8576b"
                          ],
                          [
                            0.6666666666666666,
                            "#ed7953"
                          ],
                          [
                            0.7777777777777778,
                            "#fb9f3a"
                          ],
                          [
                            0.8888888888888888,
                            "#fdca26"
                          ],
                          [
                            1,
                            "#f0f921"
                          ]
                        ],
                        "type": "surface"
                      }
                    ],
                    "table": [
                      {
                        "cells": {
                          "fill": {
                            "color": "#EBF0F8"
                          },
                          "line": {
                            "color": "white"
                          }
                        },
                        "header": {
                          "fill": {
                            "color": "#C8D4E3"
                          },
                          "line": {
                            "color": "white"
                          }
                        },
                        "type": "table"
                      }
                    ]
                  },
                  "layout": {
                    "annotationdefaults": {
                      "arrowcolor": "#2a3f5f",
                      "arrowhead": 0,
                      "arrowwidth": 1
                    },
                    "autotypenumbers": "strict",
                    "coloraxis": {
                      "colorbar": {
                        "outlinewidth": 0,
                        "ticks": ""
                      }
                    },
                    "colorscale": {
                      "diverging": [
                        [
                          0,
                          "#8e0152"
                        ],
                        [
                          0.1,
                          "#c51b7d"
                        ],
                        [
                          0.2,
                          "#de77ae"
                        ],
                        [
                          0.3,
                          "#f1b6da"
                        ],
                        [
                          0.4,
                          "#fde0ef"
                        ],
                        [
                          0.5,
                          "#f7f7f7"
                        ],
                        [
                          0.6,
                          "#e6f5d0"
                        ],
                        [
                          0.7,
                          "#b8e186"
                        ],
                        [
                          0.8,
                          "#7fbc41"
                        ],
                        [
                          0.9,
                          "#4d9221"
                        ],
                        [
                          1,
                          "#276419"
                        ]
                      ],
                      "sequential": [
                        [
                          0,
                          "#0d0887"
                        ],
                        [
                          0.1111111111111111,
                          "#46039f"
                        ],
                        [
                          0.2222222222222222,
                          "#7201a8"
                        ],
                        [
                          0.3333333333333333,
                          "#9c179e"
                        ],
                        [
                          0.4444444444444444,
                          "#bd3786"
                        ],
                        [
                          0.5555555555555556,
                          "#d8576b"
                        ],
                        [
                          0.6666666666666666,
                          "#ed7953"
                        ],
                        [
                          0.7777777777777778,
                          "#fb9f3a"
                        ],
                        [
                          0.8888888888888888,
                          "#fdca26"
                        ],
                        [
                          1,
                          "#f0f921"
                        ]
                      ],
                      "sequentialminus": [
                        [
                          0,
                          "#0d0887"
                        ],
                        [
                          0.1111111111111111,
                          "#46039f"
                        ],
                        [
                          0.2222222222222222,
                          "#7201a8"
                        ],
                        [
                          0.3333333333333333,
                          "#9c179e"
                        ],
                        [
                          0.4444444444444444,
                          "#bd3786"
                        ],
                        [
                          0.5555555555555556,
                          "#d8576b"
                        ],
                        [
                          0.6666666666666666,
                          "#ed7953"
                        ],
                        [
                          0.7777777777777778,
                          "#fb9f3a"
                        ],
                        [
                          0.8888888888888888,
                          "#fdca26"
                        ],
                        [
                          1,
                          "#f0f921"
                        ]
                      ]
                    },
                    "colorway": [
                      "#636efa",
                      "#EF553B",
                      "#00cc96",
                      "#ab63fa",
                      "#FFA15A",
                      "#19d3f3",
                      "#FF6692",
                      "#B6E880",
                      "#FF97FF",
                      "#FECB52"
                    ],
                    "font": {
                      "color": "#2a3f5f"
                    },
                    "geo": {
                      "bgcolor": "white",
                      "lakecolor": "white",
                      "landcolor": "#E5ECF6",
                      "showlakes": true,
                      "showland": true,
                      "subunitcolor": "white"
                    },
                    "hoverlabel": {
                      "align": "left"
                    },
                    "hovermode": "closest",
                    "mapbox": {
                      "style": "light"
                    },
                    "paper_bgcolor": "white",
                    "plot_bgcolor": "#E5ECF6",
                    "polar": {
                      "angularaxis": {
                        "gridcolor": "white",
                        "linecolor": "white",
                        "ticks": ""
                      },
                      "bgcolor": "#E5ECF6",
                      "radialaxis": {
                        "gridcolor": "white",
                        "linecolor": "white",
                        "ticks": ""
                      }
                    },
                    "scene": {
                      "xaxis": {
                        "backgroundcolor": "#E5ECF6",
                        "gridcolor": "white",
                        "gridwidth": 2,
                        "linecolor": "white",
                        "showbackground": true,
                        "ticks": "",
                        "zerolinecolor": "white"
                      },
                      "yaxis": {
                        "backgroundcolor": "#E5ECF6",
                        "gridcolor": "white",
                        "gridwidth": 2,
                        "linecolor": "white",
                        "showbackground": true,
                        "ticks": "",
                        "zerolinecolor": "white"
                      },
                      "zaxis": {
                        "backgroundcolor": "#E5ECF6",
                        "gridcolor": "white",
                        "gridwidth": 2,
                        "linecolor": "white",
                        "showbackground": true,
                        "ticks": "",
                        "zerolinecolor": "white"
                      }
                    },
                    "shapedefaults": {
                      "line": {
                        "color": "#2a3f5f"
                      }
                    },
                    "ternary": {
                      "aaxis": {
                        "gridcolor": "white",
                        "linecolor": "white",
                        "ticks": ""
                      },
                      "baxis": {
                        "gridcolor": "white",
                        "linecolor": "white",
                        "ticks": ""
                      },
                      "bgcolor": "#E5ECF6",
                      "caxis": {
                        "gridcolor": "white",
                        "linecolor": "white",
                        "ticks": ""
                      }
                    },
                    "title": {
                      "x": 0.05
                    },
                    "xaxis": {
                      "automargin": true,
                      "gridcolor": "white",
                      "linecolor": "white",
                      "ticks": "",
                      "title": {
                        "standoff": 15
                      },
                      "zerolinecolor": "white",
                      "zerolinewidth": 2
                    },
                    "yaxis": {
                      "automargin": true,
                      "gridcolor": "white",
                      "linecolor": "white",
                      "ticks": "",
                      "title": {
                        "standoff": 15
                      },
                      "zerolinecolor": "white",
                      "zerolinewidth": 2
                    }
                  }
                },
                "xaxis": {
                  "dtick": 1,
                  "gridwidth": 2,
                  "showticklabels": false,
                  "tick0": -0.5,
                  "ticks": "",
                  "zeroline": false
                },
                "yaxis": {
                  "autorange": "reversed",
                  "dtick": 1,
                  "gridwidth": 2,
                  "showticklabels": false,
                  "tick0": 0.5,
                  "ticks": "",
                  "zeroline": false
                }
              }
            }
          },
          "metadata": {},
          "output_type": "display_data"
        }
      ],
      "source": [
        "recommend_movies(\"Avatar\",nn_data.copy(),new_df.copy())"
      ]
    },
    {
      "cell_type": "code",
      "execution_count": 150,
      "metadata": {
        "colab": {
          "base_uri": "https://localhost:8080/",
          "height": 906
        },
        "id": "ticmtlOH6EpC",
        "outputId": "bfe5e2fe-11f5-48f8-95ef-5960203e16c2"
      },
      "outputs": [
        {
          "name": "stderr",
          "output_type": "stream",
          "text": [
            "c:\\Users\\elman\\AppData\\Local\\Programs\\Python\\Python311\\Lib\\site-packages\\sklearn\\base.py:493: UserWarning:\n",
            "\n",
            "X does not have valid feature names, but NearestNeighbors was fitted with feature names\n",
            "\n"
          ]
        },
        {
          "data": {
            "application/vnd.plotly.v1+json": {
              "config": {
                "plotlyServerURL": "https://plot.ly"
              },
              "data": [
                {
                  "colorscale": [
                    [
                      0,
                      "#fad2e1"
                    ],
                    [
                      0.5,
                      "#fde2e4"
                    ],
                    [
                      1,
                      "#fff1e6"
                    ]
                  ],
                  "hoverinfo": "none",
                  "opacity": 0.75,
                  "showscale": false,
                  "type": "heatmap",
                  "z": [
                    [
                      0,
                      0,
                      0,
                      0,
                      0
                    ],
                    [
                      0.5,
                      0.5,
                      0.5,
                      0.5,
                      0.5
                    ],
                    [
                      1,
                      1,
                      1,
                      1,
                      1
                    ],
                    [
                      0.5,
                      0.5,
                      0.5,
                      0.5,
                      0.5
                    ],
                    [
                      1,
                      1,
                      1,
                      1,
                      1
                    ],
                    [
                      0.5,
                      0.5,
                      0.5,
                      0.5,
                      0.5
                    ],
                    [
                      1,
                      1,
                      1,
                      1,
                      1
                    ],
                    [
                      0.5,
                      0.5,
                      0.5,
                      0.5,
                      0.5
                    ],
                    [
                      1,
                      1,
                      1,
                      1,
                      1
                    ],
                    [
                      0.5,
                      0.5,
                      0.5,
                      0.5,
                      0.5
                    ],
                    [
                      1,
                      1,
                      1,
                      1,
                      1
                    ]
                  ]
                }
              ],
              "layout": {
                "annotations": [
                  {
                    "align": "left",
                    "font": {
                      "color": "#ffffff"
                    },
                    "showarrow": false,
                    "text": "<b>title</b>",
                    "x": -0.45,
                    "xanchor": "left",
                    "xref": "x",
                    "y": 0,
                    "yref": "y"
                  },
                  {
                    "align": "left",
                    "font": {
                      "color": "#ffffff"
                    },
                    "showarrow": false,
                    "text": "<b>movie_id</b>",
                    "x": 0.55,
                    "xanchor": "left",
                    "xref": "x",
                    "y": 0,
                    "yref": "y"
                  },
                  {
                    "align": "left",
                    "font": {
                      "color": "#ffffff"
                    },
                    "showarrow": false,
                    "text": "<b>popularity</b>",
                    "x": 1.55,
                    "xanchor": "left",
                    "xref": "x",
                    "y": 0,
                    "yref": "y"
                  },
                  {
                    "align": "left",
                    "font": {
                      "color": "#ffffff"
                    },
                    "showarrow": false,
                    "text": "<b>vote_average</b>",
                    "x": 2.55,
                    "xanchor": "left",
                    "xref": "x",
                    "y": 0,
                    "yref": "y"
                  },
                  {
                    "align": "left",
                    "font": {
                      "color": "#ffffff"
                    },
                    "showarrow": false,
                    "text": "<b>genres</b>",
                    "x": 3.55,
                    "xanchor": "left",
                    "xref": "x",
                    "y": 0,
                    "yref": "y"
                  },
                  {
                    "align": "left",
                    "font": {
                      "color": "#000000"
                    },
                    "showarrow": false,
                    "text": "Awake",
                    "x": -0.45,
                    "xanchor": "left",
                    "xref": "x",
                    "y": 1,
                    "yref": "y"
                  },
                  {
                    "align": "left",
                    "font": {
                      "color": "#000000"
                    },
                    "showarrow": false,
                    "text": "13483",
                    "x": 0.55,
                    "xanchor": "left",
                    "xref": "x",
                    "y": 1,
                    "yref": "y"
                  },
                  {
                    "align": "left",
                    "font": {
                      "color": "#000000"
                    },
                    "showarrow": false,
                    "text": "18.172736",
                    "x": 1.55,
                    "xanchor": "left",
                    "xref": "x",
                    "y": 1,
                    "yref": "y"
                  },
                  {
                    "align": "left",
                    "font": {
                      "color": "#000000"
                    },
                    "showarrow": false,
                    "text": "6.3",
                    "x": 2.55,
                    "xanchor": "left",
                    "xref": "x",
                    "y": 1,
                    "yref": "y"
                  },
                  {
                    "align": "left",
                    "font": {
                      "color": "#000000"
                    },
                    "showarrow": false,
                    "text": "['Thriller', 'Crime', 'Mystery']",
                    "x": 3.55,
                    "xanchor": "left",
                    "xref": "x",
                    "y": 1,
                    "yref": "y"
                  },
                  {
                    "align": "left",
                    "font": {
                      "color": "#000000"
                    },
                    "showarrow": false,
                    "text": "Crocodile Dundee",
                    "x": -0.45,
                    "xanchor": "left",
                    "xref": "x",
                    "y": 2,
                    "yref": "y"
                  },
                  {
                    "align": "left",
                    "font": {
                      "color": "#000000"
                    },
                    "showarrow": false,
                    "text": "9671",
                    "x": 0.55,
                    "xanchor": "left",
                    "xref": "x",
                    "y": 2,
                    "yref": "y"
                  },
                  {
                    "align": "left",
                    "font": {
                      "color": "#000000"
                    },
                    "showarrow": false,
                    "text": "16.072466",
                    "x": 1.55,
                    "xanchor": "left",
                    "xref": "x",
                    "y": 2,
                    "yref": "y"
                  },
                  {
                    "align": "left",
                    "font": {
                      "color": "#000000"
                    },
                    "showarrow": false,
                    "text": "6.3",
                    "x": 2.55,
                    "xanchor": "left",
                    "xref": "x",
                    "y": 2,
                    "yref": "y"
                  },
                  {
                    "align": "left",
                    "font": {
                      "color": "#000000"
                    },
                    "showarrow": false,
                    "text": "['Adventure', 'Comedy']",
                    "x": 3.55,
                    "xanchor": "left",
                    "xref": "x",
                    "y": 2,
                    "yref": "y"
                  },
                  {
                    "align": "left",
                    "font": {
                      "color": "#000000"
                    },
                    "showarrow": false,
                    "text": "Red Riding: In the Year of Our Lord 1974",
                    "x": -0.45,
                    "xanchor": "left",
                    "xref": "x",
                    "y": 3,
                    "yref": "y"
                  },
                  {
                    "align": "left",
                    "font": {
                      "color": "#000000"
                    },
                    "showarrow": false,
                    "text": "291081",
                    "x": 0.55,
                    "xanchor": "left",
                    "xref": "x",
                    "y": 3,
                    "yref": "y"
                  },
                  {
                    "align": "left",
                    "font": {
                      "color": "#000000"
                    },
                    "showarrow": false,
                    "text": "7.247023",
                    "x": 1.55,
                    "xanchor": "left",
                    "xref": "x",
                    "y": 3,
                    "yref": "y"
                  },
                  {
                    "align": "left",
                    "font": {
                      "color": "#000000"
                    },
                    "showarrow": false,
                    "text": "7.0",
                    "x": 2.55,
                    "xanchor": "left",
                    "xref": "x",
                    "y": 3,
                    "yref": "y"
                  },
                  {
                    "align": "left",
                    "font": {
                      "color": "#000000"
                    },
                    "showarrow": false,
                    "text": "['Thriller', 'Mystery', 'Crime', 'Drama']",
                    "x": 3.55,
                    "xanchor": "left",
                    "xref": "x",
                    "y": 3,
                    "yref": "y"
                  },
                  {
                    "align": "left",
                    "font": {
                      "color": "#000000"
                    },
                    "showarrow": false,
                    "text": "Veronika Decides to Die",
                    "x": -0.45,
                    "xanchor": "left",
                    "xref": "x",
                    "y": 4,
                    "yref": "y"
                  },
                  {
                    "align": "left",
                    "font": {
                      "color": "#000000"
                    },
                    "showarrow": false,
                    "text": "25968",
                    "x": 0.55,
                    "xanchor": "left",
                    "xref": "x",
                    "y": 4,
                    "yref": "y"
                  },
                  {
                    "align": "left",
                    "font": {
                      "color": "#000000"
                    },
                    "showarrow": false,
                    "text": "4.799022",
                    "x": 1.55,
                    "xanchor": "left",
                    "xref": "x",
                    "y": 4,
                    "yref": "y"
                  },
                  {
                    "align": "left",
                    "font": {
                      "color": "#000000"
                    },
                    "showarrow": false,
                    "text": "5.8",
                    "x": 2.55,
                    "xanchor": "left",
                    "xref": "x",
                    "y": 4,
                    "yref": "y"
                  },
                  {
                    "align": "left",
                    "font": {
                      "color": "#000000"
                    },
                    "showarrow": false,
                    "text": "['Drama', 'Romance']",
                    "x": 3.55,
                    "xanchor": "left",
                    "xref": "x",
                    "y": 4,
                    "yref": "y"
                  },
                  {
                    "align": "left",
                    "font": {
                      "color": "#000000"
                    },
                    "showarrow": false,
                    "text": "Beneath Hill 60",
                    "x": -0.45,
                    "xanchor": "left",
                    "xref": "x",
                    "y": 5,
                    "yref": "y"
                  },
                  {
                    "align": "left",
                    "font": {
                      "color": "#000000"
                    },
                    "showarrow": false,
                    "text": "43418",
                    "x": 0.55,
                    "xanchor": "left",
                    "xref": "x",
                    "y": 5,
                    "yref": "y"
                  },
                  {
                    "align": "left",
                    "font": {
                      "color": "#000000"
                    },
                    "showarrow": false,
                    "text": "3.949796",
                    "x": 1.55,
                    "xanchor": "left",
                    "xref": "x",
                    "y": 5,
                    "yref": "y"
                  },
                  {
                    "align": "left",
                    "font": {
                      "color": "#000000"
                    },
                    "showarrow": false,
                    "text": "7.3",
                    "x": 2.55,
                    "xanchor": "left",
                    "xref": "x",
                    "y": 5,
                    "yref": "y"
                  },
                  {
                    "align": "left",
                    "font": {
                      "color": "#000000"
                    },
                    "showarrow": false,
                    "text": "['Drama', 'History', 'War']",
                    "x": 3.55,
                    "xanchor": "left",
                    "xref": "x",
                    "y": 5,
                    "yref": "y"
                  },
                  {
                    "align": "left",
                    "font": {
                      "color": "#000000"
                    },
                    "showarrow": false,
                    "text": "Ultramarines: A Warhammer 40,000 Movie",
                    "x": -0.45,
                    "xanchor": "left",
                    "xref": "x",
                    "y": 6,
                    "yref": "y"
                  },
                  {
                    "align": "left",
                    "font": {
                      "color": "#000000"
                    },
                    "showarrow": false,
                    "text": "52010",
                    "x": 0.55,
                    "xanchor": "left",
                    "xref": "x",
                    "y": 6,
                    "yref": "y"
                  },
                  {
                    "align": "left",
                    "font": {
                      "color": "#000000"
                    },
                    "showarrow": false,
                    "text": "3.891186",
                    "x": 1.55,
                    "xanchor": "left",
                    "xref": "x",
                    "y": 6,
                    "yref": "y"
                  },
                  {
                    "align": "left",
                    "font": {
                      "color": "#000000"
                    },
                    "showarrow": false,
                    "text": "5.2",
                    "x": 2.55,
                    "xanchor": "left",
                    "xref": "x",
                    "y": 6,
                    "yref": "y"
                  },
                  {
                    "align": "left",
                    "font": {
                      "color": "#000000"
                    },
                    "showarrow": false,
                    "text": "['Animation', 'ScienceFiction']",
                    "x": 3.55,
                    "xanchor": "left",
                    "xref": "x",
                    "y": 6,
                    "yref": "y"
                  },
                  {
                    "align": "left",
                    "font": {
                      "color": "#000000"
                    },
                    "showarrow": false,
                    "text": "The I Inside",
                    "x": -0.45,
                    "xanchor": "left",
                    "xref": "x",
                    "y": 7,
                    "yref": "y"
                  },
                  {
                    "align": "left",
                    "font": {
                      "color": "#000000"
                    },
                    "showarrow": false,
                    "text": "11588",
                    "x": 0.55,
                    "xanchor": "left",
                    "xref": "x",
                    "y": 7,
                    "yref": "y"
                  },
                  {
                    "align": "left",
                    "font": {
                      "color": "#000000"
                    },
                    "showarrow": false,
                    "text": "3.789485",
                    "x": 1.55,
                    "xanchor": "left",
                    "xref": "x",
                    "y": 7,
                    "yref": "y"
                  },
                  {
                    "align": "left",
                    "font": {
                      "color": "#000000"
                    },
                    "showarrow": false,
                    "text": "5.9",
                    "x": 2.55,
                    "xanchor": "left",
                    "xref": "x",
                    "y": 7,
                    "yref": "y"
                  },
                  {
                    "align": "left",
                    "font": {
                      "color": "#000000"
                    },
                    "showarrow": false,
                    "text": "['Thriller', 'Mystery', 'ScienceFiction']",
                    "x": 3.55,
                    "xanchor": "left",
                    "xref": "x",
                    "y": 7,
                    "yref": "y"
                  },
                  {
                    "align": "left",
                    "font": {
                      "color": "#000000"
                    },
                    "showarrow": false,
                    "text": "The Girl on the Train",
                    "x": -0.45,
                    "xanchor": "left",
                    "xref": "x",
                    "y": 8,
                    "yref": "y"
                  },
                  {
                    "align": "left",
                    "font": {
                      "color": "#000000"
                    },
                    "showarrow": false,
                    "text": "41248",
                    "x": 0.55,
                    "xanchor": "left",
                    "xref": "x",
                    "y": 8,
                    "yref": "y"
                  },
                  {
                    "align": "left",
                    "font": {
                      "color": "#000000"
                    },
                    "showarrow": false,
                    "text": "2.351706",
                    "x": 1.55,
                    "xanchor": "left",
                    "xref": "x",
                    "y": 8,
                    "yref": "y"
                  },
                  {
                    "align": "left",
                    "font": {
                      "color": "#000000"
                    },
                    "showarrow": false,
                    "text": "5.6",
                    "x": 2.55,
                    "xanchor": "left",
                    "xref": "x",
                    "y": 8,
                    "yref": "y"
                  },
                  {
                    "align": "left",
                    "font": {
                      "color": "#000000"
                    },
                    "showarrow": false,
                    "text": "['Drama', 'Romance']",
                    "x": 3.55,
                    "xanchor": "left",
                    "xref": "x",
                    "y": 8,
                    "yref": "y"
                  },
                  {
                    "align": "left",
                    "font": {
                      "color": "#000000"
                    },
                    "showarrow": false,
                    "text": "Undiscovered",
                    "x": -0.45,
                    "xanchor": "left",
                    "xref": "x",
                    "y": 9,
                    "yref": "y"
                  },
                  {
                    "align": "left",
                    "font": {
                      "color": "#000000"
                    },
                    "showarrow": false,
                    "text": "17926",
                    "x": 0.55,
                    "xanchor": "left",
                    "xref": "x",
                    "y": 9,
                    "yref": "y"
                  },
                  {
                    "align": "left",
                    "font": {
                      "color": "#000000"
                    },
                    "showarrow": false,
                    "text": "2.009597",
                    "x": 1.55,
                    "xanchor": "left",
                    "xref": "x",
                    "y": 9,
                    "yref": "y"
                  },
                  {
                    "align": "left",
                    "font": {
                      "color": "#000000"
                    },
                    "showarrow": false,
                    "text": "4.5",
                    "x": 2.55,
                    "xanchor": "left",
                    "xref": "x",
                    "y": 9,
                    "yref": "y"
                  },
                  {
                    "align": "left",
                    "font": {
                      "color": "#000000"
                    },
                    "showarrow": false,
                    "text": "['Comedy', 'Romance']",
                    "x": 3.55,
                    "xanchor": "left",
                    "xref": "x",
                    "y": 9,
                    "yref": "y"
                  },
                  {
                    "align": "left",
                    "font": {
                      "color": "#000000"
                    },
                    "showarrow": false,
                    "text": "Princess Kaiulani",
                    "x": -0.45,
                    "xanchor": "left",
                    "xref": "x",
                    "y": 10,
                    "yref": "y"
                  },
                  {
                    "align": "left",
                    "font": {
                      "color": "#000000"
                    },
                    "showarrow": false,
                    "text": "39806",
                    "x": 0.55,
                    "xanchor": "left",
                    "xref": "x",
                    "y": 10,
                    "yref": "y"
                  },
                  {
                    "align": "left",
                    "font": {
                      "color": "#000000"
                    },
                    "showarrow": false,
                    "text": "0.717811",
                    "x": 1.55,
                    "xanchor": "left",
                    "xref": "x",
                    "y": 10,
                    "yref": "y"
                  },
                  {
                    "align": "left",
                    "font": {
                      "color": "#000000"
                    },
                    "showarrow": false,
                    "text": "4.8",
                    "x": 2.55,
                    "xanchor": "left",
                    "xref": "x",
                    "y": 10,
                    "yref": "y"
                  },
                  {
                    "align": "left",
                    "font": {
                      "color": "#000000"
                    },
                    "showarrow": false,
                    "text": "['Drama']",
                    "x": 3.55,
                    "xanchor": "left",
                    "xref": "x",
                    "y": 10,
                    "yref": "y"
                  }
                ],
                "height": 820,
                "margin": {
                  "b": 0,
                  "l": 0,
                  "r": 0,
                  "t": 0
                },
                "template": {
                  "data": {
                    "bar": [
                      {
                        "error_x": {
                          "color": "#2a3f5f"
                        },
                        "error_y": {
                          "color": "#2a3f5f"
                        },
                        "marker": {
                          "line": {
                            "color": "#E5ECF6",
                            "width": 0.5
                          },
                          "pattern": {
                            "fillmode": "overlay",
                            "size": 10,
                            "solidity": 0.2
                          }
                        },
                        "type": "bar"
                      }
                    ],
                    "barpolar": [
                      {
                        "marker": {
                          "line": {
                            "color": "#E5ECF6",
                            "width": 0.5
                          },
                          "pattern": {
                            "fillmode": "overlay",
                            "size": 10,
                            "solidity": 0.2
                          }
                        },
                        "type": "barpolar"
                      }
                    ],
                    "carpet": [
                      {
                        "aaxis": {
                          "endlinecolor": "#2a3f5f",
                          "gridcolor": "white",
                          "linecolor": "white",
                          "minorgridcolor": "white",
                          "startlinecolor": "#2a3f5f"
                        },
                        "baxis": {
                          "endlinecolor": "#2a3f5f",
                          "gridcolor": "white",
                          "linecolor": "white",
                          "minorgridcolor": "white",
                          "startlinecolor": "#2a3f5f"
                        },
                        "type": "carpet"
                      }
                    ],
                    "choropleth": [
                      {
                        "colorbar": {
                          "outlinewidth": 0,
                          "ticks": ""
                        },
                        "type": "choropleth"
                      }
                    ],
                    "contour": [
                      {
                        "colorbar": {
                          "outlinewidth": 0,
                          "ticks": ""
                        },
                        "colorscale": [
                          [
                            0,
                            "#0d0887"
                          ],
                          [
                            0.1111111111111111,
                            "#46039f"
                          ],
                          [
                            0.2222222222222222,
                            "#7201a8"
                          ],
                          [
                            0.3333333333333333,
                            "#9c179e"
                          ],
                          [
                            0.4444444444444444,
                            "#bd3786"
                          ],
                          [
                            0.5555555555555556,
                            "#d8576b"
                          ],
                          [
                            0.6666666666666666,
                            "#ed7953"
                          ],
                          [
                            0.7777777777777778,
                            "#fb9f3a"
                          ],
                          [
                            0.8888888888888888,
                            "#fdca26"
                          ],
                          [
                            1,
                            "#f0f921"
                          ]
                        ],
                        "type": "contour"
                      }
                    ],
                    "contourcarpet": [
                      {
                        "colorbar": {
                          "outlinewidth": 0,
                          "ticks": ""
                        },
                        "type": "contourcarpet"
                      }
                    ],
                    "heatmap": [
                      {
                        "colorbar": {
                          "outlinewidth": 0,
                          "ticks": ""
                        },
                        "colorscale": [
                          [
                            0,
                            "#0d0887"
                          ],
                          [
                            0.1111111111111111,
                            "#46039f"
                          ],
                          [
                            0.2222222222222222,
                            "#7201a8"
                          ],
                          [
                            0.3333333333333333,
                            "#9c179e"
                          ],
                          [
                            0.4444444444444444,
                            "#bd3786"
                          ],
                          [
                            0.5555555555555556,
                            "#d8576b"
                          ],
                          [
                            0.6666666666666666,
                            "#ed7953"
                          ],
                          [
                            0.7777777777777778,
                            "#fb9f3a"
                          ],
                          [
                            0.8888888888888888,
                            "#fdca26"
                          ],
                          [
                            1,
                            "#f0f921"
                          ]
                        ],
                        "type": "heatmap"
                      }
                    ],
                    "heatmapgl": [
                      {
                        "colorbar": {
                          "outlinewidth": 0,
                          "ticks": ""
                        },
                        "colorscale": [
                          [
                            0,
                            "#0d0887"
                          ],
                          [
                            0.1111111111111111,
                            "#46039f"
                          ],
                          [
                            0.2222222222222222,
                            "#7201a8"
                          ],
                          [
                            0.3333333333333333,
                            "#9c179e"
                          ],
                          [
                            0.4444444444444444,
                            "#bd3786"
                          ],
                          [
                            0.5555555555555556,
                            "#d8576b"
                          ],
                          [
                            0.6666666666666666,
                            "#ed7953"
                          ],
                          [
                            0.7777777777777778,
                            "#fb9f3a"
                          ],
                          [
                            0.8888888888888888,
                            "#fdca26"
                          ],
                          [
                            1,
                            "#f0f921"
                          ]
                        ],
                        "type": "heatmapgl"
                      }
                    ],
                    "histogram": [
                      {
                        "marker": {
                          "pattern": {
                            "fillmode": "overlay",
                            "size": 10,
                            "solidity": 0.2
                          }
                        },
                        "type": "histogram"
                      }
                    ],
                    "histogram2d": [
                      {
                        "colorbar": {
                          "outlinewidth": 0,
                          "ticks": ""
                        },
                        "colorscale": [
                          [
                            0,
                            "#0d0887"
                          ],
                          [
                            0.1111111111111111,
                            "#46039f"
                          ],
                          [
                            0.2222222222222222,
                            "#7201a8"
                          ],
                          [
                            0.3333333333333333,
                            "#9c179e"
                          ],
                          [
                            0.4444444444444444,
                            "#bd3786"
                          ],
                          [
                            0.5555555555555556,
                            "#d8576b"
                          ],
                          [
                            0.6666666666666666,
                            "#ed7953"
                          ],
                          [
                            0.7777777777777778,
                            "#fb9f3a"
                          ],
                          [
                            0.8888888888888888,
                            "#fdca26"
                          ],
                          [
                            1,
                            "#f0f921"
                          ]
                        ],
                        "type": "histogram2d"
                      }
                    ],
                    "histogram2dcontour": [
                      {
                        "colorbar": {
                          "outlinewidth": 0,
                          "ticks": ""
                        },
                        "colorscale": [
                          [
                            0,
                            "#0d0887"
                          ],
                          [
                            0.1111111111111111,
                            "#46039f"
                          ],
                          [
                            0.2222222222222222,
                            "#7201a8"
                          ],
                          [
                            0.3333333333333333,
                            "#9c179e"
                          ],
                          [
                            0.4444444444444444,
                            "#bd3786"
                          ],
                          [
                            0.5555555555555556,
                            "#d8576b"
                          ],
                          [
                            0.6666666666666666,
                            "#ed7953"
                          ],
                          [
                            0.7777777777777778,
                            "#fb9f3a"
                          ],
                          [
                            0.8888888888888888,
                            "#fdca26"
                          ],
                          [
                            1,
                            "#f0f921"
                          ]
                        ],
                        "type": "histogram2dcontour"
                      }
                    ],
                    "mesh3d": [
                      {
                        "colorbar": {
                          "outlinewidth": 0,
                          "ticks": ""
                        },
                        "type": "mesh3d"
                      }
                    ],
                    "parcoords": [
                      {
                        "line": {
                          "colorbar": {
                            "outlinewidth": 0,
                            "ticks": ""
                          }
                        },
                        "type": "parcoords"
                      }
                    ],
                    "pie": [
                      {
                        "automargin": true,
                        "type": "pie"
                      }
                    ],
                    "scatter": [
                      {
                        "fillpattern": {
                          "fillmode": "overlay",
                          "size": 10,
                          "solidity": 0.2
                        },
                        "type": "scatter"
                      }
                    ],
                    "scatter3d": [
                      {
                        "line": {
                          "colorbar": {
                            "outlinewidth": 0,
                            "ticks": ""
                          }
                        },
                        "marker": {
                          "colorbar": {
                            "outlinewidth": 0,
                            "ticks": ""
                          }
                        },
                        "type": "scatter3d"
                      }
                    ],
                    "scattercarpet": [
                      {
                        "marker": {
                          "colorbar": {
                            "outlinewidth": 0,
                            "ticks": ""
                          }
                        },
                        "type": "scattercarpet"
                      }
                    ],
                    "scattergeo": [
                      {
                        "marker": {
                          "colorbar": {
                            "outlinewidth": 0,
                            "ticks": ""
                          }
                        },
                        "type": "scattergeo"
                      }
                    ],
                    "scattergl": [
                      {
                        "marker": {
                          "colorbar": {
                            "outlinewidth": 0,
                            "ticks": ""
                          }
                        },
                        "type": "scattergl"
                      }
                    ],
                    "scattermapbox": [
                      {
                        "marker": {
                          "colorbar": {
                            "outlinewidth": 0,
                            "ticks": ""
                          }
                        },
                        "type": "scattermapbox"
                      }
                    ],
                    "scatterpolar": [
                      {
                        "marker": {
                          "colorbar": {
                            "outlinewidth": 0,
                            "ticks": ""
                          }
                        },
                        "type": "scatterpolar"
                      }
                    ],
                    "scatterpolargl": [
                      {
                        "marker": {
                          "colorbar": {
                            "outlinewidth": 0,
                            "ticks": ""
                          }
                        },
                        "type": "scatterpolargl"
                      }
                    ],
                    "scatterternary": [
                      {
                        "marker": {
                          "colorbar": {
                            "outlinewidth": 0,
                            "ticks": ""
                          }
                        },
                        "type": "scatterternary"
                      }
                    ],
                    "surface": [
                      {
                        "colorbar": {
                          "outlinewidth": 0,
                          "ticks": ""
                        },
                        "colorscale": [
                          [
                            0,
                            "#0d0887"
                          ],
                          [
                            0.1111111111111111,
                            "#46039f"
                          ],
                          [
                            0.2222222222222222,
                            "#7201a8"
                          ],
                          [
                            0.3333333333333333,
                            "#9c179e"
                          ],
                          [
                            0.4444444444444444,
                            "#bd3786"
                          ],
                          [
                            0.5555555555555556,
                            "#d8576b"
                          ],
                          [
                            0.6666666666666666,
                            "#ed7953"
                          ],
                          [
                            0.7777777777777778,
                            "#fb9f3a"
                          ],
                          [
                            0.8888888888888888,
                            "#fdca26"
                          ],
                          [
                            1,
                            "#f0f921"
                          ]
                        ],
                        "type": "surface"
                      }
                    ],
                    "table": [
                      {
                        "cells": {
                          "fill": {
                            "color": "#EBF0F8"
                          },
                          "line": {
                            "color": "white"
                          }
                        },
                        "header": {
                          "fill": {
                            "color": "#C8D4E3"
                          },
                          "line": {
                            "color": "white"
                          }
                        },
                        "type": "table"
                      }
                    ]
                  },
                  "layout": {
                    "annotationdefaults": {
                      "arrowcolor": "#2a3f5f",
                      "arrowhead": 0,
                      "arrowwidth": 1
                    },
                    "autotypenumbers": "strict",
                    "coloraxis": {
                      "colorbar": {
                        "outlinewidth": 0,
                        "ticks": ""
                      }
                    },
                    "colorscale": {
                      "diverging": [
                        [
                          0,
                          "#8e0152"
                        ],
                        [
                          0.1,
                          "#c51b7d"
                        ],
                        [
                          0.2,
                          "#de77ae"
                        ],
                        [
                          0.3,
                          "#f1b6da"
                        ],
                        [
                          0.4,
                          "#fde0ef"
                        ],
                        [
                          0.5,
                          "#f7f7f7"
                        ],
                        [
                          0.6,
                          "#e6f5d0"
                        ],
                        [
                          0.7,
                          "#b8e186"
                        ],
                        [
                          0.8,
                          "#7fbc41"
                        ],
                        [
                          0.9,
                          "#4d9221"
                        ],
                        [
                          1,
                          "#276419"
                        ]
                      ],
                      "sequential": [
                        [
                          0,
                          "#0d0887"
                        ],
                        [
                          0.1111111111111111,
                          "#46039f"
                        ],
                        [
                          0.2222222222222222,
                          "#7201a8"
                        ],
                        [
                          0.3333333333333333,
                          "#9c179e"
                        ],
                        [
                          0.4444444444444444,
                          "#bd3786"
                        ],
                        [
                          0.5555555555555556,
                          "#d8576b"
                        ],
                        [
                          0.6666666666666666,
                          "#ed7953"
                        ],
                        [
                          0.7777777777777778,
                          "#fb9f3a"
                        ],
                        [
                          0.8888888888888888,
                          "#fdca26"
                        ],
                        [
                          1,
                          "#f0f921"
                        ]
                      ],
                      "sequentialminus": [
                        [
                          0,
                          "#0d0887"
                        ],
                        [
                          0.1111111111111111,
                          "#46039f"
                        ],
                        [
                          0.2222222222222222,
                          "#7201a8"
                        ],
                        [
                          0.3333333333333333,
                          "#9c179e"
                        ],
                        [
                          0.4444444444444444,
                          "#bd3786"
                        ],
                        [
                          0.5555555555555556,
                          "#d8576b"
                        ],
                        [
                          0.6666666666666666,
                          "#ed7953"
                        ],
                        [
                          0.7777777777777778,
                          "#fb9f3a"
                        ],
                        [
                          0.8888888888888888,
                          "#fdca26"
                        ],
                        [
                          1,
                          "#f0f921"
                        ]
                      ]
                    },
                    "colorway": [
                      "#636efa",
                      "#EF553B",
                      "#00cc96",
                      "#ab63fa",
                      "#FFA15A",
                      "#19d3f3",
                      "#FF6692",
                      "#B6E880",
                      "#FF97FF",
                      "#FECB52"
                    ],
                    "font": {
                      "color": "#2a3f5f"
                    },
                    "geo": {
                      "bgcolor": "white",
                      "lakecolor": "white",
                      "landcolor": "#E5ECF6",
                      "showlakes": true,
                      "showland": true,
                      "subunitcolor": "white"
                    },
                    "hoverlabel": {
                      "align": "left"
                    },
                    "hovermode": "closest",
                    "mapbox": {
                      "style": "light"
                    },
                    "paper_bgcolor": "white",
                    "plot_bgcolor": "#E5ECF6",
                    "polar": {
                      "angularaxis": {
                        "gridcolor": "white",
                        "linecolor": "white",
                        "ticks": ""
                      },
                      "bgcolor": "#E5ECF6",
                      "radialaxis": {
                        "gridcolor": "white",
                        "linecolor": "white",
                        "ticks": ""
                      }
                    },
                    "scene": {
                      "xaxis": {
                        "backgroundcolor": "#E5ECF6",
                        "gridcolor": "white",
                        "gridwidth": 2,
                        "linecolor": "white",
                        "showbackground": true,
                        "ticks": "",
                        "zerolinecolor": "white"
                      },
                      "yaxis": {
                        "backgroundcolor": "#E5ECF6",
                        "gridcolor": "white",
                        "gridwidth": 2,
                        "linecolor": "white",
                        "showbackground": true,
                        "ticks": "",
                        "zerolinecolor": "white"
                      },
                      "zaxis": {
                        "backgroundcolor": "#E5ECF6",
                        "gridcolor": "white",
                        "gridwidth": 2,
                        "linecolor": "white",
                        "showbackground": true,
                        "ticks": "",
                        "zerolinecolor": "white"
                      }
                    },
                    "shapedefaults": {
                      "line": {
                        "color": "#2a3f5f"
                      }
                    },
                    "ternary": {
                      "aaxis": {
                        "gridcolor": "white",
                        "linecolor": "white",
                        "ticks": ""
                      },
                      "baxis": {
                        "gridcolor": "white",
                        "linecolor": "white",
                        "ticks": ""
                      },
                      "bgcolor": "#E5ECF6",
                      "caxis": {
                        "gridcolor": "white",
                        "linecolor": "white",
                        "ticks": ""
                      }
                    },
                    "title": {
                      "x": 0.05
                    },
                    "xaxis": {
                      "automargin": true,
                      "gridcolor": "white",
                      "linecolor": "white",
                      "ticks": "",
                      "title": {
                        "standoff": 15
                      },
                      "zerolinecolor": "white",
                      "zerolinewidth": 2
                    },
                    "yaxis": {
                      "automargin": true,
                      "gridcolor": "white",
                      "linecolor": "white",
                      "ticks": "",
                      "title": {
                        "standoff": 15
                      },
                      "zerolinecolor": "white",
                      "zerolinewidth": 2
                    }
                  }
                },
                "xaxis": {
                  "dtick": 1,
                  "gridwidth": 2,
                  "showticklabels": false,
                  "tick0": -0.5,
                  "ticks": "",
                  "zeroline": false
                },
                "yaxis": {
                  "autorange": "reversed",
                  "dtick": 1,
                  "gridwidth": 2,
                  "showticklabels": false,
                  "tick0": 0.5,
                  "ticks": "",
                  "zeroline": false
                }
              }
            }
          },
          "metadata": {},
          "output_type": "display_data"
        }
      ],
      "source": [
        "recommend_movies(\"Thor\",nn_data.copy(),new_df.copy())"
      ]
    },
    {
      "cell_type": "markdown",
      "metadata": {
        "id": "yeqiuzoMLcp3"
      },
      "source": [
        "## **IMDB-DATASET**"
      ]
    },
    {
      "cell_type": "code",
      "execution_count": 151,
      "metadata": {
        "id": "6_csTA6Mj2xT"
      },
      "outputs": [],
      "source": [
        "\n",
        "import numpy as np\n",
        "import pandas as pd\n",
        "from pandas.core.reshape.merge import merge"
      ]
    },
    {
      "cell_type": "code",
      "execution_count": 152,
      "metadata": {
        "colab": {
          "base_uri": "https://localhost:8080/"
        },
        "id": "CtY2LBMuLscj",
        "outputId": "1fdd4c78-4efc-4097-acee-6f0b0daf3b46"
      },
      "outputs": [
        {
          "name": "stderr",
          "output_type": "stream",
          "text": [
            "C:\\Users\\elman\\AppData\\Local\\Temp\\ipykernel_27620\\524437633.py:4: DtypeWarning:\n",
            "\n",
            "Columns (4,5) have mixed types. Specify dtype option on import or set low_memory=False.\n",
            "\n"
          ]
        }
      ],
      "source": [
        "import pandas as pd\n",
        "# Load the IMDb rating dataset into a pandas dataframe\n",
        "rating_csv = pd.read_csv('title-rating.csv')\n",
        "basics_csv=pd.read_csv('title_Basics.csv')\n"
      ]
    },
    {
      "cell_type": "code",
      "execution_count": 153,
      "metadata": {
        "colab": {
          "base_uri": "https://localhost:8080/"
        },
        "id": "5zmXAoFdLsoC",
        "outputId": "f8424ada-fc89-4a61-ea71-7139eee937bf"
      },
      "outputs": [
        {
          "data": {
            "text/plain": [
              "<bound method DataFrame.info of             tconst  titleType               primaryTitle  \\\n",
              "0        tt0000001      short                 Carmencita   \n",
              "1        tt0000002      short     Le clown et ses chiens   \n",
              "2        tt0000003      short             Pauvre Pierrot   \n",
              "3        tt0000004      short                Un bon bock   \n",
              "4        tt0000005      short           Blacksmith Scene   \n",
              "...            ...        ...                        ...   \n",
              "8549341  tt9916848  tvEpisode              Episode #3.17   \n",
              "8549342  tt9916850  tvEpisode              Episode #3.19   \n",
              "8549343  tt9916852  tvEpisode              Episode #3.20   \n",
              "8549344  tt9916856      short                   The Wind   \n",
              "8549345  tt9916880  tvEpisode  Horrid Henry Knows It All   \n",
              "\n",
              "                     originalTitle isAdult startYear endYear runtimeMinutes  \\\n",
              "0                       Carmencita       0      1894      \\N              1   \n",
              "1           Le clown et ses chiens       0      1892      \\N              5   \n",
              "2                   Pauvre Pierrot       0      1892      \\N              4   \n",
              "3                      Un bon bock       0      1892      \\N             12   \n",
              "4                 Blacksmith Scene       0      1893      \\N              1   \n",
              "...                            ...     ...       ...     ...            ...   \n",
              "8549341              Episode #3.17       0      2010      \\N             \\N   \n",
              "8549342              Episode #3.19       0      2010      \\N             \\N   \n",
              "8549343              Episode #3.20       0      2010      \\N             \\N   \n",
              "8549344                   The Wind       0      2015      \\N             27   \n",
              "8549345  Horrid Henry Knows It All       0      2014      \\N             10   \n",
              "\n",
              "                             genres  \n",
              "0                 Documentary,Short  \n",
              "1                   Animation,Short  \n",
              "2          Animation,Comedy,Romance  \n",
              "3                   Animation,Short  \n",
              "4                      Comedy,Short  \n",
              "...                             ...  \n",
              "8549341         Action,Drama,Family  \n",
              "8549342         Action,Drama,Family  \n",
              "8549343         Action,Drama,Family  \n",
              "8549344                       Short  \n",
              "8549345  Adventure,Animation,Comedy  \n",
              "\n",
              "[8549346 rows x 9 columns]>"
            ]
          },
          "execution_count": 153,
          "metadata": {},
          "output_type": "execute_result"
        }
      ],
      "source": [
        "basics_csv.info"
      ]
    },
    {
      "cell_type": "code",
      "execution_count": 154,
      "metadata": {
        "colab": {
          "base_uri": "https://localhost:8080/"
        },
        "id": "nCeyzNTvl6bC",
        "outputId": "b33dfa41-fb46-4840-e402-e2538522c42b"
      },
      "outputs": [
        {
          "data": {
            "text/plain": [
              "Index(['tconst', 'titleType', 'primaryTitle', 'originalTitle', 'isAdult',\n",
              "       'startYear', 'endYear', 'runtimeMinutes', 'genres'],\n",
              "      dtype='object')"
            ]
          },
          "execution_count": 154,
          "metadata": {},
          "output_type": "execute_result"
        }
      ],
      "source": [
        "\n",
        "basics_csv.columns"
      ]
    },
    {
      "cell_type": "code",
      "execution_count": 155,
      "metadata": {
        "colab": {
          "base_uri": "https://localhost:8080/",
          "height": 285
        },
        "id": "85cJS95fkY9T",
        "outputId": "0fb6cb89-7086-4f84-c535-8d48438e9114"
      },
      "outputs": [
        {
          "data": {
            "text/html": [
              "<div>\n",
              "<style scoped>\n",
              "    .dataframe tbody tr th:only-of-type {\n",
              "        vertical-align: middle;\n",
              "    }\n",
              "\n",
              "    .dataframe tbody tr th {\n",
              "        vertical-align: top;\n",
              "    }\n",
              "\n",
              "    .dataframe thead th {\n",
              "        text-align: right;\n",
              "    }\n",
              "</style>\n",
              "<table border=\"1\" class=\"dataframe\">\n",
              "  <thead>\n",
              "    <tr style=\"text-align: right;\">\n",
              "      <th></th>\n",
              "      <th>tconst</th>\n",
              "      <th>titleType</th>\n",
              "      <th>primaryTitle</th>\n",
              "      <th>originalTitle</th>\n",
              "      <th>isAdult</th>\n",
              "      <th>startYear</th>\n",
              "      <th>endYear</th>\n",
              "      <th>runtimeMinutes</th>\n",
              "      <th>genres</th>\n",
              "    </tr>\n",
              "  </thead>\n",
              "  <tbody>\n",
              "    <tr>\n",
              "      <th>0</th>\n",
              "      <td>tt0000001</td>\n",
              "      <td>short</td>\n",
              "      <td>Carmencita</td>\n",
              "      <td>Carmencita</td>\n",
              "      <td>0</td>\n",
              "      <td>1894</td>\n",
              "      <td>\\N</td>\n",
              "      <td>1</td>\n",
              "      <td>Documentary,Short</td>\n",
              "    </tr>\n",
              "    <tr>\n",
              "      <th>1</th>\n",
              "      <td>tt0000002</td>\n",
              "      <td>short</td>\n",
              "      <td>Le clown et ses chiens</td>\n",
              "      <td>Le clown et ses chiens</td>\n",
              "      <td>0</td>\n",
              "      <td>1892</td>\n",
              "      <td>\\N</td>\n",
              "      <td>5</td>\n",
              "      <td>Animation,Short</td>\n",
              "    </tr>\n",
              "    <tr>\n",
              "      <th>2</th>\n",
              "      <td>tt0000003</td>\n",
              "      <td>short</td>\n",
              "      <td>Pauvre Pierrot</td>\n",
              "      <td>Pauvre Pierrot</td>\n",
              "      <td>0</td>\n",
              "      <td>1892</td>\n",
              "      <td>\\N</td>\n",
              "      <td>4</td>\n",
              "      <td>Animation,Comedy,Romance</td>\n",
              "    </tr>\n",
              "    <tr>\n",
              "      <th>3</th>\n",
              "      <td>tt0000004</td>\n",
              "      <td>short</td>\n",
              "      <td>Un bon bock</td>\n",
              "      <td>Un bon bock</td>\n",
              "      <td>0</td>\n",
              "      <td>1892</td>\n",
              "      <td>\\N</td>\n",
              "      <td>12</td>\n",
              "      <td>Animation,Short</td>\n",
              "    </tr>\n",
              "    <tr>\n",
              "      <th>4</th>\n",
              "      <td>tt0000005</td>\n",
              "      <td>short</td>\n",
              "      <td>Blacksmith Scene</td>\n",
              "      <td>Blacksmith Scene</td>\n",
              "      <td>0</td>\n",
              "      <td>1893</td>\n",
              "      <td>\\N</td>\n",
              "      <td>1</td>\n",
              "      <td>Comedy,Short</td>\n",
              "    </tr>\n",
              "  </tbody>\n",
              "</table>\n",
              "</div>"
            ],
            "text/plain": [
              "      tconst titleType            primaryTitle           originalTitle  \\\n",
              "0  tt0000001     short              Carmencita              Carmencita   \n",
              "1  tt0000002     short  Le clown et ses chiens  Le clown et ses chiens   \n",
              "2  tt0000003     short          Pauvre Pierrot          Pauvre Pierrot   \n",
              "3  tt0000004     short             Un bon bock             Un bon bock   \n",
              "4  tt0000005     short        Blacksmith Scene        Blacksmith Scene   \n",
              "\n",
              "  isAdult startYear endYear runtimeMinutes                    genres  \n",
              "0       0      1894      \\N              1         Documentary,Short  \n",
              "1       0      1892      \\N              5           Animation,Short  \n",
              "2       0      1892      \\N              4  Animation,Comedy,Romance  \n",
              "3       0      1892      \\N             12           Animation,Short  \n",
              "4       0      1893      \\N              1              Comedy,Short  "
            ]
          },
          "execution_count": 155,
          "metadata": {},
          "output_type": "execute_result"
        }
      ],
      "source": [
        "basics_csv.head()"
      ]
    },
    {
      "cell_type": "code",
      "execution_count": 156,
      "metadata": {
        "colab": {
          "base_uri": "https://localhost:8080/"
        },
        "id": "QaO6u27I_BEl",
        "outputId": "4aebba45-e26d-4577-f1f2-da9f2545973f"
      },
      "outputs": [
        {
          "data": {
            "text/plain": [
              "isAdult\n",
              "0       8222558\n",
              "1        261243\n",
              "0         63340\n",
              "1          2195\n",
              "2019          3\n",
              "2020          2\n",
              "1981          1\n",
              "2017          1\n",
              "\\N            1\n",
              "2014          1\n",
              "2005          1\n",
              "Name: count, dtype: int64"
            ]
          },
          "execution_count": 156,
          "metadata": {},
          "output_type": "execute_result"
        }
      ],
      "source": [
        "basics_csv['isAdult'].value_counts()"
      ]
    },
    {
      "cell_type": "code",
      "execution_count": 157,
      "metadata": {
        "colab": {
          "base_uri": "https://localhost:8080/",
          "height": 206
        },
        "id": "ORLUoYa1kdYh",
        "outputId": "6c88dc85-6900-4aaf-9fea-e8d9a47653d4"
      },
      "outputs": [
        {
          "data": {
            "text/html": [
              "<div>\n",
              "<style scoped>\n",
              "    .dataframe tbody tr th:only-of-type {\n",
              "        vertical-align: middle;\n",
              "    }\n",
              "\n",
              "    .dataframe tbody tr th {\n",
              "        vertical-align: top;\n",
              "    }\n",
              "\n",
              "    .dataframe thead th {\n",
              "        text-align: right;\n",
              "    }\n",
              "</style>\n",
              "<table border=\"1\" class=\"dataframe\">\n",
              "  <thead>\n",
              "    <tr style=\"text-align: right;\">\n",
              "      <th></th>\n",
              "      <th>tconst</th>\n",
              "      <th>averageRating</th>\n",
              "      <th>numVotes</th>\n",
              "    </tr>\n",
              "  </thead>\n",
              "  <tbody>\n",
              "    <tr>\n",
              "      <th>0</th>\n",
              "      <td>tt0000001</td>\n",
              "      <td>5.7</td>\n",
              "      <td>2024</td>\n",
              "    </tr>\n",
              "    <tr>\n",
              "      <th>1</th>\n",
              "      <td>tt0000002</td>\n",
              "      <td>5.7</td>\n",
              "      <td>272</td>\n",
              "    </tr>\n",
              "    <tr>\n",
              "      <th>2</th>\n",
              "      <td>tt0000003</td>\n",
              "      <td>6.5</td>\n",
              "      <td>1958</td>\n",
              "    </tr>\n",
              "    <tr>\n",
              "      <th>3</th>\n",
              "      <td>tt0000004</td>\n",
              "      <td>5.4</td>\n",
              "      <td>178</td>\n",
              "    </tr>\n",
              "    <tr>\n",
              "      <th>4</th>\n",
              "      <td>tt0000005</td>\n",
              "      <td>6.2</td>\n",
              "      <td>2724</td>\n",
              "    </tr>\n",
              "  </tbody>\n",
              "</table>\n",
              "</div>"
            ],
            "text/plain": [
              "      tconst  averageRating  numVotes\n",
              "0  tt0000001            5.7      2024\n",
              "1  tt0000002            5.7       272\n",
              "2  tt0000003            6.5      1958\n",
              "3  tt0000004            5.4       178\n",
              "4  tt0000005            6.2      2724"
            ]
          },
          "execution_count": 157,
          "metadata": {},
          "output_type": "execute_result"
        }
      ],
      "source": [
        "rating_csv.head()"
      ]
    },
    {
      "cell_type": "code",
      "execution_count": 158,
      "metadata": {
        "id": "yilGiVvclIzB"
      },
      "outputs": [],
      "source": [
        "\n",
        "rating_csv.rename(columns={' tconst':'tconst'},inplace=True)"
      ]
    },
    {
      "cell_type": "code",
      "execution_count": 159,
      "metadata": {
        "id": "mqW4pbiJmH7K"
      },
      "outputs": [],
      "source": [
        "imdb_rating_df = pd.merge (rating_csv,basics_csv,on = 'tconst')"
      ]
    },
    {
      "cell_type": "code",
      "execution_count": 160,
      "metadata": {
        "colab": {
          "base_uri": "https://localhost:8080/"
        },
        "id": "94kMWQAuK0Cu",
        "outputId": "a7fd41cf-9f7a-415e-c517-f40acd3652b6"
      },
      "outputs": [
        {
          "data": {
            "text/plain": [
              "Index(['tconst', 'averageRating', 'numVotes'], dtype='object')"
            ]
          },
          "execution_count": 160,
          "metadata": {},
          "output_type": "execute_result"
        }
      ],
      "source": [
        "rating_csv.columns"
      ]
    },
    {
      "cell_type": "code",
      "execution_count": 161,
      "metadata": {
        "colab": {
          "base_uri": "https://localhost:8080/"
        },
        "id": "Z_mRB1i-K4I8",
        "outputId": "60b6f6f9-16bf-431d-dbcb-faa68166f7f6"
      },
      "outputs": [
        {
          "name": "stdout",
          "output_type": "stream",
          "text": [
            "<class 'pandas.core.frame.DataFrame'>\n",
            "RangeIndex: 1299032 entries, 0 to 1299031\n",
            "Data columns (total 11 columns):\n",
            " #   Column          Non-Null Count    Dtype  \n",
            "---  ------          --------------    -----  \n",
            " 0   tconst          1299032 non-null  object \n",
            " 1   averageRating   1299032 non-null  float64\n",
            " 2   numVotes        1299032 non-null  int64  \n",
            " 3   titleType       1299032 non-null  object \n",
            " 4   primaryTitle    1299031 non-null  object \n",
            " 5   originalTitle   1299031 non-null  object \n",
            " 6   isAdult         1299032 non-null  object \n",
            " 7   startYear       1299032 non-null  object \n",
            " 8   endYear         1299032 non-null  object \n",
            " 9   runtimeMinutes  1299032 non-null  object \n",
            " 10  genres          1299030 non-null  object \n",
            "dtypes: float64(1), int64(1), object(9)\n",
            "memory usage: 109.0+ MB\n"
          ]
        }
      ],
      "source": [
        "imdb_rating_df.info()"
      ]
    },
    {
      "cell_type": "code",
      "execution_count": 162,
      "metadata": {
        "colab": {
          "base_uri": "https://localhost:8080/"
        },
        "id": "mgKenEWdo4L1",
        "outputId": "aba65278-7e3d-49ca-e608-9c006963db6f"
      },
      "outputs": [
        {
          "data": {
            "text/plain": [
              "0"
            ]
          },
          "execution_count": 162,
          "metadata": {},
          "output_type": "execute_result"
        }
      ],
      "source": [
        "\n",
        "\n",
        "imdb_rating_df.duplicated().sum()"
      ]
    },
    {
      "cell_type": "code",
      "execution_count": 163,
      "metadata": {
        "id": "nlHozoSto-Mt"
      },
      "outputs": [],
      "source": [
        "\n",
        "imdb_rating_df.drop(['tconst', 'titleType', 'primaryTitle', 'isAdult', 'endYear', 'runtimeMinutes'], axis=1, inplace=True)\n"
      ]
    },
    {
      "cell_type": "code",
      "execution_count": 164,
      "metadata": {
        "id": "-WqI87vmqnhd"
      },
      "outputs": [],
      "source": [
        "imdb_rating_df.rename(columns={'originalTitle':'title','startYear':'year','genres':'genre'},inplace=True)"
      ]
    },
    {
      "cell_type": "code",
      "execution_count": 165,
      "metadata": {
        "id": "7omxw7fxqnji"
      },
      "outputs": [],
      "source": [
        "imdb_rating_df.dropna(inplace=True)"
      ]
    },
    {
      "cell_type": "code",
      "execution_count": 166,
      "metadata": {
        "colab": {
          "base_uri": "https://localhost:8080/"
        },
        "id": "Xc663FeQtMgl",
        "outputId": "c1e760c5-4570-4c45-ef72-29fbd8702d9b"
      },
      "outputs": [
        {
          "data": {
            "text/plain": [
              "0          1894\n",
              "1          1892\n",
              "2          1892\n",
              "3          1892\n",
              "4          1893\n",
              "           ... \n",
              "1299027    2017\n",
              "1299028    2019\n",
              "1299029    2019\n",
              "1299030    2014\n",
              "1299031    2014\n",
              "Name: year, Length: 1299029, dtype: object"
            ]
          },
          "execution_count": 166,
          "metadata": {},
          "output_type": "execute_result"
        }
      ],
      "source": [
        "imdb_rating_df['year']"
      ]
    },
    {
      "cell_type": "code",
      "execution_count": 167,
      "metadata": {
        "id": "-35-G0KMyuzR"
      },
      "outputs": [],
      "source": [
        "\n",
        "\n",
        "imdb_rating_df.to_csv('imdb_rating.csv')\n",
        "new_df.to_csv('tmdb.csv')"
      ]
    },
    {
      "cell_type": "code",
      "execution_count": 168,
      "metadata": {
        "colab": {
          "base_uri": "https://localhost:8080/"
        },
        "id": "MbaHQj7asPYs",
        "outputId": "e2b69bef-79d1-4239-ba71-241fe15d8b09"
      },
      "outputs": [
        {
          "data": {
            "text/plain": [
              "<bound method DataFrame.info of          averageRating  numVotes                       title  year  \\\n",
              "0                  5.7      2024                  Carmencita  1894   \n",
              "1                  5.7       272      Le clown et ses chiens  1892   \n",
              "2                  6.5      1958              Pauvre Pierrot  1892   \n",
              "3                  5.4       178                 Un bon bock  1892   \n",
              "4                  6.2      2724            Blacksmith Scene  1893   \n",
              "...                ...       ...                         ...   ...   \n",
              "1299027            7.6        11                      6 Gunn  2017   \n",
              "1299028            7.1        23              Episode #10.15  2019   \n",
              "1299029            7.2        36                      Escape  2019   \n",
              "1299030            8.8         6  Horrid Henry's Comic Caper  2014   \n",
              "1299031            8.2         6   Horrid Henry Knows It All  2014   \n",
              "\n",
              "                              genre  \n",
              "0                 Documentary,Short  \n",
              "1                   Animation,Short  \n",
              "2          Animation,Comedy,Romance  \n",
              "3                   Animation,Short  \n",
              "4                      Comedy,Short  \n",
              "...                             ...  \n",
              "1299027                          \\N  \n",
              "1299028           Family,Reality-TV  \n",
              "1299029         Crime,Drama,Mystery  \n",
              "1299030  Adventure,Animation,Comedy  \n",
              "1299031  Adventure,Animation,Comedy  \n",
              "\n",
              "[1299029 rows x 5 columns]>"
            ]
          },
          "execution_count": 168,
          "metadata": {},
          "output_type": "execute_result"
        }
      ],
      "source": [
        "imdb_rating_df.info"
      ]
    },
    {
      "cell_type": "code",
      "execution_count": 169,
      "metadata": {
        "colab": {
          "base_uri": "https://localhost:8080/",
          "height": 424
        },
        "id": "WkbzTU7f8s2o",
        "outputId": "f07d803d-67c6-4876-c4a8-53cc3fa4346e"
      },
      "outputs": [
        {
          "data": {
            "text/html": [
              "<div>\n",
              "<style scoped>\n",
              "    .dataframe tbody tr th:only-of-type {\n",
              "        vertical-align: middle;\n",
              "    }\n",
              "\n",
              "    .dataframe tbody tr th {\n",
              "        vertical-align: top;\n",
              "    }\n",
              "\n",
              "    .dataframe thead th {\n",
              "        text-align: right;\n",
              "    }\n",
              "</style>\n",
              "<table border=\"1\" class=\"dataframe\">\n",
              "  <thead>\n",
              "    <tr style=\"text-align: right;\">\n",
              "      <th></th>\n",
              "      <th>averageRating</th>\n",
              "      <th>numVotes</th>\n",
              "      <th>title</th>\n",
              "      <th>year</th>\n",
              "      <th>genre</th>\n",
              "    </tr>\n",
              "  </thead>\n",
              "  <tbody>\n",
              "    <tr>\n",
              "      <th>0</th>\n",
              "      <td>5.7</td>\n",
              "      <td>2024</td>\n",
              "      <td>Carmencita</td>\n",
              "      <td>1894</td>\n",
              "      <td>Documentary,Short</td>\n",
              "    </tr>\n",
              "    <tr>\n",
              "      <th>1</th>\n",
              "      <td>5.7</td>\n",
              "      <td>272</td>\n",
              "      <td>Le clown et ses chiens</td>\n",
              "      <td>1892</td>\n",
              "      <td>Animation,Short</td>\n",
              "    </tr>\n",
              "    <tr>\n",
              "      <th>2</th>\n",
              "      <td>6.5</td>\n",
              "      <td>1958</td>\n",
              "      <td>Pauvre Pierrot</td>\n",
              "      <td>1892</td>\n",
              "      <td>Animation,Comedy,Romance</td>\n",
              "    </tr>\n",
              "    <tr>\n",
              "      <th>3</th>\n",
              "      <td>5.4</td>\n",
              "      <td>178</td>\n",
              "      <td>Un bon bock</td>\n",
              "      <td>1892</td>\n",
              "      <td>Animation,Short</td>\n",
              "    </tr>\n",
              "    <tr>\n",
              "      <th>4</th>\n",
              "      <td>6.2</td>\n",
              "      <td>2724</td>\n",
              "      <td>Blacksmith Scene</td>\n",
              "      <td>1893</td>\n",
              "      <td>Comedy,Short</td>\n",
              "    </tr>\n",
              "    <tr>\n",
              "      <th>...</th>\n",
              "      <td>...</td>\n",
              "      <td>...</td>\n",
              "      <td>...</td>\n",
              "      <td>...</td>\n",
              "      <td>...</td>\n",
              "    </tr>\n",
              "    <tr>\n",
              "      <th>1299027</th>\n",
              "      <td>7.6</td>\n",
              "      <td>11</td>\n",
              "      <td>6 Gunn</td>\n",
              "      <td>2017</td>\n",
              "      <td>\\N</td>\n",
              "    </tr>\n",
              "    <tr>\n",
              "      <th>1299028</th>\n",
              "      <td>7.1</td>\n",
              "      <td>23</td>\n",
              "      <td>Episode #10.15</td>\n",
              "      <td>2019</td>\n",
              "      <td>Family,Reality-TV</td>\n",
              "    </tr>\n",
              "    <tr>\n",
              "      <th>1299029</th>\n",
              "      <td>7.2</td>\n",
              "      <td>36</td>\n",
              "      <td>Escape</td>\n",
              "      <td>2019</td>\n",
              "      <td>Crime,Drama,Mystery</td>\n",
              "    </tr>\n",
              "    <tr>\n",
              "      <th>1299030</th>\n",
              "      <td>8.8</td>\n",
              "      <td>6</td>\n",
              "      <td>Horrid Henry's Comic Caper</td>\n",
              "      <td>2014</td>\n",
              "      <td>Adventure,Animation,Comedy</td>\n",
              "    </tr>\n",
              "    <tr>\n",
              "      <th>1299031</th>\n",
              "      <td>8.2</td>\n",
              "      <td>6</td>\n",
              "      <td>Horrid Henry Knows It All</td>\n",
              "      <td>2014</td>\n",
              "      <td>Adventure,Animation,Comedy</td>\n",
              "    </tr>\n",
              "  </tbody>\n",
              "</table>\n",
              "<p>1299029 rows × 5 columns</p>\n",
              "</div>"
            ],
            "text/plain": [
              "         averageRating  numVotes                       title  year  \\\n",
              "0                  5.7      2024                  Carmencita  1894   \n",
              "1                  5.7       272      Le clown et ses chiens  1892   \n",
              "2                  6.5      1958              Pauvre Pierrot  1892   \n",
              "3                  5.4       178                 Un bon bock  1892   \n",
              "4                  6.2      2724            Blacksmith Scene  1893   \n",
              "...                ...       ...                         ...   ...   \n",
              "1299027            7.6        11                      6 Gunn  2017   \n",
              "1299028            7.1        23              Episode #10.15  2019   \n",
              "1299029            7.2        36                      Escape  2019   \n",
              "1299030            8.8         6  Horrid Henry's Comic Caper  2014   \n",
              "1299031            8.2         6   Horrid Henry Knows It All  2014   \n",
              "\n",
              "                              genre  \n",
              "0                 Documentary,Short  \n",
              "1                   Animation,Short  \n",
              "2          Animation,Comedy,Romance  \n",
              "3                   Animation,Short  \n",
              "4                      Comedy,Short  \n",
              "...                             ...  \n",
              "1299027                          \\N  \n",
              "1299028           Family,Reality-TV  \n",
              "1299029         Crime,Drama,Mystery  \n",
              "1299030  Adventure,Animation,Comedy  \n",
              "1299031  Adventure,Animation,Comedy  \n",
              "\n",
              "[1299029 rows x 5 columns]"
            ]
          },
          "execution_count": 169,
          "metadata": {},
          "output_type": "execute_result"
        }
      ],
      "source": [
        "imdb_rating_df"
      ]
    },
    {
      "cell_type": "code",
      "execution_count": 170,
      "metadata": {
        "id": "vhoHRqRV_LKE"
      },
      "outputs": [],
      "source": [
        "import pandas as pd\n",
        "\n",
        "# remove duplicates based on all columns\n",
        "df1 = new_df.drop_duplicates(['title'])\n",
        "\n",
        "# remove duplicates based on selected columns\n",
        "df2 = imdb_rating_df.drop_duplicates(['title'])\n"
      ]
    },
    {
      "cell_type": "code",
      "execution_count": 171,
      "metadata": {
        "id": "KxJSlkYx6rq9"
      },
      "outputs": [],
      "source": [
        "import pandas as pd\n",
        "# merge the two dataframes on common column(s)\n",
        "merged_df = pd.merge(df1, df2, on='title')\n",
        "new_df = merged_df"
      ]
    },
    {
      "cell_type": "code",
      "execution_count": 172,
      "metadata": {
        "id": "CkYMt3d90Mg5"
      },
      "outputs": [],
      "source": [
        "df=pd.read_csv('imdb_rating.csv')"
      ]
    },
    {
      "cell_type": "code",
      "execution_count": 173,
      "metadata": {
        "id": "M9ZKkjvZPYdo"
      },
      "outputs": [],
      "source": [
        "highest_number_of_rating = df.groupby('title')[['averageRating']].count()\n",
        "#ratings in improved-movie recomendation in github\n",
        "# List of 10 movies with high number of ratings\n",
        "highest_number_of_rating = highest_number_of_rating.nlargest(10, 'averageRating')"
      ]
    },
    {
      "cell_type": "code",
      "execution_count": 174,
      "metadata": {
        "colab": {
          "base_uri": "https://localhost:8080/",
          "height": 238
        },
        "id": "r1ktO_pnPj1i",
        "outputId": "0b452843-fb16-431e-dc07-d7c363a5ec27"
      },
      "outputs": [
        {
          "data": {
            "text/html": [
              "<div>\n",
              "<style scoped>\n",
              "    .dataframe tbody tr th:only-of-type {\n",
              "        vertical-align: middle;\n",
              "    }\n",
              "\n",
              "    .dataframe tbody tr th {\n",
              "        vertical-align: top;\n",
              "    }\n",
              "\n",
              "    .dataframe thead th {\n",
              "        text-align: right;\n",
              "    }\n",
              "</style>\n",
              "<table border=\"1\" class=\"dataframe\">\n",
              "  <thead>\n",
              "    <tr style=\"text-align: right;\">\n",
              "      <th></th>\n",
              "      <th>averageRating</th>\n",
              "    </tr>\n",
              "    <tr>\n",
              "      <th>title</th>\n",
              "      <th></th>\n",
              "    </tr>\n",
              "  </thead>\n",
              "  <tbody>\n",
              "    <tr>\n",
              "      <th>Episode #1.1</th>\n",
              "      <td>5757</td>\n",
              "    </tr>\n",
              "    <tr>\n",
              "      <th>Episode #1.2</th>\n",
              "      <td>4500</td>\n",
              "    </tr>\n",
              "    <tr>\n",
              "      <th>Episode #1.3</th>\n",
              "      <td>3863</td>\n",
              "    </tr>\n",
              "    <tr>\n",
              "      <th>Episode #1.4</th>\n",
              "      <td>3358</td>\n",
              "    </tr>\n",
              "    <tr>\n",
              "      <th>Episode #1.5</th>\n",
              "      <td>2919</td>\n",
              "    </tr>\n",
              "  </tbody>\n",
              "</table>\n",
              "</div>"
            ],
            "text/plain": [
              "              averageRating\n",
              "title                      \n",
              "Episode #1.1           5757\n",
              "Episode #1.2           4500\n",
              "Episode #1.3           3863\n",
              "Episode #1.4           3358\n",
              "Episode #1.5           2919"
            ]
          },
          "execution_count": 174,
          "metadata": {},
          "output_type": "execute_result"
        }
      ],
      "source": [
        "highest_number_of_rating.head()"
      ]
    },
    {
      "cell_type": "code",
      "execution_count": 175,
      "metadata": {
        "colab": {
          "base_uri": "https://localhost:8080/"
        },
        "id": "chSfGHtIPj3_",
        "outputId": "e69a04b9-b658-4de1-b4af-6ec4767b775d"
      },
      "outputs": [
        {
          "data": {
            "text/plain": [
              "(10, 1)"
            ]
          },
          "execution_count": 175,
          "metadata": {},
          "output_type": "execute_result"
        }
      ],
      "source": [
        "highest_number_of_rating.shape\n"
      ]
    },
    {
      "cell_type": "code",
      "execution_count": 176,
      "metadata": {
        "colab": {
          "base_uri": "https://localhost:8080/",
          "height": 1000
        },
        "id": "aPmhXWEByCsz",
        "outputId": "d4e53312-ef55-47da-985d-68d72ed56324"
      },
      "outputs": [
        {
          "data": {
            "text/html": [
              "<div>\n",
              "<style scoped>\n",
              "    .dataframe tbody tr th:only-of-type {\n",
              "        vertical-align: middle;\n",
              "    }\n",
              "\n",
              "    .dataframe tbody tr th {\n",
              "        vertical-align: top;\n",
              "    }\n",
              "\n",
              "    .dataframe thead th {\n",
              "        text-align: right;\n",
              "    }\n",
              "</style>\n",
              "<table border=\"1\" class=\"dataframe\">\n",
              "  <thead>\n",
              "    <tr style=\"text-align: right;\">\n",
              "      <th></th>\n",
              "      <th>movie_id</th>\n",
              "      <th>title</th>\n",
              "      <th>tags</th>\n",
              "      <th>popularity</th>\n",
              "      <th>vote_average</th>\n",
              "      <th>genres</th>\n",
              "      <th>averageRating</th>\n",
              "      <th>numVotes</th>\n",
              "      <th>year</th>\n",
              "      <th>genre</th>\n",
              "      <th>class</th>\n",
              "    </tr>\n",
              "  </thead>\n",
              "  <tbody>\n",
              "    <tr>\n",
              "      <th>0</th>\n",
              "      <td>19995</td>\n",
              "      <td>Avatar</td>\n",
              "      <td>In the 22nd century, a paraplegic Marine is di...</td>\n",
              "      <td>150.437577</td>\n",
              "      <td>7.2</td>\n",
              "      <td>[Action, Adventure, Fantasy, ScienceFiction]</td>\n",
              "      <td>6.3</td>\n",
              "      <td>23</td>\n",
              "      <td>1941</td>\n",
              "      <td>Drama</td>\n",
              "      <td>AA</td>\n",
              "    </tr>\n",
              "    <tr>\n",
              "      <th>1</th>\n",
              "      <td>285</td>\n",
              "      <td>Pirates of the Caribbean: At World's End</td>\n",
              "      <td>Captain Barbossa, long believed to be dead, ha...</td>\n",
              "      <td>139.082615</td>\n",
              "      <td>6.9</td>\n",
              "      <td>[Adventure, Fantasy, Action]</td>\n",
              "      <td>7.1</td>\n",
              "      <td>686833</td>\n",
              "      <td>2007</td>\n",
              "      <td>Action,Adventure,Fantasy</td>\n",
              "      <td>H</td>\n",
              "    </tr>\n",
              "    <tr>\n",
              "      <th>2</th>\n",
              "      <td>206647</td>\n",
              "      <td>Spectre</td>\n",
              "      <td>A cryptic message from Bond’s past sends him o...</td>\n",
              "      <td>107.376788</td>\n",
              "      <td>6.3</td>\n",
              "      <td>[Action, Adventure, Crime]</td>\n",
              "      <td>5.8</td>\n",
              "      <td>697</td>\n",
              "      <td>1977</td>\n",
              "      <td>Horror</td>\n",
              "      <td>A</td>\n",
              "    </tr>\n",
              "    <tr>\n",
              "      <th>3</th>\n",
              "      <td>49026</td>\n",
              "      <td>The Dark Knight Rises</td>\n",
              "      <td>Following the death of District Attorney Harve...</td>\n",
              "      <td>112.312950</td>\n",
              "      <td>7.6</td>\n",
              "      <td>[Action, Crime, Drama, Thriller]</td>\n",
              "      <td>8.4</td>\n",
              "      <td>1807722</td>\n",
              "      <td>2012</td>\n",
              "      <td>Action,Crime,Drama</td>\n",
              "      <td>SH</td>\n",
              "    </tr>\n",
              "    <tr>\n",
              "      <th>4</th>\n",
              "      <td>49529</td>\n",
              "      <td>John Carter</td>\n",
              "      <td>John Carter is a war-weary, former military ca...</td>\n",
              "      <td>43.926995</td>\n",
              "      <td>6.1</td>\n",
              "      <td>[Action, Adventure, ScienceFiction]</td>\n",
              "      <td>6.6</td>\n",
              "      <td>284512</td>\n",
              "      <td>2012</td>\n",
              "      <td>Action,Adventure,Sci-Fi</td>\n",
              "      <td>AA</td>\n",
              "    </tr>\n",
              "    <tr>\n",
              "      <th>...</th>\n",
              "      <td>...</td>\n",
              "      <td>...</td>\n",
              "      <td>...</td>\n",
              "      <td>...</td>\n",
              "      <td>...</td>\n",
              "      <td>...</td>\n",
              "      <td>...</td>\n",
              "      <td>...</td>\n",
              "      <td>...</td>\n",
              "      <td>...</td>\n",
              "      <td>...</td>\n",
              "    </tr>\n",
              "    <tr>\n",
              "      <th>4527</th>\n",
              "      <td>9367</td>\n",
              "      <td>El Mariachi</td>\n",
              "      <td>El Mariachi just wants to play his guitar and ...</td>\n",
              "      <td>14.269792</td>\n",
              "      <td>6.6</td>\n",
              "      <td>[Action, Crime, Thriller]</td>\n",
              "      <td>7.4</td>\n",
              "      <td>115</td>\n",
              "      <td>2014</td>\n",
              "      <td>Crime,Thriller</td>\n",
              "      <td>H</td>\n",
              "    </tr>\n",
              "    <tr>\n",
              "      <th>4528</th>\n",
              "      <td>72766</td>\n",
              "      <td>Newlyweds</td>\n",
              "      <td>A newlywed couple's honeymoon is upended by th...</td>\n",
              "      <td>0.642552</td>\n",
              "      <td>5.9</td>\n",
              "      <td>[Comedy, Romance]</td>\n",
              "      <td>6.5</td>\n",
              "      <td>37</td>\n",
              "      <td>1993</td>\n",
              "      <td>Comedy</td>\n",
              "      <td>AA</td>\n",
              "    </tr>\n",
              "    <tr>\n",
              "      <th>4529</th>\n",
              "      <td>231617</td>\n",
              "      <td>Signed, Sealed, Delivered</td>\n",
              "      <td>\"Signed, Sealed, Delivered\" introduces a dedic...</td>\n",
              "      <td>1.444476</td>\n",
              "      <td>7.0</td>\n",
              "      <td>[Comedy, Drama, Romance, TVMovie]</td>\n",
              "      <td>7.3</td>\n",
              "      <td>99</td>\n",
              "      <td>1988</td>\n",
              "      <td>Comedy</td>\n",
              "      <td>H</td>\n",
              "    </tr>\n",
              "    <tr>\n",
              "      <th>4530</th>\n",
              "      <td>126186</td>\n",
              "      <td>Shanghai Calling</td>\n",
              "      <td>When ambitious New York attorney Sam is sent t...</td>\n",
              "      <td>0.857008</td>\n",
              "      <td>5.7</td>\n",
              "      <td>[]</td>\n",
              "      <td>6.2</td>\n",
              "      <td>1765</td>\n",
              "      <td>2012</td>\n",
              "      <td>Comedy,Drama,Romance</td>\n",
              "      <td>AA</td>\n",
              "    </tr>\n",
              "    <tr>\n",
              "      <th>4531</th>\n",
              "      <td>25975</td>\n",
              "      <td>My Date with Drew</td>\n",
              "      <td>Ever since the second grade when he first saw ...</td>\n",
              "      <td>1.929883</td>\n",
              "      <td>6.3</td>\n",
              "      <td>[Documentary]</td>\n",
              "      <td>6.5</td>\n",
              "      <td>4722</td>\n",
              "      <td>2004</td>\n",
              "      <td>Documentary</td>\n",
              "      <td>AA</td>\n",
              "    </tr>\n",
              "  </tbody>\n",
              "</table>\n",
              "<p>4532 rows × 11 columns</p>\n",
              "</div>"
            ],
            "text/plain": [
              "      movie_id                                     title  \\\n",
              "0        19995                                    Avatar   \n",
              "1          285  Pirates of the Caribbean: At World's End   \n",
              "2       206647                                   Spectre   \n",
              "3        49026                     The Dark Knight Rises   \n",
              "4        49529                               John Carter   \n",
              "...        ...                                       ...   \n",
              "4527      9367                               El Mariachi   \n",
              "4528     72766                                 Newlyweds   \n",
              "4529    231617                 Signed, Sealed, Delivered   \n",
              "4530    126186                          Shanghai Calling   \n",
              "4531     25975                         My Date with Drew   \n",
              "\n",
              "                                                   tags  popularity  \\\n",
              "0     In the 22nd century, a paraplegic Marine is di...  150.437577   \n",
              "1     Captain Barbossa, long believed to be dead, ha...  139.082615   \n",
              "2     A cryptic message from Bond’s past sends him o...  107.376788   \n",
              "3     Following the death of District Attorney Harve...  112.312950   \n",
              "4     John Carter is a war-weary, former military ca...   43.926995   \n",
              "...                                                 ...         ...   \n",
              "4527  El Mariachi just wants to play his guitar and ...   14.269792   \n",
              "4528  A newlywed couple's honeymoon is upended by th...    0.642552   \n",
              "4529  \"Signed, Sealed, Delivered\" introduces a dedic...    1.444476   \n",
              "4530  When ambitious New York attorney Sam is sent t...    0.857008   \n",
              "4531  Ever since the second grade when he first saw ...    1.929883   \n",
              "\n",
              "      vote_average                                        genres  \\\n",
              "0              7.2  [Action, Adventure, Fantasy, ScienceFiction]   \n",
              "1              6.9                  [Adventure, Fantasy, Action]   \n",
              "2              6.3                    [Action, Adventure, Crime]   \n",
              "3              7.6              [Action, Crime, Drama, Thriller]   \n",
              "4              6.1           [Action, Adventure, ScienceFiction]   \n",
              "...            ...                                           ...   \n",
              "4527           6.6                     [Action, Crime, Thriller]   \n",
              "4528           5.9                             [Comedy, Romance]   \n",
              "4529           7.0             [Comedy, Drama, Romance, TVMovie]   \n",
              "4530           5.7                                            []   \n",
              "4531           6.3                                 [Documentary]   \n",
              "\n",
              "      averageRating  numVotes  year                     genre class  \n",
              "0               6.3        23  1941                     Drama    AA  \n",
              "1               7.1    686833  2007  Action,Adventure,Fantasy     H  \n",
              "2               5.8       697  1977                    Horror     A  \n",
              "3               8.4   1807722  2012        Action,Crime,Drama    SH  \n",
              "4               6.6    284512  2012   Action,Adventure,Sci-Fi    AA  \n",
              "...             ...       ...   ...                       ...   ...  \n",
              "4527            7.4       115  2014            Crime,Thriller     H  \n",
              "4528            6.5        37  1993                    Comedy    AA  \n",
              "4529            7.3        99  1988                    Comedy     H  \n",
              "4530            6.2      1765  2012      Comedy,Drama,Romance    AA  \n",
              "4531            6.5      4722  2004               Documentary    AA  \n",
              "\n",
              "[4532 rows x 11 columns]"
            ]
          },
          "execution_count": 176,
          "metadata": {},
          "output_type": "execute_result"
        }
      ],
      "source": [
        "import pandas as pd\n",
        "\n",
        "# Load the movie dataset with IMDb ratings\n",
        "df = new_df\n",
        "\n",
        "# Define the IMDb rating range for each class\n",
        "sdh_range = (9.0, 10.0)\n",
        "sh_range = (8.0, 9.0)\n",
        "h_range = (7.0, 8.0)\n",
        "aa_range = (6.0, 7.0)\n",
        "a_range = (5.0, 6.0)\n",
        "flop_range = (0.0, 5.0)\n",
        "\n",
        "# Classify movies based on their IMDb ratings\n",
        "df['class'] = ''\n",
        "for i, row in df.iterrows():\n",
        "    rating = row['averageRating']\n",
        "    if rating >= sdh_range[0] and rating <= sdh_range[1]:\n",
        "        df.at[i, 'class'] = 'SDH'\n",
        "    elif rating >= sh_range[0] and rating < sh_range[1]:\n",
        "        df.at[i, 'class'] = 'SH'\n",
        "    elif rating >= h_range[0] and rating < h_range[1]:\n",
        "        df.at[i, 'class'] = 'H'\n",
        "    elif rating >= aa_range[0] and rating < aa_range[1]:\n",
        "        df.at[i, 'class'] = 'AA'\n",
        "    elif rating >= a_range[0] and rating < a_range[1]:\n",
        "        df.at[i, 'class'] = 'A'\n",
        "    else:\n",
        "        df.at[i, 'class'] = 'Flop'\n",
        "\n",
        "# Save the classified movie dataset to a new CSV file\n",
        "df.to_csv('movie_dataset_classified .csv', index=False)\n",
        "df\n"
      ]
    },
    {
      "cell_type": "code",
      "execution_count": 177,
      "metadata": {
        "colab": {
          "base_uri": "https://localhost:8080/",
          "height": 648
        },
        "id": "EDndrKWP0K5J",
        "outputId": "9821fb54-9ed2-4280-ea5d-22becc4fbca8"
      },
      "outputs": [
        {
          "data": {
            "image/png": "[encoded data removed]",
            "text/plain": [
              "<Figure size 1200x800 with 1 Axes>"
            ]
          },
          "metadata": {},
          "output_type": "display_data"
        }
      ],
      "source": [
        "import matplotlib.pyplot as plt\n",
        "import seaborn as sns\n",
        "plt.figure(figsize=(12,8))\n",
        "sns.countplot(x=df[\"class\"])\n",
        "plt.show()"
      ]
    },
    {
      "cell_type": "code",
      "execution_count": 178,
      "metadata": {
        "colab": {
          "base_uri": "https://localhost:8080/"
        },
        "id": "ChwbRWs3z80i",
        "outputId": "d1911af8-70c1-419f-e52f-a635216bc1fa"
      },
      "outputs": [
        {
          "data": {
            "text/plain": [
              "class\n",
              "AA      1710\n",
              "H       1178\n",
              "A        866\n",
              "Flop     464\n",
              "SH       290\n",
              "SDH       24\n",
              "Name: count, dtype: int64"
            ]
          },
          "execution_count": 178,
          "metadata": {},
          "output_type": "execute_result"
        }
      ],
      "source": [
        "df['class'].value_counts()"
      ]
    },
    {
      "cell_type": "markdown",
      "metadata": {
        "id": "zKfLxBIEyBPh"
      },
      "source": [
        "CNN"
      ]
    },
    {
      "cell_type": "code",
      "execution_count": 179,
      "metadata": {
        "id": "8650x5wioThK"
      },
      "outputs": [],
      "source": [
        "import warnings\n",
        "warnings.filterwarnings(\"ignore\")"
      ]
    },
    {
      "cell_type": "code",
      "execution_count": 180,
      "metadata": {
        "colab": {
          "base_uri": "https://localhost:8080/"
        },
        "id": "uCGoyf8QoTyd",
        "outputId": "f53c6ef3-547a-4ba9-fac7-6d3aad922efb"
      },
      "outputs": [
        {
          "name": "stdout",
          "output_type": "stream",
          "text": [
            "Model: \"sequential_1\"\n",
            "_________________________________________________________________\n",
            " Layer (type)                Output Shape              Param #   \n",
            "=================================================================\n",
            " conv1d_1 (Conv1D)           (None, 1, 64)             192       \n",
            "                                                                 \n",
            " dense_4 (Dense)             (None, 1, 16)             1040      \n",
            "                                                                 \n",
            " max_pooling1d_1 (MaxPoolin  (None, 1, 16)             0         \n",
            " g1D)                                                            \n",
            "                                                                 \n",
            " flatten_3 (Flatten)         (None, 16)                0         \n",
            "                                                                 \n",
            " dense_5 (Dense)             (None, 6)                 102       \n",
            "                                                                 \n",
            "=================================================================\n",
            "Total params: 1334 (5.21 KB)\n",
            "Trainable params: 1334 (5.21 KB)\n",
            "Non-trainable params: 0 (0.00 Byte)\n",
            "_________________________________________________________________\n",
            "111/111 [==============================] - 0s 3ms/step - loss: 1.4465 - accuracy: 0.3581\n",
            "Loss: 1.4464941024780273  Accuracy: 0.3580736517906189\n",
            "48/48 [==============================] - 0s 2ms/step\n",
            "[2 2 2 ... 2 2 2]\n"
          ]
        }
      ],
      "source": [
        "from keras.models import Sequential\n",
        "from keras.layers import Dense, Conv1D, Flatten, MaxPooling1D,LSTM\n",
        "from sklearn.model_selection import train_test_split\n",
        "from sklearn.metrics import confusion_matrix\n",
        "from numpy import unique\n",
        "import pandas as pd\n",
        "\n",
        "df_ratings = pd.read_csv(\"movie_metadata.csv\")\n",
        "\n",
        "original_title = df_ratings['movie_title']\n",
        "org_title = []\n",
        "# Removing white space\n",
        "for tile in original_title:\n",
        "    org_title.append(tile.strip())\n",
        "\n",
        "df_ratings['movie_title'] = org_title\n",
        "\n",
        "ratings = df_ratings[\"imdb_score\"]\n",
        "rating_list = []\n",
        "for rating in ratings:\n",
        "    if rating >= 0 and rating <= 4.9:\n",
        "        rating_list.append(0)\n",
        "    elif rating >= 5 and rating <= 5.9:\n",
        "        rating_list.append(1)\n",
        "    elif rating >= 6 and rating <= 6.9:\n",
        "        rating_list.append(2)\n",
        "    elif rating >= 7 and rating <= 7.9:\n",
        "        rating_list.append(3)\n",
        "    elif rating >= 8 and rating <= 8.9:\n",
        "        rating_list.append(4)\n",
        "    else:\n",
        "        rating_list.append(5)\n",
        "\n",
        "\n",
        "df_ratings['hit_class'] = rating_list\n",
        "\n",
        "df = df_ratings[['num_voted_users', 'imdb_score', 'hit_class']]\n",
        "\n",
        "x = df.drop('hit_class', axis=1)\n",
        "y = df['hit_class']\n",
        "\n",
        "\n",
        "\n",
        "x = x.values.reshape(x.shape[0], x.shape[1], 1)\n",
        "\n",
        "xtrain, xtest, ytrain, ytest=train_test_split(x, y, test_size=0.30)\n",
        "model = Sequential()\n",
        "model.add(Conv1D(64, 2, activation=\"relu\", input_shape=(2,1)))\n",
        "model.add(Dense(16, activation=\"relu\"))\n",
        "model.add(MaxPooling1D(pool_size=2, strides=2, padding='same'))\n",
        "model.add(Flatten())\n",
        "model.add(Dense(6, activation = 'softmax'))\n",
        "model.compile(loss = 'sparse_categorical_crossentropy',\n",
        "     optimizer = \"adam\",\n",
        "              metrics = ['accuracy'])\n",
        "model.summary()\n",
        "model.fit(xtrain, ytrain, batch_size=16,epochs=100,verbose=0)\n",
        "acc = model.evaluate(xtrain, ytrain)\n",
        "print(\"Loss:\", acc[0], \" Accuracy:\", acc[1])\n",
        "pred = model.predict(xtest)\n",
        "pred_y = pred.argmax(axis=-1)\n",
        "print(pred_y)"
      ]
    },
    {
      "cell_type": "code",
      "execution_count": 181,
      "metadata": {
        "id": "P3CPns6nm6ps"
      },
      "outputs": [],
      "source": [
        "model.save('CNN_model.h5')"
      ]
    },
    {
      "cell_type": "markdown",
      "metadata": {
        "id": "Vgz8Pf-y5k9-"
      },
      "source": [
        "rf"
      ]
    },
    {
      "cell_type": "code",
      "execution_count": 182,
      "metadata": {
        "colab": {
          "base_uri": "https://localhost:8080/"
        },
        "id": "va8bTeQyoT30",
        "outputId": "ee4a3c60-edad-48b3-8788-7a76b89d68f5"
      },
      "outputs": [
        {
          "name": "stdout",
          "output_type": "stream",
          "text": [
            "[3, 2, 4, 3, 2, 2, 3, 3, 3]\n",
            "   num_voted_users  imdb_score  hit_class\n",
            "0           886204         7.9          3\n",
            "1           471220         7.1          3\n",
            "2           275868         6.8          2\n",
            "3          1144337         8.5          4\n",
            "4                8         7.1          3\n",
            "(5043, 2)\n",
            "(5043, 2)\n",
            "1.0\n",
            "[3, 2, 4, 3, 2, 2, 3, 3, 3]\n"
          ]
        }
      ],
      "source": [
        "import pandas as pd\n",
        "import numpy as np\n",
        "import nltk\n",
        "import json\n",
        "from sklearn.model_selection import train_test_split\n",
        "from keras.models import Sequential\n",
        "from keras.layers import Dense, Conv1D, Flatten, MaxPooling1D\n",
        "from sklearn.model_selection import train_test_split\n",
        "from sklearn.metrics import confusion_matrix,accuracy_score\n",
        "from sklearn.datasets import load_iris\n",
        "from numpy import unique\n",
        "\n",
        "from sklearn.ensemble import RandomForestClassifier\n",
        "\n",
        "df_ratings=pd.read_csv(\"movie_metadata.csv\")\n",
        "\n",
        "ratings=df_ratings[\"imdb_score\"]\n",
        "rating_list=[]\n",
        "for rating in ratings:\n",
        "        if rating>=0 and rating<=4.9:\n",
        "                rating_list.append(0)\n",
        "        elif rating >= 5 and rating <= 5.9:\n",
        "                rating_list.append(1)\n",
        "        elif rating >= 6 and rating <= 6.9:\n",
        "                rating_list.append(2)\n",
        "        elif rating >= 7 and rating <= 7.9:\n",
        "                rating_list.append(3)\n",
        "        elif rating >= 8 and rating <= 8.9:\n",
        "                rating_list.append(4)\n",
        "        else:\n",
        "                rating_list.append(5)\n",
        "print(rating_list[1:10])\n",
        "\n",
        "df_ratings['hit_class']=rating_list\n",
        "\n",
        "print(df_ratings[['num_voted_users','imdb_score','hit_class']][:5])\n",
        "df=df_ratings[['num_voted_users','imdb_score','hit_class']]\n",
        "\n",
        "\n",
        "x= df.drop('hit_class',axis=1)\n",
        "y = df['hit_class']\n",
        "\n",
        "\n",
        "\n",
        "\n",
        "print(x.shape)\n",
        "print(x.shape)\n",
        "\n",
        "xtrain, xtest, ytrain, ytest=train_test_split(x, y, test_size=0.15)\n",
        "\n",
        "rf=RandomForestClassifier()\n",
        "rf.fit(xtrain,ytrain)\n",
        "\n",
        "\n",
        "\n",
        "predict=rf.predict(xtest)\n",
        "\n",
        "print(accuracy_score(predict,ytest))\n",
        "print(rating_list[1:10])"
      ]
    },
    {
      "cell_type": "code",
      "execution_count": 183,
      "metadata": {
        "colab": {
          "base_uri": "https://localhost:8080/"
        },
        "id": "sXLBl82No-32",
        "outputId": "40995323-bd3e-4e5a-d6bb-855c51a7f5e1"
      },
      "outputs": [
        {
          "data": {
            "text/plain": [
              "['random_forest_model.pkl']"
            ]
          },
          "execution_count": 183,
          "metadata": {},
          "output_type": "execute_result"
        }
      ],
      "source": [
        "import joblib\n",
        "joblib.dump(rf, 'random_forest_model.pkl')"
      ]
    },
    {
      "cell_type": "code",
      "execution_count": 184,
      "metadata": {
        "id": "SHn7GnHTpVAn"
      },
      "outputs": [],
      "source": [
        "import pickle\n",
        "with open('random_forest_model.pkl', 'wb') as file:\n",
        "    pickle.dump(rf, file)"
      ]
    },
    {
      "cell_type": "markdown",
      "metadata": {
        "id": "7LzBzsKc5vJz"
      },
      "source": [
        "movie poplarity"
      ]
    },
    {
      "cell_type": "code",
      "execution_count": 185,
      "metadata": {
        "colab": {
          "base_uri": "https://localhost:8080/"
        },
        "id": "GVCz4WXboT7C",
        "outputId": "83a73be6-4026-4465-a7f6-c75b14504d0d"
      },
      "outputs": [
        {
          "name": "stdout",
          "output_type": "stream",
          "text": [
            "Model: \"sequential_1\"\n",
            "_________________________________________________________________\n",
            " Layer (type)                Output Shape              Param #   \n",
            "=================================================================\n",
            " conv1d_1 (Conv1D)           (None, 1, 64)             192       \n",
            "                                                                 \n",
            " dense_4 (Dense)             (None, 1, 16)             1040      \n",
            "                                                                 \n",
            " max_pooling1d_1 (MaxPoolin  (None, 1, 16)             0         \n",
            " g1D)                                                            \n",
            "                                                                 \n",
            " flatten_3 (Flatten)         (None, 16)                0         \n",
            "                                                                 \n",
            " dense_5 (Dense)             (None, 6)                 102       \n",
            "                                                                 \n",
            " flatten_4 (Flatten)         (None, 6)                 0         \n",
            "                                                                 \n",
            " dense_6 (Dense)             (None, 6)                 42        \n",
            "                                                                 \n",
            "=================================================================\n",
            "Total params: 1376 (5.38 KB)\n",
            "Trainable params: 1376 (5.38 KB)\n",
            "Non-trainable params: 0 (0.00 Byte)\n",
            "_________________________________________________________________\n"
          ]
        },
        {
          "name": "stdout",
          "output_type": "stream",
          "text": [
            "2\n"
          ]
        }
      ],
      "source": [
        "import pandas as pd\n",
        "import numpy as np\n",
        "import nltk\n",
        "import json\n",
        "from sklearn.model_selection import train_test_split\n",
        "from keras.models import Sequential\n",
        "from keras.models import Sequential, load_model\n",
        "from keras.layers import Dense, Conv1D, Flatten, MaxPooling1D,Input\n",
        "from sklearn.model_selection import train_test_split\n",
        "from sklearn.metrics import confusion_matrix\n",
        "from numpy import unique\n",
        "\n",
        "def movie_hit_prediciton(movie_name):\n",
        "        df_ratings = pd.read_csv(\"movie_metadata.csv\")\n",
        "\n",
        "\n",
        "        original_title = df_ratings['movie_title']\n",
        "        org_title = []\n",
        "        #Removing white space\n",
        "        for tile in original_title:\n",
        "                org_title.append(tile.strip())\n",
        "\n",
        "        df_ratings['movie_title'] = org_title\n",
        "\n",
        "\n",
        "        ratings = df_ratings[\"imdb_score\"]\n",
        "        rating_list = []\n",
        "        for rating in ratings:\n",
        "                if rating >= 0 and rating <= 4.9:\n",
        "                        rating_list.append(0)\n",
        "                elif rating >= 5 and rating <= 5.9:\n",
        "                        rating_list.append(1)\n",
        "                elif rating >= 6 and rating <= 6.9:\n",
        "                        rating_list.append(2)\n",
        "                elif rating >= 7 and rating <= 7.9:\n",
        "                        rating_list.append(3)\n",
        "                elif rating >= 8 and rating <= 8.9:\n",
        "                        rating_list.append(4)\n",
        "                else:\n",
        "                        rating_list.append(5)\n",
        "        #print(rating_list[1:10])\n",
        "\n",
        "        df_ratings['hit_class'] = rating_list\n",
        "        return_sequences=True\n",
        "        # model=Sequential()\n",
        "        model.add(Flatten())\n",
        "        model.add(Dense(6, activation='softmax'))\n",
        "        model.compile(loss='sparse_categorical_crossentropy',\n",
        "                      optimizer=\"adam\",\n",
        "                      metrics=['accuracy'])\n",
        "        model.summary()\n",
        "        model.fit(xtrain, ytrain, batch_size=16, epochs=100, verbose=0)\n",
        "\n",
        "        from sklearn.ensemble import RandomForestClassifier\n",
        "        rf = RandomForestClassifier()\n",
        "        rf.fit(xtrain, ytrain)\n",
        "        return pred_y[0]\n",
        "\n",
        "\n",
        "mn='Avatar'\n",
        "print(movie_hit_prediciton(mn))"
      ]
    },
    {
      "cell_type": "code",
      "execution_count": 186,
      "metadata": {},
      "outputs": [],
      "source": [
        "import pandas as pd\n",
        "import numpy as np\n",
        "import nltk\n",
        "import json\n",
        "from sklearn.model_selection import train_test_split\n",
        "from keras.models import Sequential\n",
        "from keras.layers import Dense, Conv1D, Flatten, MaxPooling1D,Input\n",
        "from sklearn.model_selection import train_test_split\n",
        "from sklearn.metrics import confusion_matrix\n",
        "from numpy import unique\n",
        "from sklearn.neural_network import MLPClassifier\n",
        "\n",
        "def audience_prediciton(movie_name):\n",
        "        df_ratings = pd.read_csv(\"movie_metadata.csv\")\n",
        "        original_title = df_ratings['movie_title']\n",
        "        org_title = []\n",
        "        #Removing white space\n",
        "        for tile in original_title:\n",
        "                org_title.append(tile.strip())\n",
        "\n",
        "        df_ratings['movie_title'] = org_title\n",
        "\n",
        "\n",
        "        ratings = df_ratings[\"imdb_score\"]\n",
        "        rating_list = []\n",
        "        for rating in ratings:\n",
        "                if rating >= 0 and rating <= 5.9:\n",
        "                        rating_list.append(1)\n",
        "                elif rating >= 6 and rating <= 6.9:\n",
        "                        rating_list.append(2)\n",
        "                elif rating >= 7 and rating <= 7.9:\n",
        "                        rating_list.append(3)\n",
        "                else:\n",
        "                        rating_list.append(4)\n",
        "\n",
        "        df_ratings['audience_class'] = rating_list\n",
        "\n",
        "        df = df_ratings[['num_voted_users', 'imdb_score', 'audience_class']]\n",
        "\n",
        "        x = df.drop('audience_class', axis=1)\n",
        "        y = df['audience_class']\n",
        "        # print(y)\n",
        "        xtrain, xtest, ytrain, ytest = train_test_split(x, y, test_size=0.15)\n",
        "\n",
        "        mlp = MLPClassifier()\n",
        "        mlp.fit(xtrain, ytrain)\n",
        "        x_test=[]\n",
        "        no_votes=0\n",
        "        score_val=0\n",
        "        df_rv2 = df_ratings.loc[df_ratings['movie_title']==movie_name, ['num_voted_users', 'imdb_score']]\n",
        "        for votes in df_rv2[\"num_voted_users\"]:\n",
        "                no_votes = votes\n",
        "        for score in df_rv2[\"imdb_score\"]:\n",
        "                #print(score)\n",
        "                score_val = score\n",
        "\n",
        "        predict_result = mlp.predict([[no_votes,score_val]])\n",
        "        print(predict_result)\n",
        "        return predict_result\n",
        "\n",
        "# mn='Avatar'\n",
        "# print(audience_prediciton(mn))"
      ]
    },
    {
      "cell_type": "code",
      "execution_count": 187,
      "metadata": {
        "id": "6M543D8U6CWv"
      },
      "outputs": [],
      "source": [
        "def target_audience(movie_name):\n",
        "  results=[]\n",
        "  print(movie_name)\n",
        "  ta_prediction=audience_prediciton(movie_name)\n",
        "  print(\"pre=\",ta_prediction)\n",
        "  predict_res=ta_prediction[0]\n",
        "  if predict_res==1:\n",
        "    result=\"Junior\"\n",
        "  elif predict_res==2:\n",
        "    result=\"Teenage\"\n",
        "  elif predict_res == 3:\n",
        "    result = \"Mid-age\"\n",
        "  else:\n",
        "    result = \"Senior\"\n",
        "  print('Target audience for the movie',movie_name,'is',result)"
      ]
    },
    {
      "cell_type": "code",
      "execution_count": 188,
      "metadata": {
        "colab": {
          "base_uri": "https://localhost:8080/"
        },
        "id": "_VNpdjrI6Ckl",
        "outputId": "b939d2b6-0db0-41f4-8565-76a66425b465"
      },
      "outputs": [
        {
          "name": "stdout",
          "output_type": "stream",
          "text": [
            "The Princess Diaries\n",
            "[1]\n",
            "pre= [1]\n",
            "Target audience for the movie The Princess Diaries is Junior\n"
          ]
        }
      ],
      "source": [
        "target_audience('The Princess Diaries')"
      ]
    },
    {
      "cell_type": "code",
      "execution_count": 189,
      "metadata": {
        "colab": {
          "base_uri": "https://localhost:8080/"
        },
        "id": "Lc1xLfwP6LNg",
        "outputId": "eeb9e327-9f1d-4860-8f3d-b6756bf5a198"
      },
      "outputs": [
        {
          "name": "stdout",
          "output_type": "stream",
          "text": [
            "Krull\n",
            "[2]\n",
            "pre= [2]\n",
            "Target audience for the movie Krull is Teenage\n"
          ]
        }
      ],
      "source": [
        "target_audience('Krull')"
      ]
    },
    {
      "cell_type": "code",
      "execution_count": 190,
      "metadata": {
        "id": "rZvDdTQM6LLP"
      },
      "outputs": [],
      "source": [
        "import pandas as pd\n",
        "import plotly.figure_factory as ff\n",
        "data=pd.read_csv('movie_metadata.csv')"
      ]
    },
    {
      "cell_type": "code",
      "execution_count": 191,
      "metadata": {
        "colab": {
          "base_uri": "https://localhost:8080/"
        },
        "id": "L2a3fbj76LIk",
        "outputId": "41c9a720-74c8-4ab9-dcef-6c7da755aecf"
      },
      "outputs": [
        {
          "data": {
            "text/plain": [
              "Index(['color', 'director_name', 'num_critic_for_reviews', 'duration',\n",
              "       'director_facebook_likes', 'actor_3_facebook_likes', 'actor_2_name',\n",
              "       'actor_1_facebook_likes', 'gross', 'genres', 'actor_1_name',\n",
              "       'movie_title', 'num_voted_users', 'cast_total_facebook_likes',\n",
              "       'actor_3_name', 'facenumber_in_poster', 'plot_keywords',\n",
              "       'movie_imdb_link', 'num_user_for_reviews', 'language', 'country',\n",
              "       'content_rating', 'budget', 'title_year', 'actor_2_facebook_likes',\n",
              "       'imdb_score', 'aspect_ratio', 'movie_facebook_likes'],\n",
              "      dtype='object')"
            ]
          },
          "execution_count": 191,
          "metadata": {},
          "output_type": "execute_result"
        }
      ],
      "source": [
        "data.columns"
      ]
    },
    {
      "cell_type": "code",
      "execution_count": 192,
      "metadata": {
        "colab": {
          "base_uri": "https://localhost:8080/"
        },
        "id": "hQQAFGQm6LFp",
        "outputId": "ccd84f40-7ff5-441d-c465-ee354d89235a"
      },
      "outputs": [
        {
          "data": {
            "text/plain": [
              "Index(['movie_title', 'genres', 'imdb_score'], dtype='object')"
            ]
          },
          "execution_count": 192,
          "metadata": {},
          "output_type": "execute_result"
        }
      ],
      "source": [
        "data=data[['movie_title','genres','imdb_score']]\n",
        "data.columns"
      ]
    },
    {
      "cell_type": "code",
      "execution_count": 193,
      "metadata": {
        "id": "Zy0Y3c6P6LB9"
      },
      "outputs": [],
      "source": [
        "score=list((data['imdb_score']))"
      ]
    },
    {
      "cell_type": "code",
      "execution_count": 194,
      "metadata": {
        "colab": {
          "base_uri": "https://localhost:8080/"
        },
        "id": "ByKc77FZ6K_n",
        "outputId": "3a6e01d4-f985-4cea-d41b-7f09bbc1bb88"
      },
      "outputs": [
        {
          "name": "stdout",
          "output_type": "stream",
          "text": [
            "[7.9, 7.1, 6.8, 8.5, 7.1, 6.6, 6.2, 7.8, 7.5, 7.5, 6.9, 6.1, 6.7, 7.3, 6.5, 7.2, 6.6, 8.1, 6.7, 6.8, 7.5, 7.0, 6.7, 7.9, 6.1, 7.2, 7.7, 8.2, 5.9, 7.0, 7.8, 7.3, 7.2, 6.5, 6.8, 7.3, 6.0, 5.7, 6.4, 6.7, 6.8, 6.3, 5.6, 8.3, 6.6, 7.2, 7.0, 8.0, 7.8, 6.3, 7.3, 6.6, 7.0, 6.3, 6.2, 6.8, 7.2, 7.5, 8.4, 6.2, 5.8, 6.8, 5.4, 6.6, 6.9, 7.3, 9.0, 8.3, 6.5, 7.9, 7.5, 4.8, 5.2, 6.9, 5.4, 7.9, 6.1, 5.8, 8.3, 7.8, 7.0, 6.1, 7.0, 7.6, 4.5, 6.3, 7.8, 6.4, 6.5, 7.9, 7.8, 6.6, 5.5, 8.2, 6.4, 8.1, 8.6, 8.8, 8.2, 7.9, 6.7, 7.8, 7.8, 6.6, 6.1, 5.6, 6.4, 6.1, 7.3, 6.6, 6.3, 6.1, 7.1, 5.5, 7.5, 7.6, 6.4, 7.2, 6.7, 8.0, 8.3, 6.7, 5.9, 6.7, 6.7, 7.6, 7.2, 7.1, 8.1, 6.7, 7.0, 6.9, 5.1, 5.8, 6.2, 7.4, 5.8, 6.6, 6.2, 7.3, 4.2, 6.9, 6.4, 5.4, 6.7, 5.8, 6.9, 7.2, 6.9, 6.1, 5.5, 6.6, 6.1, 6.3, 7.2, 7.4, 7.3, 6.1, 7.7, 6.1, 8.0, 7.3, 7.9, 5.5, 5.0, 7.7, 6.6, 5.7, 5.8, 6.0, 6.4, 6.9, 6.4, 7.4, 5.5, 5.9, 6.8, 7.5, 6.8, 8.1, 6.5, 7.2, 6.7, 8.1, 7.6, 7.4, 7.6, 5.5, 6.7, 6.5, 6.6, 6.7, 6.4, 5.8, 7.4, 7.8, 6.6, 4.9, 6.5, 7.5, 6.2, 7.3, 7.5, 5.6, 8.2, 8.1, 6.4, 6.7, 6.6, 6.4, 7.5, 7.3, 7.5, 5.8, 7.5, 6.6, 6.7, 3.7, 6.0, 6.4, 6.1, 6.4, 5.6, 8.0, 5.2, 7.1, 4.8, 7.0, 5.4, 6.6, 6.7, 6.2, 6.1, 5.3, 6.3, 7.0, 7.6, 6.7, 8.1, 6.7, 6.5, 7.3, 5.1, 6.0, 6.1, 5.9, 7.8, 5.8, 6.3, 4.3, 6.4, 6.1, 6.5, 7.1, 6.4, 6.5, 6.3, 7.5, 4.9, 5.8, 7.6, 6.2, 5.5, 5.4, 5.8, 7.1, 5.4, 3.7, 6.7, 7.2, 8.8, 5.8, 6.8, 3.8, 7.1, 7.2, 5.9, 7.1, 8.1, 7.2, 6.9, 4.4, 6.5, 8.5, 7.7, 7.4, 8.0, 5.7, 8.5, 7.0, 7.8, 7.2, 6.4, 5.5, 6.7, 6.1, 8.5, 6.9, 7.3, 6.7, 6.9, 5.1, 6.8, 5.8, 6.7, 6.0, 5.7, 8.0, 8.2, 5.4, 7.2, 7.5, 7.0, 3.3, 6.0, 7.1, 5.4, 6.1, 5.3, 2.2, 7.0, 3.8, 6.9, 7.2, 7.3, 6.3, 7.5, 7.6, 6.8, 5.2, 7.7, 6.2, 7.7, 4.3, 6.9, 6.6, 7.0, 6.7, 8.2, 8.9, 8.7, 5.5, 5.7, 6.3, 5.9, 7.6, 6.6, 5.3, 6.0, 8.0, 5.6, 5.9, 7.3, 7.9, 6.8, 6.6, 6.6, 7.0, 7.0, 7.3, 5.5, 8.5, 7.5, 7.0, 7.8, 7.6, 7.6, 6.1, 6.8, 5.0, 7.1, 5.5, 5.6, 7.1, 4.9, 7.4, 5.7, 6.4, 5.9, 5.5, 6.9, 6.2, 7.0, 5.6, 7.0, 6.8, 5.4, 6.1, 6.7, 4.3, 6.9, 8.0, 4.4, 7.3, 6.3, 6.7, 7.7, 6.5, 7.8, 6.4, 7.8, 5.8, 7.1, 7.1, 8.6, 6.8, 4.8, 6.2, 6.9, 7.3, 6.6, 6.9, 6.2, 6.7, 7.6, 6.7, 6.2, 7.3, 6.0, 7.1, 7.1, 5.5, 7.8, 5.6, 7.5, 5.4, 4.3, 4.9, 7.1, 6.4, 6.9, 4.3, 6.1, 7.0, 7.7, 5.9, 6.7, 6.5, 7.1, 7.3, 6.5, 7.0, 6.8, 7.2, 6.4, 6.1, 6.7, 6.4, 4.4, 5.4, 6.5, 6.7, 8.1, 5.6, 6.3, 7.3, 6.1, 7.7, 6.4, 8.8, 6.8, 6.6, 7.2, 6.9, 5.2, 4.9, 6.3, 5.6, 5.5, 6.7, 7.6, 5.7, 4.6, 7.0, 5.2, 5.1, 6.6, 7.0, 6.7, 7.6, 7.3, 5.9, 5.6, 6.5, 5.9, 7.0, 5.3, 5.9, 6.3, 6.4, 6.9, 6.3, 7.3, 5.8, 5.2, 2.4, 5.7, 5.8, 5.6, 6.0, 5.8, 6.0, 5.7, 6.0, 7.8, 4.2, 5.6, 4.4, 8.2, 8.5, 5.8, 6.5, 7.2, 6.7, 3.4, 5.9, 7.8, 5.9, 4.1, 6.8, 5.8, 7.5, 6.9, 6.5, 6.9, 7.9, 7.4, 6.7, 7.4, 6.9, 6.8, 6.7, 5.1, 4.1, 7.3, 6.0, 7.3, 7.5, 5.4, 5.9, 7.1, 6.0, 6.5, 8.3, 5.7, 7.6, 6.6, 5.4, 7.3, 6.5, 6.6, 6.6, 5.9, 6.7, 6.1, 6.6, 6.6, 5.3, 6.0, 6.0, 4.7, 6.1, 7.2, 6.4, 6.1, 5.9, 6.0, 6.3, 5.6, 6.4, 7.1, 6.6, 4.6, 8.4, 7.1, 7.4, 6.9, 4.5, 7.1, 6.5, 5.3, 6.7, 7.2, 7.2, 5.5, 5.8, 6.0, 6.6, 8.3, 6.7, 6.0, 7.1, 6.0, 7.5, 6.9, 5.6, 5.6, 4.5, 7.1, 6.5, 6.4, 5.8, 8.0, 6.2, 7.2, 6.1, 7.6, 6.3, 6.3, 6.3, 7.7, 7.0, 5.3, 5.6, 5.2, 5.4, 6.4, 5.9, 6.3, 6.5, 3.0, 3.6, 5.8, 6.2, 5.6, 5.4, 6.1, 4.2, 6.7, 4.2, 6.4, 4.9, 6.8, 7.7, 5.6, 6.4, 7.2, 6.0, 5.9, 7.9, 6.8, 7.1, 5.9, 5.9, 6.2, 7.4, 7.0, 5.4, 8.6, 6.5, 6.4, 7.6, 5.5, 7.4, 8.7, 7.6, 7.5, 5.5, 7.6, 6.5, 6.9, 6.7, 6.6, 7.2, 6.4, 6.4, 6.0, 6.1, 6.0, 6.4, 6.4, 7.3, 5.2, 6.6, 6.3, 5.9, 6.4, 6.7, 5.4, 6.4, 6.7, 6.2, 6.1, 8.8, 7.1, 8.1, 5.7, 5.0, 5.1, 6.9, 4.8, 6.5, 5.1, 7.1, 7.5, 6.2, 6.3, 8.1, 6.6, 6.9, 6.1, 4.3, 6.6, 6.8, 3.8, 5.9, 7.9, 6.3, 5.5, 7.7, 6.3, 7.1, 8.5, 5.9, 5.8, 8.1, 7.9, 7.2, 6.3, 8.1, 7.0, 5.5, 6.7, 5.2, 7.0, 6.1, 6.6, 5.5, 5.9, 5.4, 6.4, 5.7, 6.7, 7.1, 6.8, 6.5, 7.6, 5.5, 6.5, 7.0, 5.8, 7.3, 6.6, 4.4, 7.7, 5.0, 7.7, 4.4, 6.1, 5.4, 6.8, 6.5, 7.0, 6.3, 6.3, 6.1, 6.1, 7.3, 5.3, 5.4, 6.2, 6.6, 5.9, 6.3, 7.2, 6.8, 6.1, 7.8, 5.0, 6.2, 6.7, 4.9, 7.4, 7.1, 6.2, 4.9, 6.1, 6.1, 6.4, 6.3, 6.8, 6.6, 5.7, 5.9, 6.0, 6.1, 6.7, 6.7, 7.9, 5.0, 4.3, 5.7, 6.7, 6.7, 8.1, 6.1, 5.6, 6.6, 6.9, 4.8, 6.2, 6.0, 4.9, 5.6, 6.1, 6.1, 4.8, 5.5, 3.8, 6.5, 6.0, 6.7, 8.1, 4.9, 7.3, 6.4, 6.6, 6.7, 3.6, 5.7, 6.0, 4.9, 4.7, 6.3, 5.9, 5.9, 7.0, 7.5, 5.6, 6.4, 6.3, 4.3, 5.9, 6.7, 5.5, 6.2, 8.8, 5.2, 7.0, 6.6, 7.3, 5.6, 6.6, 5.4, 6.3, 7.9, 6.3, 6.0, 7.2, 5.1, 7.3, 8.0, 6.2, 6.0, 6.7, 8.1, 6.4, 8.4, 8.0, 6.3, 6.4, 6.6, 6.4, 6.0, 6.6, 5.9, 6.4, 6.3, 7.3, 6.8, 7.2, 5.7, 6.0, 6.5, 5.8, 5.8, 6.7, 7.8, 5.6, 5.8, 7.4, 6.9, 5.5, 6.3, 4.7, 5.6, 6.4, 4.2, 6.4, 7.7, 7.7, 5.3, 6.7, 7.7, 5.7, 7.6, 6.4, 5.6, 6.8, 2.4, 6.2, 5.9, 7.1, 7.6, 5.5, 7.0, 7.1, 7.4, 7.6, 5.9, 5.9, 8.0, 7.4, 5.8, 6.3, 5.7, 5.1, 7.6, 6.4, 7.4, 8.2, 6.5, 5.5, 6.5, 5.6, 4.9, 4.6, 7.9, 7.1, 6.9, 7.3, 7.0, 7.7, 6.7, 6.3, 5.8, 7.1, 7.3, 6.4, 7.1, 7.6, 6.8, 6.6, 6.7, 6.1, 6.0, 7.6, 7.1, 5.0, 7.1, 6.2, 5.6, 5.4, 7.4, 5.0, 5.2, 7.6, 6.6, 7.0, 5.7, 8.2, 6.2, 7.9, 6.6, 4.7, 6.3, 6.1, 6.7, 6.1, 7.0, 7.4, 7.3, 5.8, 6.7, 5.8, 7.8, 6.6, 6.5, 6.7, 7.3, 5.8, 5.5, 6.3, 7.4, 5.9, 6.2, 5.9, 6.5, 4.4, 3.5, 6.6, 6.0, 6.4, 6.5, 7.8, 4.3, 4.2, 6.5, 6.1, 6.3, 6.2, 5.9, 5.9, 6.5, 6.4, 6.5, 5.7, 7.5, 8.0, 7.3, 6.7, 7.5, 5.4, 6.6, 7.7, 5.8, 6.4, 5.6, 6.0, 6.2, 5.9, 5.1, 6.8, 7.0, 6.0, 5.1, 5.8, 6.2, 6.4, 4.8, 4.9, 5.6, 5.5, 3.7, 5.9, 8.5, 6.3, 7.4, 7.6, 8.3, 6.6, 6.9, 6.7, 6.8, 4.6, 7.1, 6.4, 6.4, 7.4, 6.4, 6.0, 6.5, 7.8, 6.0, 7.0, 6.0, 7.8, 6.1, 6.8, 6.4, 7.7, 8.1, 4.5, 5.8, 6.3, 5.7, 7.2, 7.6, 4.7, 6.6, 6.8, 7.3, 2.7, 4.8, 6.3, 5.5, 6.2, 5.8, 5.7, 6.5, 6.7, 7.4, 6.9, 5.5, 8.1, 7.7, 7.3, 5.2, 7.1, 7.1, 7.2, 6.5, 4.6, 5.6, 7.7, 7.2, 6.8, 5.4, 6.3, 7.2, 5.6, 6.8, 4.3, 6.3, 6.5, 6.4, 6.3, 5.9, 6.5, 6.5, 6.1, 5.9, 6.6, 7.4, 7.3, 6.6, 5.6, 5.3, 6.0, 5.4, 6.8, 6.4, 7.1, 4.9, 5.8, 7.1, 7.2, 6.0, 6.0, 7.0, 5.4, 6.5, 6.4, 8.3, 4.9, 6.3, 1.7, 7.7, 7.8, 5.5, 7.5, 6.4, 5.6, 7.5, 6.8, 6.8, 6.0, 7.3, 6.0, 7.0, 5.1, 6.8, 6.5, 6.6, 7.2, 7.0, 7.0, 5.9, 5.4, 6.6, 7.0, 6.5, 6.3, 6.5, 6.5, 5.8, 6.6, 5.4, 6.1, 4.0, 7.6, 7.9, 5.3, 6.6, 6.3, 7.5, 7.2, 7.0, 4.9, 6.9, 5.2, 8.1, 6.6, 6.2, 7.2, 7.3, 6.7, 6.4, 7.8, 6.4, 4.1, 4.1, 7.4, 5.8, 7.6, 7.2, 7.8, 7.7, 6.4, 5.1, 5.5, 7.4, 6.0, 7.5, 7.0, 7.5, 7.3, 5.7, 7.3, 7.2, 5.9, 7.8, 7.7, 8.1, 6.6, 7.1, 5.9, 8.0, 4.6, 6.1, 7.2, 6.4, 6.0, 5.2, 7.6, 6.4, 6.4, 6.1, 6.1, 5.2, 7.7, 7.3, 6.9, 8.5, 6.3, 5.9, 7.8, 6.7, 6.4, 5.9, 6.6, 6.8, 6.5, 6.6, 5.8, 6.9, 7.1, 5.8, 7.2, 6.0, 4.7, 5.2, 5.5, 6.5, 7.0, 5.8, 6.2, 6.5, 7.2, 5.1, 4.7, 5.9, 5.8, 7.2, 6.2, 7.4, 5.7, 6.1, 6.0, 6.9, 6.5, 5.0, 5.7, 7.0, 5.1, 5.3, 4.4, 4.7, 6.7, 6.7, 5.7, 7.4, 6.1, 6.4, 6.2, 6.2, 5.9, 4.0, 6.2, 4.6, 6.4, 5.9, 5.1, 7.6, 4.2, 7.8, 5.8, 5.9, 8.4, 4.8, 6.2, 6.5, 6.3, 3.3, 5.9, 6.0, 5.8, 6.5, 4.7, 4.1, 6.8, 6.2, 4.5, 5.8, 7.3, 5.9, 4.4, 5.8, 5.1, 6.9, 6.2, 6.9, 7.3, 7.1, 6.0, 7.0, 6.8, 5.7, 7.6, 8.4, 7.1, 5.6, 6.7, 7.0, 8.0, 5.3, 4.9, 6.4, 7.4, 6.1, 6.5, 5.7, 5.1, 6.6, 6.5, 6.9, 7.8, 6.4, 7.6, 5.6, 6.2, 4.4, 5.6, 5.5, 6.7, 6.1, 6.2, 7.3, 6.6, 8.2, 6.4, 6.4, 5.2, 6.5, 7.1, 4.8, 7.3, 5.2, 7.7, 7.6, 5.7, 7.0, 6.0, 8.1, 8.0, 5.6, 6.1, 6.9, 5.2, 7.0, 6.3, 7.0, 5.3, 6.9, 6.2, 6.4, 6.4, 5.7, 6.1, 5.4, 6.7, 6.8, 6.0, 7.8, 5.3, 4.5, 5.4, 7.8, 7.2, 6.6, 7.6, 5.9, 6.7, 7.7, 5.8, 5.4, 6.9, 7.7, 6.8, 6.4, 5.7, 7.3, 6.8, 6.3, 5.9, 7.4, 8.3, 6.2, 6.3, 5.8, 7.5, 6.3, 6.4, 7.2, 6.3, 6.9, 6.6, 6.0, 7.5, 7.7, 6.2, 5.4, 6.6, 5.3, 5.6, 5.9, 7.8, 6.7, 7.4, 6.2, 5.4, 6.7, 5.3, 5.9, 7.0, 4.8, 7.3, 3.8, 8.5, 6.8, 6.8, 5.3, 7.3, 6.6, 6.2, 5.2, 6.2, 6.2, 6.6, 6.4, 6.2, 5.1, 6.6, 6.1, 6.1, 6.6, 5.9, 6.3, 7.1, 5.0, 5.6, 7.4, 4.5, 6.2, 5.0, 6.5, 5.1, 6.5, 6.2, 6.3, 3.8, 5.2, 6.0, 6.2, 5.7, 6.7, 6.8, 6.0, 7.3, 5.5, 6.7, 4.8, 5.7, 5.1, 6.0, 4.2, 7.4, 4.6, 6.9, 8.6, 6.9, 8.0, 6.4, 6.3, 8.4, 7.1, 6.8, 7.5, 4.5, 5.7, 7.2, 6.8, 5.4, 7.2, 7.3, 5.2, 5.5, 7.7, 7.1, 5.3, 5.6, 5.7, 7.1, 7.5, 7.6, 5.5, 5.1, 6.3, 4.9, 6.5, 5.6, 5.3, 6.5, 6.8, 6.5, 6.0, 8.4, 6.0, 7.6, 5.6, 6.9, 6.4, 5.1, 7.0, 5.7, 6.8, 6.7, 6.2, 7.2, 6.2, 5.6, 4.4, 7.5, 7.1, 6.4, 7.1, 5.9, 6.9, 7.5, 6.3, 6.4, 5.9, 6.8, 6.3, 3.6, 5.3, 5.9, 6.9, 6.9, 6.1, 5.7, 8.5, 6.3, 7.3, 6.3, 7.2, 7.3, 6.3, 8.1, 6.9, 6.3, 7.3, 5.5, 6.1, 6.9, 7.2, 6.4, 6.4, 8.3, 7.2, 6.8, 6.5, 7.8, 7.6, 7.2, 6.7, 6.8, 6.3, 6.2, 6.2, 8.6, 8.0, 7.0, 8.0, 8.1, 6.7, 7.9, 6.1, 4.2, 6.1, 6.6, 7.5, 7.4, 7.2, 6.9, 7.4, 5.4, 6.8, 6.3, 7.2, 8.7, 6.9, 6.0, 5.9, 5.4, 5.9, 6.1, 7.7, 5.8, 7.6, 6.1, 5.4, 5.1, 6.4, 6.3, 7.5, 7.1, 5.2, 7.8, 6.5, 6.6, 5.1, 7.4, 7.2, 7.6, 7.5, 6.6, 7.2, 7.6, 6.2, 5.6, 7.6, 6.6, 7.0, 2.7, 7.6, 6.6, 6.9, 6.8, 7.5, 3.7, 6.1, 5.9, 6.7, 8.5, 6.9, 5.5, 7.1, 7.1, 5.9, 7.3, 3.4, 6.8, 6.9, 7.0, 5.5, 5.1, 6.2, 5.9, 5.2, 6.2, 5.5, 7.4, 4.4, 6.3, 6.1, 5.3, 5.4, 6.7, 5.9, 7.3, 5.5, 5.8, 4.6, 6.7, 5.1, 5.6, 7.0, 6.4, 6.7, 4.1, 5.5, 2.7, 6.4, 4.8, 6.1, 4.8, 7.0, 6.8, 7.3, 8.2, 5.6, 6.1, 7.9, 8.4, 6.5, 7.1, 6.6, 4.0, 7.0, 5.6, 4.8, 7.5, 6.0, 7.2, 5.6, 6.8, 4.9, 7.1, 2.0, 5.7, 4.1, 6.7, 7.5, 6.5, 7.9, 7.6, 6.4, 5.8, 7.7, 7.1, 5.3, 5.3, 7.5, 6.9, 4.9, 7.1, 8.0, 7.9, 7.6, 5.9, 6.3, 7.1, 6.4, 8.2, 6.9, 7.8, 6.7, 7.5, 7.4, 5.2, 6.5, 7.6, 7.3, 6.6, 6.8, 6.9, 5.8, 6.6, 6.7, 6.7, 6.3, 7.7, 6.1, 4.9, 6.2, 7.8, 8.2, 6.9, 6.2, 6.9, 4.8, 8.0, 5.3, 6.7, 5.4, 5.4, 4.9, 6.1, 5.8, 7.0, 6.5, 6.6, 6.1, 5.7, 6.6, 7.0, 7.4, 5.3, 7.4, 7.4, 6.8, 7.9, 7.2, 6.0, 7.8, 6.6, 7.9, 6.2, 5.7, 7.1, 5.6, 7.8, 7.9, 6.9, 7.4, 7.7, 6.9, 8.7, 6.7, 6.0, 6.2, 5.9, 6.8, 3.6, 6.7, 6.3, 6.4, 6.4, 5.7, 6.2, 6.6, 5.2, 6.1, 7.1, 7.2, 6.5, 6.0, 7.0, 7.0, 7.5, 6.6, 8.8, 7.4, 6.5, 6.2, 7.8, 5.2, 6.5, 6.5, 5.2, 7.2, 7.1, 4.5, 5.7, 6.0, 6.4, 5.2, 4.3, 6.1, 6.3, 6.8, 4.0, 5.2, 6.5, 7.5, 7.1, 6.9, 8.0, 8.2, 6.4, 7.9, 6.7, 6.1, 8.9, 8.1, 6.2, 4.9, 5.4, 5.8, 4.7, 6.0, 7.0, 6.0, 7.9, 8.1, 6.2, 6.7, 7.3, 4.6, 6.1, 6.2, 7.8, 6.1, 7.6, 5.8, 6.5, 7.2, 7.8, 4.7, 6.8, 5.9, 7.2, 8.7, 5.0, 6.6, 8.3, 6.7, 7.8, 6.5, 6.1, 8.1, 5.2, 5.6, 5.8, 6.6, 6.6, 5.5, 5.5, 7.0, 6.5, 5.8, 5.6, 5.6, 5.8, 7.6, 6.4, 6.3, 4.6, 6.5, 7.5, 7.5, 5.3, 7.5, 3.3, 5.7, 3.5, 9.3, 4.8, 6.9, 6.0, 7.3, 6.0, 6.6, 7.5, 6.9, 6.8, 8.3, 6.3, 6.4, 5.6, 6.3, 7.3, 6.6, 4.6, 5.1, 5.6, 5.3, 7.5, 5.6, 5.9, 4.7, 4.8, 6.8, 5.4, 5.1, 7.0, 6.7, 4.0, 7.3, 6.8, 6.1, 7.2, 7.0, 7.1, 6.9, 7.3, 6.3, 8.2, 7.1, 7.7, 6.5, 4.9, 6.4, 5.9, 6.2, 5.8, 6.7, 5.9, 7.3, 4.8, 4.1, 4.9, 7.9, 5.6, 5.2, 4.1, 6.6, 2.9, 7.2, 6.5, 6.8, 7.2, 6.8, 7.8, 6.7, 6.1, 7.1, 5.7, 2.9, 5.2, 5.3, 6.2, 7.3, 6.5, 4.1, 7.7, 6.1, 7.3, 7.2, 5.3, 6.1, 5.8, 5.7, 6.7, 6.5, 7.2, 7.6, 4.6, 6.9, 6.6, 6.3, 6.2, 5.3, 7.3, 5.6, 6.2, 5.2, 5.3, 5.4, 4.9, 5.5, 6.7, 3.9, 7.2, 5.1, 6.5, 8.2, 7.7, 7.2, 6.1, 8.8, 6.8, 6.8, 6.7, 7.1, 7.1, 6.1, 8.0, 7.5, 6.6, 5.4, 6.1, 6.1, 5.6, 5.8, 2.8, 6.7, 5.1, 7.2, 6.0, 7.2, 6.7, 6.3, 6.2, 6.8, 6.2, 6.9, 6.8, 7.1, 7.1, 7.0, 7.1, 6.4, 7.0, 6.2, 7.5, 4.8, 8.1, 7.3, 5.8, 7.6, 5.6, 7.0, 6.6, 6.5, 7.4, 4.6, 6.4, 6.0, 6.4, 5.9, 6.4, 6.6, 6.9, 6.9, 5.8, 6.4, 5.3, 6.5, 5.7, 6.7, 3.9, 4.1, 6.2, 3.8, 5.1, 6.4, 7.8, 7.8, 6.1, 5.8, 6.3, 7.7, 5.4, 7.3, 6.8, 7.3, 6.5, 7.2, 6.7, 6.3, 5.9, 7.8, 7.4, 4.8, 6.3, 7.8, 7.5, 6.0, 6.8, 6.6, 4.6, 2.9, 7.1, 6.1, 6.7, 7.1, 5.8, 6.7, 5.8, 6.8, 8.5, 6.6, 7.7, 4.7, 6.4, 5.5, 8.6, 7.0, 7.1, 5.7, 3.7, 7.5, 4.6, 4.9, 6.9, 7.1, 5.8, 7.0, 5.4, 7.3, 7.1, 5.8, 8.1, 5.7, 4.4, 7.9, 7.6, 4.8, 7.8, 6.7, 2.7, 5.8, 7.5, 5.4, 4.1, 5.9, 6.3, 7.0, 6.8, 3.5, 2.3, 6.9, 8.1, 6.1, 5.0, 5.5, 6.2, 6.2, 5.9, 6.3, 6.7, 3.5, 7.5, 6.6, 7.5, 7.2, 4.8, 6.6, 3.5, 6.7, 7.6, 6.3, 5.5, 6.3, 6.5, 5.6, 6.9, 7.6, 3.9, 6.1, 7.3, 8.3, 5.8, 6.8, 7.0, 5.9, 6.5, 6.4, 5.8, 5.1, 6.8, 5.3, 5.3, 6.4, 4.9, 6.8, 7.1, 6.8, 6.1, 7.0, 8.5, 5.9, 6.3, 5.9, 5.4, 7.0, 6.9, 7.5, 8.2, 5.9, 5.0, 7.3, 6.4, 6.6, 7.8, 6.7, 4.0, 7.6, 7.7, 5.8, 5.2, 5.6, 5.3, 7.4, 6.6, 6.2, 1.9, 5.7, 6.6, 6.0, 6.1, 4.8, 6.2, 7.5, 6.3, 7.1, 6.6, 6.1, 6.7, 5.6, 7.2, 4.3, 6.4, 7.1, 6.3, 7.4, 6.1, 6.6, 6.0, 6.8, 7.4, 6.8, 7.2, 1.9, 5.5, 4.5, 6.3, 7.0, 6.7, 2.8, 5.0, 7.5, 4.3, 5.6, 6.2, 5.3, 7.4, 7.4, 6.5, 7.1, 7.2, 2.3, 6.4, 6.1, 7.0, 6.5, 7.0, 7.0, 4.9, 6.9, 7.5, 8.4, 6.9, 4.5, 7.4, 7.0, 2.8, 7.5, 7.1, 6.4, 6.7, 5.3, 6.9, 6.2, 6.3, 6.4, 6.5, 6.0, 5.1, 5.5, 7.2, 5.4, 5.7, 5.2, 6.2, 6.7, 5.8, 7.0, 4.8, 7.2, 5.6, 6.4, 7.5, 7.4, 8.0, 5.7, 6.8, 5.9, 7.2, 5.5, 8.4, 8.5, 5.6, 4.1, 5.0, 6.1, 5.4, 7.1, 6.6, 3.6, 6.5, 8.6, 6.2, 7.0, 7.6, 6.5, 6.4, 6.7, 6.3, 6.4, 5.7, 6.3, 7.8, 6.0, 7.7, 6.2, 5.7, 7.7, 6.4, 6.4, 6.9, 7.3, 7.3, 6.2, 6.6, 6.7, 5.7, 3.1, 6.3, 5.7, 7.1, 7.0, 6.1, 6.6, 7.8, 8.3, 3.9, 7.0, 6.7, 7.3, 7.5, 6.3, 7.8, 7.3, 7.6, 5.3, 7.9, 5.3, 6.8, 7.1, 7.2, 5.8, 5.8, 8.3, 5.6, 6.8, 5.0, 7.6, 6.7, 6.7, 5.7, 5.2, 7.5, 7.2, 5.3, 6.5, 5.0, 6.1, 7.4, 4.4, 7.5, 5.7, 5.5, 7.1, 5.9, 6.7, 7.0, 7.9, 6.9, 7.3, 7.3, 3.5, 7.8, 7.4, 6.7, 6.4, 7.1, 6.7, 7.8, 4.0, 5.9, 7.2, 7.2, 5.1, 7.7, 5.5, 6.2, 7.2, 5.2, 6.7, 6.3, 5.0, 6.2, 7.6, 4.1, 5.3, 6.2, 6.5, 8.1, 6.3, 4.4, 4.6, 6.0, 7.6, 8.4, 7.9, 5.6, 6.5, 7.5, 6.3, 7.9, 7.9, 5.1, 6.7, 6.7, 5.6, 5.6, 6.8, 6.2, 5.6, 6.4, 5.6, 7.4, 4.9, 6.0, 7.2, 4.9, 7.5, 4.8, 3.1, 5.8, 6.7, 6.8, 6.5, 5.9, 5.5, 3.6, 3.3, 7.4, 6.7, 3.0, 7.6, 6.4, 6.9, 6.6, 5.5, 6.6, 5.2, 4.1, 6.8, 6.5, 7.6, 7.4, 7.7, 7.1, 6.3, 7.6, 8.0, 7.3, 7.6, 7.8, 6.5, 6.4, 8.0, 4.8, 7.8, 5.9, 5.4, 3.3, 8.2, 6.6, 5.4, 6.4, 4.8, 5.9, 5.5, 7.9, 4.9, 7.2, 6.6, 6.7, 5.3, 7.2, 5.1, 5.6, 7.6, 3.1, 7.2, 5.7, 5.2, 7.7, 7.0, 3.6, 4.9, 6.0, 6.6, 6.8, 7.2, 7.2, 2.8, 6.6, 6.7, 7.0, 4.4, 7.1, 6.2, 7.3, 5.1, 8.1, 6.7, 6.6, 4.5, 8.1, 6.6, 6.5, 5.9, 6.6, 6.5, 7.3, 7.5, 5.9, 7.4, 6.9, 7.9, 8.4, 8.0, 6.0, 7.3, 6.8, 7.8, 5.7, 6.1, 8.1, 6.1, 7.5, 6.2, 6.2, 7.9, 7.4, 6.6, 7.3, 7.5, 5.6, 7.3, 6.4, 5.0, 5.4, 8.2, 7.1, 5.3, 6.5, 6.2, 6.4, 7.2, 6.9, 5.7, 7.7, 5.4, 5.6, 7.7, 5.1, 6.8, 8.4, 4.9, 7.1, 6.6, 6.1, 4.1, 5.8, 8.1, 7.6, 7.8, 4.6, 6.0, 7.0, 6.7, 6.4, 7.2, 7.4, 4.8, 4.0, 6.2, 7.7, 6.7, 7.9, 7.9, 5.5, 6.2, 5.1, 4.1, 6.7, 4.7, 6.4, 6.3, 5.5, 7.3, 6.3, 4.9, 7.6, 6.0, 6.2, 6.8, 4.5, 5.7, 8.4, 4.6, 6.2, 7.0, 6.9, 6.1, 6.7, 5.6, 6.6, 6.4, 2.8, 5.4, 5.0, 5.1, 8.0, 5.9, 7.5, 8.2, 7.0, 6.6, 6.7, 5.5, 4.9, 6.9, 7.4, 5.6, 8.0, 5.3, 6.2, 5.3, 6.6, 7.2, 4.6, 7.5, 6.5, 7.6, 6.2, 8.0, 5.5, 6.3, 7.2, 7.9, 6.7, 5.3, 6.3, 6.5, 5.6, 7.0, 8.3, 7.2, 6.8, 6.4, 6.9, 8.0, 6.2, 6.4, 5.6, 6.1, 6.0, 5.1, 4.5, 5.9, 6.0, 5.8, 6.1, 4.9, 5.7, 7.1, 6.6, 8.1, 5.7, 6.8, 7.5, 6.2, 8.3, 7.4, 8.0, 6.9, 6.9, 9.5, 5.5, 5.7, 7.2, 6.9, 5.5, 5.9, 7.7, 5.2, 7.1, 6.6, 5.5, 7.7, 5.4, 6.7, 5.0, 6.4, 6.6, 5.9, 5.7, 4.5, 3.7, 5.0, 4.6, 6.5, 4.9, 6.0, 6.9, 5.7, 6.7, 6.9, 5.5, 4.4, 5.4, 7.0, 5.4, 5.4, 8.0, 7.6, 5.9, 6.6, 6.7, 3.9, 5.7, 6.7, 6.5, 6.8, 6.3, 7.3, 6.9, 7.0, 6.5, 3.6, 7.7, 7.7, 5.9, 6.8, 7.4, 5.1, 9.1, 7.4, 7.2, 6.0, 7.4, 8.3, 8.1, 6.3, 7.3, 3.6, 1.6, 8.0, 6.2, 9.0, 6.1, 5.7, 6.8, 5.5, 6.8, 7.3, 6.1, 7.2, 5.9, 6.1, 6.8, 7.7, 4.9, 6.1, 2.5, 6.1, 5.9, 5.7, 5.6, 7.2, 7.7, 7.8, 6.1, 5.8, 6.5, 7.9, 6.3, 3.8, 8.3, 6.4, 6.7, 6.1, 8.1, 6.0, 5.8, 5.6, 6.1, 5.9, 7.3, 6.8, 5.7, 7.3, 6.3, 5.9, 7.1, 7.1, 8.0, 5.1, 7.1, 6.5, 4.5, 6.6, 4.3, 6.7, 6.8, 5.4, 6.6, 7.4, 7.3, 6.9, 8.0, 6.4, 7.8, 6.1, 6.1, 5.1, 7.8, 7.4, 7.8, 8.0, 6.7, 6.6, 6.4, 6.7, 6.2, 7.3, 8.1, 7.0, 8.0, 8.0, 7.0, 7.9, 5.9, 6.6, 6.3, 7.7, 6.9, 7.1, 7.4, 6.5, 6.5, 6.8, 7.5, 6.6, 7.1, 6.6, 7.0, 3.3, 6.7, 8.0, 6.8, 6.0, 5.4, 4.3, 6.2, 7.7, 8.0, 7.4, 5.9, 7.8, 7.4, 6.5, 5.4, 7.0, 8.6, 7.6, 6.9, 7.0, 5.3, 6.4, 4.5, 7.8, 6.7, 5.3, 6.3, 7.0, 5.3, 6.6, 5.8, 6.7, 6.6, 7.0, 8.4, 6.0, 5.4, 7.8, 7.6, 6.6, 6.4, 7.0, 5.7, 5.9, 6.3, 6.3, 6.2, 2.1, 5.0, 5.3, 7.1, 7.0, 7.0, 5.7, 7.1, 7.0, 7.7, 7.1, 6.8, 7.5, 6.3, 7.3, 6.8, 7.2, 6.4, 6.0, 6.4, 5.1, 7.5, 7.1, 4.6, 5.7, 6.8, 7.7, 6.7, 3.2, 6.1, 5.6, 6.9, 7.5, 5.8, 8.3, 2.8, 6.6, 7.5, 6.0, 6.2, 7.2, 8.7, 6.0, 8.0, 7.2, 4.5, 7.9, 7.1, 7.5, 6.8, 4.3, 7.2, 5.8, 7.1, 7.4, 7.6, 6.9, 6.0, 6.9, 7.3, 4.6, 6.0, 6.4, 5.5, 7.5, 8.1, 6.3, 5.1, 6.8, 5.3, 7.3, 7.3, 7.1, 7.6, 5.3, 7.8, 7.7, 7.7, 5.4, 6.2, 7.4, 6.2, 5.1, 6.9, 6.3, 6.8, 7.4, 5.7, 5.8, 6.2, 4.3, 6.4, 6.0, 6.9, 5.5, 5.4, 8.3, 7.9, 6.5, 6.3, 6.4, 7.9, 5.3, 5.8, 6.6, 7.4, 8.3, 5.3, 6.2, 6.9, 5.9, 6.1, 5.8, 7.3, 5.9, 5.5, 5.0, 7.0, 7.8, 6.4, 5.9, 7.0, 6.1, 6.9, 7.5, 7.3, 6.5, 6.2, 6.7, 6.0, 6.3, 5.8, 6.1, 6.9, 8.3, 5.4, 6.7, 7.4, 5.6, 6.5, 6.5, 5.8, 5.0, 5.5, 6.5, 7.2, 7.3, 7.2, 5.2, 5.7, 4.7, 5.9, 6.8, 5.9, 5.3, 6.0, 7.7, 4.4, 6.6, 6.7, 5.5, 6.5, 6.2, 7.1, 6.1, 7.1, 6.0, 7.4, 5.9, 4.1, 5.8, 5.9, 7.0, 6.8, 7.4, 7.1, 7.0, 5.8, 7.8, 6.5, 7.0, 6.3, 5.3, 6.8, 5.5, 7.4, 4.3, 6.0, 5.2, 6.7, 6.3, 7.9, 8.6, 6.1, 5.8, 7.7, 8.0, 5.6, 6.7, 6.6, 4.2, 6.6, 4.1, 7.3, 7.1, 6.5, 7.0, 5.5, 6.6, 7.1, 7.9, 7.1, 5.6, 7.3, 3.3, 6.5, 4.8, 5.2, 6.3, 7.2, 6.8, 5.7, 7.2, 6.9, 9.1, 6.3, 6.2, 6.7, 6.5, 7.2, 5.3, 6.7, 6.2, 3.6, 5.7, 7.3, 5.0, 6.6, 6.6, 6.8, 6.2, 7.3, 6.2, 6.9, 6.6, 6.3, 7.0, 3.3, 6.7, 6.2, 6.5, 3.5, 5.5, 5.9, 4.7, 4.2, 5.2, 5.2, 3.9, 6.1, 5.8, 6.7, 5.7, 4.5, 6.9, 4.8, 6.3, 6.9, 5.4, 3.8, 7.0, 5.2, 7.3, 4.6, 6.5, 6.8, 6.7, 6.1, 5.2, 6.9, 6.0, 7.9, 4.5, 5.1, 7.6, 7.6, 6.7, 6.1, 7.5, 5.3, 6.0, 7.1, 7.5, 6.9, 8.5, 7.5, 6.6, 8.0, 7.0, 5.8, 7.3, 6.8, 6.7, 6.5, 8.0, 6.5, 4.9, 7.1, 7.0, 7.0, 7.5, 4.5, 5.5, 7.7, 7.2, 4.8, 6.7, 7.0, 6.5, 7.4, 3.5, 5.7, 6.2, 5.7, 6.4, 7.0, 7.7, 5.4, 6.6, 6.1, 6.1, 7.6, 6.2, 6.6, 6.1, 7.3, 4.2, 7.1, 6.0, 6.5, 6.5, 5.7, 6.1, 7.1, 7.3, 6.5, 7.9, 5.7, 7.2, 7.3, 6.9, 5.0, 5.9, 6.7, 7.3, 7.6, 6.5, 2.1, 5.3, 7.2, 7.0, 8.0, 6.5, 6.9, 7.1, 7.3, 7.5, 6.9, 7.2, 7.2, 6.7, 6.0, 8.9, 7.7, 7.9, 5.6, 8.0, 6.2, 7.9, 8.1, 7.6, 3.5, 7.6, 6.5, 5.6, 7.7, 5.2, 6.9, 6.1, 5.0, 7.8, 7.4, 6.8, 7.1, 6.4, 5.7, 7.5, 6.7, 5.6, 7.0, 7.6, 6.5, 7.0, 6.3, 6.4, 7.1, 7.1, 6.5, 6.9, 5.4, 4.9, 5.1, 5.3, 7.5, 8.3, 7.3, 7.3, 7.1, 6.0, 6.6, 7.2, 7.2, 6.9, 6.8, 4.0, 7.7, 7.4, 6.5, 6.4, 7.2, 5.6, 6.3, 6.8, 5.5, 6.9, 6.0, 7.7, 6.4, 6.6, 5.3, 8.1, 5.9, 7.7, 4.6, 5.1, 6.9, 8.0, 6.8, 5.4, 6.5, 4.2, 7.4, 6.9, 6.7, 7.3, 7.6, 5.4, 7.3, 6.4, 6.0, 7.2, 6.0, 3.1, 6.9, 6.2, 5.5, 6.9, 6.3, 4.8, 7.9, 6.7, 5.6, 5.4, 8.0, 5.7, 7.6, 7.0, 7.2, 6.2, 3.5, 7.5, 5.1, 6.7, 9.2, 6.1, 7.7, 7.6, 6.1, 4.9, 6.8, 7.0, 7.2, 5.7, 7.3, 7.5, 7.4, 7.2, 6.5, 9.0, 6.8, 6.8, 5.2, 7.2, 7.5, 4.0, 6.8, 6.9, 8.2, 7.3, 6.1, 7.8, 6.0, 4.1, 7.0, 7.1, 6.2, 6.9, 7.6, 7.6, 6.4, 6.2, 7.5, 2.0, 6.2, 7.7, 6.5, 7.4, 7.9, 6.8, 6.3, 6.3, 6.6, 6.4, 7.5, 5.8, 6.5, 4.8, 7.2, 6.3, 7.0, 6.3, 5.3, 2.3, 7.1, 6.2, 6.2, 6.7, 6.5, 5.9, 6.7, 6.0, 6.9, 7.9, 5.3, 4.8, 5.3, 6.0, 7.3, 7.4, 7.7, 4.8, 7.2, 5.8, 7.3, 7.0, 6.4, 5.6, 8.2, 6.5, 6.4, 8.1, 5.4, 6.3, 7.8, 6.8, 7.2, 7.1, 6.2, 7.3, 5.9, 7.2, 3.6, 7.7, 7.3, 7.4, 6.6, 6.9, 6.8, 7.3, 7.2, 6.5, 7.7, 8.1, 7.7, 7.6, 7.3, 8.7, 7.2, 7.2, 8.1, 7.5, 8.1, 7.8, 7.8, 5.8, 7.6, 7.4, 6.3, 6.9, 8.6, 5.1, 6.4, 7.9, 6.9, 7.5, 7.2, 5.8, 2.9, 6.2, 7.3, 6.2, 8.2, 6.8, 6.1, 7.7, 5.2, 6.8, 6.5, 7.0, 5.9, 7.1, 5.5, 7.4, 7.3, 4.6, 7.2, 7.0, 5.1, 6.7, 5.3, 8.4, 7.8, 6.7, 5.4, 7.2, 5.8, 6.4, 8.0, 7.0, 7.0, 6.7, 3.8, 5.7, 6.6, 6.7, 6.1, 6.2, 6.2, 7.4, 4.7, 8.3, 7.2, 5.8, 5.9, 6.3, 7.2, 5.4, 8.2, 7.3, 7.3, 5.8, 6.1, 7.1, 6.5, 7.9, 5.4, 7.1, 6.4, 8.4, 6.7, 6.9, 2.1, 4.3, 6.6, 3.4, 8.3, 7.2, 5.6, 7.7, 6.6, 7.6, 7.4, 7.1, 3.4, 7.9, 6.7, 6.6, 7.9, 4.9, 7.2, 7.4, 6.1, 8.4, 6.2, 5.3, 5.0, 7.7, 7.6, 6.3, 7.6, 5.6, 7.3, 6.2, 6.6, 6.6, 7.3, 6.6, 6.9, 5.8, 4.4, 6.6, 7.1, 7.6, 4.6, 6.8, 7.1, 4.9, 7.3, 7.2, 5.0, 8.2, 8.0, 5.2, 8.5, 6.5, 7.4, 7.7, 7.4, 5.1, 7.3, 5.0, 7.2, 6.7, 6.4, 7.1, 5.6, 6.2, 6.1, 5.2, 7.3, 7.5, 6.6, 6.4, 4.5, 6.6, 5.3, 4.9, 7.7, 8.0, 3.8, 7.6, 5.9, 6.2, 7.2, 6.3, 5.2, 6.9, 6.8, 6.2, 6.2, 3.5, 6.1, 6.6, 4.5, 5.9, 6.9, 7.7, 6.6, 5.3, 6.3, 7.0, 7.0, 6.6, 8.6, 6.4, 7.9, 5.4, 6.9, 7.7, 7.2, 6.8, 6.2, 7.4, 4.6, 6.4, 7.0, 7.7, 6.8, 7.0, 7.0, 6.3, 7.1, 5.6, 4.4, 7.1, 6.1, 7.4, 7.5, 7.2, 7.6, 7.3, 6.2, 6.2, 4.6, 6.2, 6.2, 3.3, 7.5, 4.2, 7.2, 6.2, 6.1, 4.2, 4.5, 8.4, 7.5, 6.7, 5.1, 5.5, 4.4, 4.4, 6.8, 6.7, 8.6, 4.8, 3.4, 7.4, 7.3, 8.0, 6.5, 5.9, 6.8, 7.4, 6.7, 6.8, 5.4, 5.5, 7.4, 5.7, 5.4, 3.2, 7.1, 7.8, 5.3, 7.2, 6.2, 5.9, 7.3, 6.7, 5.7, 7.1, 7.2, 7.4, 7.7, 7.7, 7.4, 8.4, 7.1, 7.2, 7.5, 5.4, 8.1, 6.0, 7.8, 6.8, 6.5, 7.7, 6.4, 6.5, 7.3, 6.6, 7.9, 5.9, 4.7, 8.7, 5.9, 6.7, 8.5, 8.4, 5.8, 6.1, 7.3, 6.7, 7.6, 7.2, 6.2, 5.8, 5.2, 8.1, 7.1, 6.5, 7.3, 6.2, 5.0, 8.0, 7.8, 8.1, 6.7, 6.1, 7.1, 5.6, 7.6, 4.3, 7.3, 7.3, 4.6, 6.8, 7.5, 7.1, 7.3, 8.3, 5.4, 4.0, 8.0, 6.7, 5.7, 4.6, 4.0, 7.0, 7.4, 5.9, 4.6, 4.8, 7.5, 4.7, 6.7, 6.3, 6.0, 6.7, 7.1, 2.7, 7.3, 7.6, 5.8, 6.5, 6.6, 6.2, 6.9, 8.5, 4.8, 6.6, 5.7, 7.0, 5.4, 7.1, 6.9, 6.6, 5.9, 6.3, 6.3, 7.7, 7.0, 6.3, 5.9, 6.2, 5.0, 7.7, 6.5, 6.1, 5.8, 6.1, 6.0, 6.3, 6.3, 7.5, 7.6, 5.2, 7.8, 6.6, 4.7, 6.7, 4.2, 6.3, 4.7, 6.0, 7.9, 8.1, 8.2, 6.0, 6.8, 7.3, 7.0, 7.3, 7.5, 6.8, 7.1, 6.9, 6.9, 6.9, 8.4, 7.9, 7.2, 7.8, 3.5, 7.3, 7.5, 7.8, 6.0, 7.3, 8.0, 7.6, 7.0, 7.5, 6.8, 3.9, 6.1, 7.5, 8.2, 7.2, 4.8, 7.8, 5.2, 3.3, 6.8, 7.0, 6.5, 5.7, 6.4, 5.3, 4.7, 6.1, 5.5, 7.3, 4.8, 8.4, 7.0, 3.3, 5.4, 4.8, 3.1, 6.7, 7.6, 7.1, 6.1, 6.5, 8.5, 8.7, 7.1, 6.6, 6.7, 8.3, 8.1, 7.4, 6.6, 4.5, 6.4, 7.5, 8.0, 8.1, 7.2, 7.5, 7.2, 6.4, 7.6, 7.8, 5.7, 8.6, 8.2, 6.6, 5.7, 7.4, 8.0, 7.3, 5.4, 7.4, 5.7, 6.8, 5.4, 8.1, 6.1, 5.1, 5.6, 5.9, 8.2, 5.3, 6.8, 8.3, 4.3, 6.7, 7.2, 6.9, 6.6, 5.9, 7.9, 8.3, 5.2, 7.8, 7.8, 3.0, 7.9, 3.2, 6.5, 6.9, 7.0, 7.4, 7.8, 6.9, 4.4, 6.0, 6.6, 7.8, 5.3, 5.3, 8.0, 7.1, 5.4, 6.9, 7.4, 7.3, 7.8, 6.6, 5.4, 8.4, 6.3, 6.1, 5.0, 6.9, 7.2, 7.3, 5.7, 5.0, 5.3, 7.9, 5.0, 5.3, 6.0, 7.6, 7.4, 5.9, 4.1, 6.7, 5.8, 6.2, 5.3, 3.3, 6.5, 6.2, 5.9, 5.5, 5.5, 2.6, 5.8, 7.4, 5.1, 5.2, 4.8, 3.9, 6.2, 7.0, 6.2, 5.9, 8.0, 7.3, 4.9, 6.5, 4.3, 6.4, 7.6, 6.8, 6.1, 4.0, 7.4, 8.3, 5.3, 8.1, 8.0, 5.7, 8.2, 7.1, 7.4, 6.6, 5.7, 6.9, 7.0, 7.0, 7.8, 5.9, 7.4, 7.8, 6.0, 5.3, 7.9, 7.2, 7.4, 5.3, 8.3, 7.6, 5.1, 5.1, 4.9, 6.9, 4.6, 6.3, 7.9, 6.7, 7.1, 7.6, 8.1, 6.6, 7.0, 7.6, 6.7, 7.1, 7.6, 7.1, 7.1, 7.7, 7.6, 6.6, 6.7, 5.7, 7.1, 6.2, 6.1, 5.9, 6.8, 5.8, 5.0, 6.3, 6.8, 5.1, 6.6, 5.0, 7.7, 3.1, 6.5, 3.9, 6.8, 7.0, 5.9, 5.8, 7.3, 7.8, 7.8, 6.9, 5.7, 4.7, 5.9, 5.9, 4.3, 7.5, 4.8, 5.8, 5.3, 6.0, 8.1, 7.0, 7.6, 7.2, 7.5, 6.3, 6.7, 4.8, 5.5, 7.5, 5.1, 7.4, 7.3, 6.9, 6.8, 8.4, 7.6, 7.6, 7.7, 7.6, 5.3, 8.5, 7.0, 8.0, 7.1, 7.8, 7.2, 7.5, 8.0, 8.1, 6.8, 7.4, 7.2, 8.1, 7.0, 7.4, 8.3, 6.1, 7.5, 7.0, 5.3, 4.7, 5.7, 8.1, 7.8, 6.5, 8.0, 3.3, 8.3, 6.9, 7.3, 8.1, 6.5, 6.8, 7.3, 6.4, 4.6, 6.5, 7.0, 5.4, 6.7, 2.8, 7.4, 5.8, 7.1, 4.5, 7.9, 5.3, 5.4, 4.8, 5.9, 6.2, 5.9, 6.6, 6.6, 5.1, 6.0, 6.8, 5.4, 5.2, 7.8, 6.4, 6.1, 5.7, 5.5, 7.4, 7.1, 3.9, 4.6, 7.3, 7.7, 4.9, 6.3, 6.1, 6.6, 5.7, 5.6, 6.0, 5.7, 7.0, 5.3, 4.4, 3.4, 4.5, 3.4, 7.1, 6.4, 5.2, 7.0, 7.3, 8.1, 5.8, 5.9, 6.4, 7.5, 7.8, 6.3, 7.2, 5.6, 7.2, 8.0, 8.5, 6.8, 7.3, 5.5, 7.3, 6.3, 5.1, 6.6, 6.1, 7.5, 7.0, 7.2, 5.3, 8.7, 3.4, 5.4, 7.8, 6.7, 4.7, 6.3, 7.4, 6.1, 7.5, 6.3, 6.3, 6.8, 7.8, 6.9, 8.0, 7.8, 7.4, 6.1, 4.3, 3.5, 7.2, 4.7, 7.3, 7.9, 5.1, 7.2, 5.4, 3.7, 7.4, 7.1, 6.8, 8.2, 7.0, 7.4, 6.7, 5.7, 9.1, 7.6, 7.2, 7.5, 6.8, 6.9, 7.9, 7.6, 6.7, 5.8, 6.5, 7.2, 6.9, 5.5, 6.5, 6.2, 6.7, 5.7, 8.6, 6.5, 6.3, 4.3, 6.1, 6.0, 5.8, 6.7, 6.7, 7.6, 5.1, 6.8, 6.8, 6.8, 6.3, 7.1, 2.8, 8.2, 3.1, 7.0, 3.3, 3.6, 7.7, 6.7, 5.5, 6.6, 4.8, 5.5, 6.3, 6.9, 6.5, 8.2, 7.1, 7.3, 8.1, 7.2, 7.4, 6.5, 5.7, 6.1, 7.7, 8.7, 4.3, 6.2, 3.3, 2.7, 5.2, 8.2, 6.1, 8.0, 5.5, 5.7, 3.7, 7.1, 7.8, 7.3, 4.1, 7.2, 7.7, 7.1, 7.6, 7.0, 5.5, 7.4, 7.7, 7.2, 7.8, 6.6, 6.0, 8.4, 6.5, 8.9, 7.9, 6.0, 6.1, 7.4, 6.2, 5.6, 7.2, 6.1, 3.8, 7.1, 4.5, 3.8, 6.2, 6.6, 4.6, 4.2, 6.8, 7.7, 7.1, 5.9, 4.7, 7.0, 6.9, 6.1, 7.6, 3.0, 2.6, 8.6, 6.1, 7.5, 6.7, 8.1, 4.9, 6.8, 6.8, 5.7, 8.3, 6.6, 7.3, 5.0, 7.0, 3.4, 5.9, 6.0, 7.4, 7.4, 4.2, 6.2, 6.2, 7.5, 7.2, 7.2, 5.4, 7.0, 7.2, 7.9, 6.8, 6.7, 7.5, 6.8, 6.9, 6.8, 7.2, 7.4, 5.6, 6.8, 7.2, 7.7, 7.0, 7.2, 6.4, 7.2, 7.2, 6.2, 6.9, 6.2, 6.9, 7.0, 6.7, 3.6, 6.3, 7.4, 7.4, 7.3, 6.1, 6.7, 8.2, 7.7, 7.3, 7.4, 5.7, 7.6, 6.8, 5.6, 4.8, 6.4, 6.8, 6.1, 5.2, 6.9, 6.0, 6.3, 6.1, 5.5, 6.9, 5.6, 1.9, 4.1, 5.4, 6.8, 7.0, 6.7, 5.8, 6.2, 2.8, 7.3, 5.8, 6.5, 6.1, 5.1, 2.2, 7.2, 5.7, 3.4, 3.8, 4.7, 5.6, 3.9, 5.4, 5.2, 3.5, 5.3, 7.0, 7.1, 5.5, 5.9, 6.0, 4.8, 7.1, 8.2, 5.7, 7.9, 7.3, 7.1, 6.4, 5.9, 7.5, 6.4, 7.4, 7.3, 6.5, 7.2, 6.7, 7.1, 6.0, 6.7, 5.6, 7.0, 4.9, 3.2, 8.4, 6.9, 7.5, 7.2, 7.2, 8.0, 7.4, 7.2, 6.5, 7.2, 4.2, 5.1, 6.4, 6.8, 6.2, 7.5, 7.7, 6.9, 7.0, 7.5, 6.3, 5.5, 4.8, 8.1, 6.6, 5.2, 5.6, 3.1, 8.1, 8.3, 7.1, 8.1, 7.2, 6.3, 4.0, 7.2, 5.3, 7.2, 6.5, 6.5, 4.9, 5.2, 7.4, 7.4, 5.4, 3.9, 5.3, 7.8, 6.4, 8.1, 6.5, 5.6, 5.6, 6.6, 6.3, 7.7, 7.0, 8.0, 7.2, 4.5, 7.7, 7.2, 6.1, 6.4, 6.5, 7.0, 6.1, 5.7, 5.4, 5.9, 7.5, 7.7, 7.1, 7.4, 7.6, 6.4, 7.4, 6.8, 6.5, 6.0, 7.3, 7.3, 6.5, 6.0, 5.3, 6.6, 6.1, 7.1, 8.7, 8.4, 5.8, 6.2, 5.8, 6.7, 5.7, 6.1, 6.4, 5.0, 6.5, 4.6, 7.7, 7.3, 6.6, 6.4, 5.8, 7.2, 7.2, 3.5, 7.5, 2.2, 3.3, 6.6, 6.9, 4.0, 7.4, 8.3, 5.7, 6.8, 5.2, 6.4, 6.2, 5.9, 7.7, 4.3, 7.1, 6.2, 6.8, 7.7, 8.2, 7.5, 7.6, 4.1, 6.9, 7.1, 6.3, 7.7, 8.3, 7.1, 4.7, 7.7, 7.2, 5.1, 5.4, 6.9, 8.2, 6.1, 6.1, 6.9, 5.8, 6.0, 8.2, 8.0, 7.0, 6.3, 7.6, 6.1, 7.2, 7.8, 4.7, 7.5, 6.7, 3.4, 7.9, 8.9, 6.9, 8.2, 7.3, 8.0, 6.7, 6.6, 6.9, 7.1, 5.6, 6.7, 7.1, 5.2, 7.7, 7.5, 7.6, 8.1, 5.5, 6.6, 3.2, 7.4, 6.6, 6.2, 4.8, 4.5, 7.2, 4.3, 4.5, 6.4, 6.4, 7.3, 6.9, 4.3, 7.2, 6.5, 6.6, 6.7, 4.3, 7.3, 6.4, 7.0, 5.5, 6.7, 4.3, 6.1, 6.8, 3.9, 8.5, 6.9, 7.3, 6.9, 6.3, 2.5, 5.7, 7.0, 6.2, 6.9, 4.5, 7.8, 4.4, 7.4, 6.6, 8.0, 8.3, 6.5, 7.1, 7.1, 4.0, 7.5, 7.0, 4.0, 6.7, 7.2, 7.0, 7.4, 8.0, 6.5, 7.2, 6.4, 6.5, 6.8, 6.9, 7.5, 7.1, 5.1, 6.2, 3.9, 6.0, 6.8, 7.4, 8.1, 6.5, 8.0, 7.7, 7.2, 5.4, 6.7, 6.3, 8.1, 8.5, 7.7, 6.5, 8.7, 6.5, 7.0, 5.8, 5.5, 7.0, 6.3, 7.9, 7.3, 7.4, 5.4, 7.1, 7.5, 8.4, 7.0, 5.3, 7.1, 7.5, 6.1, 7.2, 6.7, 8.2, 6.6, 6.7, 5.1, 7.0, 7.0, 8.0, 7.4, 5.4, 5.7, 6.7, 4.2, 7.4, 4.8, 7.0, 7.3, 5.8, 7.0, 3.2, 6.8, 7.7, 5.6, 7.1, 3.6, 6.8, 7.6, 6.6, 8.3, 7.5, 5.4, 5.3, 4.5, 7.3, 5.6, 5.6, 4.1, 6.8, 6.3, 5.8, 6.6, 6.7, 6.4, 6.3, 3.4, 4.7, 6.0, 7.3, 7.9, 6.1, 7.4, 6.6, 5.5, 7.5, 7.6, 5.0, 3.2, 8.2, 3.7, 6.3, 4.1, 6.9, 5.4, 6.5, 7.8, 6.7, 6.4, 7.3, 5.7, 7.0, 6.3, 7.1, 4.8, 3.3, 6.9, 4.6, 3.0, 6.6, 7.4, 6.2, 4.0, 6.1, 6.9, 7.5, 6.7, 7.4, 6.1, 5.4, 6.4, 7.0, 6.3, 6.9, 7.8, 6.4, 7.7, 7.5, 6.3, 6.3, 6.6]\n"
          ]
        }
      ],
      "source": [
        "len(score)\n",
        "print(score)"
      ]
    },
    {
      "cell_type": "code",
      "execution_count": 195,
      "metadata": {
        "colab": {
          "base_uri": "https://localhost:8080/"
        },
        "id": "fiLQXu9K6hFw",
        "outputId": "18aaca29-a850-4411-adde-cebb064ba42b"
      },
      "outputs": [
        {
          "data": {
            "text/plain": [
              "Index(['movie_title', 'genres', 'imdb_score', 'class'], dtype='object')"
            ]
          },
          "execution_count": 195,
          "metadata": {},
          "output_type": "execute_result"
        }
      ],
      "source": [
        "\n",
        "def class_of_movie(score):\n",
        "  rating_list=[]\n",
        "  for rating in score:\n",
        "    if rating >= 0 and rating <= 4.9:\n",
        "      rating_list.append('F')\n",
        "    elif rating >= 5 and rating <= 5.9:\n",
        "      rating_list.append('A')\n",
        "    elif rating >= 6 and rating <= 6.9:\n",
        "      rating_list.append('AA')\n",
        "    elif rating >= 7 and rating <= 7.9:\n",
        "      rating_list.append('H')\n",
        "    elif rating >= 8 and rating <= 8.9:\n",
        "      rating_list.append('SH')\n",
        "    else:\n",
        "      rating_list.append('SDH')\n",
        "  return rating_list\n",
        "data['class']=class_of_movie(score)\n",
        "data.columns"
      ]
    },
    {
      "cell_type": "code",
      "execution_count": 201,
      "metadata": {
        "id": "6TRnB4U46hBo"
      },
      "outputs": [
        {
          "data": {
            "text/html": [
              "<div>\n",
              "<style scoped>\n",
              "    .dataframe tbody tr th:only-of-type {\n",
              "        vertical-align: middle;\n",
              "    }\n",
              "\n",
              "    .dataframe tbody tr th {\n",
              "        vertical-align: top;\n",
              "    }\n",
              "\n",
              "    .dataframe thead th {\n",
              "        text-align: right;\n",
              "    }\n",
              "</style>\n",
              "<table border=\"1\" class=\"dataframe\">\n",
              "  <thead>\n",
              "    <tr style=\"text-align: right;\">\n",
              "      <th></th>\n",
              "      <th>movie_title</th>\n",
              "      <th>genres</th>\n",
              "      <th>imdb_score</th>\n",
              "      <th>class</th>\n",
              "    </tr>\n",
              "  </thead>\n",
              "  <tbody>\n",
              "    <tr>\n",
              "      <th>0</th>\n",
              "      <td>Avatar</td>\n",
              "      <td>Action|Adventure|Fantasy|Sci-Fi</td>\n",
              "      <td>7.9</td>\n",
              "      <td>H</td>\n",
              "    </tr>\n",
              "    <tr>\n",
              "      <th>1</th>\n",
              "      <td>Pirates of the Caribbean: At World's End</td>\n",
              "      <td>Action|Adventure|Fantasy</td>\n",
              "      <td>7.1</td>\n",
              "      <td>H</td>\n",
              "    </tr>\n",
              "    <tr>\n",
              "      <th>2</th>\n",
              "      <td>Spectre</td>\n",
              "      <td>Action|Adventure|Thriller</td>\n",
              "      <td>6.8</td>\n",
              "      <td>AA</td>\n",
              "    </tr>\n",
              "    <tr>\n",
              "      <th>3</th>\n",
              "      <td>The Dark Knight Rises</td>\n",
              "      <td>Action|Thriller</td>\n",
              "      <td>8.5</td>\n",
              "      <td>SH</td>\n",
              "    </tr>\n",
              "    <tr>\n",
              "      <th>4</th>\n",
              "      <td>Star Wars: Episode VII - The Force Awakens    ...</td>\n",
              "      <td>Documentary</td>\n",
              "      <td>7.1</td>\n",
              "      <td>H</td>\n",
              "    </tr>\n",
              "    <tr>\n",
              "      <th>5</th>\n",
              "      <td>John Carter</td>\n",
              "      <td>Action|Adventure|Sci-Fi</td>\n",
              "      <td>6.6</td>\n",
              "      <td>AA</td>\n",
              "    </tr>\n",
              "    <tr>\n",
              "      <th>6</th>\n",
              "      <td>Spider-Man 3</td>\n",
              "      <td>Action|Adventure|Romance</td>\n",
              "      <td>6.2</td>\n",
              "      <td>AA</td>\n",
              "    </tr>\n",
              "    <tr>\n",
              "      <th>7</th>\n",
              "      <td>Tangled</td>\n",
              "      <td>Adventure|Animation|Comedy|Family|Fantasy|Musi...</td>\n",
              "      <td>7.8</td>\n",
              "      <td>H</td>\n",
              "    </tr>\n",
              "    <tr>\n",
              "      <th>8</th>\n",
              "      <td>Avengers: Age of Ultron</td>\n",
              "      <td>Action|Adventure|Sci-Fi</td>\n",
              "      <td>7.5</td>\n",
              "      <td>H</td>\n",
              "    </tr>\n",
              "    <tr>\n",
              "      <th>9</th>\n",
              "      <td>Harry Potter and the Half-Blood Prince</td>\n",
              "      <td>Adventure|Family|Fantasy|Mystery</td>\n",
              "      <td>7.5</td>\n",
              "      <td>H</td>\n",
              "    </tr>\n",
              "  </tbody>\n",
              "</table>\n",
              "</div>"
            ],
            "text/plain": [
              "                                         movie_title  \\\n",
              "0                                            Avatar    \n",
              "1          Pirates of the Caribbean: At World's End    \n",
              "2                                           Spectre    \n",
              "3                             The Dark Knight Rises    \n",
              "4  Star Wars: Episode VII - The Force Awakens    ...   \n",
              "5                                       John Carter    \n",
              "6                                      Spider-Man 3    \n",
              "7                                           Tangled    \n",
              "8                           Avengers: Age of Ultron    \n",
              "9            Harry Potter and the Half-Blood Prince    \n",
              "\n",
              "                                              genres  imdb_score class  \n",
              "0                    Action|Adventure|Fantasy|Sci-Fi         7.9     H  \n",
              "1                           Action|Adventure|Fantasy         7.1     H  \n",
              "2                          Action|Adventure|Thriller         6.8    AA  \n",
              "3                                    Action|Thriller         8.5    SH  \n",
              "4                                        Documentary         7.1     H  \n",
              "5                            Action|Adventure|Sci-Fi         6.6    AA  \n",
              "6                           Action|Adventure|Romance         6.2    AA  \n",
              "7  Adventure|Animation|Comedy|Family|Fantasy|Musi...         7.8     H  \n",
              "8                            Action|Adventure|Sci-Fi         7.5     H  \n",
              "9                   Adventure|Family|Fantasy|Mystery         7.5     H  "
            ]
          },
          "execution_count": 201,
          "metadata": {},
          "output_type": "execute_result"
        }
      ],
      "source": [
        "data=data.head(10)\n",
        "data"
      ]
    },
    {
      "cell_type": "code",
      "execution_count": 203,
      "metadata": {
        "id": "Y8Eg4lssAqF1"
      },
      "outputs": [
        {
          "name": "stdout",
          "output_type": "stream",
          "text": [
            "[1]\n"
          ]
        }
      ],
      "source": [
        "import pandas as pd\n",
        "import numpy as np\n",
        "import nltk\n",
        "import json\n",
        "from sklearn.model_selection import train_test_split\n",
        "from keras.models import Sequential\n",
        "from keras.layers import Dense, Conv1D, Flatten, MaxPooling1D,Input\n",
        "from sklearn.model_selection import train_test_split\n",
        "from sklearn.metrics import confusion_matrix\n",
        "from numpy import unique\n",
        "from sklearn.neural_network import MLPClassifier\n",
        "\n",
        "def audience_prediciton(movie_name):\n",
        "        df_ratings = pd.read_csv(\"movie_metadata.csv\")\n",
        "        original_title = df_ratings['movie_title']\n",
        "        org_title = []\n",
        "        #Removing white space\n",
        "        for tile in original_title:\n",
        "                org_title.append(tile.strip())\n",
        "\n",
        "        df_ratings['movie_title'] = org_title\n",
        "\n",
        "\n",
        "        ratings = df_ratings[\"imdb_score\"]\n",
        "        rating_list = []\n",
        "        for rating in ratings:\n",
        "                if rating >= 0 and rating <= 5.9:\n",
        "                        rating_list.append(1)\n",
        "                elif rating >= 6 and rating <= 6.9:\n",
        "                        rating_list.append(2)\n",
        "                elif rating >= 7 and rating <= 7.9:\n",
        "                        rating_list.append(3)\n",
        "                else:\n",
        "                        rating_list.append(4)\n",
        "\n",
        "        df_ratings['audience_class'] = rating_list\n",
        "\n",
        "        df = df_ratings[['num_voted_users', 'imdb_score', 'audience_class']]\n",
        "\n",
        "        x = df.drop('audience_class', axis=1)\n",
        "        y = df['audience_class']\n",
        "        # print(y)\n",
        "        xtrain, xtest, ytrain, ytest = train_test_split(x, y, test_size=0.15)\n",
        "\n",
        "        mlp = MLPClassifier()\n",
        "        mlp.fit(xtrain, ytrain)\n",
        "        x_test=[]\n",
        "        no_votes=0\n",
        "        score_val=0\n",
        "        df_rv2 = df_ratings.loc[df_ratings['movie_title']==movie_name, ['num_voted_users', 'imdb_score']]\n",
        "        for votes in df_rv2[\"num_voted_users\"]:\n",
        "                no_votes = votes\n",
        "        for score in df_rv2[\"imdb_score\"]:\n",
        "                #print(score)\n",
        "                score_val = score\n",
        "\n",
        "        predict_result = mlp.predict([[no_votes,score_val]])\n",
        "        # print(predict_result)\n",
        "        return predict_result\n",
        "\n",
        "mn='Avatar'\n",
        "print(audience_prediciton(mn))"
      ]
    },
    {
      "cell_type": "code",
      "execution_count": 204,
      "metadata": {
        "id": "_I3ksaeeAs8s"
      },
      "outputs": [],
      "source": [
        "def target_audience(movie_name):\n",
        "  results=[]\n",
        "  # print(movie_name)\n",
        "  ta_prediction=audience_prediciton(movie_name)\n",
        "  # print(\"pre=\",ta_prediction[0])\n",
        "  predict_res=ta_prediction[0]\n",
        "  if predict_res==1:\n",
        "    result=\"Junior\"\n",
        "  elif predict_res==2:\n",
        "    result=\"Teenage\"\n",
        "  elif predict_res == 3:\n",
        "    result = \"Mid-age\"\n",
        "  else:\n",
        "    result = \"Senior\"\n",
        "  print('Target audience for the movie',movie_name,'is',result)\n",
        "  return result\n"
      ]
    },
    {
      "cell_type": "code",
      "execution_count": 206,
      "metadata": {
        "colab": {
          "base_uri": "https://localhost:8080/"
        },
        "id": "548U1CzA6uPL",
        "outputId": "47529d10-ebb9-48d3-bd5c-cbb062b89cee"
      },
      "outputs": [
        {
          "name": "stdout",
          "output_type": "stream",
          "text": [
            "Target audience for the movie Avatar  is Junior\n",
            "Target audience for the movie Pirates of the Caribbean: At World's End  is Junior\n",
            "Target audience for the movie Spectre  is Teenage\n",
            "Target audience for the movie The Dark Knight Rises  is Junior\n",
            "Target audience for the movie Star Wars: Episode VII - The Force Awakens              is Junior\n",
            "Target audience for the movie John Carter  is Junior\n",
            "Target audience for the movie Spider-Man 3  is Junior\n",
            "Target audience for the movie Tangled  is Junior\n",
            "Target audience for the movie Avengers: Age of Ultron  is Junior\n",
            "Target audience for the movie Harry Potter and the Half-Blood Prince  is Teenage\n",
            "Index(['movie_title', 'genres', 'imdb_score', 'class', 'target_audience'], dtype='object')\n",
            "                                         movie_title  \\\n",
            "0                                            Avatar    \n",
            "1          Pirates of the Caribbean: At World's End    \n",
            "2                                           Spectre    \n",
            "3                             The Dark Knight Rises    \n",
            "4  Star Wars: Episode VII - The Force Awakens    ...   \n",
            "\n",
            "                            genres  imdb_score class target_audience  \n",
            "0  Action|Adventure|Fantasy|Sci-Fi         7.9     H          Junior  \n",
            "1         Action|Adventure|Fantasy         7.1     H          Junior  \n",
            "2        Action|Adventure|Thriller         6.8    AA         Teenage  \n",
            "3                  Action|Thriller         8.5    SH          Junior  \n",
            "4                      Documentary         7.1     H          Junior  \n"
          ]
        }
      ],
      "source": [
        "movies=list(data['movie_title'])\n",
        "audience_list=[]\n",
        "for movie in movies:\n",
        "  audience=target_audience(movie)\n",
        "  audience_list.append(audience)\n",
        "data['target_audience']=audience_list\n",
        "print(data.columns)\n",
        "print(data.head())"
      ]
    },
    {
      "cell_type": "code",
      "execution_count": 207,
      "metadata": {
        "id": "zsMffKpo6xjM"
      },
      "outputs": [],
      "source": [
        "def recommend_movies(df):\n",
        "    colorscale = [[0, '#fad2e1'], [.5, '#fde2e4'], [1, '#fff1e6']]\n",
        "    fig = ff.create_table(data, colorscale=colorscale, height_constant=70)\n",
        "    return fig"
      ]
    },
    {
      "cell_type": "code",
      "execution_count": 208,
      "metadata": {
        "colab": {
          "base_uri": "https://localhost:8080/",
          "height": 837
        },
        "id": "A-JrDLX-6xWK",
        "outputId": "f026678b-ea84-4ca8-a8b2-869dbf15754e"
      },
      "outputs": [
        {
          "data": {
            "application/vnd.plotly.v1+json": {
              "config": {
                "plotlyServerURL": "https://plot.ly"
              },
              "data": [
                {
                  "colorscale": [
                    [
                      0,
                      "#fad2e1"
                    ],
                    [
                      0.5,
                      "#fde2e4"
                    ],
                    [
                      1,
                      "#fff1e6"
                    ]
                  ],
                  "hoverinfo": "none",
                  "opacity": 0.75,
                  "showscale": false,
                  "type": "heatmap",
                  "z": [
                    [
                      0,
                      0,
                      0,
                      0,
                      0
                    ],
                    [
                      0.5,
                      0.5,
                      0.5,
                      0.5,
                      0.5
                    ],
                    [
                      1,
                      1,
                      1,
                      1,
                      1
                    ],
                    [
                      0.5,
                      0.5,
                      0.5,
                      0.5,
                      0.5
                    ],
                    [
                      1,
                      1,
                      1,
                      1,
                      1
                    ],
                    [
                      0.5,
                      0.5,
                      0.5,
                      0.5,
                      0.5
                    ],
                    [
                      1,
                      1,
                      1,
                      1,
                      1
                    ],
                    [
                      0.5,
                      0.5,
                      0.5,
                      0.5,
                      0.5
                    ],
                    [
                      1,
                      1,
                      1,
                      1,
                      1
                    ],
                    [
                      0.5,
                      0.5,
                      0.5,
                      0.5,
                      0.5
                    ],
                    [
                      1,
                      1,
                      1,
                      1,
                      1
                    ]
                  ]
                }
              ],
              "layout": {
                "annotations": [
                  {
                    "align": "left",
                    "font": {
                      "color": "#ffffff"
                    },
                    "showarrow": false,
                    "text": "<b>movie_title</b>",
                    "x": -0.45,
                    "xanchor": "left",
                    "xref": "x",
                    "y": 0,
                    "yref": "y"
                  },
                  {
                    "align": "left",
                    "font": {
                      "color": "#ffffff"
                    },
                    "showarrow": false,
                    "text": "<b>genres</b>",
                    "x": 0.55,
                    "xanchor": "left",
                    "xref": "x",
                    "y": 0,
                    "yref": "y"
                  },
                  {
                    "align": "left",
                    "font": {
                      "color": "#ffffff"
                    },
                    "showarrow": false,
                    "text": "<b>imdb_score</b>",
                    "x": 1.55,
                    "xanchor": "left",
                    "xref": "x",
                    "y": 0,
                    "yref": "y"
                  },
                  {
                    "align": "left",
                    "font": {
                      "color": "#ffffff"
                    },
                    "showarrow": false,
                    "text": "<b>class</b>",
                    "x": 2.55,
                    "xanchor": "left",
                    "xref": "x",
                    "y": 0,
                    "yref": "y"
                  },
                  {
                    "align": "left",
                    "font": {
                      "color": "#ffffff"
                    },
                    "showarrow": false,
                    "text": "<b>target_audience</b>",
                    "x": 3.55,
                    "xanchor": "left",
                    "xref": "x",
                    "y": 0,
                    "yref": "y"
                  },
                  {
                    "align": "left",
                    "font": {
                      "color": "#000000"
                    },
                    "showarrow": false,
                    "text": "Avatar ",
                    "x": -0.45,
                    "xanchor": "left",
                    "xref": "x",
                    "y": 1,
                    "yref": "y"
                  },
                  {
                    "align": "left",
                    "font": {
                      "color": "#000000"
                    },
                    "showarrow": false,
                    "text": "Action|Adventure|Fantasy|Sci-Fi",
                    "x": 0.55,
                    "xanchor": "left",
                    "xref": "x",
                    "y": 1,
                    "yref": "y"
                  },
                  {
                    "align": "left",
                    "font": {
                      "color": "#000000"
                    },
                    "showarrow": false,
                    "text": "7.9",
                    "x": 1.55,
                    "xanchor": "left",
                    "xref": "x",
                    "y": 1,
                    "yref": "y"
                  },
                  {
                    "align": "left",
                    "font": {
                      "color": "#000000"
                    },
                    "showarrow": false,
                    "text": "H",
                    "x": 2.55,
                    "xanchor": "left",
                    "xref": "x",
                    "y": 1,
                    "yref": "y"
                  },
                  {
                    "align": "left",
                    "font": {
                      "color": "#000000"
                    },
                    "showarrow": false,
                    "text": "Junior",
                    "x": 3.55,
                    "xanchor": "left",
                    "xref": "x",
                    "y": 1,
                    "yref": "y"
                  },
                  {
                    "align": "left",
                    "font": {
                      "color": "#000000"
                    },
                    "showarrow": false,
                    "text": "Pirates of the Caribbean: At World's End ",
                    "x": -0.45,
                    "xanchor": "left",
                    "xref": "x",
                    "y": 2,
                    "yref": "y"
                  },
                  {
                    "align": "left",
                    "font": {
                      "color": "#000000"
                    },
                    "showarrow": false,
                    "text": "Action|Adventure|Fantasy",
                    "x": 0.55,
                    "xanchor": "left",
                    "xref": "x",
                    "y": 2,
                    "yref": "y"
                  },
                  {
                    "align": "left",
                    "font": {
                      "color": "#000000"
                    },
                    "showarrow": false,
                    "text": "7.1",
                    "x": 1.55,
                    "xanchor": "left",
                    "xref": "x",
                    "y": 2,
                    "yref": "y"
                  },
                  {
                    "align": "left",
                    "font": {
                      "color": "#000000"
                    },
                    "showarrow": false,
                    "text": "H",
                    "x": 2.55,
                    "xanchor": "left",
                    "xref": "x",
                    "y": 2,
                    "yref": "y"
                  },
                  {
                    "align": "left",
                    "font": {
                      "color": "#000000"
                    },
                    "showarrow": false,
                    "text": "Junior",
                    "x": 3.55,
                    "xanchor": "left",
                    "xref": "x",
                    "y": 2,
                    "yref": "y"
                  },
                  {
                    "align": "left",
                    "font": {
                      "color": "#000000"
                    },
                    "showarrow": false,
                    "text": "Spectre ",
                    "x": -0.45,
                    "xanchor": "left",
                    "xref": "x",
                    "y": 3,
                    "yref": "y"
                  },
                  {
                    "align": "left",
                    "font": {
                      "color": "#000000"
                    },
                    "showarrow": false,
                    "text": "Action|Adventure|Thriller",
                    "x": 0.55,
                    "xanchor": "left",
                    "xref": "x",
                    "y": 3,
                    "yref": "y"
                  },
                  {
                    "align": "left",
                    "font": {
                      "color": "#000000"
                    },
                    "showarrow": false,
                    "text": "6.8",
                    "x": 1.55,
                    "xanchor": "left",
                    "xref": "x",
                    "y": 3,
                    "yref": "y"
                  },
                  {
                    "align": "left",
                    "font": {
                      "color": "#000000"
                    },
                    "showarrow": false,
                    "text": "AA",
                    "x": 2.55,
                    "xanchor": "left",
                    "xref": "x",
                    "y": 3,
                    "yref": "y"
                  },
                  {
                    "align": "left",
                    "font": {
                      "color": "#000000"
                    },
                    "showarrow": false,
                    "text": "Teenage",
                    "x": 3.55,
                    "xanchor": "left",
                    "xref": "x",
                    "y": 3,
                    "yref": "y"
                  },
                  {
                    "align": "left",
                    "font": {
                      "color": "#000000"
                    },
                    "showarrow": false,
                    "text": "The Dark Knight Rises ",
                    "x": -0.45,
                    "xanchor": "left",
                    "xref": "x",
                    "y": 4,
                    "yref": "y"
                  },
                  {
                    "align": "left",
                    "font": {
                      "color": "#000000"
                    },
                    "showarrow": false,
                    "text": "Action|Thriller",
                    "x": 0.55,
                    "xanchor": "left",
                    "xref": "x",
                    "y": 4,
                    "yref": "y"
                  },
                  {
                    "align": "left",
                    "font": {
                      "color": "#000000"
                    },
                    "showarrow": false,
                    "text": "8.5",
                    "x": 1.55,
                    "xanchor": "left",
                    "xref": "x",
                    "y": 4,
                    "yref": "y"
                  },
                  {
                    "align": "left",
                    "font": {
                      "color": "#000000"
                    },
                    "showarrow": false,
                    "text": "SH",
                    "x": 2.55,
                    "xanchor": "left",
                    "xref": "x",
                    "y": 4,
                    "yref": "y"
                  },
                  {
                    "align": "left",
                    "font": {
                      "color": "#000000"
                    },
                    "showarrow": false,
                    "text": "Junior",
                    "x": 3.55,
                    "xanchor": "left",
                    "xref": "x",
                    "y": 4,
                    "yref": "y"
                  },
                  {
                    "align": "left",
                    "font": {
                      "color": "#000000"
                    },
                    "showarrow": false,
                    "text": "Star Wars: Episode VII - The Force Awakens             ",
                    "x": -0.45,
                    "xanchor": "left",
                    "xref": "x",
                    "y": 5,
                    "yref": "y"
                  },
                  {
                    "align": "left",
                    "font": {
                      "color": "#000000"
                    },
                    "showarrow": false,
                    "text": "Documentary",
                    "x": 0.55,
                    "xanchor": "left",
                    "xref": "x",
                    "y": 5,
                    "yref": "y"
                  },
                  {
                    "align": "left",
                    "font": {
                      "color": "#000000"
                    },
                    "showarrow": false,
                    "text": "7.1",
                    "x": 1.55,
                    "xanchor": "left",
                    "xref": "x",
                    "y": 5,
                    "yref": "y"
                  },
                  {
                    "align": "left",
                    "font": {
                      "color": "#000000"
                    },
                    "showarrow": false,
                    "text": "H",
                    "x": 2.55,
                    "xanchor": "left",
                    "xref": "x",
                    "y": 5,
                    "yref": "y"
                  },
                  {
                    "align": "left",
                    "font": {
                      "color": "#000000"
                    },
                    "showarrow": false,
                    "text": "Junior",
                    "x": 3.55,
                    "xanchor": "left",
                    "xref": "x",
                    "y": 5,
                    "yref": "y"
                  },
                  {
                    "align": "left",
                    "font": {
                      "color": "#000000"
                    },
                    "showarrow": false,
                    "text": "John Carter ",
                    "x": -0.45,
                    "xanchor": "left",
                    "xref": "x",
                    "y": 6,
                    "yref": "y"
                  },
                  {
                    "align": "left",
                    "font": {
                      "color": "#000000"
                    },
                    "showarrow": false,
                    "text": "Action|Adventure|Sci-Fi",
                    "x": 0.55,
                    "xanchor": "left",
                    "xref": "x",
                    "y": 6,
                    "yref": "y"
                  },
                  {
                    "align": "left",
                    "font": {
                      "color": "#000000"
                    },
                    "showarrow": false,
                    "text": "6.6",
                    "x": 1.55,
                    "xanchor": "left",
                    "xref": "x",
                    "y": 6,
                    "yref": "y"
                  },
                  {
                    "align": "left",
                    "font": {
                      "color": "#000000"
                    },
                    "showarrow": false,
                    "text": "AA",
                    "x": 2.55,
                    "xanchor": "left",
                    "xref": "x",
                    "y": 6,
                    "yref": "y"
                  },
                  {
                    "align": "left",
                    "font": {
                      "color": "#000000"
                    },
                    "showarrow": false,
                    "text": "Junior",
                    "x": 3.55,
                    "xanchor": "left",
                    "xref": "x",
                    "y": 6,
                    "yref": "y"
                  },
                  {
                    "align": "left",
                    "font": {
                      "color": "#000000"
                    },
                    "showarrow": false,
                    "text": "Spider-Man 3 ",
                    "x": -0.45,
                    "xanchor": "left",
                    "xref": "x",
                    "y": 7,
                    "yref": "y"
                  },
                  {
                    "align": "left",
                    "font": {
                      "color": "#000000"
                    },
                    "showarrow": false,
                    "text": "Action|Adventure|Romance",
                    "x": 0.55,
                    "xanchor": "left",
                    "xref": "x",
                    "y": 7,
                    "yref": "y"
                  },
                  {
                    "align": "left",
                    "font": {
                      "color": "#000000"
                    },
                    "showarrow": false,
                    "text": "6.2",
                    "x": 1.55,
                    "xanchor": "left",
                    "xref": "x",
                    "y": 7,
                    "yref": "y"
                  },
                  {
                    "align": "left",
                    "font": {
                      "color": "#000000"
                    },
                    "showarrow": false,
                    "text": "AA",
                    "x": 2.55,
                    "xanchor": "left",
                    "xref": "x",
                    "y": 7,
                    "yref": "y"
                  },
                  {
                    "align": "left",
                    "font": {
                      "color": "#000000"
                    },
                    "showarrow": false,
                    "text": "Junior",
                    "x": 3.55,
                    "xanchor": "left",
                    "xref": "x",
                    "y": 7,
                    "yref": "y"
                  },
                  {
                    "align": "left",
                    "font": {
                      "color": "#000000"
                    },
                    "showarrow": false,
                    "text": "Tangled ",
                    "x": -0.45,
                    "xanchor": "left",
                    "xref": "x",
                    "y": 8,
                    "yref": "y"
                  },
                  {
                    "align": "left",
                    "font": {
                      "color": "#000000"
                    },
                    "showarrow": false,
                    "text": "Adventure|Animation|Comedy|Family|Fantasy|Musical|Romance",
                    "x": 0.55,
                    "xanchor": "left",
                    "xref": "x",
                    "y": 8,
                    "yref": "y"
                  },
                  {
                    "align": "left",
                    "font": {
                      "color": "#000000"
                    },
                    "showarrow": false,
                    "text": "7.8",
                    "x": 1.55,
                    "xanchor": "left",
                    "xref": "x",
                    "y": 8,
                    "yref": "y"
                  },
                  {
                    "align": "left",
                    "font": {
                      "color": "#000000"
                    },
                    "showarrow": false,
                    "text": "H",
                    "x": 2.55,
                    "xanchor": "left",
                    "xref": "x",
                    "y": 8,
                    "yref": "y"
                  },
                  {
                    "align": "left",
                    "font": {
                      "color": "#000000"
                    },
                    "showarrow": false,
                    "text": "Junior",
                    "x": 3.55,
                    "xanchor": "left",
                    "xref": "x",
                    "y": 8,
                    "yref": "y"
                  },
                  {
                    "align": "left",
                    "font": {
                      "color": "#000000"
                    },
                    "showarrow": false,
                    "text": "Avengers: Age of Ultron ",
                    "x": -0.45,
                    "xanchor": "left",
                    "xref": "x",
                    "y": 9,
                    "yref": "y"
                  },
                  {
                    "align": "left",
                    "font": {
                      "color": "#000000"
                    },
                    "showarrow": false,
                    "text": "Action|Adventure|Sci-Fi",
                    "x": 0.55,
                    "xanchor": "left",
                    "xref": "x",
                    "y": 9,
                    "yref": "y"
                  },
                  {
                    "align": "left",
                    "font": {
                      "color": "#000000"
                    },
                    "showarrow": false,
                    "text": "7.5",
                    "x": 1.55,
                    "xanchor": "left",
                    "xref": "x",
                    "y": 9,
                    "yref": "y"
                  },
                  {
                    "align": "left",
                    "font": {
                      "color": "#000000"
                    },
                    "showarrow": false,
                    "text": "H",
                    "x": 2.55,
                    "xanchor": "left",
                    "xref": "x",
                    "y": 9,
                    "yref": "y"
                  },
                  {
                    "align": "left",
                    "font": {
                      "color": "#000000"
                    },
                    "showarrow": false,
                    "text": "Junior",
                    "x": 3.55,
                    "xanchor": "left",
                    "xref": "x",
                    "y": 9,
                    "yref": "y"
                  },
                  {
                    "align": "left",
                    "font": {
                      "color": "#000000"
                    },
                    "showarrow": false,
                    "text": "Harry Potter and the Half-Blood Prince ",
                    "x": -0.45,
                    "xanchor": "left",
                    "xref": "x",
                    "y": 10,
                    "yref": "y"
                  },
                  {
                    "align": "left",
                    "font": {
                      "color": "#000000"
                    },
                    "showarrow": false,
                    "text": "Adventure|Family|Fantasy|Mystery",
                    "x": 0.55,
                    "xanchor": "left",
                    "xref": "x",
                    "y": 10,
                    "yref": "y"
                  },
                  {
                    "align": "left",
                    "font": {
                      "color": "#000000"
                    },
                    "showarrow": false,
                    "text": "7.5",
                    "x": 1.55,
                    "xanchor": "left",
                    "xref": "x",
                    "y": 10,
                    "yref": "y"
                  },
                  {
                    "align": "left",
                    "font": {
                      "color": "#000000"
                    },
                    "showarrow": false,
                    "text": "H",
                    "x": 2.55,
                    "xanchor": "left",
                    "xref": "x",
                    "y": 10,
                    "yref": "y"
                  },
                  {
                    "align": "left",
                    "font": {
                      "color": "#000000"
                    },
                    "showarrow": false,
                    "text": "Teenage",
                    "x": 3.55,
                    "xanchor": "left",
                    "xref": "x",
                    "y": 10,
                    "yref": "y"
                  }
                ],
                "height": 820,
                "margin": {
                  "b": 0,
                  "l": 0,
                  "r": 0,
                  "t": 0
                },
                "template": {
                  "data": {
                    "bar": [
                      {
                        "error_x": {
                          "color": "#2a3f5f"
                        },
                        "error_y": {
                          "color": "#2a3f5f"
                        },
                        "marker": {
                          "line": {
                            "color": "#E5ECF6",
                            "width": 0.5
                          },
                          "pattern": {
                            "fillmode": "overlay",
                            "size": 10,
                            "solidity": 0.2
                          }
                        },
                        "type": "bar"
                      }
                    ],
                    "barpolar": [
                      {
                        "marker": {
                          "line": {
                            "color": "#E5ECF6",
                            "width": 0.5
                          },
                          "pattern": {
                            "fillmode": "overlay",
                            "size": 10,
                            "solidity": 0.2
                          }
                        },
                        "type": "barpolar"
                      }
                    ],
                    "carpet": [
                      {
                        "aaxis": {
                          "endlinecolor": "#2a3f5f",
                          "gridcolor": "white",
                          "linecolor": "white",
                          "minorgridcolor": "white",
                          "startlinecolor": "#2a3f5f"
                        },
                        "baxis": {
                          "endlinecolor": "#2a3f5f",
                          "gridcolor": "white",
                          "linecolor": "white",
                          "minorgridcolor": "white",
                          "startlinecolor": "#2a3f5f"
                        },
                        "type": "carpet"
                      }
                    ],
                    "choropleth": [
                      {
                        "colorbar": {
                          "outlinewidth": 0,
                          "ticks": ""
                        },
                        "type": "choropleth"
                      }
                    ],
                    "contour": [
                      {
                        "colorbar": {
                          "outlinewidth": 0,
                          "ticks": ""
                        },
                        "colorscale": [
                          [
                            0,
                            "#0d0887"
                          ],
                          [
                            0.1111111111111111,
                            "#46039f"
                          ],
                          [
                            0.2222222222222222,
                            "#7201a8"
                          ],
                          [
                            0.3333333333333333,
                            "#9c179e"
                          ],
                          [
                            0.4444444444444444,
                            "#bd3786"
                          ],
                          [
                            0.5555555555555556,
                            "#d8576b"
                          ],
                          [
                            0.6666666666666666,
                            "#ed7953"
                          ],
                          [
                            0.7777777777777778,
                            "#fb9f3a"
                          ],
                          [
                            0.8888888888888888,
                            "#fdca26"
                          ],
                          [
                            1,
                            "#f0f921"
                          ]
                        ],
                        "type": "contour"
                      }
                    ],
                    "contourcarpet": [
                      {
                        "colorbar": {
                          "outlinewidth": 0,
                          "ticks": ""
                        },
                        "type": "contourcarpet"
                      }
                    ],
                    "heatmap": [
                      {
                        "colorbar": {
                          "outlinewidth": 0,
                          "ticks": ""
                        },
                        "colorscale": [
                          [
                            0,
                            "#0d0887"
                          ],
                          [
                            0.1111111111111111,
                            "#46039f"
                          ],
                          [
                            0.2222222222222222,
                            "#7201a8"
                          ],
                          [
                            0.3333333333333333,
                            "#9c179e"
                          ],
                          [
                            0.4444444444444444,
                            "#bd3786"
                          ],
                          [
                            0.5555555555555556,
                            "#d8576b"
                          ],
                          [
                            0.6666666666666666,
                            "#ed7953"
                          ],
                          [
                            0.7777777777777778,
                            "#fb9f3a"
                          ],
                          [
                            0.8888888888888888,
                            "#fdca26"
                          ],
                          [
                            1,
                            "#f0f921"
                          ]
                        ],
                        "type": "heatmap"
                      }
                    ],
                    "heatmapgl": [
                      {
                        "colorbar": {
                          "outlinewidth": 0,
                          "ticks": ""
                        },
                        "colorscale": [
                          [
                            0,
                            "#0d0887"
                          ],
                          [
                            0.1111111111111111,
                            "#46039f"
                          ],
                          [
                            0.2222222222222222,
                            "#7201a8"
                          ],
                          [
                            0.3333333333333333,
                            "#9c179e"
                          ],
                          [
                            0.4444444444444444,
                            "#bd3786"
                          ],
                          [
                            0.5555555555555556,
                            "#d8576b"
                          ],
                          [
                            0.6666666666666666,
                            "#ed7953"
                          ],
                          [
                            0.7777777777777778,
                            "#fb9f3a"
                          ],
                          [
                            0.8888888888888888,
                            "#fdca26"
                          ],
                          [
                            1,
                            "#f0f921"
                          ]
                        ],
                        "type": "heatmapgl"
                      }
                    ],
                    "histogram": [
                      {
                        "marker": {
                          "pattern": {
                            "fillmode": "overlay",
                            "size": 10,
                            "solidity": 0.2
                          }
                        },
                        "type": "histogram"
                      }
                    ],
                    "histogram2d": [
                      {
                        "colorbar": {
                          "outlinewidth": 0,
                          "ticks": ""
                        },
                        "colorscale": [
                          [
                            0,
                            "#0d0887"
                          ],
                          [
                            0.1111111111111111,
                            "#46039f"
                          ],
                          [
                            0.2222222222222222,
                            "#7201a8"
                          ],
                          [
                            0.3333333333333333,
                            "#9c179e"
                          ],
                          [
                            0.4444444444444444,
                            "#bd3786"
                          ],
                          [
                            0.5555555555555556,
                            "#d8576b"
                          ],
                          [
                            0.6666666666666666,
                            "#ed7953"
                          ],
                          [
                            0.7777777777777778,
                            "#fb9f3a"
                          ],
                          [
                            0.8888888888888888,
                            "#fdca26"
                          ],
                          [
                            1,
                            "#f0f921"
                          ]
                        ],
                        "type": "histogram2d"
                      }
                    ],
                    "histogram2dcontour": [
                      {
                        "colorbar": {
                          "outlinewidth": 0,
                          "ticks": ""
                        },
                        "colorscale": [
                          [
                            0,
                            "#0d0887"
                          ],
                          [
                            0.1111111111111111,
                            "#46039f"
                          ],
                          [
                            0.2222222222222222,
                            "#7201a8"
                          ],
                          [
                            0.3333333333333333,
                            "#9c179e"
                          ],
                          [
                            0.4444444444444444,
                            "#bd3786"
                          ],
                          [
                            0.5555555555555556,
                            "#d8576b"
                          ],
                          [
                            0.6666666666666666,
                            "#ed7953"
                          ],
                          [
                            0.7777777777777778,
                            "#fb9f3a"
                          ],
                          [
                            0.8888888888888888,
                            "#fdca26"
                          ],
                          [
                            1,
                            "#f0f921"
                          ]
                        ],
                        "type": "histogram2dcontour"
                      }
                    ],
                    "mesh3d": [
                      {
                        "colorbar": {
                          "outlinewidth": 0,
                          "ticks": ""
                        },
                        "type": "mesh3d"
                      }
                    ],
                    "parcoords": [
                      {
                        "line": {
                          "colorbar": {
                            "outlinewidth": 0,
                            "ticks": ""
                          }
                        },
                        "type": "parcoords"
                      }
                    ],
                    "pie": [
                      {
                        "automargin": true,
                        "type": "pie"
                      }
                    ],
                    "scatter": [
                      {
                        "fillpattern": {
                          "fillmode": "overlay",
                          "size": 10,
                          "solidity": 0.2
                        },
                        "type": "scatter"
                      }
                    ],
                    "scatter3d": [
                      {
                        "line": {
                          "colorbar": {
                            "outlinewidth": 0,
                            "ticks": ""
                          }
                        },
                        "marker": {
                          "colorbar": {
                            "outlinewidth": 0,
                            "ticks": ""
                          }
                        },
                        "type": "scatter3d"
                      }
                    ],
                    "scattercarpet": [
                      {
                        "marker": {
                          "colorbar": {
                            "outlinewidth": 0,
                            "ticks": ""
                          }
                        },
                        "type": "scattercarpet"
                      }
                    ],
                    "scattergeo": [
                      {
                        "marker": {
                          "colorbar": {
                            "outlinewidth": 0,
                            "ticks": ""
                          }
                        },
                        "type": "scattergeo"
                      }
                    ],
                    "scattergl": [
                      {
                        "marker": {
                          "colorbar": {
                            "outlinewidth": 0,
                            "ticks": ""
                          }
                        },
                        "type": "scattergl"
                      }
                    ],
                    "scattermapbox": [
                      {
                        "marker": {
                          "colorbar": {
                            "outlinewidth": 0,
                            "ticks": ""
                          }
                        },
                        "type": "scattermapbox"
                      }
                    ],
                    "scatterpolar": [
                      {
                        "marker": {
                          "colorbar": {
                            "outlinewidth": 0,
                            "ticks": ""
                          }
                        },
                        "type": "scatterpolar"
                      }
                    ],
                    "scatterpolargl": [
                      {
                        "marker": {
                          "colorbar": {
                            "outlinewidth": 0,
                            "ticks": ""
                          }
                        },
                        "type": "scatterpolargl"
                      }
                    ],
                    "scatterternary": [
                      {
                        "marker": {
                          "colorbar": {
                            "outlinewidth": 0,
                            "ticks": ""
                          }
                        },
                        "type": "scatterternary"
                      }
                    ],
                    "surface": [
                      {
                        "colorbar": {
                          "outlinewidth": 0,
                          "ticks": ""
                        },
                        "colorscale": [
                          [
                            0,
                            "#0d0887"
                          ],
                          [
                            0.1111111111111111,
                            "#46039f"
                          ],
                          [
                            0.2222222222222222,
                            "#7201a8"
                          ],
                          [
                            0.3333333333333333,
                            "#9c179e"
                          ],
                          [
                            0.4444444444444444,
                            "#bd3786"
                          ],
                          [
                            0.5555555555555556,
                            "#d8576b"
                          ],
                          [
                            0.6666666666666666,
                            "#ed7953"
                          ],
                          [
                            0.7777777777777778,
                            "#fb9f3a"
                          ],
                          [
                            0.8888888888888888,
                            "#fdca26"
                          ],
                          [
                            1,
                            "#f0f921"
                          ]
                        ],
                        "type": "surface"
                      }
                    ],
                    "table": [
                      {
                        "cells": {
                          "fill": {
                            "color": "#EBF0F8"
                          },
                          "line": {
                            "color": "white"
                          }
                        },
                        "header": {
                          "fill": {
                            "color": "#C8D4E3"
                          },
                          "line": {
                            "color": "white"
                          }
                        },
                        "type": "table"
                      }
                    ]
                  },
                  "layout": {
                    "annotationdefaults": {
                      "arrowcolor": "#2a3f5f",
                      "arrowhead": 0,
                      "arrowwidth": 1
                    },
                    "autotypenumbers": "strict",
                    "coloraxis": {
                      "colorbar": {
                        "outlinewidth": 0,
                        "ticks": ""
                      }
                    },
                    "colorscale": {
                      "diverging": [
                        [
                          0,
                          "#8e0152"
                        ],
                        [
                          0.1,
                          "#c51b7d"
                        ],
                        [
                          0.2,
                          "#de77ae"
                        ],
                        [
                          0.3,
                          "#f1b6da"
                        ],
                        [
                          0.4,
                          "#fde0ef"
                        ],
                        [
                          0.5,
                          "#f7f7f7"
                        ],
                        [
                          0.6,
                          "#e6f5d0"
                        ],
                        [
                          0.7,
                          "#b8e186"
                        ],
                        [
                          0.8,
                          "#7fbc41"
                        ],
                        [
                          0.9,
                          "#4d9221"
                        ],
                        [
                          1,
                          "#276419"
                        ]
                      ],
                      "sequential": [
                        [
                          0,
                          "#0d0887"
                        ],
                        [
                          0.1111111111111111,
                          "#46039f"
                        ],
                        [
                          0.2222222222222222,
                          "#7201a8"
                        ],
                        [
                          0.3333333333333333,
                          "#9c179e"
                        ],
                        [
                          0.4444444444444444,
                          "#bd3786"
                        ],
                        [
                          0.5555555555555556,
                          "#d8576b"
                        ],
                        [
                          0.6666666666666666,
                          "#ed7953"
                        ],
                        [
                          0.7777777777777778,
                          "#fb9f3a"
                        ],
                        [
                          0.8888888888888888,
                          "#fdca26"
                        ],
                        [
                          1,
                          "#f0f921"
                        ]
                      ],
                      "sequentialminus": [
                        [
                          0,
                          "#0d0887"
                        ],
                        [
                          0.1111111111111111,
                          "#46039f"
                        ],
                        [
                          0.2222222222222222,
                          "#7201a8"
                        ],
                        [
                          0.3333333333333333,
                          "#9c179e"
                        ],
                        [
                          0.4444444444444444,
                          "#bd3786"
                        ],
                        [
                          0.5555555555555556,
                          "#d8576b"
                        ],
                        [
                          0.6666666666666666,
                          "#ed7953"
                        ],
                        [
                          0.7777777777777778,
                          "#fb9f3a"
                        ],
                        [
                          0.8888888888888888,
                          "#fdca26"
                        ],
                        [
                          1,
                          "#f0f921"
                        ]
                      ]
                    },
                    "colorway": [
                      "#636efa",
                      "#EF553B",
                      "#00cc96",
                      "#ab63fa",
                      "#FFA15A",
                      "#19d3f3",
                      "#FF6692",
                      "#B6E880",
                      "#FF97FF",
                      "#FECB52"
                    ],
                    "font": {
                      "color": "#2a3f5f"
                    },
                    "geo": {
                      "bgcolor": "white",
                      "lakecolor": "white",
                      "landcolor": "#E5ECF6",
                      "showlakes": true,
                      "showland": true,
                      "subunitcolor": "white"
                    },
                    "hoverlabel": {
                      "align": "left"
                    },
                    "hovermode": "closest",
                    "mapbox": {
                      "style": "light"
                    },
                    "paper_bgcolor": "white",
                    "plot_bgcolor": "#E5ECF6",
                    "polar": {
                      "angularaxis": {
                        "gridcolor": "white",
                        "linecolor": "white",
                        "ticks": ""
                      },
                      "bgcolor": "#E5ECF6",
                      "radialaxis": {
                        "gridcolor": "white",
                        "linecolor": "white",
                        "ticks": ""
                      }
                    },
                    "scene": {
                      "xaxis": {
                        "backgroundcolor": "#E5ECF6",
                        "gridcolor": "white",
                        "gridwidth": 2,
                        "linecolor": "white",
                        "showbackground": true,
                        "ticks": "",
                        "zerolinecolor": "white"
                      },
                      "yaxis": {
                        "backgroundcolor": "#E5ECF6",
                        "gridcolor": "white",
                        "gridwidth": 2,
                        "linecolor": "white",
                        "showbackground": true,
                        "ticks": "",
                        "zerolinecolor": "white"
                      },
                      "zaxis": {
                        "backgroundcolor": "#E5ECF6",
                        "gridcolor": "white",
                        "gridwidth": 2,
                        "linecolor": "white",
                        "showbackground": true,
                        "ticks": "",
                        "zerolinecolor": "white"
                      }
                    },
                    "shapedefaults": {
                      "line": {
                        "color": "#2a3f5f"
                      }
                    },
                    "ternary": {
                      "aaxis": {
                        "gridcolor": "white",
                        "linecolor": "white",
                        "ticks": ""
                      },
                      "baxis": {
                        "gridcolor": "white",
                        "linecolor": "white",
                        "ticks": ""
                      },
                      "bgcolor": "#E5ECF6",
                      "caxis": {
                        "gridcolor": "white",
                        "linecolor": "white",
                        "ticks": ""
                      }
                    },
                    "title": {
                      "x": 0.05
                    },
                    "xaxis": {
                      "automargin": true,
                      "gridcolor": "white",
                      "linecolor": "white",
                      "ticks": "",
                      "title": {
                        "standoff": 15
                      },
                      "zerolinecolor": "white",
                      "zerolinewidth": 2
                    },
                    "yaxis": {
                      "automargin": true,
                      "gridcolor": "white",
                      "linecolor": "white",
                      "ticks": "",
                      "title": {
                        "standoff": 15
                      },
                      "zerolinecolor": "white",
                      "zerolinewidth": 2
                    }
                  }
                },
                "xaxis": {
                  "dtick": 1,
                  "gridwidth": 2,
                  "showticklabels": false,
                  "tick0": -0.5,
                  "ticks": "",
                  "zeroline": false
                },
                "yaxis": {
                  "autorange": "reversed",
                  "dtick": 1,
                  "gridwidth": 2,
                  "showticklabels": false,
                  "tick0": 0.5,
                  "ticks": "",
                  "zeroline": false
                }
              }
            }
          },
          "metadata": {},
          "output_type": "display_data"
        }
      ],
      "source": [
        "recommend_movies(data)"
      ]
    },
    {
      "cell_type": "code",
      "execution_count": null,
      "metadata": {
        "id": "Qg5qqa-TnGup"
      },
      "outputs": [],
      "source": []
    }
  ],
  "metadata": {
    "colab": {
      "provenance": []
    },
    "kernelspec": {
      "display_name": "Python 3",
      "name": "python3"
    },
    "language_info": {
      "codemirror_mode": {
        "name": "ipython",
        "version": 3
      },
      "file_extension": ".py",
      "mimetype": "text/x-python",
      "name": "python",
      "nbconvert_exporter": "python",
      "pygments_lexer": "ipython3",
      "version": "3.11.5"
    }
  },
  "nbformat": 4,
  "nbformat_minor": 0
}
